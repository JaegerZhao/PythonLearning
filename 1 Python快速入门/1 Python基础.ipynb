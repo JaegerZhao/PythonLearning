{
 "cells": [
  {
   "cell_type": "markdown",
   "metadata": {},
   "source": [
    "# Python基础语法"
   ]
  },
  {
   "cell_type": "markdown",
   "metadata": {},
   "source": [
    "1. 认识python——输出`hello world`"
   ]
  },
  {
   "cell_type": "code",
   "execution_count": null,
   "metadata": {},
   "outputs": [
    {
     "name": "stdout",
     "output_type": "stream",
     "text": [
      "hello world!\n"
     ]
    }
   ],
   "source": [
    "print(\"hello world!\")"
   ]
  },
  {
   "cell_type": "markdown",
   "metadata": {},
   "source": [
    "2. 利用`help`查看函数功能\n",
    "    print实质是一个函数:<br />\n",
    "    print(value, ..., sep=' ', end='\\n', file=sys.stdout, flush=False)\n",
    "    参数说明：\n",
    "\n",
    "    参数|说明\n",
    "    ---|---\n",
    "    value|打印的对象\n",
    "    ...|可以一次打印多个\n",
    "    sep|打印分隔符\n",
    "    end|结束符，换行\n",
    "    file|输出到哪里，默认到终端\n",
    "    flush|是否强制输出\n"
   ]
  },
  {
   "cell_type": "code",
   "execution_count": null,
   "metadata": {},
   "outputs": [
    {
     "name": "stdout",
     "output_type": "stream",
     "text": [
      "Help on built-in function print in module builtins:\n",
      "\n",
      "print(*args, sep=' ', end='\\n', file=None, flush=False)\n",
      "    Prints the values to a stream, or to sys.stdout by default.\n",
      "    \n",
      "    sep\n",
      "      string inserted between values, default a space.\n",
      "    end\n",
      "      string appended after the last value, default a newline.\n",
      "    file\n",
      "      a file-like object (stream); defaults to the current sys.stdout.\n",
      "    flush\n",
      "      whether to forcibly flush the stream.\n",
      "\n"
     ]
    }
   ],
   "source": [
    "help(print)"
   ]
  },
  {
   "cell_type": "markdown",
   "metadata": {},
   "source": [
    "3. 格式化打印"
   ]
  },
  {
   "cell_type": "code",
   "execution_count": null,
   "metadata": {},
   "outputs": [
    {
     "name": "stdout",
     "output_type": "stream",
     "text": [
      "name = sun,age = 15\n",
      "name = sun,age = 15\n"
     ]
    }
   ],
   "source": [
    "name = \"sun\"\n",
    "age = 15\n",
    "#利用%进行格式化\n",
    "print(\"name = %s,age = %d\"%(name,age))\n",
    "#利用f进行格式化\n",
    "print(f\"name = {name},age = {age}\")"
   ]
  },
  {
   "cell_type": "markdown",
   "metadata": {},
   "source": [
    "4. 变量名命名规则：\n",
    "    - 必须下划线或者字母开头，\n",
    "    - 必须数字，字母，下划线组成,\n",
    "    - 不能使用关键字"
   ]
  },
  {
   "cell_type": "markdown",
   "metadata": {},
   "source": [
    "4. 代码对齐\n",
    "    python中使用对齐控制代码段，一般使用4个空格；"
   ]
  },
  {
   "cell_type": "code",
   "execution_count": 3,
   "metadata": {},
   "outputs": [
    {
     "name": "stdout",
     "output_type": "stream",
     "text": [
      "this is test\n"
     ]
    }
   ],
   "source": [
    "def test():\n",
    "    print(\"this is test\")\n",
    "    \n",
    "test()"
   ]
  },
  {
   "cell_type": "code",
   "execution_count": null,
   "metadata": {},
   "outputs": [],
   "source": [
    "# 错误例子\n",
    "a = 10 \n",
    " b = 20"
   ]
  },
  {
   "cell_type": "markdown",
   "metadata": {},
   "source": [
    "## 1 注释\n",
    "注释分为单行注释和多行注释"
   ]
  },
  {
   "cell_type": "code",
   "execution_count": null,
   "metadata": {},
   "outputs": [
    {
     "data": {
      "text/plain": [
       "'\\n\\t多行注释\\n\\t多行注释\\n'"
      ]
     },
     "metadata": {},
     "output_type": "display_data"
    }
   ],
   "source": [
    "# 单行注释\n",
    "\n",
    "'''\n",
    "\t多行注释\n",
    "\t多行注释\n",
    "'''\n",
    "\n",
    "\"\"\"\n",
    "\t多行注释\n",
    "\t多行注释\n",
    "\"\"\"\n"
   ]
  },
  {
   "cell_type": "markdown",
   "metadata": {},
   "source": [
    "## 2 数据类型\n",
    "### 2.1 数据类型分类"
   ]
  },
  {
   "cell_type": "code",
   "execution_count": null,
   "metadata": {},
   "outputs": [
    {
     "name": "stdout",
     "output_type": "stream",
     "text": [
      "<class 'int'>\n",
      "<class 'float'>\n",
      "<class 'bool'>\n",
      "<class 'str'>\n",
      "<class 'list'>\n",
      "<class 'tuple'>\n",
      "<class 'set'>\n",
      "<class 'dict'>\n"
     ]
    }
   ],
   "source": [
    "a = 1\n",
    "print(type(a))  # <class 'int'> -- 整型\n",
    "\n",
    "b = 1.1\n",
    "print(type(b))  # <class 'float'> -- 浮点型\n",
    "\n",
    "c = True\n",
    "print(type(c))  # <class 'bool'> -- 布尔类型\n",
    "\n",
    "d = 'test'\n",
    "print(type(d))  # <class 'str'> -- 字符串\n",
    "\n",
    "e = [10, '20', 30]\n",
    "print(type(e))  # <class 'list'> -- 列表\n",
    "\n",
    "f = (10, '20', True)\n",
    "print(type(f))  # <class 'tuple'> -- 元组\n",
    "\n",
    "h = {10, 20, 30}\n",
    "print(type(h))  # <class 'set'> -- 集合\n",
    "\n",
    "g = {'name':'Kevin', 'age':20}\n",
    "print(type(g))  # <class 'dict'> -- 字典\n"
   ]
  },
  {
   "cell_type": "markdown",
   "metadata": {},
   "source": [
    "### 2.2 数据类型转换\n",
    "\n",
    "|      **函数**       |                        **说明**                        |\n",
    "| :-----------------: | :----------------------------------------------------: |\n",
    "|       int(x)        |                  将 x 转换为一个整数                   |\n",
    "|      float(x)       |                 将 x 转换为一个浮点数                  |\n",
    "| complex(real, imag) |         创建一个复数，real 为实部，imag 为虚部         |\n",
    "|       str(x)        |                 将对象 x 转换为字符串                  |\n",
    "|       repr(x)       |              将对象 x 转换为表达式字符串               |\n",
    "|      eval(str)      | 用来计算在字符串中的有效 Python 表达式，并返回一个对象 |\n",
    "|      tuple(s)       |               将序列列 s 转换为一个元组                |\n",
    "|       list(s)       |               将序列列 s 转换为一个列表                |\n",
    "|       chr(x)        |           将⼀个整数转换为一个 Unicode 字符            |\n",
    "|       ord(x)        |           将⼀个字符转换为它的 ASCII 整数值            |\n",
    "|       oct(x)        |            将一个整数转换为一个八进制字符串            |\n",
    "|       bin(x)        |            将一个整数转换为一个二进制字符串            |"
   ]
  },
  {
   "cell_type": "code",
   "execution_count": null,
   "metadata": {},
   "outputs": [
    {
     "name": "stdout",
     "output_type": "stream",
     "text": [
      "1\n",
      "<class 'int'>\n",
      "1.0\n",
      "<class 'float'>\n",
      "(1, 2, 3)\n",
      "<class 'tuple'>\n",
      "[1, 2, 3]\n",
      "<class 'list'>\n",
      "<class 'int'>\n",
      "<class 'float'>\n",
      "<class 'tuple'>\n",
      "<class 'list'>\n"
     ]
    }
   ],
   "source": [
    "# 1. int() -- 将数据转换成整型\n",
    "num = 1.1\n",
    "print(int(num))  # 1\n",
    "print(type(int(num)))  # <class 'int'>\n",
    "\n",
    "# 2. float() --转换成浮点类型\n",
    "num = 1\n",
    "print(float(num))  # 1.0\n",
    "print(type(float(num)))  # <class 'float'>\n",
    "\n",
    "# 3. tuple() -- 将第一个序列转换成元组\n",
    "list1 = [1, 2, 3]\n",
    "print(tuple(list1))  # (1, 2, 3)\n",
    "print(type(tuple(list1)))  # <class 'tuple'>\n",
    "\n",
    "# 4. list() -- 将第一个序列转换成列表\n",
    "tu1 = (1, 2, 3)\n",
    "print(list(tu1))  # [1, 2, 3]\n",
    "print(type(list(tu1)))  # <class 'list'>\n",
    "\n",
    "# 5. eval() -- 将字符串中的数据转换成 Python 表达式原本类型\n",
    "str1 = '10'\n",
    "str2 = '1.1'\n",
    "str3 = '(1, 2, 3)'\n",
    "str4 = '[10, 20, 30]'\n",
    "print(type(eval(str1)))  # <class 'int'>\n",
    "print(type(eval(str2)))  # <class 'float'>\n",
    "print(type(eval(str3)))  # <class 'tuple'>\n",
    "print(type(eval(str4)))  # <class 'list'>\n"
   ]
  },
  {
   "cell_type": "markdown",
   "metadata": {},
   "source": [
    "## 3 输入与输出\n",
    "### 3.1 格式化输出\n",
    "所谓的格式化输出即按照⼀一定的格式输出内容。\n",
    "\n",
    "\n",
    "#### 3.1.1 格式化\n",
    "| 格式符号 |        **转换**        |\n",
    "| :------: | :--------------------: |\n",
    "|    %s    |         字符串         |\n",
    "|    %d    |   有符号的十进制整数   |\n",
    "|    %f    |         浮点数         |\n",
    "|    %c    |          字符          |\n",
    "|    %u    |    无符号十进制整数    |\n",
    "|    %o    |       八进制整数       |\n",
    "|    %x    | 十六进制整数（小写ox） |\n",
    "|    %X    | 十六进制整数（大写OX） |\n",
    "|    %e    | 科学计数法（小写’e’）  |\n",
    "|    %E    | 科学计数法（大写’E’）  |\n",
    "|    %g    |    %f 和 %e 的简写     |\n",
    "|    %G    |    %f 和 %E 的简写     |符号"
   ]
  },
  {
   "cell_type": "code",
   "execution_count": null,
   "metadata": {},
   "outputs": [
    {
     "name": "stdout",
     "output_type": "stream",
     "text": [
      "我的名字是Kevin\n",
      "我的学号是0001\n",
      "我的体重是75.50公斤\n",
      "我的名字是Kevin，今年18岁了\n",
      "我的名字是Kevin，明年19岁了\n",
      "我的名字是Kevin，明年19岁了\n",
      "我的名字是Kevin，今年18岁了，体重是75.5\n"
     ]
    }
   ],
   "source": [
    "age = 18\n",
    "name = 'Kevin'\n",
    "weight = 75.5\n",
    "student_id = 1\n",
    "\n",
    "# 我的名字是Kevin\n",
    "print('我的名字是%s' % name)\n",
    "\n",
    "# 我的学号是0001\n",
    "print('我的学号是%04d' % student_id)\n",
    "\n",
    "# 我的体重是75.50公斤\n",
    "print('我的体重是%.2f公斤' % weight)\n",
    "\n",
    "# 我的名字是Kevin，今年18岁了\n",
    "print('我的名字是%s，今年%d岁了' % (name, age))\n",
    "\n",
    "# 我的名字是Kevin，明年19岁了\n",
    "print('我的名字是%s，明年%d岁了' % (name, age+1))\n",
    "\n",
    "# 我的名字是Kevin，明年19岁了\n",
    "# f{表达式}\n",
    "print(f'我的名字是{name}，明年{age+1}岁了')\n",
    "\n",
    "# %s 扩展\n",
    "print('我的名字是%s，今年%s岁了，体重是%s' % (name, age, weight))\n"
   ]
  },
  {
   "cell_type": "markdown",
   "metadata": {},
   "source": [
    "#### 3.1.2 结束符\n",
    "`print()`函数默认带有换行功能，是结束符 end 的作用。示例：`print('输出的内容')` 等价于 `print('输出的内容', end='\\n')`，其中 end 可以自定义设置。\n",
    "\n"
   ]
  },
  {
   "cell_type": "code",
   "execution_count": null,
   "metadata": {},
   "outputs": [
    {
     "name": "stdout",
     "output_type": "stream",
     "text": [
      "hello world\n",
      "hello world\n",
      "-------------\n",
      "hello\tworld\n",
      "hello...world\n"
     ]
    }
   ],
   "source": [
    "# 默认结束符是 \\n，以下两种效果等同\n",
    "print('hello world', end='\\n')\n",
    "print('hello world')\n",
    "\n",
    "print('-------------')\n",
    "\n",
    "# 可自定义设置\n",
    "print('hello', end='\\t')\n",
    "print('world')\n",
    "\n",
    "print('hello', end='...')\n",
    "print('world')\n"
   ]
  },
  {
   "cell_type": "markdown",
   "metadata": {},
   "source": [
    "### 3.2 输入\n",
    "输入的语法：input(\"提示信息\")\n",
    "\n",
    "注意：Python中，input() 接收的任何数据默认都<font color='red'>是字符串数据类</font>型。"
   ]
  },
  {
   "cell_type": "code",
   "execution_count": null,
   "metadata": {},
   "outputs": [
    {
     "name": "stdout",
     "output_type": "stream",
     "text": [
      "请输入年龄 17\n"
     ]
    },
    {
     "name": "stdout",
     "output_type": "stream",
     "text": [
      "不可以上网\n"
     ]
    }
   ],
   "source": [
    "age = input(\"请输入年龄\")\n",
    "if int(age) >= 18:          #注意input输入的是str内容，需转换成int才能和数字比较\n",
    "    print(\"可以上网\")\n",
    "else:\n",
    "    print(\"不可以上网\")\n"
   ]
  },
  {
   "cell_type": "markdown",
   "metadata": {},
   "source": [
    "## 4 运算符\n",
    "1. 算法运算符：`+   -   *   /   //(整除)   %   ()   **`(指数，如：`2**3 = 2*2*2`)\n",
    "   \n",
    "   注意： 混合运算优先级顺序：` () `高于  `**` 高于 `*  /  // %` 高于 `+  -2. 赋值运算符：=`\n",
    "   \n",
    "3. 复合赋值运算符：`+= -= *= /= //= %= **=(幂赋值运算符，如：c**=a 等价于 c=c**a)`\n",
    "4. 比较运算符：`== != > < >= <=`\n",
    "5. 逻辑运算符：`and or not(非)`\n",
    "\n"
   ]
  },
  {
   "cell_type": "code",
   "execution_count": 2,
   "metadata": {},
   "outputs": [
    {
     "name": "stdout",
     "output_type": "stream",
     "text": [
      "test 1.1\n",
      "test\n",
      "test 1.2\n"
     ]
    }
   ],
   "source": [
    "#and、or有短路效果\n",
    "def printFalse():\n",
    "    print(\"test\")\n",
    "    return False\n",
    "\n",
    "# 下面中后面的 printFalse()不会被执行，并且 print(\"111\") 会执行\n",
    "if True or printFalse():\n",
    "    print(\"test 1.1\")\n",
    "\n",
    "if printFalse() or True:\n",
    "    print(\"test 1.2\")\n",
    "\n",
    "# 后面的 printFalse()不会被执行，并且 print(\"222\") 不会执行\n",
    "if False and printFalse():\n",
    "    print(\"test 2\")\n"
   ]
  },
  {
   "cell_type": "code",
   "execution_count": null,
   "metadata": {},
   "outputs": [
    {
     "name": "stdout",
     "output_type": "stream",
     "text": [
      "0\n",
      "0\n",
      "0\n",
      "0\n",
      "2\n",
      "1\n",
      "1\n",
      "2\n",
      "1\n"
     ]
    }
   ],
   "source": [
    "# and、or的扩展用法\n",
    "'''\n",
    "and 运算符，只要有一个值为 0，则结果为 0，否则结果为最后一个非 0 数字\n",
    "or 运算符，只有所有值为 0 结果才为 0，否则结果为第一个非 0 数字\n",
    "'''\n",
    "\n",
    "a = 0\n",
    "b = 1\n",
    "c = 2\n",
    "# and运算符，只要有一个值为0，则结果为0，否则结果为最后一个非0数字\n",
    "print(a and b)  # 0\n",
    "print(b and a)  # 0\n",
    "print(a and c)  # 0\n",
    "print(c and a)  # 0\n",
    "print(b and c)  # 2\n",
    "print(c and b)  # 1\n",
    "# or运算符，只有所有值为0结果才为0，否则结果为第一个非0数字\n",
    "print(a or b)  # 1\n",
    "print(a or c)  # 2\n",
    "print(b or c)  # 1\n"
   ]
  },
  {
   "cell_type": "markdown",
   "metadata": {},
   "source": [
    "## 5 条件语句\n",
    "### 5.1 条件语句语法\n",
    "注意： 除了三目运算符以外，if 条件成立执行的代码 必须缩进\n",
    "### 逻辑语句\n",
    "根据条件进行判断，是程序具有判别能力；\n",
    "#### 判断语句\n",
    "* if语句\n",
    "```\n",
    "if语句\n",
    "     执行语句\n",
    "```\n",
    "* if...else语句\n",
    "```\n",
    "if 表达式:\n",
    "    执行语句(表达式为真)\n",
    "else:\n",
    "    执行语句(表达式为假)\n",
    "```\n",
    "* if elif if\n",
    "```\n",
    "if 表达式1:\n",
    "    执行语句1\n",
    "elif 表达式2：\n",
    "    执行语句2\n",
    "elif 表达式3：\n",
    "    执行语句3\n",
    "else:\n",
    "    执行语句4\n",
    "```"
   ]
  },
  {
   "cell_type": "code",
   "execution_count": null,
   "metadata": {},
   "outputs": [
    {
     "name": "stdout",
     "output_type": "stream",
     "text": [
      "1.True\n",
      "2.False\n",
      "3.False\n",
      "4.1.True\n",
      "4.2.True\n",
      "5.False\n"
     ]
    }
   ],
   "source": [
    "a = 0\n",
    "b = 1\n",
    "c = 2\n",
    "# 1.if语法\n",
    "if b > a:\n",
    "    print(\"1.True\")\n",
    "\n",
    "# 2.if else 语法\n",
    "if a>b:\n",
    "    print(\"2.True\")\n",
    "else:\n",
    "    print(\"2.False\")\n",
    "\n",
    "# 3.多重判断语法\n",
    "if a>b:\n",
    "    print(\"3.1.True\")\n",
    "elif b>c:\n",
    "    print(\"3.2.True\")\n",
    "else:\n",
    "    print(\"3.False\")\n",
    "\n",
    "# 4.if嵌套语句\n",
    "if b>a:\n",
    "    print(\"4.1.True\")\n",
    "    if c>b:\n",
    "        print(\"4.2.True\")\n",
    "\n",
    "# 5.三目运算符 \n",
    "print(\"5.True\") if a>b else print(\"5.False\")  # 条件成立执行的表达式 if  条件 else 条件不成立执行的表达式"
   ]
  },
  {
   "cell_type": "code",
   "execution_count": null,
   "metadata": {},
   "outputs": [
    {
     "name": "stdout",
     "output_type": "stream",
     "text": [
      "请出拳：0-石头，1-剪刀，2-布： 1\n"
     ]
    },
    {
     "name": "stdout",
     "output_type": "stream",
     "text": [
      "电脑出 剪刀\n",
      "平局\n"
     ]
    }
   ],
   "source": [
    "# 猜拳游戏\n",
    "import random\n",
    "\n",
    "computer = random.randint(0, 2)\n",
    "player = int(input('请出拳：0-石头，1-剪刀，2-布：'))\n",
    "if computer == 0:\n",
    "    print(\"电脑出 石头\")\n",
    "elif computer == 1:\n",
    "    print(\"电脑出 剪刀\")\n",
    "else:\n",
    "    print(\"电脑出 布\")\n",
    "\n",
    "\n",
    "if (player==0 and computer==1) or (player==1 and computer==2) or (player==2 and computer==0):\n",
    "    print('玩家获胜')\n",
    "elif player == computer:\n",
    "    print('平局')\n",
    "else:\n",
    "    print('电脑获胜')\n"
   ]
  },
  {
   "cell_type": "code",
   "execution_count": null,
   "metadata": {},
   "outputs": [
    {
     "name": "stdout",
     "output_type": "stream",
     "text": [
      "2\n",
      "10\n"
     ]
    }
   ],
   "source": [
    "# 三目运算符示例\n",
    "a = 1\n",
    "b = 2\n",
    "c = a if a > b else b\n",
    "print(c)  # 2\n",
    "\n",
    "aa = 10\n",
    "bb = 20\n",
    "cc = aa - bb if aa > bb else bb - aa\n",
    "print(cc)  # 10"
   ]
  },
  {
   "cell_type": "markdown",
   "metadata": {},
   "source": [
    "## 6 循环语句\n",
    "### 6.1 循环语句语法\n",
    "注意： 循环条件成立执行的代码 必须缩进\n"
   ]
  },
  {
   "cell_type": "markdown",
   "metadata": {},
   "source": [
    "### while语句\n",
    "如何循环多次，例如，输出1~10\n",
    "* while语句\n",
    "```\n",
    "while 表达式：\n",
    "    执行代码\n",
    "```"
   ]
  },
  {
   "cell_type": "code",
   "execution_count": null,
   "metadata": {},
   "outputs": [
    {
     "name": "stdout",
     "output_type": "stream",
     "text": [
      "5050\n"
     ]
    }
   ],
   "source": [
    "# 1 到 100 累加和\n",
    "\n",
    "result = 0\n",
    "i = 1\n",
    "while i <= 100:\n",
    "    result += i\n",
    "    i += 1\n",
    "print(result)  # 5050"
   ]
  },
  {
   "cell_type": "code",
   "execution_count": null,
   "metadata": {},
   "outputs": [
    {
     "name": "stdout",
     "output_type": "stream",
     "text": [
      "2550\n",
      "2550\n"
     ]
    }
   ],
   "source": [
    "# 1 到 100 中的偶数累加和\n",
    "\n",
    "# 法一：\n",
    "result = 0\n",
    "i = 1\n",
    "while i <= 100:\n",
    "    if i%2 == 0:\n",
    "        result += i\n",
    "    i += 1\n",
    "print(result)  # 2550\n",
    "\n",
    "# 法二：\n",
    "result = 0\n",
    "i = 0\n",
    "while i <= 100:\n",
    "    result += i\n",
    "    i += 2\n",
    "print(result)  # 2550\n"
   ]
  },
  {
   "cell_type": "code",
   "execution_count": null,
   "metadata": {},
   "outputs": [
    {
     "name": "stdout",
     "output_type": "stream",
     "text": [
      "*\n",
      "**\n",
      "***\n",
      "****\n",
      "*****\n"
     ]
    }
   ],
   "source": [
    "# 三角形\n",
    "\n",
    "i = 0\n",
    "while i < 5:\n",
    "    j = 0\n",
    "    while j <= i:\n",
    "        print(\"*\", end='')\n",
    "        j += 1\n",
    "    print()\n",
    "    i += 1\n"
   ]
  },
  {
   "cell_type": "code",
   "execution_count": null,
   "metadata": {},
   "outputs": [
    {
     "name": "stdout",
     "output_type": "stream",
     "text": [
      "1*1=1\t\n",
      "1*2=2\t2*2=4\t\n",
      "1*3=3\t2*3=6\t3*3=9\t\n",
      "1*4=4\t2*4=8\t3*4=12\t4*4=16\t\n",
      "1*5=5\t2*5=10\t3*5=15\t4*5=20\t5*5=25\t\n",
      "1*6=6\t2*6=12\t3*6=18\t4*6=24\t5*6=30\t6*6=36\t\n",
      "1*7=7\t2*7=14\t3*7=21\t4*7=28\t5*7=35\t6*7=42\t7*7=49\t\n",
      "1*8=8\t2*8=16\t3*8=24\t4*8=32\t5*8=40\t6*8=48\t7*8=56\t8*8=64\t\n",
      "1*9=9\t2*9=18\t3*9=27\t4*9=36\t5*9=45\t6*9=54\t7*9=63\t8*9=72\t9*9=81\t\n"
     ]
    }
   ],
   "source": [
    "# 九九乘法表\n",
    "\n",
    "i = 1\n",
    "while i <= 9:\n",
    "    j = 1\n",
    "    while j <= i:\n",
    "        print(f'{j}*{i}={i*j}', end=\"\\t\")\n",
    "        j += 1\n",
    "    print()\n",
    "    i += 1\n"
   ]
  },
  {
   "cell_type": "markdown",
   "metadata": {},
   "source": [
    "#### break语句&continue语句\n",
    "\n",
    "`break`:跳出当前循环\n",
    "\n",
    "`continue`:结束当前次循环，继续从while开始执行\n",
    "\n"
   ]
  },
  {
   "cell_type": "code",
   "execution_count": null,
   "metadata": {},
   "outputs": [
    {
     "name": "stdout",
     "output_type": "stream",
     "text": [
      "循环，i = 1\n",
      "循环，i = 2\n",
      "--------------\n",
      "循环，i = 1\n",
      "循环，i = 2\n",
      "循环，i = 4\n",
      "循环，i = 5\n",
      "结束循环\n"
     ]
    }
   ],
   "source": [
    "# continue 和 break 在 while…else 中应用\n",
    "\n",
    "i = 1\n",
    "while i <= 5:\n",
    "    if i == 3:\n",
    "        break  # 不执行下方 结束循环\n",
    "    print('循环，i =',i)\n",
    "    i += 1\n",
    "else:\n",
    "    print('结束循环')\n",
    "\n",
    "print(\"--------------\")\n",
    "\n",
    "i = 1\n",
    "while i <= 5:\n",
    "    if i == 3:\n",
    "        i += 1\n",
    "        continue  # 执行下方 结束循环\n",
    "    print('循环，i =',i)\n",
    "    i += 1\n",
    "else:\n",
    "    print('结束循环')\n"
   ]
  },
  {
   "cell_type": "markdown",
   "metadata": {},
   "source": [
    "#### for语句\n",
    "基本语法：\n",
    "```\n",
    "for val in iter：\n",
    "    处理代码\n",
    "```"
   ]
  },
  {
   "cell_type": "code",
   "execution_count": null,
   "metadata": {},
   "outputs": [
    {
     "name": "stdout",
     "output_type": "stream",
     "text": [
      "Kevin\n",
      "Tom\n",
      "Mark\n",
      "Rose\n",
      "--------------\n",
      "1 2 3 4 5 6 7 8 9 "
     ]
    }
   ],
   "source": [
    "# 遍历列表\n",
    "list1 = ['Kevin', 'Tom', 'Mark', 'Rose']\n",
    "\n",
    "for i in list1:\n",
    "    print(i)\n",
    "\n",
    "print(\"--------------\")\n",
    "\n",
    "# 遍历字符串\n",
    "s = '123456789'\n",
    "for val in s:\n",
    "    print(val, end=' ')\n",
    "\n"
   ]
  },
  {
   "cell_type": "code",
   "execution_count": null,
   "metadata": {},
   "outputs": [
    {
     "name": "stdout",
     "output_type": "stream",
     "text": [
      "name : Kevin\n",
      "age : 20\n",
      "name\n",
      "age\n",
      "Kevin\n",
      "20\n",
      "('name', 'Kevin')\n",
      "('age', 20)\n",
      "name : Kevin\n",
      "age : 20\n"
     ]
    }
   ],
   "source": [
    "# 字典的遍历\n",
    "\n",
    "my_dict = {\n",
    "    'name': 'Kevin',\n",
    "    'age': 20\n",
    "}\n",
    "# 通过 for key in dict 可以获取字典中所有的键\n",
    "for key in my_dict:\n",
    "    print(key, \":\", my_dict[key])\n",
    "# name : Kevin \n",
    "# age : 20\n",
    "\n",
    "# 字典中 keys() 方法获取所有的 key\n",
    "keys = my_dict.keys()\n",
    "for key in keys:\n",
    "    print(key)\n",
    "# name\n",
    "# age\n",
    "\n",
    "# 字典中 values() 方法获取所有的 value\n",
    "values = my_dict.values()\n",
    "for value in values:\n",
    "    print(value)\n",
    "# Kevin\n",
    "# 20\n",
    "\n",
    "# 字典中 items() 方法可以获取字典中的所有键值对\n",
    "items = my_dict.items()\n",
    "for item in items:\n",
    "    print(item)\n",
    "# ('name', 'Kevin')\n",
    "# ('age', 20)\n",
    "\n",
    "for key, value in my_dict.items():\n",
    "    print(key, \":\", value)\n",
    "# name : Kevin\n",
    "# age : 20\n"
   ]
  },
  {
   "cell_type": "markdown",
   "metadata": {},
   "source": [
    "#### range方法\n",
    "产生range对象\n",
    "```\n",
    "range(stop)\n",
    "range(start, stop[, step])\n",
    "```\n",
    "成绩|等级\n",
    "---|---\n",
    "start |起始数值\n",
    "stop| 停止数值(产生数据中不包含stop)\n",
    "step| 步进值，可以为负数"
   ]
  },
  {
   "cell_type": "code",
   "execution_count": 10,
   "metadata": {},
   "outputs": [
    {
     "name": "stdout",
     "output_type": "stream",
     "text": [
      "0 1 2 3 4 5 6 7 8 9 \n",
      "0 2 4 6 8 10 \n",
      "10 9 8 7 6 5 4 3 2 1 \n"
     ]
    }
   ],
   "source": [
    "# range与enumerate函数\n",
    "# range函数：用于产生range对象，对象中的每个元素为数字\n",
    "# enumerate函数：将可迭代对象转换为enumerate对象\n",
    "'''\n",
    "  range(stop) -> range object\n",
    "  range(start, stop[, step]) -> range object\n",
    "  1. start为初始值；\n",
    "  2. stop为结束值，最大值为stop-1；\n",
    "  3. step为步进值，[, step]这种参数为可选参数；\n",
    "'''\n",
    "#range的应用\n",
    "for val in range(10):\n",
    "    print(val,end=' ')\n",
    "print()\n",
    "\n",
    "for val in range(0, 11, 2):\n",
    "    print(val,end=' ')\n",
    "print()\n",
    "\n",
    "for val in range(10,0,-1):\n",
    "    print(val,end=' ')\n",
    "print()"
   ]
  },
  {
   "cell_type": "markdown",
   "metadata": {},
   "source": [
    "#### enumerate函数\n",
    "\n",
    "enumerate：将可迭代对象转成enumerate对象，函数原型：\n",
    "`enumerate(iterable, start=0)`\n",
    "\n",
    "enumerate对象内容：iterable索引与索引对应的元素：\n",
    "`(0, seq[0]), (1, seq[1]), (2, seq[2]), ...`\n",
    "\n",
    "如果指定start，enumerate对象内容：\n",
    "`(0+start, seq[0]), (1+start, seq[1]), (2+start, seq[2]), ...`"
   ]
  },
  {
   "cell_type": "code",
   "execution_count": 9,
   "metadata": {},
   "outputs": [
    {
     "name": "stdout",
     "output_type": "stream",
     "text": [
      "(0, '1')\n",
      "(1, '2')\n",
      "(2, '3')\n",
      "(3, '4')\n",
      "(4, '5')\n",
      "(5, '6')\n",
      "0 1\n",
      "1 2\n",
      "2 3\n",
      "3 4\n",
      "4 5\n",
      "5 6\n"
     ]
    }
   ],
   "source": [
    "'''\n",
    "    enumerate(iterable, start=0)\n",
    "    enumerate对象内容：iterable索引与索引对应的元素：\n",
    "        (0, seq[0]), (1, seq[1]), (2, seq[2]), ...\n",
    "    如果指定start，enumerate对象内容：\n",
    "        (0+start, seq[0]), (1+start, seq[1]), (2+start, seq[2]), ...\n",
    "'''\n",
    "#enumerate的应用\n",
    "s = '123456'\n",
    "for val in enumerate(s):\n",
    "    print(val)\n",
    "\n",
    "for index,val in enumerate(s):\n",
    "    print(index,val)"
   ]
  },
  {
   "cell_type": "markdown",
   "metadata": {},
   "source": [
    "#### 时间函数"
   ]
  },
  {
   "cell_type": "code",
   "execution_count": null,
   "metadata": {},
   "outputs": [
    {
     "name": "stdout",
     "output_type": "stream",
     "text": [
      "1904年 1908年 1912年 1916年 1920年 1924年 1928年 1932年 1936年 1940年 1944年 1948年 1952年 1956年 1960年 1964年 1968年 1972年 1976年 1980年 1984年 1988年 1992年 1996年 2000年 2004年 2008年 2012年 2016年 2020年 2024年 2028年 2032年 2036年 2040年 2044年 2048年 \n",
      "程序执行时间: 0.0005128999982844107 秒\n",
      "--------------\n",
      "1904年 1908年 1912年 1916年 1920年 1924年 1928年 1932年 1936年 1940年 1944年 1948年 1952年 1956年 1960年 1964年 1968年 1972年 1976年 1980年 1984年 1988年 1992年 1996年 2000年 2004年 2008年 2012年 2016年 2020年 2024年 2028年 2032年 2036年 2040年 2044年 2048年 \n",
      "程序执行时间: 0.00023800000053597614 秒\n"
     ]
    }
   ],
   "source": [
    "'''\n",
    "统计1900到2100年之间的闰年：\n",
    "\n",
    "如果年份能被4整除，但不能被100整除，那么这一年是闰年：2004年、2008年、2012年、2016年、2020年\n",
    "如果年份能被100整除，那么必须同时能被400整除才是闰年：1600年、2000年是闰年，而1900年、2100年等都不是闰年。\n",
    "'''\n",
    "import time\n",
    "\n",
    "start_year = 1900\n",
    "end_year = 2050\n",
    "# 记录起始时间\n",
    "start_time = time.perf_counter()\n",
    "for year in range(start_year,end_year+1):\n",
    "    if year % 4 == 0 and year % 100 != 0:\n",
    "        print(str(year)+'年',end=' ')\n",
    "    elif year % 400 == 0:\n",
    "        print(str(year)+'年',end=' ')\n",
    "# 记录结束时间\n",
    "end_time = time.perf_counter()\n",
    "# 计算执行时间\n",
    "execution_time = end_time - start_time\n",
    "print()\n",
    "# 打印执行时间\n",
    "print(f\"程序执行时间: {execution_time} 秒\")\n",
    "print(\"--------------\")\n",
    "\n",
    "#以上效率比较低，因为它是逐年比较的，可以将其改进成找到第一个闰年后，每4年一比较\n",
    "\n",
    "#4年内必有一个闰年\n",
    "start_time = time.perf_counter()\n",
    "s_year = 0\n",
    "for year in range(start_year,start_year+4):\n",
    "    if year % 4 == 0:\n",
    "        s_year = year\n",
    "        break\n",
    "\n",
    "for year in range(s_year,end_year,4):\n",
    "    if year%100 != 0:\n",
    "        print(str(year)+'年',end=' ')\n",
    "    elif year%400 == 0:\n",
    "        print(str(year)+'年',end=' ')\n",
    "# 记录结束时间\n",
    "end_time = time.perf_counter()\n",
    "# 计算执行时间\n",
    "execution_time = end_time - start_time\n",
    "print()\n",
    "# 打印执行时间\n",
    "print(f\"程序执行时间: {execution_time} 秒\") \n",
    "        "
   ]
  },
  {
   "cell_type": "markdown",
   "metadata": {},
   "source": [
    "## 6 函数\n",
    "python中函数定义的语法：\n",
    "\n",
    "```\n",
    "def func(args):\n",
    "    pass\n",
    "    func()\n",
    "```\n",
    "\n",
    "- def：函数定义关键字；\n",
    "\n",
    "- func：函数名称；\n",
    "\n",
    "args：函数参数；\n",
    "\n",
    "函数：默认返回值为None；\n",
    "\n",
    "函数调用：func(args)；如果有参数，需要加对应的参数；"
   ]
  },
  {
   "cell_type": "code",
   "execution_count": null,
   "metadata": {},
   "outputs": [
    {
     "name": "stdout",
     "output_type": "stream",
     "text": [
      "11是奇数\n"
     ]
    }
   ],
   "source": [
    "#判断一个数字是否为奇数\n",
    "def is_odd(val):\n",
    "    if val % 2:\n",
    "        print(f'{val}是奇数')\n",
    "    else:\n",
    "        print(f'{val}不是奇数')\n",
    "\n",
    "is_odd(11)"
   ]
  },
  {
   "cell_type": "markdown",
   "metadata": {},
   "source": [
    "### 6.1 函数定义三要素\n",
    "\n",
    "函数三要素：函数名，函数参数，函数返回值。\n",
    "\n",
    "1. 函数名\n",
    "    函数名实质是一个指向函数的变量名，Python中函数名命名规则：\n",
    "    1. 函数名必须具备一定的可读性；\n",
    "    2. python遵循 pep8，一般是小写字母加下划线命名，例如：get_value_by_id(id)；\n",
    "2. 函数参数\n",
    "   python函数支持无参，形参，可边长参数，在后面函数章节我们在详细讲解； 函数参数定好之后，一般不会修\n",
    "改，即使修改也要做好向前兼容； 例如：\n",
    "```\n",
    "def get_pi(): pass\n",
    "def count_area(r): pass\n",
    "def my_add(x, y): pass\n",
    "```\n",
    "\n",
    "3. 函数返回值\n",
    "   Python函数中使用关键字 return显示返回值；\n"
   ]
  },
  {
   "cell_type": "code",
   "execution_count": null,
   "metadata": {},
   "outputs": [
    {
     "data": {
      "text/plain": [
       "True"
      ]
     },
     "metadata": {},
     "output_type": "display_data"
    }
   ],
   "source": [
    "#is_odd添加返回值\n",
    "def is_odd(val):\n",
    "    if val%2:\n",
    "        return True\n",
    "    return False\n",
    "\n",
    "is_odd(11)"
   ]
  },
  {
   "cell_type": "markdown",
   "metadata": {},
   "source": [
    "## 7 Python数据结构\n",
    "### 数字\n",
    "最基本数据结构\n",
    "\n",
    "#### 数字类型\n",
    "类型|说明\n",
    "---|---\n",
    "int |整数\n",
    "float| 浮点数\n",
    "bool| bool值(True, False)\n"
   ]
  },
  {
   "cell_type": "code",
   "execution_count": 4,
   "metadata": {},
   "outputs": [],
   "source": [
    "a = 10\n",
    "b = 3.14\n",
    "c = True"
   ]
  },
  {
   "cell_type": "markdown",
   "metadata": {},
   "source": [
    "#### 类型转换\n",
    "* 默认顺序\n",
    "```\n",
    "float > int > bool\n",
    "```\n"
   ]
  },
  {
   "cell_type": "code",
   "execution_count": 5,
   "metadata": {},
   "outputs": [
    {
     "data": {
      "text/plain": [
       "13.14"
      ]
     },
     "execution_count": 5,
     "metadata": {},
     "output_type": "execute_result"
    }
   ],
   "source": [
    "a + b"
   ]
  },
  {
   "cell_type": "markdown",
   "metadata": {},
   "source": [
    "* 强制转换<br />\n",
    "使用float(), int(), bool()转换\n"
   ]
  },
  {
   "cell_type": "code",
   "execution_count": 6,
   "metadata": {},
   "outputs": [
    {
     "name": "stdout",
     "output_type": "stream",
     "text": [
      "18\n",
      "True\n"
     ]
    }
   ],
   "source": [
    "print(int(2*3.14*3))\n",
    "print(bool(3.15))"
   ]
  },
  {
   "cell_type": "markdown",
   "metadata": {},
   "source": [
    "#### 数字相关方法\n",
    "```\n",
    "pow(x, y, z=None):幂运算\n",
    "abs(x):绝对值\n",
    "```\n",
    "#### 随机数模块\n",
    "* 导入模块\n",
    "```\n",
    "import random\n",
    "```\n",
    "* random相关方法\n",
    "```\n",
    "random.randint(a, b):产生[a,b]之间随机数\n",
    "random.random():产生[0, 1)随机数\n",
    "random.uniform(a, b):产生[a, b) or [a, b]之间随机数\n",
    "random.choice(seq)：序列中随机选择一个值\n",
    "random.choices(population, weights=None, *, cum_weights=None, k=1)：在population中随机选择值，k为选择数量\n",
    "```\n"
   ]
  },
  {
   "cell_type": "code",
   "execution_count": 8,
   "metadata": {},
   "outputs": [
    {
     "name": "stdout",
     "output_type": "stream",
     "text": [
      "10\n",
      "0.6272199419394237\n"
     ]
    }
   ],
   "source": [
    "import random\n",
    "print(random.randint(0, 100))\n",
    "print(random.random())"
   ]
  }
 ],
 "metadata": {
  "kernelspec": {
   "display_name": "base",
   "language": "python",
   "name": "python3"
  },
  "language_info": {
   "codemirror_mode": {
    "name": "ipython",
    "version": 3
   },
   "file_extension": ".py",
   "mimetype": "text/x-python",
   "name": "python",
   "nbconvert_exporter": "python",
   "pygments_lexer": "ipython3",
   "version": "3.11.5"
  }
 },
 "nbformat": 4,
 "nbformat_minor": 2
}
