{
 "cells": [
  {
   "cell_type": "markdown",
   "id": "f4cd1f15-1967-4317-92c7-db28782e9fbf",
   "metadata": {},
   "source": [
    "# 面向对象\n",
    "## 1 面向对象编程\n",
    "面向对象编程(object-oriented programming,OOP)是相对于面向过程的一种编程方式，面向对象将数据和方法看做一个整体。\n",
    "\n",
    "### 1.1 面向对象编程特征\n",
    "\n",
    "1. 封装: 将具体实现隐藏，提供方法，供外部调用；\n",
    "2. 抽象：将一类事物的数据与行为进行提取，提取事物的共性；\n",
    "3. 继承：类与类之间有一种父与子的关系，子类继承父类的属性和方法；\n",
    "4. 多态：调用不同的子类将会产生不同的行为；\n",
    "\n",
    "### 1.2 面向对象基本概念\n",
    "\n",
    "1. 类(Class): 用来描述具有相同的属性和方法的对象的集合，定义类对象公共的属性和方法；\n",
    "2. 对象：，通过类定义的数据结构实例。对象包括两个数据成员和方法。\n",
    "3. 实例化：创建一个类的实例，类的具体对象。\n",
    "4. 类属性：类中定义变量，属于公共属性，所有对象均可访问；\n",
    "5. 实例属性：具体实例对象的相关的数据；\n",
    "6. 方法：类中定义的函数。\n",
    "7. 继承：即一个派生类（derived class）继承基类（base class）的字段和方法。\n",
    "8. 子类：B继承A，则称B为A的子类；\n",
    "9. 重载：子类中重新实现父类方法；\n",
    "\n",
    "### 1.3 快速理解面向对象\n",
    "一个例子：公司有N名员工，每个员工有不同的行为与属性，如何对其进行管理？\n",
    "\n",
    "不用面向对象：使用字典，列表等数据结构对员工信息进行管理；\n",
    "\n",
    "使用面向对象：将员工按照部门，职位抽象成不同类，使用对象进行统计管理；"
   ]
  },
  {
   "cell_type": "code",
   "execution_count": 12,
   "id": "48bd4049-9e09-4d3f-a98d-75a8f7cd212c",
   "metadata": {},
   "outputs": [
    {
     "data": {
      "text/plain": [
       "5"
      ]
     },
     "execution_count": 12,
     "metadata": {},
     "output_type": "execute_result"
    }
   ],
   "source": [
    "'''\n",
    "homework 2\n",
    "给定整数数组 nums 和整数 k，请返回数组中第 k 个最大的元素。\n",
    "请注意，你需要找的是数组排序后的第 k 个最大的元素，而不是第 k 个不同的元素。\n",
    "注意时间复杂度\n",
    "提示：可以使用快速排序\n",
    "测试数据：\n",
    "nums = [3,2,1,5,6,4]\n",
    "k = 2\n",
    "'''\n",
    "def find_k_max(nums,k):\n",
    "    if(k > 0 and k <= len(nums)):\n",
    "        sorted_nums = sorted(nums)\n",
    "        return sorted_nums [-k]\n",
    "    else:\n",
    "        print(\"erro\")\n",
    "        return -1\n",
    "\n",
    "nums =  [3,2,1,5,6,4]\n",
    "k = 2\n",
    "find_k_max(nums,k)"
   ]
  },
  {
   "cell_type": "markdown",
   "id": "8f59d65f-8a24-4f17-9bce-095902b31ffa",
   "metadata": {},
   "source": [
    "## 2 类与实例\n",
    "### 2.1 类与实例\n",
    "1. 类是抽象概念，对象具体存在的实例；\n",
    "2. Python中类也是对象；\n",
    "3. 类与实例引入命名空间与作用域；\n",
    "\n",
    "python中定义类语法：\n",
    "```\n",
    "    class 类名：\n",
    "        pass\n",
    "```"
   ]
  },
  {
   "cell_type": "code",
   "execution_count": 15,
   "id": "a3bd6c37-a1d5-4f10-9889-edf4117e9b4c",
   "metadata": {},
   "outputs": [],
   "source": [
    "#定义汽车类\n",
    "class Car:\n",
    "    pass\n",
    "#创建类对象\n",
    "car = Car()"
   ]
  },
  {
   "cell_type": "markdown",
   "id": "609feebb-3f04-4dd6-81b9-644fde88a185",
   "metadata": {},
   "source": [
    "### 2.2 类属性与实例属性\n",
    "1. 属性与方法使用\n",
    "2. 类与实例引入作用域\n",
    "\n",
    "实例与类的属性与方法的使用：\n",
    "```\n",
    "实例.属性\n",
    "实例.方法\n",
    "类名.属性\n",
    "类名.方法\n",
    "```"
   ]
  },
  {
   "cell_type": "code",
   "execution_count": 16,
   "id": "c3958a4a-8cb0-4c24-89eb-ea014fc786f0",
   "metadata": {},
   "outputs": [
    {
     "name": "stdout",
     "output_type": "stream",
     "text": [
      "Car.name: 汽车\n",
      "audi.name: 汽车\n"
     ]
    }
   ],
   "source": [
    "class Car:\n",
    "    name = \"汽车\"\n",
    "\n",
    "audi = Car()\n",
    "print(\"Car.name:\", Car.name)\n",
    "print(\"audi.name:\", audi.name)"
   ]
  },
  {
   "cell_type": "code",
   "execution_count": 17,
   "id": "0c2b9b96-13d7-44fc-bb73-128382c60d36",
   "metadata": {},
   "outputs": [
    {
     "name": "stdout",
     "output_type": "stream",
     "text": [
      "Car.name: 汽车类\n",
      "audi.name: A6\n",
      "bwm.name: 汽车类\n"
     ]
    }
   ],
   "source": [
    "# 类与实例有自己命名空间与作用域\n",
    "class Car:\n",
    "    name = \"汽车\"\n",
    "\n",
    "audi = Car()\n",
    "audi.name = \"A6\"\n",
    "\n",
    "bwm = Car()\n",
    "Car.name = \"汽车类\"\n",
    "\n",
    "print(\"Car.name:\", Car.name)\n",
    "print(\"audi.name:\", audi.name)\n",
    "print(\"bwm.name:\", bwm.name)\n"
   ]
  },
  {
   "cell_type": "markdown",
   "id": "ba3cd62b-9271-4c72-b028-699bcd56f5c8",
   "metadata": {},
   "source": [
    "1. audi.name = \"A6\"作用：为audi对象增加“name”属性，并没有修改类Car的“name”属性；\n",
    "2. bwm对象继承Car类name属性，当访问“name”属性时，获取Car类中的name属性；\n",
    "\n",
    "注意：实际工作中，不推荐直接访问与修改属性，而是通过方法进行访问；"
   ]
  },
  {
   "cell_type": "markdown",
   "id": "14090167-eecc-4647-862f-6e4a2c0f0a54",
   "metadata": {},
   "source": [
    "### 2.3 私有属性\n",
    "在某些场景下，不希望直接通过类或者实例直接访问属性，例如：员工薪资，明星年龄，收入等；\n",
    "\n",
    "解决方式：属性以双下划线开头\"__\"，该属性只能通过接口进行访问与修改;\n"
   ]
  },
  {
   "cell_type": "code",
   "execution_count": 18,
   "id": "0f5d3cc8-2852-41cf-9209-98cf45c0f3fe",
   "metadata": {},
   "outputs": [
    {
     "ename": "AttributeError",
     "evalue": "type object 'Car' has no attribute '__price'",
     "output_type": "error",
     "traceback": [
      "\u001b[1;31m---------------------------------------------------------------------------\u001b[0m",
      "\u001b[1;31mAttributeError\u001b[0m                            Traceback (most recent call last)",
      "Cell \u001b[1;32mIn[18], line 5\u001b[0m\n\u001b[0;32m      2\u001b[0m     name \u001b[38;5;241m=\u001b[39m \u001b[38;5;124m\"\u001b[39m\u001b[38;5;124mcar\u001b[39m\u001b[38;5;124m\"\u001b[39m\n\u001b[0;32m      3\u001b[0m     __price \u001b[38;5;241m=\u001b[39m \u001b[38;5;124m\"\u001b[39m\u001b[38;5;124munkown\u001b[39m\u001b[38;5;124m\"\u001b[39m\n\u001b[1;32m----> 5\u001b[0m \u001b[38;5;28mprint\u001b[39m(\u001b[43mCar\u001b[49m\u001b[38;5;241;43m.\u001b[39;49m\u001b[43m__price\u001b[49m)\n",
      "\u001b[1;31mAttributeError\u001b[0m: type object 'Car' has no attribute '__price'"
     ]
    }
   ],
   "source": [
    "class Car:\n",
    "    name = \"car\"\n",
    "    __price = \"unkown\"\n",
    "\n",
    "print(Car.__price)"
   ]
  },
  {
   "cell_type": "markdown",
   "id": "2181ebc5-d986-4f9b-86df-b862dfa7e028",
   "metadata": {},
   "source": [
    "## 3 方法\n",
    "主要内容：\n",
    "1. 实例方法；\n",
    "2. 理解self;\n",
    "3. 类的定义与实现；\n",
    "\n",
    "### 3.1 封装\n",
    "面向对象编程中，封装基本理解：\n",
    "1. 不推荐直接去访问实例或者类属性，而是通过方法(接口)去访问；\n",
    "2. 将行为封装成方法，对外提供接口调用；\n",
    "3. 在方法中，可以访问或者修改属性值；\n",
    "\n",
    "### 3.2 实例方法\n",
    "基本语法：\n",
    "```\n",
    "class ClassName:\n",
    "    def func(self, *args, **kwargs):\n",
    "        pass\n",
    "```\n",
    "需求：\n",
    "1. 为Car类添加方法，获取与设置name属性；\n",
    "2. 为Car类添加启动，停止方法；"
   ]
  },
  {
   "cell_type": "code",
   "execution_count": 19,
   "id": "9aa3e0b0-3833-4995-a661-3f1208f27014",
   "metadata": {},
   "outputs": [],
   "source": [
    "class Car:\n",
    "    name = \"Car\"\n",
    "    def set_name(self, name):\n",
    "        pass\n",
    "    def get_name(self, name):\n",
    "        pass\n",
    "    def start(self):\n",
    "        pass\n",
    "    def stop(self):\n",
    "        pass"
   ]
  },
  {
   "cell_type": "markdown",
   "id": "3a6fe74a-95ed-4a2c-bea7-8ca3ff759274",
   "metadata": {},
   "source": [
    "### 3.3 理解self\n",
    "实例方法的第一参数为self, self即实例本身，例如：\n"
   ]
  },
  {
   "cell_type": "code",
   "execution_count": 22,
   "id": "bc90db15-22c9-41d0-9826-da76450d726c",
   "metadata": {},
   "outputs": [
    {
     "name": "stdout",
     "output_type": "stream",
     "text": [
      "audi: 1654428599824\n",
      "id(self): 1654428599824\n"
     ]
    }
   ],
   "source": [
    "class Car:\n",
    "    name = \"Car\"\n",
    "    def stop(self):\n",
    "        print(\"id(self):\", id(self))\n",
    "\n",
    "audi = Car()\n",
    "print(\"audi:\", id(audi))\n",
    "audi.stop()\n"
   ]
  },
  {
   "cell_type": "markdown",
   "id": "70aef690-f269-4c82-9ca1-b02a84bd9615",
   "metadata": {},
   "source": [
    "### 3.4 类定义过程\n",
    "基本思路：\n",
    "1. 定义类名；\n",
    "2. 找到共同行为与数据；\n",
    "3. 定义方法；\n",
    "4. 实现每一个方法；\n",
    "5. 调试；"
   ]
  },
  {
   "cell_type": "code",
   "execution_count": 24,
   "id": "6965dcad-3412-4afc-81a5-54aea6ee9e9a",
   "metadata": {},
   "outputs": [
    {
     "name": "stdout",
     "output_type": "stream",
     "text": [
      "set name: audi\n",
      "car_name: audi\n"
     ]
    }
   ],
   "source": [
    "#现set_name与get_name方法\n",
    "class Car:\n",
    "    name = \"car\"\n",
    "    \n",
    "    def set_name(self, name):\n",
    "        self.name = name\n",
    "        print(\"set name:\", self.name)\n",
    "    def get_name(self):\n",
    "        return self.name\n",
    "\n",
    "audi = Car()\n",
    "audi.set_name(\"audi\")\n",
    "car_name = audi.get_name()\n",
    "print(\"car_name:\", car_name)\n"
   ]
  },
  {
   "cell_type": "markdown",
   "id": "82eac240-6d6b-4816-95f9-e2b7c2f32a14",
   "metadata": {},
   "source": [
    "## 4 生命周期\n",
    "实例的生命周期\n",
    "\n",
    "1. 创建对象\n",
    "2. 对象属性初始化\n",
    "3. 对象使用\n",
    "4. 对象销毁"
   ]
  },
  {
   "cell_type": "markdown",
   "id": "ef804d74-e58b-4bb9-a19c-00e6fc9b8d5f",
   "metadata": {},
   "source": [
    "### 4.1_new_ 方法\n",
    "基本语法：\n",
    "```\n",
    "class ClassName:\n",
    "    def __new__(cls, *args, **kwargs):\n",
    "        return object.__new__(cls)\n",
    "```\n",
    "主要参数：\n",
    "1. `cls`:类本身；\n",
    "2. `*args`,` **kwargs`：参数；\n",
    "3. `object.__new__(cls)`：调用父类创建对象；\n",
    "\n",
    "注意:\n",
    "1. 在自定义类中，不显示定义new方法，默认调用父类中new方法，并返回实例；\n",
    "2. 一般来说，很少用到该方法；\n"
   ]
  },
  {
   "cell_type": "markdown",
   "id": "5207b6d0-68cf-47c6-8be3-6fa821143c26",
   "metadata": {},
   "source": [
    "### 4.2 _init_方法\n",
    "__init__方法：创建实例后调用的第一个方法，用于初始化实例属性；\n",
    "\n",
    "在创建类中，会经常加一些参数，这些参数在init方法中处理，例如：\n",
    "```\n",
    "from collections import defaultdict\n",
    "obj = defaultdict(int)\n",
    "obj[\"level1\"] += 1\n",
    "```\n",
    "需求：\n",
    "1. 为Car类添加init方法，\n",
    "2. 并在创建实例时，指定名称与价格："
   ]
  },
  {
   "cell_type": "code",
   "execution_count": 30,
   "id": "fa4371e7-3e02-46a7-b34f-3b6543885e16",
   "metadata": {},
   "outputs": [
    {
     "name": "stdout",
     "output_type": "stream",
     "text": [
      "call new: ('audi_A6', 36.5)\n",
      "name=audi_A6, price=36.5\n",
      "call new: ('BMW_X1', 24.2)\n",
      "name=BMW_X1, price=24.2\n"
     ]
    }
   ],
   "source": [
    "class Car:\n",
    "    def __new__(cls, *args, **kwargs):\n",
    "        print(\"call new:\", args)\n",
    "        return object.__new__(cls)\n",
    "    def __init__(self, name, price):\n",
    "        '''属性初始化'''\n",
    "        print(f\"name={name}, price={price}\")\n",
    "        self.name = name\n",
    "        self.speed = 0\n",
    "        self.__price = price\n",
    "\n",
    "audi = Car(\"audi_A6\", 36.5)\n",
    "bmw = Car(\"BMW_X1\", 24.2)"
   ]
  },
  {
   "cell_type": "markdown",
   "id": "399caeb9-8453-4a9b-87f9-58e1392ffe70",
   "metadata": {},
   "source": [
    "### 4.3 _del_方法\n",
    "`__del__`:对象销毁调用，主要用于回收清理占用的资源；对于开发人员来说，用到场景较少；\n"
   ]
  },
  {
   "cell_type": "code",
   "execution_count": 31,
   "id": "b748ae04-a8f1-4e71-afe8-ed1557f08086",
   "metadata": {},
   "outputs": [
    {
     "name": "stdout",
     "output_type": "stream",
     "text": [
      "call new:\n",
      "call init\n",
      "call del\n"
     ]
    }
   ],
   "source": [
    "#对象生命周期流程\n",
    "class Car:\n",
    "    def __new__(cls, *args, **kwargs):\n",
    "        print(\"call new:\")\n",
    "        return object.__new__(cls)\n",
    "    def __init__(self, name, price):\n",
    "        '''属性初始化'''\n",
    "        print(\"call init\")\n",
    "        pass\n",
    "    def __del__(self):\n",
    "        print(\"call del\")\n",
    "\n",
    "audi = Car(\"audi_A6\", 36.5)\n",
    "del audi"
   ]
  },
  {
   "cell_type": "markdown",
   "id": "5c5cddb7-0dbd-4a6b-b1bc-cf60fee24919",
   "metadata": {},
   "source": [
    "## 5 三种方法\n",
    "python中类中方法类型：实例方法，静态方法，类方法\n",
    "1. 实例方法：只有类的对象才能使用，最常见；\n",
    "   语法：`def func(self,*args,**kwargs)`\n",
    "   \n",
    "2. 静态方法：一般用于和类对象以及实例对象无关的代码；\n",
    "   ```\n",
    "   @staticmenthod\n",
    "   def func(*args,**kwargs)\n",
    "   ```\n",
    "   不需要实例化，类可以直接调用\n",
    "    \n",
    "3. 类方法：方法中只涉及对类属性访问与修改，可以使用类方法；\n",
    "   ```\n",
    "   @classmethod\n",
    "   def func(cls,*args,**kwargs)\n",
    "   ```"
   ]
  },
  {
   "cell_type": "code",
   "execution_count": 33,
   "id": "21a85811-8c00-4c42-8890-067b3fc9f935",
   "metadata": {},
   "outputs": [
    {
     "name": "stdout",
     "output_type": "stream",
     "text": [
      "314.0\n",
      "12\n"
     ]
    }
   ],
   "source": [
    "#计算面积通用类\n",
    "class CountArea:\n",
    "    pi = 3.14\n",
    "    @classmethod\n",
    "    def circular_area(cls,r):\n",
    "        return cls.pi* pow(r,2)\n",
    "\n",
    "    @staticmethod\n",
    "    def square_area(length,width):\n",
    "        return length*width\n",
    "\n",
    "print(CountArea.circular_area(10))\n",
    "print(CountArea.square_area(3,4))"
   ]
  },
  {
   "cell_type": "markdown",
   "id": "f530c218-be47-4d33-a756-7ef0c79879d9",
   "metadata": {},
   "source": [
    "### 收银台案例\n",
    "场景理解：\n",
    "1. 所有收银台的打折信息相同，可以通过接口进行设置；\n",
    "2. 每个收银台收款不同；\n",
    "3. 每个收银台都有一样的提示语；\n",
    "\n",
    "收银台行为：\n",
    "1. 设置打折信息；\n",
    "2. 扫码添加商品，记录每位顾客商品金额；\n",
    "3. 根据商品金额与打折信息计算支付金额；\n",
    "4. 支付完成后，记录金额清空，并进行提示；\n",
    "\n",
    "实现思路：\n",
    "1. 理解需求，找出公共属性与行为；\n",
    "2. 定义类及相关方法；\n",
    "3. 实现每个方法；\n",
    "4. 调试测试每个接口；\n",
    "5. 代码优化整理；\n"
   ]
  },
  {
   "cell_type": "code",
   "execution_count": 34,
   "id": "4621116c-fc61-4834-937e-c5f327009ca6",
   "metadata": {},
   "outputs": [],
   "source": [
    "# 类定义\n",
    "class CheckOutCounter:\n",
    "    #折扣默认为1\n",
    "    discount = 1\n",
    "    def __init__(self):\n",
    "        #默认结算金额0\n",
    "        self.amount = 0\n",
    "    def scan_good(self, value, *args):\n",
    "        #扫码添加商品\n",
    "        pass\n",
    "    def pay(self):\n",
    "        #计算支付金额\n",
    "        pass\n",
    "    @classmethod\n",
    "    def set_discount(cls, discount):\n",
    "        #设置折扣\n",
    "        pass\n",
    "    @classmethod\n",
    "    def get_discount(cls):\n",
    "        #设置折扣\n",
    "        pass\n",
    "    @staticmethod\n",
    "    def voice_tip():\n",
    "        #支付完提示\n",
    "        pass"
   ]
  },
  {
   "cell_type": "code",
   "execution_count": 1,
   "id": "5ce5f7c1-3ea0-499e-a547-bd420d1ce220",
   "metadata": {},
   "outputs": [],
   "source": [
    "# 类实现\n",
    "class CheckOutCounter:\n",
    "    #折扣默认为1\n",
    "    discount = 1\n",
    "    \n",
    "    def __init__(self):\n",
    "        #默认结算金额0\n",
    "        self.amount = 0\n",
    "\n",
    "    def scan_good(self, value, *args):\n",
    "        #扫码添加商品\n",
    "        self.amount += value\n",
    "        if args:\n",
    "            self.amount += sum(args)\n",
    "    \n",
    "    def pay(self):\n",
    "        res = self.amount * self.discount\n",
    "        self.amount = 0\n",
    "        return res\n",
    "    @classmethod\n",
    "    def set_discount(cls, discount):\n",
    "        #设置折扣\n",
    "        cls.discount = discount\n",
    "    \n",
    "    @classmethod\n",
    "    def get_discount(cls):\n",
    "        #设置折扣\n",
    "        return cls.discount\n",
    "    \n",
    "    @staticmethod\n",
    "    def voice_tip():\n",
    "        #支付完提示\n",
    "        print(\"欢迎再来，购物愉快\")\n"
   ]
  },
  {
   "cell_type": "code",
   "execution_count": 2,
   "id": "04b4c97e-d88a-4cf6-9f62-88a4f870c8e2",
   "metadata": {},
   "outputs": [
    {
     "name": "stdout",
     "output_type": "stream",
     "text": [
      "支付金额： 112.0\n",
      "欢迎再来，购物愉快\n"
     ]
    }
   ],
   "source": [
    "# 调用过程\n",
    "\n",
    "#创建收银台对象\n",
    "checkout_1 = CheckOutCounter()\n",
    "#设置折扣\n",
    "CheckOutCounter.set_discount(0.8)\n",
    "#扫码添加商品\n",
    "checkout_1.scan_good(10,40,40,30,20)\n",
    "#支付\n",
    "payment = checkout_1.pay()\n",
    "print(\"支付金额：\", payment)\n",
    "#提示下次再来\n",
    "CheckOutCounter.voice_tip()"
   ]
  },
  {
   "cell_type": "markdown",
   "id": "0a117a2c-6f05-4c8e-b3ac-b2b3a69c03d7",
   "metadata": {},
   "source": [
    "## 6 property使用\n",
    "### 6.1 属性设置与访问\n",
    "实际工作中，需要对属性进行频繁的修改与访问，一般实现方式："
   ]
  },
  {
   "cell_type": "code",
   "execution_count": 3,
   "id": "1f98fbb9-a0f8-456f-a46f-a8b6185be519",
   "metadata": {},
   "outputs": [
    {
     "name": "stdout",
     "output_type": "stream",
     "text": [
      "当前汽车价格： 9\n"
     ]
    }
   ],
   "source": [
    "class Car:\n",
    "    def __init__(self, price):\n",
    "        self.__price = price\n",
    "    def set_price(self, price):\n",
    "        self.__price = price\n",
    "    def get_price(self):\n",
    "        return self.__price\n",
    "\n",
    "car = Car(10)\n",
    "car.set_price(9)\n",
    "cur_price = car.get_price()\n",
    "print(\"当前汽车价格：\", cur_price)"
   ]
  },
  {
   "cell_type": "markdown",
   "id": "875e21be-2779-405a-92ca-b0e89ac182cc",
   "metadata": {},
   "source": [
    "问题：如果属性过多，有没有一种方式：\n",
    "1. 使用属性方式进行操作；\n",
    "2. 实际操作使用方法；"
   ]
  },
  {
   "cell_type": "markdown",
   "id": "324649d9-19fd-4537-a60c-e1b447635b35",
   "metadata": {},
   "source": [
    "### 6.2 property应用\n",
    "@property：是用来修饰方法的装饰器，主要作用：将方法转成属性，例如："
   ]
  },
  {
   "cell_type": "code",
   "execution_count": 49,
   "id": "d0ccba7c-2e0a-4e8f-8c12-058a0d1fdfa9",
   "metadata": {},
   "outputs": [
    {
     "name": "stdout",
     "output_type": "stream",
     "text": [
      "call get price\n",
      "当前汽车价格： 10\n"
     ]
    }
   ],
   "source": [
    "class Car:\n",
    "    def __init__(self, price):\n",
    "        self.__price = price\n",
    "    #使用@property将获取price方法转为属性\n",
    "    @property\n",
    "    def price(self):\n",
    "        print('call get price')\n",
    "        return self.__price\n",
    "   \n",
    "    #将price.setter将设置价格方法转为属性\n",
    "    @price.setter\n",
    "    def price(self, price):\n",
    "        print('call set price')\n",
    "        self.__price = price\n",
    "\n",
    "\n",
    "audi = Car(10)\n",
    "#以属性方式访问价格\n",
    "price = audi.price\n",
    "print(\"当前汽车价格：\",price)"
   ]
  },
  {
   "cell_type": "code",
   "execution_count": 50,
   "id": "c5c3e978-f4a9-463f-afb6-d2c04e207786",
   "metadata": {},
   "outputs": [
    {
     "name": "stdout",
     "output_type": "stream",
     "text": [
      "call set price\n",
      "call get price\n",
      "当前汽车价格： 8\n"
     ]
    }
   ],
   "source": [
    "#以属性方式设置价格\n",
    "audi.price = 8\n",
    "print(\"当前汽车价格：\",audi.price)"
   ]
  },
  {
   "cell_type": "markdown",
   "id": "d350bb3c-c1aa-4e66-9968-32b470e8053a",
   "metadata": {},
   "source": [
    "## 7 反射相关函数\n",
    "### 7.1 反射基本概念\n",
    "反射基本概念：程序可以访问、检测和修改它本身状态或行为的一种能力（自省）\n",
    "\n",
    "python面向对象中的反射：通过字符串的形式操作对象相关的属性与方法；\n",
    "\n",
    "场景：要访问对象的属性或者使用其方法，判断是否存在；"
   ]
  },
  {
   "cell_type": "markdown",
   "id": "be8df847-3670-410f-be47-93cf6538872c",
   "metadata": {},
   "source": [
    "### 7.2 反射相关函数与应用\n",
    "相关函数：\n",
    "|               函数               |             说明              |\n",
    "| :------------------------------: | :---------------------------: |\n",
    "| isinstance(obj, class_or_tuple)  | 判断obj对象是否是指定类的实例 |\n",
    "|           dir(object)            |         获取对象属性          |\n",
    "|       hasattr(obj, name）        |     obj对象是否有name属性     |\n",
    "| getattr(object, name[, default]) |      获取obj对象name属性      |\n",
    "|    setattr(obj, name, value)     |   设置obj对象的name属性与值   |\n",
    "|        delattr(obj, name)        |     删除obj对象的name属性     |"
   ]
  },
  {
   "cell_type": "code",
   "execution_count": 2,
   "id": "f67ef24f-37fc-4c78-9f18-02ee2d22d8dd",
   "metadata": {},
   "outputs": [],
   "source": [
    "class Circle:\n",
    "    pi = 3.14"
   ]
  },
  {
   "cell_type": "markdown",
   "id": "8181d58b-1833-420b-abe5-0117950b1199",
   "metadata": {},
   "source": [
    "问题：\n",
    "1. 不知道当前是否设置半径r\n",
    "2. 不知道是否有计算面积方法\n",
    "3. 如果不存在需要动态添加"
   ]
  },
  {
   "cell_type": "code",
   "execution_count": 9,
   "id": "d4974471-f64c-47c5-a0d4-9f48d9814bc0",
   "metadata": {},
   "outputs": [
    {
     "name": "stdout",
     "output_type": "stream",
     "text": [
      "10 314.0\n"
     ]
    }
   ],
   "source": [
    "class Circle:\n",
    "    pi = 3.14\n",
    "\n",
    "c = Circle()\n",
    "#定义面积计算函数\n",
    "def count_area_func(self):\n",
    "    return self.pi * pow(self.r, 2)\n",
    "\n",
    "r_name = \"r\"\n",
    "r_value = 10\n",
    "\n",
    "key_map = {\"r\":10, \"count_area\":count_area_func}\n",
    "for attr, value in key_map.items():\n",
    "    #若cirle中不存在attr值，设置attr=value\n",
    "    if not hasattr(c, attr):\n",
    "        setattr(c, attr, value)\n",
    "\n",
    "print(c.r,c.count_area(c))"
   ]
  },
  {
   "cell_type": "code",
   "execution_count": 5,
   "id": "bfcb1794-dbcb-4fd3-99ac-507e7664cf65",
   "metadata": {},
   "outputs": [
    {
     "name": "stdout",
     "output_type": "stream",
     "text": [
      "圆面积： 314.0\n"
     ]
    }
   ],
   "source": [
    "#动态获取c中的count_area方法\n",
    "count_area = getattr(c, \"count_area\")\n",
    "#计算Circle对象的面积\n",
    "area = count_area(c)\n",
    "print(\"圆面积：\",area)\n"
   ]
  },
  {
   "cell_type": "code",
   "execution_count": 13,
   "id": "069c6cd5-cb7e-45c3-b349-d9757914325e",
   "metadata": {},
   "outputs": [
    {
     "name": "stdout",
     "output_type": "stream",
     "text": [
      "请输入您想访问页面的url： logout\n"
     ]
    },
    {
     "name": "stdout",
     "output_type": "stream",
     "text": [
      "这是一个退出页面\n"
     ]
    }
   ],
   "source": [
    "# 定义一个模块，里面有几个函数，分别用于展示不同的页面\n",
    "def login():\n",
    "    print(\"这是一个登录页面\")\n",
    "\n",
    "def logout():\n",
    "    print(\"这是一个退出页面\")\n",
    "\n",
    "def home():\n",
    "    print(\"这是网站主页面\")\n",
    "\n",
    "# 定义一个函数，用于根据用户输入的url来调用相应的函数\n",
    "def run():\n",
    "    inp = input(\"请输入您想访问页面的url：\").strip()\n",
    "    # 使用反射函数来判断是否有对应的函数\n",
    "    if hasattr(__import__(__name__), inp):\n",
    "        # 使用反射函数来获取对应的函数\n",
    "        func = getattr(__import__(__name__), inp)\n",
    "        # 调用对应的函数\n",
    "        func()\n",
    "    else:\n",
    "        print(\"404\")\n",
    "\n",
    "# 运行程序\n",
    "run()\n"
   ]
  },
  {
   "cell_type": "markdown",
   "id": "2416ca94-3c72-4478-b1ad-5e1a420fc9fd",
   "metadata": {},
   "source": [
    "## 8 继承\n",
    "继承：子类自动继承父类的属性与方法，在Python中，自定义类继承于object类；\n",
    "\n",
    "继承优缺点：\n",
    "\n",
    "- 优点：提高代码复用与维护性，例如：Django，Scrapy，PyQt等框架都需要使用继承；\n",
    "- 缺点：提升代码的耦合性\n",
    "\n",
    "### 8.1 基本语法\n",
    "```\n",
    "class SubClass(Parent1, Parent2,.....):\n",
    "    \n",
    "pass\n",
    "```"
   ]
  },
  {
   "cell_type": "code",
   "execution_count": 14,
   "id": "2a564fa5-99e5-4393-9ec2-1a69b89a6fa1",
   "metadata": {},
   "outputs": [
    {
     "data": {
      "text/plain": [
       "True"
      ]
     },
     "execution_count": 14,
     "metadata": {},
     "output_type": "execute_result"
    }
   ],
   "source": [
    "class Parent:\n",
    "    pass\n",
    "class SubClass(Parent):\n",
    "    pass\n",
    "\n",
    "issubclass(SubClass,Parent)"
   ]
  },
  {
   "cell_type": "code",
   "execution_count": 15,
   "id": "3540daaf-e08c-4c0e-8139-1edd18ee5840",
   "metadata": {},
   "outputs": [
    {
     "data": {
      "text/plain": [
       "True"
      ]
     },
     "execution_count": 15,
     "metadata": {},
     "output_type": "execute_result"
    }
   ],
   "source": [
    "issubclass(Parent,object)"
   ]
  },
  {
   "cell_type": "markdown",
   "id": "605b3e56-6e98-4a8c-83d0-53def86995ba",
   "metadata": {},
   "source": [
    "### 8.2 例：学生类\n"
   ]
  },
  {
   "cell_type": "code",
   "execution_count": 18,
   "id": "c9e960d1-433d-49b5-abf0-147562e8ed99",
   "metadata": {},
   "outputs": [
    {
     "name": "stdout",
     "output_type": "stream",
     "text": [
      "in Person call init\n",
      "s1 name: sun\n",
      "I'm studying math now\n"
     ]
    }
   ],
   "source": [
    "#定义Person类\n",
    "class Person:\n",
    "    def __init__(self, name, age):\n",
    "        print(\"in Person call init\")\n",
    "        self.__name = name\n",
    "        self.__age = age\n",
    "    def get_name(self):\n",
    "        return self.__name\n",
    "    def set_age(self, age):\n",
    "        self.__age = age\n",
    "    def work(self, *args, **kwargs):\n",
    "        print(\"in Person.work\")\n",
    "\n",
    "#学生类继承Person类\n",
    "class student(Person):\n",
    "    #重载work方法\n",
    "    def work(self, subject):\n",
    "        print(\"I'm studying %s now\"%subject)\n",
    "\n",
    "s1 = student('sun', 16)\n",
    "print(\"s1 name:\", s1.get_name())\n",
    "s1.work(\"math\")\n",
    " "
   ]
  },
  {
   "cell_type": "markdown",
   "id": "7edc4a84-0578-4282-8c52-f0131a812d9f",
   "metadata": {},
   "source": [
    "### 8.3 super关键字\n",
    "子类中重载父类方法，子类中调用父类方法：\n",
    "```\n",
    "super().func()\n",
    "```"
   ]
  },
  {
   "cell_type": "code",
   "execution_count": 20,
   "id": "95354b93-1e71-43aa-ade4-b33f81aecbd6",
   "metadata": {},
   "outputs": [
    {
     "name": "stdout",
     "output_type": "stream",
     "text": [
      "in Person call init\n",
      "s1 name: sun\n",
      "in Person.work\n",
      "I'm studying math now\n"
     ]
    }
   ],
   "source": [
    "#学生类继承Person类\n",
    "class student(Person):\n",
    "    #student中重新实现__new__方法，需要调用父类__new__方法\n",
    "    def __new__(cls, *args, **kwargs):\n",
    "        #调用父类__new__方法\n",
    "        return super().__new__(cls)\n",
    "    def work(self, subject):\n",
    "        #调用父类work方法\n",
    "        super().work()\n",
    "        print(\"I'm studying %s now\"%subject)\n",
    "\n",
    "s1 = student('sun', 16)\n",
    "print(\"s1 name:\", s1.get_name())\n",
    "s1.work(\"math\")"
   ]
  },
  {
   "cell_type": "markdown",
   "id": "e6fed82a-3c7e-4f01-9e80-cc0a0be83f79",
   "metadata": {},
   "source": [
    "### 8.4 多重继承\n",
    "- Python中，支持多重继承，一个子类继承多个父类，例如："
   ]
  },
  {
   "cell_type": "code",
   "execution_count": 26,
   "id": "34e12cc8-1ba9-4a44-848a-14b258ddc2ec",
   "metadata": {},
   "outputs": [
    {
     "name": "stdout",
     "output_type": "stream",
     "text": [
      "in A test\n",
      "in A testA\n",
      "in B testB\n"
     ]
    }
   ],
   "source": [
    "class A:\n",
    "    def test(self):\n",
    "        print(\"in A test\")\n",
    "    def testA(self):\n",
    "        print(\"in A testA\")\n",
    "class B:\n",
    "    def test(self):\n",
    "        print(\"in B test\")\n",
    "    def testB(self):\n",
    "        print(\"in B testB\")\n",
    "class C(A, B):\n",
    "    pass\n",
    "    \n",
    "c = C()\n",
    "c.test()\n",
    "c.testA()\n",
    "c.testB()"
   ]
  },
  {
   "cell_type": "markdown",
   "id": "1dd020bf-b462-41ff-a315-f8abf239a1a8",
   "metadata": {},
   "source": [
    "问题：子类如何查找父类方法？\n",
    "- MRO(Method Resolution Order)：方法解析顺序\n",
    "\n",
    "python中查找规则：广度优先，左边优先；将超找顺序记录到mro中；\n"
   ]
  },
  {
   "cell_type": "code",
   "execution_count": 24,
   "id": "1d5f5ca1-762c-4b12-a7bd-98495272abd5",
   "metadata": {},
   "outputs": [
    {
     "data": {
      "text/plain": [
       "[__main__.C, __main__.A, __main__.B, object]"
      ]
     },
     "execution_count": 24,
     "metadata": {},
     "output_type": "execute_result"
    }
   ],
   "source": [
    "C.mro()"
   ]
  },
  {
   "cell_type": "markdown",
   "id": "4fbc9695-1251-4f33-a6c7-b6b673233120",
   "metadata": {},
   "source": [
    "分析：当执行c.test()，查找顺序：C，A，B，object;"
   ]
  },
  {
   "cell_type": "markdown",
   "id": "6f76e4aa-5c1e-4daa-b7ff-5b93509d3604",
   "metadata": {},
   "source": [
    "## 9 特殊方法\n",
    "目标：\n",
    "1. 自定义print内容\n",
    "2. 自定义类支持运算符；"
   ]
  },
  {
   "cell_type": "markdown",
   "id": "7f5b3c52-8a8b-40e2-963a-500047d0a705",
   "metadata": {},
   "source": [
    "### 9.1 _str_ 与 _repr_\n",
    "对比：使用print输出自定义类与list类对象，比较不同；\n",
    "\n",
    "问题：如何输出自定义格式？\n",
    "\n",
    "需要在类中添加下面两个方法：\n",
    "\n",
    "`__str__ `：返回字符串，内容为类的描述，主要对用户进行展示\n",
    "\n",
    "`__repr__ `:返回字符串，主要针对开发人员展示"
   ]
  },
  {
   "cell_type": "code",
   "execution_count": 31,
   "id": "60e09179-aeae-49d3-8d8e-7ebeaae4f95f",
   "metadata": {},
   "outputs": [
    {
     "data": {
      "text/plain": [
       "<__main__.Rose at 0x187b1325990>"
      ]
     },
     "execution_count": 31,
     "metadata": {},
     "output_type": "execute_result"
    }
   ],
   "source": [
    "class Rose:\n",
    "    def __init__(self, name, price):\n",
    "        self.name = name\n",
    "        self.price = price\n",
    "\n",
    "rose = Rose(\"黑玫瑰\",20)\n",
    "rose"
   ]
  },
  {
   "cell_type": "code",
   "execution_count": 32,
   "id": "3e8d0080-3117-4729-9f4a-cc3cf24eec1f",
   "metadata": {},
   "outputs": [
    {
     "name": "stdout",
     "output_type": "stream",
     "text": [
      "<__main__.Rose object at 0x00000187B1325990>\n"
     ]
    }
   ],
   "source": [
    "print(rose)"
   ]
  },
  {
   "cell_type": "code",
   "execution_count": 40,
   "id": "201b1cad-04a8-43e1-842f-cc457533ccd4",
   "metadata": {},
   "outputs": [
    {
     "name": "stdout",
     "output_type": "stream",
     "text": [
      "name:黑玫瑰 price:20.00\n"
     ]
    },
    {
     "data": {
      "text/plain": [
       "name:黑玫瑰 price:20.00 object at 0x00000187B139F090"
      ]
     },
     "execution_count": 40,
     "metadata": {},
     "output_type": "execute_result"
    }
   ],
   "source": [
    "# 需求：使用print打印，输出名称与价格；\n",
    "class Rose:\n",
    "    def __init__(self, name, price):\n",
    "        self.name = name\n",
    "        self.price = price\n",
    "    def __str__(self):\n",
    "        #自定义__str__方法\n",
    "        return \"name:%s price:%.2f\"%(self.name, self.price)\n",
    "    def __repr__(self):\n",
    "        return \"name:%s price:%.2f object at 0x%016X\"%(self.name, self.price,id(self))\n",
    "rose = Rose(\"黑玫瑰\", 20)\n",
    "print(rose)\n",
    "rose"
   ]
  },
  {
   "cell_type": "markdown",
   "id": "e32aaafe-bc35-41dd-abca-51a681784587",
   "metadata": {},
   "source": [
    "### 9.3 支持运算符\n",
    "\n",
    "算数运算符：\n",
    "\n",
    "|             方法              | 说明 |\n",
    "| :---------------------------: | :--: |\n",
    "|   `__add__（self, other）`    | 加法 |\n",
    "|   `__sub __（self, other）`   | 减法 |\n",
    "|  `__mul __（self, other） `   | 乘法 |\n",
    "| `__truediv __（self, other）` | 除法 |\n",
    "|  `__mode __（self, other）`   | 取模 |\n",
    "|   `__pow __（self, other）`   |  \n",
    "比较运算符：    |\n",
    "\n",
    "\n",
    "\n",
    "|   方法    | 说明 |\n",
    "| :-------: | :--: |\n",
    "| `__lt__ ` |  <   |\n",
    "| `__le__`  |  <=  |\n",
    "| `__gt__ ` |  \\>  |\n",
    "| `__ge__`  | \\>=  |\n",
    "| `__eq__ ` |  ==  |\n",
    "| `__ne__ ` |  !=  |\n",
    "\n"
   ]
  },
  {
   "cell_type": "code",
   "execution_count": 42,
   "id": "9acf6077-83d1-4f7e-977f-9f054543e7db",
   "metadata": {},
   "outputs": [
    {
     "name": "stdout",
     "output_type": "stream",
     "text": [
      "玫瑰总价为 35\n",
      "黑玫瑰比红玫瑰便宜 False\n"
     ]
    }
   ],
   "source": [
    "# 需求：使用print打印，输出名称与价格；\n",
    "class Rose:\n",
    "    def __init__(self, name, price):\n",
    "        self.name = name\n",
    "        self.price = price\n",
    "    def __str__(self):\n",
    "        #自定义__str__方法\n",
    "        return \"name:%s price:%.2f\"%(self.name, self.price)\n",
    "    def __repr__(self):\n",
    "        return \"name:%s price:%.2f object at 0x%016X\"%(self.name, self.price,id(self))\n",
    "    def __add__(self,other):\n",
    "        return self.price + other.price\n",
    "    def __lt__(self,other):\n",
    "        return self.price < other.price\n",
    "\n",
    "rose1 = Rose(\"黑玫瑰\", 20)\n",
    "rose2 = Rose(\"红玫瑰\",15)\n",
    "print('玫瑰总价为',rose1+rose2)\n",
    "print('黑玫瑰比红玫瑰便宜',rose1<rose2)"
   ]
  },
  {
   "cell_type": "markdown",
   "id": "2e53bcc9-b9ec-4695-a5f2-09d9dabf3224",
   "metadata": {},
   "source": [
    "## 10 类组合与练习\n",
    "类组合：A类的对象作为B类数据属性；\n",
    "\n",
    "适用场景：类之间有显著不同，一个类是另一个类的组件，推荐使用组合；\n",
    "\n",
    "例如：团队与成员，\n",
    "\n",
    "### 10.1 学生管理系统\n",
    "需求：班级管理系统，通过班级管理学生\n",
    "\n",
    "1. 班级中有多名同学；\n",
    "2. 学生信息包括：学号，姓名，身高，出生年月\n",
    "3. 班级对外提供管理接口：插入学生，根据条件删除学生，根据条件查询学生信息；\n",
    "4. 班级类提供友好的菜单进行操作；\n",
    "\n",
    "### 10.2 学生类与班级类\n",
    "```\n",
    "Team\n",
    "+添加学生\n",
    "+清空学生\n",
    "+查找学生\n",
    "+查看某个学生信息\n",
    "+查看所有学生信息\n",
    "```\n",
    "```\n",
    "Student\n",
    "+获取属性方法\n",
    "+设置属性方法\n",
    "+查看学生信息\n",
    "+其他方法\n",
    "```\n",
    "### 10.3 实现过程\n",
    "1. 定义Student类，并实现相关方法；\n",
    "2. 实现Team类，并实现相关方法；\n",
    "3. 通过Team类管理Student类；\n",
    "4. 代码调试；"
   ]
  },
  {
   "cell_type": "code",
   "execution_count": 53,
   "id": "a2b66191-00d7-483e-8a99-5cb350aeb0a4",
   "metadata": {},
   "outputs": [],
   "source": [
    "class Student:\n",
    "    def __init__(self, name, num) -> None:\n",
    "        self.__name = name\n",
    "        self.__num = num\n",
    "    \n",
    "    def dump_info(self):\n",
    "        print(f\"name:{self.__name}, num:{self.__num}\")\n",
    "    \n",
    "    def __str__(self):\n",
    "        return f\"name:{self.__name}, num:{self.__num}\"\n",
    "    \n",
    "    @property\n",
    "    def name(self):\n",
    "        return self.__name\n",
    "    \n",
    "    @name.setter\n",
    "    def name(self, name):\n",
    "        self.__name = name\n",
    "   \n",
    "    @property\n",
    "    def num(self):\n",
    "        return self.__num\n",
    "    \n",
    "    @num.setter\n",
    "    def num(self, num):\n",
    "        self.__num = num\n",
    "    \n",
    "    @staticmethod\n",
    "    def create_student():\n",
    "        name = input(\"学生名称:\")\n",
    "        num = int(input(\"学生学号:\"))\n",
    "        return Student(name, num)\n"
   ]
  },
  {
   "cell_type": "code",
   "execution_count": 56,
   "id": "50c86a4a-e6a9-4352-8458-01d63ef54adc",
   "metadata": {},
   "outputs": [
    {
     "name": "stdout",
     "output_type": "stream",
     "text": [
      "name:sun, num:1\n"
     ]
    }
   ],
   "source": [
    "s1 = Student('sun',1)\n",
    "s1.dump_info()"
   ]
  },
  {
   "cell_type": "code",
   "execution_count": 83,
   "id": "782b4db5-2ef6-4239-8df1-93d38cad4ccf",
   "metadata": {},
   "outputs": [
    {
     "name": "stdout",
     "output_type": "stream",
     "text": [
      "1\n"
     ]
    },
    {
     "data": {
      "text/plain": [
       "__main__.Student"
      ]
     },
     "execution_count": 83,
     "metadata": {},
     "output_type": "execute_result"
    }
   ],
   "source": [
    "s1.name = 'zhao'\n",
    "print(s1.num)\n",
    "type(s1)"
   ]
  },
  {
   "cell_type": "code",
   "execution_count": 92,
   "id": "84424ef9-8964-4782-9632-76a223e1f7a6",
   "metadata": {},
   "outputs": [
    {
     "ename": "SyntaxError",
     "evalue": "expected ':' (844665201.py, line 37)",
     "output_type": "error",
     "traceback": [
      "\u001b[1;36m  Cell \u001b[1;32mIn[92], line 37\u001b[1;36m\u001b[0m\n\u001b[1;33m    if(check(s))\u001b[0m\n\u001b[1;37m                ^\u001b[0m\n\u001b[1;31mSyntaxError\u001b[0m\u001b[1;31m:\u001b[0m expected ':'\n"
     ]
    }
   ],
   "source": [
    "class Team:\n",
    "    def __init__(self, team_name, team_id) -> None:\n",
    "        self.student_list = []\n",
    "        self.team_name = team_name\n",
    "        self.team_id = team_id\n",
    "    \n",
    "    def add_student(self, student):\n",
    "        print(\"add student:\", student)\n",
    "        self.student_list.append(student)\n",
    "     \n",
    "    def find_student_by_num(self, student_num):\n",
    "        for student in self.student_list:\n",
    "            if student.num == student_num:\n",
    "                print(f\"find num:{student_num}\", student)\n",
    "                return student\n",
    "    \n",
    "    def delete_student_by_num(self, student_num):\n",
    "        for index, student in enumerate(self.student_list):\n",
    "            if student.num == student_num:\n",
    "                print(f\"del num:{student_num}\", student)\n",
    "                self.student_list.pop(index)\n",
    "    \n",
    "    def dump_all(self):\n",
    "        for student in self.student_list:\n",
    "            print(student)\n",
    "    \n",
    "    def clear_all(self):\n",
    "        self.student_list.clear()\n",
    "     \n",
    "    def add_cmd(self):\n",
    "        s = Student.create_student()\n",
    "        # for stu in self.student_list:\n",
    "        #     if stu.num == s.num:\n",
    "        #         print(f\"学号'{s.num}'重复！\")\n",
    "        #         return\n",
    "        check = lambda s: any(s.num == y.num for y in self.student_list)\n",
    "        if(check(s))\n",
    "            print(f\"学号'{s.num}'重复！\")\n",
    "        else\n",
    "            self.student_list.append(s)\n",
    "     \n",
    "    def find_cmd(self):\n",
    "        num = int(input(\"输入查找学号:\"))\n",
    "        s = self.find_student_by_num(num)\n",
    "        print(s)\n",
    "     \n",
    "    def delete_cmd(self):\n",
    "        num = int(input(\"输入删除学号:\"))\n",
    "        self.delete_student_by_num(num)\n",
    "     \n",
    "    def menu_main(self):\n",
    "        help_info = '''\n",
    "        输入q/Q:退出；\n",
    "        输入a/A:创建并添加学生；\n",
    "        输入d/D:根据输入学号删除学生；\n",
    "        输入f/F:根据输入学号查找学生；\n",
    "        输入s/S:显示所有学生信息；\n",
    "        输入c/C:删除所有学生信息；\n",
    "        '''\n",
    "        cmd_map = {'a':\"add_cmd\", 'f':'find_cmd', \n",
    "                   'd':'delete_cmd', 'c':'clear_all',\n",
    "                   's':'dump_all'}\n",
    "        while True:\n",
    "            print(help_info)\n",
    "            cmd = input(\"输入命令:\")\n",
    "            cmd = cmd.lower()\n",
    "            if cmd == 'q':\n",
    "                break\n",
    "     \n",
    "            action = cmd_map.get(cmd)\n",
    "            if action:\n",
    "                func = getattr(self, action)\n",
    "                func()\n",
    "            # elif cmd == \"a\":\n",
    "            #     self.add_cmd()\n",
    "            # elif cmd == \"f\":\n",
    "            #     self.find_cmd()\n",
    "            # elif cmd == 'd':\n",
    "            #     self.delete_cmd()\n",
    "            # elif cmd == 'c':\n",
    "            #     self.clear_all()\n",
    "            # elif cmd == 's':\n",
    "            #     self.dump_all()\n"
   ]
  },
  {
   "cell_type": "code",
   "execution_count": 60,
   "id": "8ec15ca2-6719-48d5-9f3c-3ed0ceafe054",
   "metadata": {},
   "outputs": [
    {
     "name": "stdout",
     "output_type": "stream",
     "text": [
      "add student: name:zhao, num:1\n",
      "add student: name:li, num:2\n"
     ]
    }
   ],
   "source": [
    "t1 = Team('001',1)\n",
    "t1.add_student(s1)\n",
    "s2 = Student('li',2)\n",
    "t1.add_student(s2)"
   ]
  },
  {
   "cell_type": "code",
   "execution_count": 63,
   "id": "39127583-9e4f-4494-9da5-a665c28a2a0a",
   "metadata": {},
   "outputs": [
    {
     "name": "stdout",
     "output_type": "stream",
     "text": [
      "find num:2 name:li, num:2\n",
      "name:li, num:2\n"
     ]
    }
   ],
   "source": [
    "tmp=t1.find_student_by_num(2)\n",
    "print(tmp)"
   ]
  },
  {
   "cell_type": "code",
   "execution_count": 64,
   "id": "b3338613-1b5a-4ba8-9672-6605f40ecc6e",
   "metadata": {},
   "outputs": [
    {
     "name": "stdout",
     "output_type": "stream",
     "text": [
      "del num:2 name:li, num:2\n"
     ]
    }
   ],
   "source": [
    "t1.delete_student_by_num(2)"
   ]
  },
  {
   "cell_type": "code",
   "execution_count": 66,
   "id": "e7f823e2-204f-4142-9014-b2a5191e2b0c",
   "metadata": {},
   "outputs": [
    {
     "name": "stdout",
     "output_type": "stream",
     "text": [
      "name:zhao, num:1\n"
     ]
    }
   ],
   "source": [
    "t1.dump_all()"
   ]
  },
  {
   "cell_type": "code",
   "execution_count": 70,
   "id": "36e44167-7d17-4409-b4b4-25ae220fd799",
   "metadata": {},
   "outputs": [],
   "source": [
    "t1.clear_all()\n",
    "t1.dump_all()"
   ]
  },
  {
   "cell_type": "code",
   "execution_count": 93,
   "id": "843767a6-f47c-460f-826e-f512d2d3111e",
   "metadata": {},
   "outputs": [
    {
     "name": "stdout",
     "output_type": "stream",
     "text": [
      "\n",
      "        输入q/Q:退出；\n",
      "        输入a/A:创建并添加学生；\n",
      "        输入d/D:根据输入学号删除学生；\n",
      "        输入f/F:根据输入学号查找学生；\n",
      "        输入s/S:显示所有学生信息；\n",
      "        输入c/C:删除所有学生信息；\n",
      "        \n"
     ]
    },
    {
     "name": "stdout",
     "output_type": "stream",
     "text": [
      "输入命令: a\n",
      "学生名称: zyy\n",
      "学生学号: 1\n"
     ]
    },
    {
     "name": "stdout",
     "output_type": "stream",
     "text": [
      "\n",
      "        输入q/Q:退出；\n",
      "        输入a/A:创建并添加学生；\n",
      "        输入d/D:根据输入学号删除学生；\n",
      "        输入f/F:根据输入学号查找学生；\n",
      "        输入s/S:显示所有学生信息；\n",
      "        输入c/C:删除所有学生信息；\n",
      "        \n"
     ]
    },
    {
     "name": "stdout",
     "output_type": "stream",
     "text": [
      "输入命令: abc\n"
     ]
    },
    {
     "name": "stdout",
     "output_type": "stream",
     "text": [
      "\n",
      "        输入q/Q:退出；\n",
      "        输入a/A:创建并添加学生；\n",
      "        输入d/D:根据输入学号删除学生；\n",
      "        输入f/F:根据输入学号查找学生；\n",
      "        输入s/S:显示所有学生信息；\n",
      "        输入c/C:删除所有学生信息；\n",
      "        \n"
     ]
    },
    {
     "name": "stdout",
     "output_type": "stream",
     "text": [
      "输入命令: a\n",
      "学生名称: abc\n",
      "学生学号: 1\n"
     ]
    },
    {
     "name": "stdout",
     "output_type": "stream",
     "text": [
      "学号'1'重复！\n",
      "\n",
      "        输入q/Q:退出；\n",
      "        输入a/A:创建并添加学生；\n",
      "        输入d/D:根据输入学号删除学生；\n",
      "        输入f/F:根据输入学号查找学生；\n",
      "        输入s/S:显示所有学生信息；\n",
      "        输入c/C:删除所有学生信息；\n",
      "        \n"
     ]
    },
    {
     "name": "stdout",
     "output_type": "stream",
     "text": [
      "输入命令: s\n"
     ]
    },
    {
     "name": "stdout",
     "output_type": "stream",
     "text": [
      "name:zyy, num:1\n",
      "\n",
      "        输入q/Q:退出；\n",
      "        输入a/A:创建并添加学生；\n",
      "        输入d/D:根据输入学号删除学生；\n",
      "        输入f/F:根据输入学号查找学生；\n",
      "        输入s/S:显示所有学生信息；\n",
      "        输入c/C:删除所有学生信息；\n",
      "        \n"
     ]
    },
    {
     "name": "stdout",
     "output_type": "stream",
     "text": [
      "输入命令: q\n"
     ]
    }
   ],
   "source": [
    "t1 = Team('001',1)\n",
    "t1.menu_main()"
   ]
  }
 ],
 "metadata": {
  "kernelspec": {
   "display_name": "Python 3",
   "language": "python",
   "name": "python3"
  },
  "language_info": {
   "codemirror_mode": {
    "name": "ipython",
    "version": 3
   },
   "file_extension": ".py",
   "mimetype": "text/x-python",
   "name": "python",
   "nbconvert_exporter": "python",
   "pygments_lexer": "ipython3",
   "version": "3.11.5"
  }
 },
 "nbformat": 4,
 "nbformat_minor": 5
}
