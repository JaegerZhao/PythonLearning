{
 "cells": [
  {
   "cell_type": "markdown",
   "id": "31ed440e-85c5-4173-b0b7-1d05890e0445",
   "metadata": {},
   "source": [
    "# 常用模块\n",
    "## 1 模块导入\n",
    "模块：每个python文件都是一个独立的模块\n",
    "\n",
    "模块作用：实际工作中，整个项目代码比较多，可以将相同功能代码放到一个文件中，不同功能代码放到不同文件中，使代码易于维护；\n",
    "\n",
    "模块：引入命名空间与作用域\n",
    "\n",
    "### 1.1 导入方式\n",
    "```\n",
    "#导入整个模块\n",
    "import 模块\n",
    "\n",
    "#导如指定的属性\n",
    "from 模块 import xxx\n",
    "\n",
    "#导入多个属性\n",
    "from 模块 import xxx, xxx\n",
    "\n",
    "#导入后起别名\n",
    "import 模块 as 别名\n",
    "\n",
    "from 模块 import xxx as 别名1，xxx as 别名2\n",
    "```"
   ]
  },
  {
   "cell_type": "code",
   "execution_count": 1,
   "id": "ec024490-f14c-4e9c-834a-3bd2be6a6fb6",
   "metadata": {},
   "outputs": [],
   "source": [
    "import os\n",
    "from functools import reduce\n",
    "import time as tm\n",
    "from random import randint, randrange\n",
    "from os.path import join as os_join\n"
   ]
  },
  {
   "cell_type": "markdown",
   "id": "186e2dbc-78bd-4925-93e6-b1bf8d76c828",
   "metadata": {},
   "source": [
    "### 1.2 导入过程\n",
    "模块导入要点：\n",
    "1. 模块导入中会被加载，加载过程中会被执行；\n",
    "2. 模块可以被导入多次，但是只会加载1次；\n",
    "\n",
    "实例：\n",
    "准备工作：在vscode一个文件中，创建两个文件：my_add.py, main_test.py，在mian_test.py中导入my_add，观察现象？\n",
    "\n",
    "结果：my_add.py运行一次。\n",
    "\n",
    "问题：实际工作中，每当编写一个模块，一般会有测试代码，如何使测试代码在导入中不执行？"
   ]
  },
  {
   "cell_type": "code",
   "execution_count": 2,
   "id": "cd77ca1d-8960-423f-ba7d-7e1fe0f3c215",
   "metadata": {},
   "outputs": [
    {
     "name": "stdout",
     "output_type": "stream",
     "text": [
      "test func_add(1,2)=3\n"
     ]
    },
    {
     "data": {
      "text/plain": [
       "3"
      ]
     },
     "execution_count": 2,
     "metadata": {},
     "output_type": "execute_result"
    }
   ],
   "source": [
    "# my_add.py\n",
    "def func_add(x,y):\n",
    "    return x+y\n",
    "\n",
    "print(\"test func_add(1,2)=%d\"%func_add(1,2))\n",
    "func_add(1,2)"
   ]
  },
  {
   "cell_type": "code",
   "execution_count": 3,
   "id": "2023aff0-bbe5-4ab4-8695-a458c4e86d57",
   "metadata": {},
   "outputs": [
    {
     "ename": "ModuleNotFoundError",
     "evalue": "No module named 'my_add'",
     "output_type": "error",
     "traceback": [
      "\u001b[1;31m---------------------------------------------------------------------------\u001b[0m",
      "\u001b[1;31mModuleNotFoundError\u001b[0m                       Traceback (most recent call last)",
      "Cell \u001b[1;32mIn[3], line 2\u001b[0m\n\u001b[0;32m      1\u001b[0m \u001b[38;5;66;03m# main_test.py\u001b[39;00m\n\u001b[1;32m----> 2\u001b[0m \u001b[38;5;28;01mimport\u001b[39;00m \u001b[38;5;21;01mmy_add\u001b[39;00m\n",
      "\u001b[1;31mModuleNotFoundError\u001b[0m: No module named 'my_add'"
     ]
    }
   ],
   "source": [
    "# main_test.py\n",
    "import my_add"
   ]
  },
  {
   "cell_type": "markdown",
   "id": "ad99736f-1305-4310-a838-4618a1ab3d6b",
   "metadata": {},
   "source": [
    "### 1.3 导入搜索路径\n",
    "查找过程：\n",
    "1. 在当前目录下搜索该模块\n",
    "2. 在环境变量 PYTHONPATH 中指定的路径列表中依次搜索\n",
    "3. 在 Python 安装路径的 lib 库中搜索\n",
    "\n",
    "具体可以查看sys.path的值："
   ]
  },
  {
   "cell_type": "code",
   "execution_count": 4,
   "id": "fda72e14-1807-4faf-ba53-66ceb9d2b24a",
   "metadata": {},
   "outputs": [
    {
     "data": {
      "text/plain": [
       "['d:\\\\study\\\\code\\\\jupyter\\\\PythonLearning',\n",
       " 'D:\\\\software\\\\py3.11\\\\python311.zip',\n",
       " 'D:\\\\software\\\\py3.11\\\\DLLs',\n",
       " 'D:\\\\software\\\\py3.11\\\\Lib',\n",
       " 'D:\\\\software\\\\py3.11',\n",
       " '',\n",
       " 'C:\\\\Users\\\\26822\\\\AppData\\\\Roaming\\\\Python\\\\Python311\\\\site-packages',\n",
       " 'D:\\\\software\\\\py3.11\\\\Lib\\\\site-packages',\n",
       " 'D:\\\\software\\\\py3.11\\\\Lib\\\\site-packages\\\\win32',\n",
       " 'D:\\\\software\\\\py3.11\\\\Lib\\\\site-packages\\\\win32\\\\lib',\n",
       " 'D:\\\\software\\\\py3.11\\\\Lib\\\\site-packages\\\\Pythonwin']"
      ]
     },
     "execution_count": 4,
     "metadata": {},
     "output_type": "execute_result"
    }
   ],
   "source": [
    "import sys\n",
    "sys.path"
   ]
  },
  {
   "cell_type": "markdown",
   "id": "0b1efc2f-afbe-4a77-ba25-4d6d8b2bc4bb",
   "metadata": {},
   "source": [
    "### 1.4 __name__变量\n",
    "`__name__` 说明：\n",
    "1. 文件被执行：`__name__`值为`__main__`\n",
    "2. 文件被导入：`__name__`值为模块名\n",
    "\n",
    "需求：当文件被执行时，执行测试代码，当文件作为模块被导入，不执行测试代码："
   ]
  },
  {
   "cell_type": "code",
   "execution_count": null,
   "id": "76bca28e-181e-433b-aa0d-32ee8c560ac6",
   "metadata": {},
   "outputs": [],
   "source": [
    "def func_add(x, y):\n",
    "    return x + y\n",
    "\n",
    "#通过__name__的值，判断是否导入\n",
    "if __name__ == \"__main__\":\n",
    "    print(\"test func_add(1, 2)=%d\"%func_add(1,2))\n",
    "    func_add(1, 2)\n"
   ]
  },
  {
   "cell_type": "markdown",
   "id": "08296ce3-03fa-4cd1-922f-66d0bc83eaf6",
   "metadata": {},
   "source": [
    "## 2 包\n",
    "主要内容：\n",
    "1. 包的概念\n",
    "2. 相对导入与绝对导入\n",
    "\n",
    "### 2.1 包的概念\n",
    "包：是一个包含__init__.py文件的文件夹，\n",
    "\n",
    "作用：更好的管理源码；\n",
    "### 2.2 相对导入与绝对导入\n",
    "绝对导入:\n",
    "```\n",
    "import 模块\n",
    "from 模块 import 属性\n",
    "```\n",
    "\n",
    "相对导入：在包内部进行导入，基本语法：\n",
    "```\n",
    "from .模块 import xxx\n",
    "from ..模块 import xxx\n",
    "import .模块\n",
    "#注意：\n",
    "#.代表当前目录\n",
    "#..代表上一级目录\n",
    "#...代表上上级目录，依次类推\n",
    "\n",
    "```\n",
    "注意点：\n",
    "\r",
    "- 绝对导入：一个模块只能导入自身的子模块或和它的顶层模块同级别的模块及其子模块；\n",
    "\n",
    "- \n",
    "相对导入：一个模块必须有包结构且只能导入它的顶层模块内部的模块"
   ]
  },
  {
   "cell_type": "markdown",
   "id": "110f7a04-aeb7-4777-a7b1-270dfb075eb5",
   "metadata": {},
   "source": [
    "## 3 错误和异常\n",
    "错误：\n",
    "1. 语法错误，Python解释器会进行提示；\n",
    "2. 逻辑错误，程序运行结果与预期不一致，需要自己排查；\n",
    "\n"
   ]
  },
  {
   "cell_type": "code",
   "execution_count": 11,
   "id": "99e14bf2-611e-4cb8-93e7-d765dd9fd63f",
   "metadata": {},
   "outputs": [
    {
     "ename": "SyntaxError",
     "evalue": "invalid decimal literal (1322268026.py, line 2)",
     "output_type": "error",
     "traceback": [
      "\u001b[1;36m  Cell \u001b[1;32mIn[11], line 2\u001b[1;36m\u001b[0m\n\u001b[1;33m    1a =10\u001b[0m\n\u001b[1;37m    ^\u001b[0m\n\u001b[1;31mSyntaxError\u001b[0m\u001b[1;31m:\u001b[0m invalid decimal literal\n"
     ]
    }
   ],
   "source": [
    "# 语法错误\n",
    "1a =10"
   ]
  },
  {
   "cell_type": "code",
   "execution_count": 12,
   "id": "76a13279-6778-4210-bbfa-dda060c3d915",
   "metadata": {},
   "outputs": [
    {
     "ename": "IndentationError",
     "evalue": "unexpected indent (622532183.py, line 3)",
     "output_type": "error",
     "traceback": [
      "\u001b[1;36m  Cell \u001b[1;32mIn[12], line 3\u001b[1;36m\u001b[0m\n\u001b[1;33m    b = 10\u001b[0m\n\u001b[1;37m    ^\u001b[0m\n\u001b[1;31mIndentationError\u001b[0m\u001b[1;31m:\u001b[0m unexpected indent\n"
     ]
    }
   ],
   "source": [
    "# 语法错误\n",
    "a = 10\n",
    " b = 10"
   ]
  },
  {
   "cell_type": "markdown",
   "id": "48287a1f-9f20-435d-b6d8-b287a86ae7e0",
   "metadata": {},
   "source": [
    "异常：\n",
    "1. 程序运行出错，Python解释器进行提示，定位代码位置进行修改；\n",
    "2. 运行环境问题，例如：内存不足，网络错误等\n",
    "\n",
    "### 3.1 异常处理\n",
    "#### 3.1.1 try...except\n",
    "作用：捕获指定的异常；\n",
    "\n",
    "基本语法：\n",
    "```\n",
    "try:\n",
    "    try_suite\n",
    "except Exception as e:\n",
    "    except_suite\n",
    "```\n",
    "\n",
    "Exception：指定捕获的异常类型，如果设置捕获异常与触发异常不一致，不能捕获；\n",
    "\n",
    "捕获多种异常：\n",
    "```\n",
    "try:\n",
    "    try_suite\n",
    "except Exception1 as e:\n",
    "    except_suite1\n",
    "except Exception2 as e:\n",
    "    except_suite2\n",
    "```"
   ]
  },
  {
   "cell_type": "code",
   "execution_count": 15,
   "id": "38bc34fb-8a4d-4cd4-85e9-5f39f77086c1",
   "metadata": {},
   "outputs": [
    {
     "name": "stdout",
     "output_type": "stream",
     "text": [
      "error name 'abc' is not defined\n",
      "abc\n"
     ]
    }
   ],
   "source": [
    "try:\n",
    "    print(abc)\n",
    "except Exception as e:\n",
    "    print('error',e)\n",
    "print(\"abc\")"
   ]
  },
  {
   "cell_type": "code",
   "execution_count": 18,
   "id": "151621d7-0b77-49a7-9546-91979e367f17",
   "metadata": {},
   "outputs": [
    {
     "ename": "NameError",
     "evalue": "name 'abc' is not defined",
     "output_type": "error",
     "traceback": [
      "\u001b[1;31m---------------------------------------------------------------------------\u001b[0m",
      "\u001b[1;31mNameError\u001b[0m                                 Traceback (most recent call last)",
      "Cell \u001b[1;32mIn[18], line 2\u001b[0m\n\u001b[0;32m      1\u001b[0m \u001b[38;5;28;01mtry\u001b[39;00m:\n\u001b[1;32m----> 2\u001b[0m     \u001b[38;5;28mprint\u001b[39m(\u001b[43mabc\u001b[49m)\n\u001b[0;32m      3\u001b[0m \u001b[38;5;28;01mexcept\u001b[39;00m \u001b[38;5;167;01mValueError\u001b[39;00m \u001b[38;5;28;01mas\u001b[39;00m e:\n\u001b[0;32m      4\u001b[0m     \u001b[38;5;28mprint\u001b[39m(\u001b[38;5;124m'\u001b[39m\u001b[38;5;124mValueError:\u001b[39m\u001b[38;5;124m'\u001b[39m,e)\n",
      "\u001b[1;31mNameError\u001b[0m: name 'abc' is not defined"
     ]
    }
   ],
   "source": [
    "try:\n",
    "    print(abc)\n",
    "except ValueError as e:\n",
    "    print('ValueError:',e)\n",
    "print(\"abc\")"
   ]
  },
  {
   "cell_type": "code",
   "execution_count": 16,
   "id": "9cf301e7-be3f-4f21-ab49-af3758261ba4",
   "metadata": {},
   "outputs": [
    {
     "name": "stdout",
     "output_type": "stream",
     "text": [
      "NameError: name 'abc' is not defined\n",
      "abc\n"
     ]
    }
   ],
   "source": [
    "try:\n",
    "    print(abc)\n",
    "except ValueError as e:\n",
    "    print('ValueError:',e)\n",
    "except NameError as e:\n",
    "    print('NameError:',e)\n",
    "print(\"abc\")"
   ]
  },
  {
   "cell_type": "code",
   "execution_count": 17,
   "id": "6e7f869d-e8e0-4bd1-bfc7-9c4c5fac3364",
   "metadata": {},
   "outputs": [
    {
     "name": "stdout",
     "output_type": "stream",
     "text": [
      "ValueError: invalid literal for int() with base 10: 'abc'\n",
      "abc\n"
     ]
    }
   ],
   "source": [
    "try:\n",
    "    int(\"abc\")\n",
    "    print(abc)\n",
    "except ValueError as e:\n",
    "    print('ValueError:',e)\n",
    "except NameError as e:\n",
    "    print('NameError:',e)\n",
    "print(\"abc\")"
   ]
  },
  {
   "cell_type": "markdown",
   "id": "a1bbc7c9-1b01-4a3b-94c8-f3d5a9ab9001",
   "metadata": {},
   "source": [
    "#### 3.1.2 try...finally\n",
    "作用：不管是否捕获异常，程序都会执行finally中的语句；\n",
    "\n",
    "使用场景：释放资源等；\n",
    "\n",
    "基本语法：\n",
    "```\n",
    "try:\n",
    "    try_suite\n",
    "except Exception as e:\n",
    "    except_suite\n",
    "finally:\n",
    "    pass\n",
    "```"
   ]
  },
  {
   "cell_type": "code",
   "execution_count": 21,
   "id": "4ef09e97-af78-463f-9a6e-3de2d145b6fe",
   "metadata": {
    "scrolled": true
   },
   "outputs": [
    {
     "name": "stdout",
     "output_type": "stream",
     "text": [
      "test\n",
      "go to finally\n"
     ]
    },
    {
     "ename": "IndexError",
     "evalue": "list index out of range",
     "output_type": "error",
     "traceback": [
      "\u001b[1;31m---------------------------------------------------------------------------\u001b[0m",
      "\u001b[1;31mIndexError\u001b[0m                                Traceback (most recent call last)",
      "Cell \u001b[1;32mIn[21], line 4\u001b[0m\n\u001b[0;32m      2\u001b[0m     \u001b[38;5;28mprint\u001b[39m(\u001b[38;5;124m'\u001b[39m\u001b[38;5;124mtest\u001b[39m\u001b[38;5;124m'\u001b[39m)\n\u001b[0;32m      3\u001b[0m     l \u001b[38;5;241m=\u001b[39m []\n\u001b[1;32m----> 4\u001b[0m     \u001b[38;5;28mprint\u001b[39m(\u001b[43ml\u001b[49m\u001b[43m[\u001b[49m\u001b[38;5;241;43m10\u001b[39;49m\u001b[43m]\u001b[49m)\n\u001b[0;32m      5\u001b[0m \u001b[38;5;28;01mexcept\u001b[39;00m \u001b[38;5;167;01mValueError\u001b[39;00m \u001b[38;5;28;01mas\u001b[39;00m e:\n\u001b[0;32m      6\u001b[0m     \u001b[38;5;28mprint\u001b[39m(\u001b[38;5;124m'\u001b[39m\u001b[38;5;124mValueError:\u001b[39m\u001b[38;5;124m'\u001b[39m,e)\n",
      "\u001b[1;31mIndexError\u001b[0m: list index out of range"
     ]
    }
   ],
   "source": [
    "try:\n",
    "    print('test')\n",
    "    l = []\n",
    "    print(l[10])\n",
    "except ValueError as e:\n",
    "    print('ValueError:',e)\n",
    "except NameError as e:\n",
    "    print('NameError:',e)\n",
    "finally:\n",
    "    print(\"go to finally\")"
   ]
  },
  {
   "cell_type": "markdown",
   "id": "549651f9-072a-4bf6-bdea-f71d1f666dcd",
   "metadata": {},
   "source": [
    "1. 如果程序触发异常，同时，except捕获异常，这时，先执行except中的代码，再去执行finally\n",
    "2. 如果程序触发异常，同时except没有捕获异常，这是先执行tinal1y语句，然后将异常抛给python解释器"
   ]
  },
  {
   "cell_type": "code",
   "execution_count": 22,
   "id": "4d311750-c45f-49ea-a0b0-7826f6dea6a8",
   "metadata": {},
   "outputs": [
    {
     "name": "stdin",
     "output_type": "stream",
     "text": [
      "输入： abc\n"
     ]
    },
    {
     "name": "stdout",
     "output_type": "stream",
     "text": [
      "erro: invalid literal for int() with base 10: 'abc'\n"
     ]
    },
    {
     "name": "stdin",
     "output_type": "stream",
     "text": [
      "输入： 10\n"
     ]
    },
    {
     "name": "stdout",
     "output_type": "stream",
     "text": [
      "10\n"
     ]
    },
    {
     "name": "stdin",
     "output_type": "stream",
     "text": [
      "输入： q\n"
     ]
    }
   ],
   "source": [
    "while True:\n",
    "    msg = input('输入：')\n",
    "    if msg == 'q':\n",
    "        break\n",
    "    try:\n",
    "        num = int(msg)\n",
    "        print(num)\n",
    "    except Exception as e:\n",
    "        print('erro:',e)"
   ]
  },
  {
   "cell_type": "markdown",
   "id": "92766786-4cb2-44c2-acd1-114e071feee9",
   "metadata": {},
   "source": [
    "### 3.2 raise与assert语句\n",
    "raise与assert语句，用于主动产生异常；\n",
    "\n",
    "例如：\n",
    "1. 参数检查；\n",
    "2. 程序执行中逻辑错误，主动抛出异常；\n",
    "#### 3.2.1 raise语句\n",
    "raise语句：检查程序异常，主动抛出异常；\n",
    "\n",
    "基本语法：\n",
    "```\n",
    "raise Exception(args)\n",
    "raise NameError(‘value not define’)\n",
    "```"
   ]
  },
  {
   "cell_type": "code",
   "execution_count": 29,
   "id": "0b2af3f0-f2c9-4cc4-a3c5-b084e5742163",
   "metadata": {},
   "outputs": [
    {
     "ename": "ValueError",
     "evalue": "name error",
     "output_type": "error",
     "traceback": [
      "\u001b[1;31m---------------------------------------------------------------------------\u001b[0m",
      "\u001b[1;31mValueError\u001b[0m                                Traceback (most recent call last)",
      "Cell \u001b[1;32mIn[29], line 1\u001b[0m\n\u001b[1;32m----> 1\u001b[0m \u001b[38;5;28;01mraise\u001b[39;00m \u001b[38;5;167;01mValueError\u001b[39;00m(\u001b[38;5;124m'\u001b[39m\u001b[38;5;124mname error\u001b[39m\u001b[38;5;124m'\u001b[39m)\n",
      "\u001b[1;31mValueError\u001b[0m: name error"
     ]
    }
   ],
   "source": [
    "raise ValueError('name error')"
   ]
  },
  {
   "cell_type": "markdown",
   "id": "e6cf4dc0-5645-4192-8b3e-43ce6cd47e3c",
   "metadata": {},
   "source": [
    "#### 3.2.2 assert语句\n",
    "assert语句：判断表达式结果是否为真，如果不为真，抛出AssertError异常；\n",
    "\n",
    "基本语法：\n",
    "```\n",
    "assert expression [,args]\n",
    "```"
   ]
  },
  {
   "cell_type": "code",
   "execution_count": 26,
   "id": "b7c7ae35-7535-4400-94c8-e235a3d3f7d8",
   "metadata": {},
   "outputs": [
    {
     "data": {
      "text/plain": [
       "3"
      ]
     },
     "execution_count": 26,
     "metadata": {},
     "output_type": "execute_result"
    }
   ],
   "source": [
    "def my_add(x,y):\n",
    "    assert isinstance(x, int),\"x must be int\"\n",
    "    assert isinstance(y, int),\"y must be int\"\n",
    "    return x + y\n",
    "\n",
    "my_add(1,2)"
   ]
  },
  {
   "cell_type": "code",
   "execution_count": 27,
   "id": "b494c3fc-e14e-471e-8e37-4b6f4a70715d",
   "metadata": {},
   "outputs": [
    {
     "ename": "AssertionError",
     "evalue": "y must be int",
     "output_type": "error",
     "traceback": [
      "\u001b[1;31m---------------------------------------------------------------------------\u001b[0m",
      "\u001b[1;31mAssertionError\u001b[0m                            Traceback (most recent call last)",
      "Cell \u001b[1;32mIn[27], line 1\u001b[0m\n\u001b[1;32m----> 1\u001b[0m \u001b[43mmy_add\u001b[49m\u001b[43m(\u001b[49m\u001b[38;5;241;43m1\u001b[39;49m\u001b[43m,\u001b[49m\u001b[43m \u001b[49m\u001b[38;5;124;43m\"\u001b[39;49m\u001b[38;5;124;43m2\u001b[39;49m\u001b[38;5;124;43m\"\u001b[39;49m\u001b[43m)\u001b[49m\n",
      "Cell \u001b[1;32mIn[26], line 3\u001b[0m, in \u001b[0;36mmy_add\u001b[1;34m(x, y)\u001b[0m\n\u001b[0;32m      1\u001b[0m \u001b[38;5;28;01mdef\u001b[39;00m \u001b[38;5;21mmy_add\u001b[39m(x,y):\n\u001b[0;32m      2\u001b[0m     \u001b[38;5;28;01massert\u001b[39;00m \u001b[38;5;28misinstance\u001b[39m(x, \u001b[38;5;28mint\u001b[39m),\u001b[38;5;124m\"\u001b[39m\u001b[38;5;124mx must be int\u001b[39m\u001b[38;5;124m\"\u001b[39m\n\u001b[1;32m----> 3\u001b[0m     \u001b[38;5;28;01massert\u001b[39;00m \u001b[38;5;28misinstance\u001b[39m(y, \u001b[38;5;28mint\u001b[39m),\u001b[38;5;124m\"\u001b[39m\u001b[38;5;124my must be int\u001b[39m\u001b[38;5;124m\"\u001b[39m\n\u001b[0;32m      4\u001b[0m     \u001b[38;5;28;01mreturn\u001b[39;00m x \u001b[38;5;241m+\u001b[39m y\n",
      "\u001b[1;31mAssertionError\u001b[0m: y must be int"
     ]
    }
   ],
   "source": [
    "my_add(1, \"2\")"
   ]
  },
  {
   "cell_type": "markdown",
   "id": "ffd8b0a1-09ba-4aa5-9273-0c3b449b4c71",
   "metadata": {},
   "source": [
    "### 3.3 自定义异常类\n",
    "自定义异常类注意点：\n",
    "1. 必须继承Exception类\n",
    "2. 通过raise语句主动触发\n"
   ]
  },
  {
   "cell_type": "code",
   "execution_count": 32,
   "id": "f09c8f2d-43cb-419a-8694-c9ffaabd1835",
   "metadata": {},
   "outputs": [],
   "source": [
    "class Net404Error(Exception):\n",
    "    def __init__(self):\n",
    "        args = (\"访问连接不存在\", \"404\")\n",
    "        super().__init__(*args)\n",
    "\n",
    "net_error_404 = Net404Error()"
   ]
  },
  {
   "cell_type": "code",
   "execution_count": 33,
   "id": "1d904615-62a7-4310-b685-7bfb078cc9fa",
   "metadata": {},
   "outputs": [
    {
     "ename": "Net404Error",
     "evalue": "('访问连接不存在', '404')",
     "output_type": "error",
     "traceback": [
      "\u001b[1;31m---------------------------------------------------------------------------\u001b[0m",
      "\u001b[1;31mNet404Error\u001b[0m                               Traceback (most recent call last)",
      "Cell \u001b[1;32mIn[33], line 1\u001b[0m\n\u001b[1;32m----> 1\u001b[0m \u001b[38;5;28;01mraise\u001b[39;00m net_error_404\n",
      "\u001b[1;31mNet404Error\u001b[0m: ('访问连接不存在', '404')"
     ]
    }
   ],
   "source": [
    "raise net_error_404"
   ]
  },
  {
   "cell_type": "markdown",
   "id": "da1edfd9-8f74-4c18-bf62-03bbe08d205f",
   "metadata": {},
   "source": [
    "### 3.4 with/as 语句\n",
    "with/as：操作上下文管理器（context manager），达到自动分配且释放资源目标；\n",
    "\n",
    "#### 3.4.1 with/as应用\n",
    "基本语法：\n",
    "```\n",
    "with context as var:\n",
    "    with_suite\n",
    "```\n",
    "注意点：context对象必须支持上下文协议\n",
    "\n",
    "使用场景：打开文件，忘记关闭；\n",
    "\n",
    "文件操作："
   ]
  },
  {
   "cell_type": "code",
   "execution_count": 35,
   "id": "68733760-a162-4072-8f64-6ff6802f82f2",
   "metadata": {},
   "outputs": [
    {
     "name": "stdout",
     "output_type": "stream",
     "text": [
      "f closed: True\n"
     ]
    }
   ],
   "source": [
    "fpath = r'D:\\study\\code\\jupyter\\DATA\\csv_learn\\2017_data.csv'\n",
    "with open(fpath) as f:\n",
    "    pass\n",
    "print(\"f closed:\", f.closed)"
   ]
  },
  {
   "cell_type": "markdown",
   "id": "f5db6b3a-3d28-4245-babf-235c9ffad511",
   "metadata": {},
   "source": [
    "#### 3.4.2 上下文管理\n",
    "上下文管理理解：\n",
    "\n",
    "- 支持`__enter__()`和`__exit__()`方法\n",
    "\n",
    "- `__enter__()`：进入上下文,设置as var,var接收该方法返回值\n",
    "\n",
    "- `__exit__()`：退出上下文"
   ]
  },
  {
   "cell_type": "code",
   "execution_count": 36,
   "id": "2d3df99f-4c46-445b-a895-2e4b3f8c7d60",
   "metadata": {},
   "outputs": [
    {
     "name": "stdout",
     "output_type": "stream",
     "text": [
      "call __enter__\n",
      "<__main__.TestContext object at 0x00000188DDEB31D0>\n",
      "call __exit__\n"
     ]
    }
   ],
   "source": [
    "class TestContext:\n",
    "    def __enter__(self):\n",
    "        print(\"call __enter__\")\n",
    "        return self\n",
    "    def __exit__(self, exc_type, exc_val, exc_tb):\n",
    "        print(\"call __exit__\")\n",
    "with TestContext() as tc:\n",
    "    print(tc)"
   ]
  },
  {
   "cell_type": "code",
   "execution_count": 37,
   "id": "ba66d657-f84b-47a3-a0eb-154a15f7a069",
   "metadata": {},
   "outputs": [
    {
     "data": {
      "text/plain": [
       "<__main__.TestContext at 0x188ddeb31d0>"
      ]
     },
     "execution_count": 37,
     "metadata": {},
     "output_type": "execute_result"
    }
   ],
   "source": [
    "tc"
   ]
  },
  {
   "cell_type": "markdown",
   "id": "7585854f-4e94-46c7-a742-80be5b3836ed",
   "metadata": {},
   "source": [
    "## 4 正则表达式\n",
    "### 4.1 主要内容\n",
    "1. re模块及相关方法\n",
    "    - 查找\n",
    "    - 切分\n",
    "    - 替换\n",
    "2. 正则表达式语法\n",
    "   - 文本匹配\n",
    "   - 次数匹配\n",
    "   - 边界匹配\n",
    "   - 分组\n",
    "   - 特殊匹配\n",
    "\n",
    "学习目标：掌握一种对文本处理的一种方式\n",
    "\n",
    "### 4.2 re模块\n",
    "正则表达式（Regular Expression）：是用于描述一组字符串特征的模式，用来匹配特定的字符串。\n",
    "\n",
    "应用场景：\n",
    "1. 验证，例如：对字符串按照设置规则进行检验，比如：用户名，密码格式；\n",
    "2. 查找，例如：在文本中查找指定规则字符串；\n",
    "3. 替换，例如：将指定的文本替换为新文本；\n",
    "4. 切分，例如：按照指定的分隔符对文本进行切分；"
   ]
  },
  {
   "cell_type": "markdown",
   "id": "4e1a9a40-082b-4cdf-85d3-0521afded2b6",
   "metadata": {},
   "source": [
    "#### 4.2.1 re详解"
   ]
  },
  {
   "cell_type": "code",
   "execution_count": 44,
   "id": "d3548cf2-fd74-4f4d-804b-91e95d1a93b8",
   "metadata": {},
   "outputs": [
    {
     "name": "stdout",
     "output_type": "stream",
     "text": [
      "<re.Match object; span=(0, 1), match='0'>\n"
     ]
    }
   ],
   "source": [
    "#需求：匹配以数字开头的字符串,以match方法进行匹配\n",
    "import re\n",
    "s1 = '001_sun'\n",
    "s2 = 'qimiao'\n",
    "#\\d表示匹配任意数字\n",
    "ma = re.match(r'\\d',s1)\n",
    "print(ma)"
   ]
  },
  {
   "cell_type": "code",
   "execution_count": 42,
   "id": "473ea5ca-2090-44d0-9f16-3dc6f0db3891",
   "metadata": {},
   "outputs": [
    {
     "name": "stdout",
     "output_type": "stream",
     "text": [
      "None\n"
     ]
    }
   ],
   "source": [
    "ma = re.match(r'\\d',s2)\n",
    "print(ma)"
   ]
  },
  {
   "cell_type": "code",
   "execution_count": 52,
   "id": "ca21b4e4-9322-4adc-9f30-89b462be050e",
   "metadata": {},
   "outputs": [
    {
     "name": "stdout",
     "output_type": "stream",
     "text": [
      "<re.Match object; span=(0, 3), match='123'>\n"
     ]
    }
   ],
   "source": [
    "import re\n",
    "\n",
    "pattern = r'\\d+'\n",
    "string = '123abc456' \n",
    "\n",
    "'''\n",
    "re.match(pattern, string):\n",
    "尝试从字符串开头匹配正则表达式,如果匹配成功,返回一个匹配对象;如果匹配失败,返回None。\n",
    "'''\n",
    "match = re.match(pattern, string)\n",
    "print(match) # 打印出匹配对象"
   ]
  },
  {
   "cell_type": "code",
   "execution_count": 54,
   "id": "01f83c00-1be2-489e-a39f-ec5314b760dc",
   "metadata": {},
   "outputs": [
    {
     "name": "stdout",
     "output_type": "stream",
     "text": [
      "<re.Match object; span=(0, 3), match='123'>\n"
     ]
    }
   ],
   "source": [
    "'''\n",
    "re.search(pattern, string)\n",
    "扫描整个字符串,找到第一个成功的匹配然后返回匹配对象。\n",
    "'''\n",
    "search = re.search(pattern, string)\n",
    "print(search)"
   ]
  },
  {
   "cell_type": "code",
   "execution_count": 55,
   "id": "230b25a7-f2aa-4a0f-baec-8105c62bedc1",
   "metadata": {},
   "outputs": [
    {
     "name": "stdout",
     "output_type": "stream",
     "text": [
      "['123', '456']\n"
     ]
    }
   ],
   "source": [
    "'''\n",
    "re.findall(pattern, string)\n",
    "找到字符串中所有匹配正则表达式的子串,返回结果列表。\n",
    "'''\n",
    "results = re.findall(pattern, string)\n",
    "print(results)"
   ]
  },
  {
   "cell_type": "code",
   "execution_count": 56,
   "id": "a06a52f6-4183-4633-828f-b83900f93a3f",
   "metadata": {},
   "outputs": [
    {
     "name": "stdout",
     "output_type": "stream",
     "text": [
      "['', 'abc', '']\n"
     ]
    }
   ],
   "source": [
    "'''\n",
    "re.split(pattern, string)\n",
    "根据匹配进行分割字符串,返回分割后子串列表。\n",
    "'''\n",
    "results = re.split(pattern, string)\n",
    "print(results)"
   ]
  },
  {
   "cell_type": "code",
   "execution_count": 58,
   "id": "5ec4895f-fced-4393-91a2-20e211a5600d",
   "metadata": {},
   "outputs": [
    {
     "name": "stdout",
     "output_type": "stream",
     "text": [
      "*NUMBER*abc*NUMBER*\n"
     ]
    }
   ],
   "source": [
    "'''\n",
    "re.sub(pattern, repl, string)\n",
    "使用repl替换字符串中匹配正则表达式的部分,返回替换后的字符串。\n",
    "'''\n",
    "new_string = re.sub(pattern, '*NUMBER*', string)\n",
    "print(new_string)"
   ]
  },
  {
   "cell_type": "markdown",
   "id": "9ab72eb7-31b2-4334-a816-4aff900d46a7",
   "metadata": {},
   "source": [
    "#### 4.2.2 Match "
   ]
  },
  {
   "cell_type": "code",
   "execution_count": 64,
   "id": "e8a6f4e2-878a-469f-b699-64fbea67e57b",
   "metadata": {},
   "outputs": [
    {
     "name": "stdout",
     "output_type": "stream",
     "text": [
      "ma: <re.Match object; span=(0, 1), match='0'>\n",
      "ma.group: 0\n",
      "ma.span: (0, 1)\n",
      "ma.start:0, ma.end:1\n"
     ]
    }
   ],
   "source": [
    "import re\n",
    "s1 = \"001_sun\"\n",
    "#\\d表示匹配任意数字\n",
    "ma = re.match(r'\\d', s1)\n",
    "print(\"ma:\",ma)\n",
    "#m.group() 匹配的字符串\n",
    "print(\"ma.group:\", ma.group())\n",
    "#m.span() 匹配索引开始结束组成元组\n",
    "print(\"ma.span:\", ma.span())\n",
    "#m.start()/m.end() 匹配开始和结束时的索引\n",
    "print(\"ma.start:%d, ma.end:%d\"%(ma.start(), ma.end()))"
   ]
  },
  {
   "cell_type": "markdown",
   "id": "5399400f-4112-465e-9850-23bce83d27b8",
   "metadata": {},
   "source": [
    "#### 4.2.3 compile对象\n",
    "re.compile用于将字符串形式的正则表达式编译为Pattern对象，可以使用Pattern对象种方法完成匹配查找等操作；\r\n",
    "\n",
    "应用场景：如果在循环中进行重复的操作，推荐先将正则表达式转成Pattern对象；"
   ]
  },
  {
   "cell_type": "code",
   "execution_count": 48,
   "id": "6b20ae19-29da-45f1-b4c8-3a53e2d6c09b",
   "metadata": {},
   "outputs": [
    {
     "name": "stdout",
     "output_type": "stream",
     "text": [
      "<re.Match object; span=(0, 1), match='0'>\n"
     ]
    }
   ],
   "source": [
    "re_cmp = re.compile(r'\\d')\n",
    "ma = re_cmp.match(\"0123\")\n",
    "print(ma)"
   ]
  },
  {
   "cell_type": "markdown",
   "id": "2513770e-6ea6-4ac0-a1cd-9cf6965c482b",
   "metadata": {},
   "source": [
    "### 4.3 正则表达式\n",
    "#### 4.3.1 字符匹配\n",
    "需求：\n",
    "1. 字符串以大写字母开头；\r\n",
    "2. 字符串以数字开头；\r\n",
    "3. 字符串以数字或者小写字母开头；\r\n",
    "4. 字符串第一个字符位数字，第二个字符为小写字符；\r\n",
    "5. 字符串以ABCDE中某个字符开头；"
   ]
  },
  {
   "cell_type": "code",
   "execution_count": 3,
   "id": "2c98018a-6668-43f1-8e04-6864d317c5bb",
   "metadata": {},
   "outputs": [],
   "source": [
    "import re\n",
    "s1 = \"Python\"\n",
    "s2 = \"15011345578\"\n",
    "s3 = \"AB_test\"\n",
    "s4 = \"test\""
   ]
  },
  {
   "cell_type": "code",
   "execution_count": 62,
   "id": "c5d02eba-b9e2-43ce-babc-1bf1e181ca3d",
   "metadata": {},
   "outputs": [
    {
     "data": {
      "text/plain": [
       "<re.Match object; span=(0, 1), match='P'>"
      ]
     },
     "execution_count": 62,
     "metadata": {},
     "output_type": "execute_result"
    }
   ],
   "source": [
    "#字符串以大写字母开头\n",
    "re.match(r'[A-Z]', s1)"
   ]
  },
  {
   "cell_type": "code",
   "execution_count": 64,
   "id": "8de7c2f9-cbed-4701-9582-1eb50920872c",
   "metadata": {},
   "outputs": [
    {
     "data": {
      "text/plain": [
       "<re.Match object; span=(0, 1), match='1'>"
      ]
     },
     "execution_count": 64,
     "metadata": {},
     "output_type": "execute_result"
    }
   ],
   "source": [
    "#字符串以数字开头\n",
    "re.match(r'\\d', s2)"
   ]
  },
  {
   "cell_type": "code",
   "execution_count": 68,
   "id": "454598f1-3855-4431-a0a6-4109f5f7eda1",
   "metadata": {},
   "outputs": [
    {
     "data": {
      "text/plain": [
       "<re.Match object; span=(0, 1), match='t'>"
      ]
     },
     "execution_count": 68,
     "metadata": {},
     "output_type": "execute_result"
    }
   ],
   "source": [
    "#字符串以数字或者小写字母开头\n",
    "re.match(r'[0-9a-z]', s4)"
   ]
  },
  {
   "cell_type": "code",
   "execution_count": 69,
   "id": "d713de3f-2f31-472e-9d9d-7186819eac42",
   "metadata": {},
   "outputs": [
    {
     "data": {
      "text/plain": [
       "<re.Match object; span=(0, 2), match='1a'>"
      ]
     },
     "execution_count": 69,
     "metadata": {},
     "output_type": "execute_result"
    }
   ],
   "source": [
    "s5 = \"1aabc\"\n",
    "#字符串第一个字符位数字，第二个字符为小写字符\n",
    "re.match('\\d[a-z]', s5)"
   ]
  },
  {
   "cell_type": "code",
   "execution_count": 70,
   "id": "c00af723-ddff-4acb-bdd5-a864296e6726",
   "metadata": {},
   "outputs": [
    {
     "data": {
      "text/plain": [
       "<re.Match object; span=(0, 1), match='A'>"
      ]
     },
     "execution_count": 70,
     "metadata": {},
     "output_type": "execute_result"
    }
   ],
   "source": [
    "#字符串以ABCDE中某个字符开头\n",
    "re.match(r'[ABCDE]', s3)"
   ]
  },
  {
   "cell_type": "markdown",
   "id": "cdf76edd-085e-47b6-a7d6-086efad37615",
   "metadata": {},
   "source": [
    "#### 4.3.2 匹配次数\n",
    "需求：\n",
    "1. 字符串开头以小写字符+数字或数字开头；\r\n",
    "2. 判断100以内的有效数字字符串；\r\n",
    "3. 有效的QQ号，长度6到15位；\r"
   ]
  },
  {
   "cell_type": "code",
   "execution_count": 76,
   "id": "1abb1466-7048-4038-a17a-2366f7be2a58",
   "metadata": {},
   "outputs": [
    {
     "name": "stdout",
     "output_type": "stream",
     "text": [
      "<re.Match object; span=(0, 3), match='AAA'>\n",
      "<re.Match object; span=(0, 0), match=''>\n"
     ]
    }
   ],
   "source": [
    "#* 匹配前一个内容0次或者无限次\n",
    "s0 = 'c'\n",
    "s1 = \"AAAc\"\n",
    "print(re.match(r'A*', s1))\n",
    "print(re.match(r'A*', s0))"
   ]
  },
  {
   "cell_type": "code",
   "execution_count": 77,
   "id": "fa484351-1b56-4335-9a25-195a32394586",
   "metadata": {},
   "outputs": [
    {
     "name": "stdout",
     "output_type": "stream",
     "text": [
      "<re.Match object; span=(0, 2), match='AA'>\n",
      "None\n"
     ]
    }
   ],
   "source": [
    "#+ 匹配前一个内容一次或者无限次\n",
    "s2 = \"AAc\"\n",
    "print(re.match(r'A+', s2))\n",
    "print(re.match(r'A+', s0))"
   ]
  },
  {
   "cell_type": "code",
   "execution_count": 79,
   "id": "d8f903b0-e11a-41d3-b6d1-b464830c04f2",
   "metadata": {},
   "outputs": [
    {
     "name": "stdout",
     "output_type": "stream",
     "text": [
      "<re.Match object; span=(0, 1), match='1'>\n",
      "<re.Match object; span=(0, 0), match=''>\n"
     ]
    }
   ],
   "source": [
    "#？ 匹配前一个内容一次或者0次\n",
    "s3 = '1ab'\n",
    "print(re.match(r'\\d?', s3))\n",
    "print(re.match(r'\\d?', s0))"
   ]
  },
  {
   "cell_type": "code",
   "execution_count": 84,
   "id": "e0d42185-194e-4e7c-b100-9a3f0d54a66e",
   "metadata": {},
   "outputs": [
    {
     "data": {
      "text/plain": [
       "<re.Match object; span=(0, 0), match=''>"
      ]
     },
     "execution_count": 84,
     "metadata": {},
     "output_type": "execute_result"
    }
   ],
   "source": [
    "#*? 尽可能少匹配，最少0次\n",
    "s4 = \"AAC\"\n",
    "re.match(r'A*?', s4)"
   ]
  },
  {
   "cell_type": "code",
   "execution_count": 83,
   "id": "c153504f-d753-4226-90a7-77932c8b442e",
   "metadata": {},
   "outputs": [
    {
     "data": {
      "text/plain": [
       "<re.Match object; span=(0, 1), match='A'>"
      ]
     },
     "execution_count": 83,
     "metadata": {},
     "output_type": "execute_result"
    }
   ],
   "source": [
    "#+? 尽可能少匹配，最少1次\n",
    "s4 = \"AAC\"\n",
    "re.match(r'A+?', s4)"
   ]
  },
  {
   "cell_type": "code",
   "execution_count": 85,
   "id": "f8983e83-009f-408b-bd12-251bf8cf5c32",
   "metadata": {},
   "outputs": [
    {
     "data": {
      "text/plain": [
       "<re.Match object; span=(0, 5), match='12345'>"
      ]
     },
     "execution_count": 85,
     "metadata": {},
     "output_type": "execute_result"
    }
   ],
   "source": [
    "#{m,n} 匹配前一个内容m到n次\n",
    "s5 = \"123456abc\"\n",
    "re.match(r'\\d{3,5}', s5)"
   ]
  },
  {
   "cell_type": "code",
   "execution_count": 87,
   "id": "d51a2b56-b028-46c4-93bd-db65fcd15d1b",
   "metadata": {},
   "outputs": [
    {
     "data": {
      "text/plain": [
       "'10'"
      ]
     },
     "execution_count": 87,
     "metadata": {},
     "output_type": "execute_result"
    }
   ],
   "source": [
    "s6 = \"my age is 10cm\"\n",
    "ma = re.search(r'\\d+', s6)\n",
    "ma.group()"
   ]
  },
  {
   "cell_type": "code",
   "execution_count": 90,
   "id": "a913c851-e51b-4faf-a659-220e7e80ba0f",
   "metadata": {},
   "outputs": [
    {
     "data": {
      "text/plain": [
       "<re.Match object; span=(0, 2), match='a1'>"
      ]
     },
     "execution_count": 90,
     "metadata": {},
     "output_type": "execute_result"
    }
   ],
   "source": [
    "#字符串开头以小写字符+数字或数字开头\n",
    "s7 = 'a1abc'\n",
    "re.match(r'[a-z]?\\d', s7)"
   ]
  },
  {
   "cell_type": "code",
   "execution_count": 6,
   "id": "6056d372-dcba-4f20-a203-860bd83fc3ee",
   "metadata": {},
   "outputs": [
    {
     "name": "stdout",
     "output_type": "stream",
     "text": [
      "<re.Match object; span=(0, 2), match='10'>\n",
      "<re.Match object; span=(0, 1), match='0'>\n",
      "None\n"
     ]
    }
   ],
   "source": [
    "#判断100以内的有效数字字符串；0-99\n",
    "s8 = '10'\n",
    "s8_1 = '0'\n",
    "s8_2 = '100'\n",
    "print(re.match(r'[1-9]?\\d$', s8))\n",
    "print(re.match(r'[1-9]?\\d$', s8_1))\n",
    "print(re.match(r'[1-9]?\\d$', s8_2))"
   ]
  },
  {
   "cell_type": "code",
   "execution_count": 93,
   "id": "5f9ace9e-4c16-4151-9a33-204f159a9770",
   "metadata": {},
   "outputs": [
    {
     "data": {
      "text/plain": [
       "<re.Match object; span=(0, 9), match='123458888'>"
      ]
     },
     "execution_count": 93,
     "metadata": {},
     "output_type": "execute_result"
    }
   ],
   "source": [
    "#有效的QQ号，长度6到15位\n",
    "s9 = '123458888888'\n",
    "re.match(r'\\d{5,9}', s9)"
   ]
  },
  {
   "cell_type": "markdown",
   "id": "5c612d19-cc6b-418b-9ba5-91ce304be104",
   "metadata": {},
   "source": [
    "#### 4.3.3边界匹配\n",
    "需求：\n",
    "1. 匹配有效的邮箱，邮箱格式：邮箱名：由数字，字母，下划线组成,长度6~15，后缀：@xxx.com；\r\n",
    "2. 找到以t结尾的单词；\r\n",
    "3. 找到以t开头的单词；"
   ]
  },
  {
   "cell_type": "code",
   "execution_count": 22,
   "id": "3646b16e-3dce-4e0d-b977-612a9651f994",
   "metadata": {},
   "outputs": [
    {
     "name": "stdout",
     "output_type": "stream",
     "text": [
      "<re.Match object; span=(0, 4), match='AAAA'>\n",
      "None\n",
      "<re.Match object; span=(0, 5), match='AAAAc'>\n"
     ]
    }
   ],
   "source": [
    "s1 = 'AAAAc'\n",
    "# $匹配以该格式为结尾\n",
    "print(re.match(r'A+',s1))\n",
    "print(re.match(r'A+$',s1))\n",
    "print(re.match(r'A+c$',s1))"
   ]
  },
  {
   "cell_type": "code",
   "execution_count": 26,
   "id": "2dd6ac71-dd1c-442e-a180-af91871e0bf2",
   "metadata": {},
   "outputs": [
    {
     "data": {
      "text/plain": [
       "<re.Match object; span=(0, 14), match='testbcd@qq.com'>"
      ]
     },
     "execution_count": 26,
     "metadata": {},
     "output_type": "execute_result"
    }
   ],
   "source": [
    "#匹配有效的邮箱，邮箱格式：邮箱名：由数字，字母，下划线组成,长度6~15，后缀：@xxx.com；\n",
    "mail = 'testbcd@qq.com'\n",
    "re.match(r'[\\da-zA-Z_]{6,15}@qq.com$', mail)"
   ]
  },
  {
   "cell_type": "code",
   "execution_count": 29,
   "id": "8384e8e1-e575-40e3-bbb8-a5536ad85cbd",
   "metadata": {},
   "outputs": [
    {
     "name": "stdout",
     "output_type": "stream",
     "text": [
      "['what', 'hat', 'that', 'tht', 'ot']\n",
      "['what', 'hat', 'that', 'thtot']\n"
     ]
    },
    {
     "data": {
      "text/plain": [
       "['the', 'this', 'that', 'thtot']"
      ]
     },
     "execution_count": 29,
     "metadata": {},
     "output_type": "execute_result"
    }
   ],
   "source": [
    "#找到以t结尾的单词；\n",
    "s = \"where what hat the this that thtot\"\n",
    "#\\w 表示匹配字母、数字和下划线，等价于字符集:[A-Za-z0-9_]\n",
    "#\\b 表示匹配单词边界\n",
    "print(re.findall(r'\\w+?t',s))\n",
    "print(re.findall(r'\\w+?t\\b',s))\n",
    "re.findall(r't\\w+?\\b',s)"
   ]
  },
  {
   "cell_type": "markdown",
   "id": "0c4b5377-b63a-4859-b8f8-0640e220b6e6",
   "metadata": {},
   "source": [
    "#### 4.3.4 分组匹配\n",
    "需求：\n",
    "1. 匹配100内的有效数字字符串(0~99)；\r\n",
    "2. 给定字符串：\"apple:8, pear:20, banana:10\"，提取文本与数字;\r\n",
    "3. 提取html文本中所有的url;\r\n",
    "4. 文本开头与结尾为相同的数字；\r"
   ]
  },
  {
   "cell_type": "code",
   "execution_count": 32,
   "id": "e9ab8fd6-8ec6-494c-9b9b-e1e50835423c",
   "metadata": {},
   "outputs": [
    {
     "name": "stdout",
     "output_type": "stream",
     "text": [
      "None\n",
      "<re.Match object; span=(0, 2), match='99'>\n"
     ]
    }
   ],
   "source": [
    "#匹配100内的有效数字字符串(0~99)；\n",
    "snum = '100'\n",
    "snum2 = '99'\n",
    "# |匹配左右任意一个表达式\n",
    "print(re.match(r'\\d$|[1-9]\\d$', snum))\n",
    "print(re.match(r'\\d$|[1-9]\\d$', snum2))"
   ]
  },
  {
   "cell_type": "code",
   "execution_count": 34,
   "id": "bfbb7588-6ca2-492c-a49d-5cb3e1ce1b1d",
   "metadata": {},
   "outputs": [
    {
     "name": "stdout",
     "output_type": "stream",
     "text": [
      "None\n",
      "None\n",
      "<re.Match object; span=(0, 2), match='10'>\n",
      "<re.Match object; span=(0, 1), match='9'>\n",
      "<re.Match object; span=(0, 2), match='99'>\n"
     ]
    }
   ],
   "source": [
    "items = [\"01\", \"100\", \"10\", \"9\", \"99\"]\n",
    "re_cmp = re.compile(r\"^\\d$|[1-9]\\d$\")\n",
    "item = \"99\"\n",
    "for item in items:\n",
    "    ma = re_cmp.match(item)\n",
    "    print(ma)"
   ]
  },
  {
   "cell_type": "code",
   "execution_count": 36,
   "id": "521cb32f-0fdc-46b0-b59f-671a66f08ca7",
   "metadata": {},
   "outputs": [
    {
     "name": "stdout",
     "output_type": "stream",
     "text": [
      "['apple:8', 'pear:20', 'banana:10']\n",
      "[('apple', '8'), ('pear', '20'), ('banana', '10')]\n"
     ]
    },
    {
     "data": {
      "text/plain": [
       "{'apple': '8', 'pear': '20', 'banana': '10'}"
      ]
     },
     "execution_count": 36,
     "metadata": {},
     "output_type": "execute_result"
    }
   ],
   "source": [
    "#给定字符串：\"apple:8, pear:20, banana:10\"，提取文本与数字;\n",
    "s = \"apple:8, pear:20, banana:10\"\n",
    "#()进行分组\n",
    "print(re.findall(r'[a-z]+:\\d+', s))\n",
    "print(re.findall(r'([a-z]+):(\\d+)', s))\n",
    "dict(re.findall(r'([a-z]+):(\\d+)', s))"
   ]
  },
  {
   "cell_type": "code",
   "execution_count": 37,
   "id": "d4e07dea-45a0-4e09-a50d-9aaff6b2f296",
   "metadata": {},
   "outputs": [
    {
     "data": {
      "text/plain": [
       "['https://movie.douban.com/subject/6786002/',\n",
       " 'https://img9.doubanio.com/view/photo/s_ratio_poster/public/p1454261925.webp']"
      ]
     },
     "execution_count": 37,
     "metadata": {},
     "output_type": "execute_result"
    }
   ],
   "source": [
    "html = \"\"\"<a href=\"https://movie.douban.com/subject/6786002/\"><img width=\"100\" alt=\"触不可及\" src=\"https://img9.doubanio.com/view/photo/s_ratio_poster/public/p1454261925.webp\" class=\"\"></a>\"\"\"\n",
    "#.*? 表示匹配任意数量的任意字符，但是尽量少匹配，也就是非贪婪模式。这样可以避免匹配到多个双引号之间的内容。\n",
    "re.findall(r'\"(https:.*?)\"', html)\n"
   ]
  },
  {
   "cell_type": "code",
   "execution_count": 47,
   "id": "3e301da6-a219-463e-b09d-e5ac180f2307",
   "metadata": {},
   "outputs": [
    {
     "data": {
      "text/plain": [
       "<re.Match object; span=(0, 4), match='1021'>"
      ]
     },
     "execution_count": 47,
     "metadata": {},
     "output_type": "execute_result"
    }
   ],
   "source": [
    "#文本开头与结尾为相同的数字；\n",
    "text = '1021'\n",
    "#\\1 对分组1的引用\n",
    "re.match(r'(\\d).*?(\\1)$', text)"
   ]
  },
  {
   "cell_type": "code",
   "execution_count": 48,
   "id": "f5030729-7118-4d08-8627-63524cffccd2",
   "metadata": {},
   "outputs": [
    {
     "name": "stdout",
     "output_type": "stream",
     "text": [
      "<re.Match object; span=(0, 3), match='101'>\n",
      "<re.Match object; span=(0, 2), match='22'>\n",
      "None\n",
      "None\n"
     ]
    }
   ],
   "source": [
    "#使用分组索引\n",
    "texts = ['101', \"2223\", '1omyhat', '5abc6']\n",
    "for text in texts:\n",
    "    print(re.match(r'(\\d).*?(\\1)', text))"
   ]
  },
  {
   "cell_type": "code",
   "execution_count": 49,
   "id": "1b8147ff-1c21-4020-992b-bab5903d9778",
   "metadata": {},
   "outputs": [
    {
     "data": {
      "text/plain": [
       "{'start': '1'}"
      ]
     },
     "execution_count": 49,
     "metadata": {},
     "output_type": "execute_result"
    }
   ],
   "source": [
    "#使用别名\n",
    "text = \"1234541\"\n",
    "ma = re.match(r'(?P<start>.*).*?(?P=start)', text)\n",
    "ma.groupdict()\n"
   ]
  },
  {
   "cell_type": "markdown",
   "id": "c5f66d70-2019-4c0c-9844-875e6d1033c4",
   "metadata": {},
   "source": [
    "#### 4.3.5 split与sub方法\n",
    "1. split切分\n",
    "\n",
    "split:按照规则对文本切分，返回列表；\n",
    "\n",
    "需求：\n",
    "1. 给定英文句子，统计单词的数量；\n",
    "2. 给定文本，将\"python/c\\C++/Java/Php/Nodejs\",切分成编程语言列表；"
   ]
  },
  {
   "cell_type": "code",
   "execution_count": 53,
   "id": "0fc11b4e-f7b9-40c9-b442-af37881e8099",
   "metadata": {},
   "outputs": [
    {
     "data": {
      "text/plain": [
       "['When',\n",
       " 'someone',\n",
       " 'walk',\n",
       " 'out',\n",
       " 'your',\n",
       " 'life',\n",
       " 'let',\n",
       " 'them',\n",
       " 'They',\n",
       " 'are',\n",
       " 'just',\n",
       " 'making',\n",
       " 'more',\n",
       " 'room',\n",
       " 'for',\n",
       " 'someone',\n",
       " 'else',\n",
       " 'better',\n",
       " 'to',\n",
       " 'walk',\n",
       " 'in']"
      ]
     },
     "execution_count": 53,
     "metadata": {},
     "output_type": "execute_result"
    }
   ],
   "source": [
    "import re\n",
    "s = \"When someone walk out your life, let them. They are just making more room for someone else better to walk in.\"\n",
    "words = re.split(r'\\W', s)\n",
    "words = [word for word in words if word.strip()]\n",
    "words"
   ]
  },
  {
   "cell_type": "code",
   "execution_count": 51,
   "id": "977dd2a7-7996-4bb4-9bb8-33dc33d42942",
   "metadata": {},
   "outputs": [
    {
     "data": {
      "text/plain": [
       "21"
      ]
     },
     "execution_count": 51,
     "metadata": {},
     "output_type": "execute_result"
    }
   ],
   "source": [
    "len(words)"
   ]
  },
  {
   "cell_type": "code",
   "execution_count": 57,
   "id": "2064ffaf-74a8-42f5-950e-a6a1e5300661",
   "metadata": {},
   "outputs": [
    {
     "data": {
      "text/plain": [
       "['python', 'c', 'C++', 'Java', 'Php', 'Nodejs']"
      ]
     },
     "execution_count": 57,
     "metadata": {},
     "output_type": "execute_result"
    }
   ],
   "source": [
    "s = \"python/c\\C++/Java/Php/Nodejs\"\n",
    "# \\ 本身有转义的意思，要匹配\\需要\\\\完成\n",
    "re.split(r'[/\\\\]', s)"
   ]
  },
  {
   "cell_type": "markdown",
   "id": "d0f6baa9-2db5-44d3-ba79-fc8025cf74ce",
   "metadata": {},
   "source": [
    "2. sub-替换\n",
    "\n",
    "函数原型：\n",
    "```\n",
    "re.sub(pattern, repl, string, count=0, flags=0)\n",
    "```\n",
    "主要参数：\n",
    "```\n",
    "pattern：匹配内容；\n",
    "repl：替换值，字符串或者函数，若为函数，替换为函数的返回字符串；\n",
    "string：替换字符串；\n",
    "```\n",
    "需求：\n",
    "1. 将所有的数字替换成4个*;\n",
    "2. 给定绩效文本，大于等于6，替换为\"A\", 否则替换为\"B\";\n",
    "3. 给定多个运动员三次运动成绩，只保留最大值；\n"
   ]
  },
  {
   "cell_type": "code",
   "execution_count": 59,
   "id": "7bb69f69-fd49-4c95-aa6a-d118baeed5e1",
   "metadata": {},
   "outputs": [
    {
     "data": {
      "text/plain": [
       "'name:sun, pwd:****, name:zhang,pwd:****'"
      ]
     },
     "execution_count": 59,
     "metadata": {},
     "output_type": "execute_result"
    }
   ],
   "source": [
    "#s1 = \"name:sun, pwd:123456, name:zhang,pwd:667788\"\n",
    "s1 = \"name:sun, pwd:123456, name:zhang,pwd:667788\"\n",
    "re.sub(r'\\d+', \"****\", s1)"
   ]
  },
  {
   "cell_type": "code",
   "execution_count": 61,
   "id": "4a77a9ce-5d35-4921-b8fa-bfe4dff58591",
   "metadata": {},
   "outputs": [
    {
     "data": {
      "text/plain": [
       "'sun:B, li:A, zhao:A, gao:A, wang:B'"
      ]
     },
     "execution_count": 61,
     "metadata": {},
     "output_type": "execute_result"
    }
   ],
   "source": [
    "#给定绩效文本，大于等于6，替换为\"A\", 否则替换为\"B\";\n",
    "def replace_ab(ma):\n",
    "    value = ma.group()\n",
    "    value = int(value)\n",
    "    if value >= 6:\n",
    "        return \"A\"\n",
    "    return \"B\"\n",
    "s2 = \"sun:5, li:10, zhao:7, gao:8, wang:5\"\n",
    "re.sub(r'\\d+', replace_ab, s2)"
   ]
  },
  {
   "cell_type": "code",
   "execution_count": 67,
   "id": "893ea928-3fa3-4509-aebd-d21957c09bb6",
   "metadata": {},
   "outputs": [
    {
     "data": {
      "text/plain": [
       "'谷爱凌:9.8高梨沙罗:9.88'"
      ]
     },
     "execution_count": 67,
     "metadata": {},
     "output_type": "execute_result"
    }
   ],
   "source": [
    "#给定多个运动员三次运动成绩，只保留最大值；\n",
    "def replace_max(ma):\n",
    "    value = ma.group()\n",
    "    #print('value:',value)\n",
    "    values = value.split(',')\n",
    "    #print('values:',values)\n",
    "    values = [float(value) for value in values if value.strip()]\n",
    "    max_val = max(values)\n",
    "    \n",
    "    return str(max_val)\n",
    "s3 = \"谷爱凌:9.8,9.7,9.6,高梨沙罗:9.88,9.6,9.7\"\n",
    "re.sub(r'[\\d,\\.]+', replace_max, s3)"
   ]
  },
  {
   "cell_type": "markdown",
   "id": "9e562f89-8a6e-4b87-a989-91bd6e67dcd9",
   "metadata": {},
   "source": [
    "#### 4.3.6 练习\n",
    "1. 匹配xml\n",
    "xml语法：\n",
    "```\n",
    "<tag>内容</tag>\n",
    "```"
   ]
  },
  {
   "cell_type": "code",
   "execution_count": 68,
   "id": "defd8bdb-ef81-44ce-9e7a-06aa80103c5a",
   "metadata": {},
   "outputs": [
    {
     "data": {
      "text/plain": [
       "<re.Match object; span=(0, 14), match='<li>tushu</li>'>"
      ]
     },
     "execution_count": 68,
     "metadata": {},
     "output_type": "execute_result"
    }
   ],
   "source": [
    "s = '<li>tushu</li>'\n",
    "re.match(r'<(.*?)>.+?</\\1>', s)"
   ]
  },
  {
   "cell_type": "code",
   "execution_count": 70,
   "id": "785a07c0-5988-43b6-944d-d834da389e31",
   "metadata": {},
   "outputs": [
    {
     "name": "stdout",
     "output_type": "stream",
     "text": [
      "('li',)\n",
      "{'tag': 'li'}\n"
     ]
    }
   ],
   "source": [
    "ma = re.match(r'<(?P<tag>.*?)>.+?</(?P=tag)>', s)\n",
    "print(ma.groups())\n",
    "print(ma.groupdict())"
   ]
  },
  {
   "cell_type": "code",
   "execution_count": 71,
   "id": "901941aa-65aa-4952-884a-35230a9ceca9",
   "metadata": {},
   "outputs": [
    {
     "data": {
      "text/plain": [
       "<re.Match object; span=(0, 12), match='<li>xxx</li>'>"
      ]
     },
     "execution_count": 71,
     "metadata": {},
     "output_type": "execute_result"
    }
   ],
   "source": [
    "s = '<li>xxx</li>'\n",
    "re.match(r'<([\\w]+)>.+</\\1>', s)"
   ]
  },
  {
   "cell_type": "markdown",
   "id": "75982903-8fb0-4cd2-9b16-d5888fd8e820",
   "metadata": {},
   "source": [
    "2. 提取src链接地址"
   ]
  },
  {
   "cell_type": "code",
   "execution_count": 74,
   "id": "f00dc136-acbb-416e-bc35-fd7cfa94b94a",
   "metadata": {},
   "outputs": [
    {
     "data": {
      "text/plain": [
       "['https://ss0.bdstatic.com/=0.jpg']"
      ]
     },
     "execution_count": 74,
     "metadata": {},
     "output_type": "execute_result"
    }
   ],
   "source": [
    "html = '<img class=\"main_img\" data-imgurl=\"https://ss0.bdstatic.com/0.jpg\" src=\"https://ss0.bdstatic.com/=0.jpg\" style=\"background-color: rgb(182, 173, 173); width: 263px; height: 164.495px;'\n",
    "re.findall(r'src=\"(http.*?)\"', html)"
   ]
  },
  {
   "cell_type": "markdown",
   "id": "f72de80d-fd77-410b-9c14-bc65a9aac6f6",
   "metadata": {},
   "source": [
    "3. 统计th开头单词个数"
   ]
  },
  {
   "cell_type": "code",
   "execution_count": 89,
   "id": "b3c8fd32-0593-4ee5-9ff8-b4ad8863d564",
   "metadata": {},
   "outputs": [
    {
     "name": "stdout",
     "output_type": "stream",
     "text": [
      "['that', 'this', 'theme', 'this'],4\n"
     ]
    }
   ],
   "source": [
    "s = 'that this,theme father/this teeth'\n",
    "list = re.findall(r'\\bth[a-zA-Z]*?\\b', s)\n",
    "print(f'{list},{len(list)}')"
   ]
  },
  {
   "cell_type": "markdown",
   "id": "f379d4e6-3c6e-4539-a5a0-aac059ce615c",
   "metadata": {},
   "source": [
    "4. 提取所有数字"
   ]
  },
  {
   "cell_type": "code",
   "execution_count": 91,
   "id": "d8c56cd9-690c-43f3-ba23-593b2d0c4152",
   "metadata": {},
   "outputs": [
    {
     "data": {
      "text/plain": [
       "['21', '8', '7']"
      ]
     },
     "execution_count": 91,
     "metadata": {},
     "output_type": "execute_result"
    }
   ],
   "source": [
    "info = 'apple:21, banana:8, pear:7'\n",
    "result = re.findall(r'\\d+', info)\n",
    "result"
   ]
  },
  {
   "cell_type": "markdown",
   "id": "84e18b59-9604-4cd5-a4f7-b3c476ecdaac",
   "metadata": {},
   "source": [
    "5. 统计单词数量"
   ]
  },
  {
   "cell_type": "code",
   "execution_count": 92,
   "id": "84ff635f-56b9-46f3-8644-da989d51f794",
   "metadata": {},
   "outputs": [
    {
     "data": {
      "text/plain": [
       "33"
      ]
     },
     "execution_count": 92,
     "metadata": {},
     "output_type": "execute_result"
    }
   ],
   "source": [
    "info = 'Things turned out quite nicely after four years of hard work in college.With a GPA of 3.9,I currently rank the top 3% among 540 peers in my grade.'\n",
    "len(re.split(r'\\W', info))"
   ]
  },
  {
   "cell_type": "markdown",
   "id": "343391b6-f103-4eb9-9114-074ff755e70b",
   "metadata": {},
   "source": [
    "6. 不及格成绩替换为xx"
   ]
  },
  {
   "cell_type": "code",
   "execution_count": 93,
   "id": "51d3b984-9ec5-4c62-bdd3-41878629fd35",
   "metadata": {},
   "outputs": [
    {
     "data": {
      "text/plain": [
       "'90,100,66,77,xx,80,xx'"
      ]
     },
     "execution_count": 93,
     "metadata": {},
     "output_type": "execute_result"
    }
   ],
   "source": [
    "scores = '90,100,66,77,33,80,27'\n",
    "def replace_faild(ma):\n",
    "    values = ma.group()\n",
    "    v = int(values)\n",
    "    if v < 60:\n",
    "        return 'xx'\n",
    "    return values\n",
    "\n",
    "re.sub(r'\\d+', replace_faild, scores)"
   ]
  },
  {
   "cell_type": "markdown",
   "id": "3019ccd6-a6a3-44ee-8491-5ecf5250b6b7",
   "metadata": {},
   "source": [
    "7. 匹配有效的163邮箱"
   ]
  },
  {
   "cell_type": "code",
   "execution_count": 105,
   "id": "122f9efd-cd3c-4ea3-aa72-adfd980148b7",
   "metadata": {},
   "outputs": [
    {
     "name": "stdout",
     "output_type": "stream",
     "text": [
      "<re.Match object; span=(0, 17), match='qimao1234@163.com'>\n",
      "None\n"
     ]
    }
   ],
   "source": [
    "#规则：邮箱以字母开头，由下划线，数字，字母组成，长度8~13，并以@163.com结尾；\n",
    "mail = 'qimao1234@163.com'\n",
    "mail_wrong = 'a123456789abcd@163.com'\n",
    "print(re.match(r'[a-zA-Z]\\w{7,12}@163.com$',mail))\n",
    "print(re.match(r'[a-zA-Z]\\w{7,12}@163.com$',mail_wrong))"
   ]
  },
  {
   "cell_type": "markdown",
   "id": "6fb2108f-453f-4a7f-a06b-55dabf778ea4",
   "metadata": {},
   "source": [
    "8. re.I"
   ]
  },
  {
   "cell_type": "code",
   "execution_count": 106,
   "id": "89c578f5-8771-446e-8623-0afaf880996b",
   "metadata": {},
   "outputs": [
    {
     "name": "stdout",
     "output_type": "stream",
     "text": [
      "['This', 'that', 'the']\n",
      "['that', 'the']\n"
     ]
    }
   ],
   "source": [
    "#统计th开头单词，不区分大小写\n",
    "s = 'This that the who'\n",
    "print(re.findall(r'th[a-zA-Z]*', s, flags=re.I))\n",
    "print(re.findall(r'th[a-zA-Z]*', s))"
   ]
  },
  {
   "cell_type": "markdown",
   "id": "f02afb1f-7ff9-4721-ad0b-569f6bf55e20",
   "metadata": {},
   "source": [
    "9. re.M"
   ]
  },
  {
   "cell_type": "code",
   "execution_count": 108,
   "id": "4168c5b6-8c9c-4390-a862-c63fcfb4483d",
   "metadata": {},
   "outputs": [
    {
     "name": "stdout",
     "output_type": "stream",
     "text": [
      "[]\n",
      "['def ']\n",
      "['def ', 'Def ']\n"
     ]
    }
   ],
   "source": [
    "#多行匹配，统计代码中函数数量\n",
    "code = '''\n",
    "def func1():\n",
    "    pass\n",
    " \n",
    "Def func2():\n",
    "    pass\n",
    "class t:\n",
    "    def func():\n",
    "    pass\n",
    "'''\n",
    "print(re.findall(r'^def ', code))\n",
    "print(re.findall(r'^def ', code, flags=re.M))\n",
    "print(re.findall(r'^def ', code, flags=re.M | re.I))"
   ]
  },
  {
   "cell_type": "markdown",
   "id": "a25becd1-dbc0-4cb2-9bad-33667bd3a3e4",
   "metadata": {},
   "source": [
    "## 5 pymysql模详解与应用\n",
    "操作流程：\n",
    "1. 连接数据库；\n",
    "2. 创建游标；\n",
    "3. 执行sql语句：增删改查；\n",
    "4. 提交；\n",
    "5. 关闭数据库；\n",
    "\n",
    "### 5.1 连接数据库"
   ]
  },
  {
   "cell_type": "code",
   "execution_count": 151,
   "id": "5218d851-bf40-4fe1-89c0-1fe2ce14a3d9",
   "metadata": {},
   "outputs": [],
   "source": [
    "import pymysql\n",
    "#链接数据库\n",
    "db = pymysql.connect(host = \"localhost\",user=\"root\",password = \"\",database=\"test\")"
   ]
  },
  {
   "cell_type": "code",
   "execution_count": 132,
   "id": "3eb18bb1-c7fe-431f-b042-3d0f95c8871e",
   "metadata": {},
   "outputs": [],
   "source": [
    "config = {\n",
    "    'user':'root', #用户名\n",
    "    'password':'', #密码\n",
    "    'host':'localhost', #mysql服务地址\n",
    "    'port':3306, #端口,默认3306\n",
    "    'database':'test' #数据库名字，test\n",
    "}\n",
    "db = pymysql.connect(**config)"
   ]
  },
  {
   "cell_type": "markdown",
   "id": "6b0cf334-a80a-418a-94c5-edec611c0c2d",
   "metadata": {},
   "source": [
    "### 5.2 获取游标"
   ]
  },
  {
   "cell_type": "code",
   "execution_count": 152,
   "id": "fbc10055-b7a8-407c-8eff-fe4b59a5f5e5",
   "metadata": {},
   "outputs": [],
   "source": [
    "#获取游标\n",
    "cursor = db.cursor()"
   ]
  },
  {
   "cell_type": "markdown",
   "id": "a963706c-47e1-4068-a830-eb3f304aa034",
   "metadata": {},
   "source": [
    "### 5.3 执行sql语句"
   ]
  },
  {
   "cell_type": "code",
   "execution_count": 153,
   "id": "3ca920db-ad3c-4193-8d4c-b0c9c31ef40b",
   "metadata": {},
   "outputs": [
    {
     "name": "stdout",
     "output_type": "stream",
     "text": [
      "('user_info',)\n"
     ]
    }
   ],
   "source": [
    "#查看表名\n",
    "f = cursor.execute(\"show tables;\")\n",
    "#读取所有数据\n",
    "data = cursor.fetchall()\n",
    "#输出数据\n",
    "for item in data:\n",
    "    print(item)"
   ]
  },
  {
   "cell_type": "markdown",
   "id": "03cab04f-8954-4e87-b9f3-0df4b2767580",
   "metadata": {},
   "source": [
    "### 5.4 插入数据"
   ]
  },
  {
   "cell_type": "code",
   "execution_count": 154,
   "id": "d356fc97-e480-42a1-86d2-74dbbaa0976e",
   "metadata": {},
   "outputs": [],
   "source": [
    "#执行sql语句,插入一条数据\n",
    "sql = 'insert into user_info (user_name, user_id, channel) values(%s,%s,%s)'\n",
    "#插入一条数据\n",
    "cursor.execute(sql, ('何同学', \"10001\", \"B站\"))\n",
    "#插入多条数据\n",
    "cursor.executemany(sql, [('张同学', \"10002\", \"抖音\"),('奇猫', \"10003\", \"抖音\")])\n",
    "db.commit()"
   ]
  },
  {
   "cell_type": "markdown",
   "id": "f197cc5e-172d-4378-ae53-af173b83dba7",
   "metadata": {},
   "source": [
    "### 5.5 查询数据"
   ]
  },
  {
   "cell_type": "code",
   "execution_count": 155,
   "id": "fef22379-12d5-43fe-9c01-493a82f281ee",
   "metadata": {},
   "outputs": [
    {
     "data": {
      "text/plain": [
       "3"
      ]
     },
     "execution_count": 155,
     "metadata": {},
     "output_type": "execute_result"
    }
   ],
   "source": [
    "sql = 'select * from user_info'\n",
    "cursor.execute(sql)"
   ]
  },
  {
   "cell_type": "code",
   "execution_count": 156,
   "id": "d04a5456-0862-4fd0-8c00-db403fe44db6",
   "metadata": {},
   "outputs": [
    {
     "name": "stdout",
     "output_type": "stream",
     "text": [
      "('何同学', '10001', 'B站')\n",
      "('张同学', '10002', '抖音')\n",
      "('奇猫', '10003', '抖音')\n"
     ]
    }
   ],
   "source": [
    "#读取所有数据\n",
    "data = cursor.fetchall()\n",
    "#打印数据\n",
    "for item in data:\n",
    "    print(item)"
   ]
  },
  {
   "cell_type": "markdown",
   "id": "b478e903-ba01-48e9-b9a0-0583805d3e91",
   "metadata": {},
   "source": [
    "### 5.6 关闭连接"
   ]
  },
  {
   "cell_type": "code",
   "execution_count": 157,
   "id": "b356c73b-d9c0-459a-b0fa-a39d375817a1",
   "metadata": {},
   "outputs": [],
   "source": [
    "cursor.close()\n",
    "#关闭连接\n",
    "db.close()"
   ]
  },
  {
   "cell_type": "markdown",
   "id": "05d5243f-b645-4252-bdcb-1f6b46775c2f",
   "metadata": {},
   "source": [
    "## 6 进程与线程\n",
    "### 6.1 进程详解与应用\n",
    "进程：程序运行的实例，执行的过程，它是系统调度与资源分配基本单元；\n",
    "\n",
    "场景：\n",
    "1. 一个手机应用：微信，抖音，浏览器，淘宝，游戏等；\n",
    "2. 一个PC应用：浏览器，办公软件，游戏等；"
   ]
  },
  {
   "cell_type": "markdown",
   "id": "60352024-c44b-4f4f-ace2-493b23528777",
   "metadata": {},
   "source": [
    "#### 6.1.1 进程相关知识\n",
    "进程的ID：程序运行的唯一标识；\n",
    "\n",
    "Python中获取进程ID方式：\n",
    "```\n",
    "os.getpid():获取当前进程ID\n",
    "os.getppid()：获取当前父进程ID\n",
    "```\n",
    "Python中进程相关模块：multiprocessing\n"
   ]
  },
  {
   "cell_type": "code",
   "execution_count": 159,
   "id": "318e99d0-e591-4183-9ec5-5252bc9ba39a",
   "metadata": {},
   "outputs": [
    {
     "data": {
      "text/plain": [
       "10588"
      ]
     },
     "execution_count": 159,
     "metadata": {},
     "output_type": "execute_result"
    }
   ],
   "source": [
    "import os\n",
    "# 获取该进程id\n",
    "os.getpid()"
   ]
  },
  {
   "cell_type": "code",
   "execution_count": 160,
   "id": "f701516f-2c51-4137-8897-b2c9f7c286bd",
   "metadata": {},
   "outputs": [
    {
     "data": {
      "text/plain": [
       "3712"
      ]
     },
     "execution_count": 160,
     "metadata": {},
     "output_type": "execute_result"
    }
   ],
   "source": [
    "# 获取父进程\n",
    "os.getppid()"
   ]
  },
  {
   "cell_type": "markdown",
   "id": "891a6bb6-1791-4594-8f91-f99d382bc173",
   "metadata": {},
   "source": [
    "#### 6.1.2 创建进程"
   ]
  },
  {
   "cell_type": "code",
   "execution_count": 161,
   "id": "7492500d-1f6f-4f53-a894-b1943962572d",
   "metadata": {},
   "outputs": [
    {
     "name": "stdout",
     "output_type": "stream",
     "text": [
      "main process pid:10588\n"
     ]
    }
   ],
   "source": [
    "#导入模块\n",
    "import multiprocessing\n",
    "import os\n",
    "#定义子进程函数：\n",
    "def func(*args, **kwargs):\n",
    "    print(\"subProcess pid:%d ppid:%d\"%(os.getpid(), os.getppid()))\n",
    "\n",
    "if __name__ == \"__main__\":\n",
    "    #创建进程对象\n",
    "    p = multiprocessing.Process(target=func)\n",
    "    #创建进程，并执行进程函数\n",
    "    p.start()\n",
    "    #等待子进程结束\n",
    "    p.join()\n",
    "    print(\"main process pid:%d\"%os.getpid())"
   ]
  },
  {
   "cell_type": "markdown",
   "id": "174e546e-8429-4a48-87a0-dcc8369bfef3",
   "metadata": {},
   "source": [
    "#### 6.1.3 父子进程理解\n",
    "子进程是父进程的拷贝，子进程继承父进程的所有资源；"
   ]
  },
  {
   "cell_type": "code",
   "execution_count": 162,
   "id": "86e94654-07aa-45c5-959d-45d5bbf57442",
   "metadata": {},
   "outputs": [
    {
     "name": "stdout",
     "output_type": "stream",
     "text": [
      "call main process pid: 10588\n",
      "tmp in main: 10\n"
     ]
    }
   ],
   "source": [
    "import multiprocessing\n",
    "import os\n",
    "import time\n",
    "tmp = 10\n",
    "def work():\n",
    "    global tmp\n",
    "    tmp = 100\n",
    "    print('work pid:', os.getpid(), os.getppid())\n",
    "    print(\"tmp in work:\", tmp)\n",
    "\n",
    "if __name__ == '__main__':\n",
    "    # 创建进程\n",
    "    p = multiprocessing.Process(target=work)\n",
    "    # 运行进程\n",
    "    p.start()\n",
    "    print(\"call main process pid:\", os.getpid())\n",
    "    # 等待程序结束\n",
    "    p.join()\n",
    "    #tmp的输出值\n",
    "    print(\"tmp in main:\", tmp)"
   ]
  },
  {
   "cell_type": "markdown",
   "id": "7b28088b-6ca8-4d45-ae52-3ef5e83da684",
   "metadata": {},
   "source": [
    "输出：\n",
    "```\n",
    "call main process pid: 15636\n",
    "work pid: 5708 15636\n",
    "tmp in work: 100    \n",
    "tmp in main: 10\n",
    "```"
   ]
  },
  {
   "cell_type": "markdown",
   "id": "c381b894-ca18-4de0-a27d-4c5dd40d2bcd",
   "metadata": {},
   "source": [
    "#### 6.1.4 进程应用场景\n",
    "使用场景：并行计算，某个函数执行时间过长，阻塞等；\r\n",
    "\n",
    "一个例子：某函数，执行过程中休眠1秒，执行6次，使用单进程与多进程调用，对比耗时；"
   ]
  },
  {
   "cell_type": "code",
   "execution_count": 164,
   "id": "4fd7dec6-40a3-42dc-9f93-13d41f11c125",
   "metadata": {},
   "outputs": [
    {
     "name": "stdout",
     "output_type": "stream",
     "text": [
      "call work\n",
      "call work\n",
      "call work\n",
      "call work\n",
      "call work\n",
      "call work\n",
      "run time:6.00\n"
     ]
    }
   ],
   "source": [
    "import multiprocessing\n",
    "import os\n",
    "import time\n",
    "tmp = 10\n",
    "\n",
    "def work():\n",
    "    print(\"call work\")\n",
    "    time.sleep(1)\n",
    "if __name__ == '__main__':\n",
    "    n = 6\n",
    "    plist = []\n",
    "    ts = time.time()\n",
    "    #if内使用多进程，else不使用多进程\n",
    "    if False:\n",
    "        for i in range(n):\n",
    "            p = multiprocessing.Process(target=work)\n",
    "            p.start()\n",
    "            plist.append(p)\n",
    "        for i in range(n):\n",
    "            p.join()\n",
    "    else:\n",
    "        for i in range(n):\n",
    "            work()\n",
    "    print(\"run time:%.2f\"%(time.time() - ts))\n"
   ]
  },
  {
   "cell_type": "markdown",
   "id": "9c5b1a74-97a4-4ab8-80f3-8d250bfefe8e",
   "metadata": {},
   "source": [
    "使用多进程：\n",
    "```\n",
    "call work\n",
    "call work\n",
    "call work\n",
    "call work\n",
    "call work\n",
    "call work\n",
    "run time:1.14\n",
    "```\n",
    "不使用多进程：\n",
    "```\n",
    "call work\n",
    "call work\n",
    "call work\n",
    "call work\n",
    "call work\n",
    "call work\n",
    "run time:6.01\n",
    "```"
   ]
  },
  {
   "cell_type": "markdown",
   "id": "70689161-c392-4594-84ea-303e916d86d9",
   "metadata": {},
   "source": [
    "#### 6.1.5 进程间通信\n",
    "常用方法：\n",
    "1. 消息队列：from multiprocessing import Queue\n",
    "2. 共享内存：from multiprocessing import Value,Array\n"
   ]
  },
  {
   "cell_type": "code",
   "execution_count": 166,
   "id": "def0d093-cf03-4a23-89b9-009d5f924552",
   "metadata": {},
   "outputs": [],
   "source": [
    "import multiprocessing\n",
    "import os\n",
    "import time\n",
    "\n",
    "from multiprocessing import Queue\n",
    "\n",
    "def work(msgq):\n",
    "    while True:\n",
    "        msg = msgq.get()\n",
    "        if msg == \"Q\":\n",
    "            break\n",
    "        else:\n",
    "            print(f\"pid:{os.getpid()} recv msg:{msg}\")\n",
    "\n",
    "if __name__ == '__main__':\n",
    "    msgq = Queue()\n",
    "    list_p = []\n",
    "    for i in range(1, 10):\n",
    "        p = multiprocessing.Process(target=work, args=(msgq,))\n",
    "        list_p.append(p)\n",
    "        p.start()\n",
    "    \n",
    "    #发送不同的消息\n",
    "    for i in range(1, 10):\n",
    "        msgq.put(\"Test%d\"%i)\n",
    "    #发出退出命令\n",
    "    for p in list_p:\n",
    "        msgq.put(\"Q\")\n",
    "    #等待进程退出\n",
    "    for p in list_p:\n",
    "        p.join()"
   ]
  },
  {
   "cell_type": "markdown",
   "id": "d89c27d7-0b75-4662-b034-b5916144dfc4",
   "metadata": {},
   "source": [
    "结果：\n",
    "```\n",
    "pid:15464 recv msg:Test1\n",
    "pid:15464 recv msg:Test2\n",
    "pid:7124 recv msg:Test3\n",
    "pid:7124 recv msg:Test5\n",
    "pid:7124 recv msg:Test6\n",
    "pid:7124 recv msg:Test7\n",
    "pid:7124 recv msg:Test8\n",
    "pid:7124 recv msg:Test9\n",
    "pid:15464 recv msg:Test4\n",
    "```"
   ]
  },
  {
   "cell_type": "code",
   "execution_count": null,
   "id": "8b1576bb-f982-4baa-9ada-1b11cd6143dd",
   "metadata": {},
   "outputs": [],
   "source": [
    "import multiprocessing\n",
    "import os\n",
    "import time\n",
    "\n",
    "from multiprocessing import Queue\n",
    "\n",
    "def work(msgq):\n",
    "    while True:\n",
    "        msg = msgq.get()\n",
    "        time.sleep(0.5)\n",
    "        if msg == \"Q\":\n",
    "            break\n",
    "        else:\n",
    "            print(f\"pid:{os.getpid()} recv msg:{msg}\")\n",
    "\n",
    "if __name__ == '__main__':\n",
    "    msgq = Queue()\n",
    "    list_p = []\n",
    "    for i in range(1, 10):\n",
    "        p = multiprocessing.Process(target=work, args=(msgq,))\n",
    "        list_p.append(p)\n",
    "        p.start()\n",
    "    \n",
    "    #发送不同的消息\n",
    "    for i in range(1, 10):\n",
    "        msgq.put(\"Test%d\"%i)\n",
    "    #发出退出命令\n",
    "    for p in list_p:\n",
    "        msgq.put(\"Q\")\n",
    "    #等待进程退出\n",
    "    for p in list_p:\n",
    "        p.join()"
   ]
  },
  {
   "cell_type": "markdown",
   "id": "327a22db-56fa-482f-bc88-c2880c44b2e2",
   "metadata": {},
   "source": [
    "运行结果：\n",
    "```\n",
    "pid:9776 recv msg:Test1\n",
    "pid:11560 recv msg:Test2\n",
    "pid:4024 recv msg:Test3\n",
    "pid:10828 recv msg:Test4\n",
    "pid:7696 recv msg:Test5\n",
    "pid:8292 recv msg:Test6\n",
    "pid:2528 recv msg:Test7\n",
    "pid:10152 recv msg:Test8\n",
    "pid:14476 recv msg:Test9\n",
    "```\n",
    "加入sleep延迟后，程序可以按序接收"
   ]
  },
  {
   "cell_type": "markdown",
   "id": "f5f167a7-fb9a-41c7-aba0-57ca6ac834ca",
   "metadata": {},
   "source": [
    "#### 6.1.6 进程池\n",
    "进程池：创建一定数量的进程，供用户调用；\n",
    "\n",
    "进程池类：\n",
    "```\n",
    "from multiprocessing import Pool\n",
    "```\n",
    "基本实现过程："
   ]
  },
  {
   "cell_type": "code",
   "execution_count": 167,
   "id": "fe884b5a-7f51-4358-af35-95c007062ef7",
   "metadata": {},
   "outputs": [
    {
     "ename": "NameError",
     "evalue": "name 'msg' is not defined",
     "output_type": "error",
     "traceback": [
      "\u001b[1;31m---------------------------------------------------------------------------\u001b[0m",
      "\u001b[1;31mNameError\u001b[0m                                 Traceback (most recent call last)",
      "Cell \u001b[1;32mIn[167], line 5\u001b[0m\n\u001b[0;32m      3\u001b[0m pool \u001b[38;5;241m=\u001b[39m Pool(processes \u001b[38;5;241m=\u001b[39m \u001b[38;5;241m3\u001b[39m)\n\u001b[0;32m      4\u001b[0m \u001b[38;5;66;03m#添加任务与参数\u001b[39;00m\n\u001b[1;32m----> 5\u001b[0m pool\u001b[38;5;241m.\u001b[39mapply_async(func, (\u001b[43mmsg\u001b[49m, ))\n\u001b[0;32m      6\u001b[0m \u001b[38;5;66;03m#停止添加\u001b[39;00m\n\u001b[0;32m      7\u001b[0m pool\u001b[38;5;241m.\u001b[39mclose()\u001b[38;5;66;03m#停止添加\u001b[39;00m\n",
      "\u001b[1;31mNameError\u001b[0m: name 'msg' is not defined"
     ]
    }
   ],
   "source": [
    "from multiprocessing import Pool\n",
    "#创建进程池对象，指定进程数量3\n",
    "pool = Pool(processes = 3)\n",
    "#添加任务与参数\n",
    "pool.apply_async(func, (msg, ))\n",
    "#停止添加\n",
    "pool.close()#停止添加\n",
    "#等待所有任务结束\n",
    "pool.join()"
   ]
  },
  {
   "cell_type": "markdown",
   "id": "419a823d-857f-4092-8716-ea4adfba3a7f",
   "metadata": {},
   "source": [
    "Python中的进程池是一种用于并行处理的高级工具，通常用于同时执行多个函数或任务。它允许您管理一组工作进程，从而更有效地利用多核处理器。Python标准库中的`multiprocessing`模块提供了`Pool`类，它是一个常用的进程池实现。\n",
    "\n",
    "以下是有关Python进程池的详细介绍：\n",
    "\n",
    "1. **导入模块**：\n",
    "\n",
    "   ```python\n",
    "   import multiprocessing\n",
    "   ```\n",
    "\n",
    "   首先，导入`multiprocessing`模块。\n",
    "\n",
    "2. **创建进程池**：\n",
    "\n",
    "   ```python\n",
    "   pool = multiprocessing.Pool(processes=4)\n",
    "   ```\n",
    "\n",
    "   使用`multiprocessing.Pool`类创建一个进程池。在这里，我们创建了一个最大进程数为4的进程池，这意味着最多同时运行4个进程。\n",
    "\n",
    "3. **提交任务**：\n",
    "\n",
    "   ```python\n",
    "   result = pool.apply_async(function, (arg1, arg2))\n",
    "   ```\n",
    "\n",
    "   使用`apply_async`方法将函数提交到进程池中执行。`function`是要执行的函数，`(arg1, arg2)`是函数的参数。此方法会返回一个`AsyncResult`对象，可以用来获取函数的结果。\n",
    "\n",
    "4. **获取结果**：\n",
    "\n",
    "   ```python\n",
    "   result.get()\n",
    "   ```\n",
    "\n",
    "   使用`get()`方法获取函数的结果。这个方法会阻塞主线程，直到进程池中的任务执行完毕并返回结果。\n",
    "\n",
    "5. **关闭进程池**：\n",
    "\n",
    "   ```python\n",
    "   pool.close()\n",
    "   pool.join()\n",
    "   ```\n",
    "\n",
    "   使用`close()`方法关闭进程池，然后使用`join()`方法等待所有任务完成。一旦进程池关闭，将不再接受新任务。\n",
    "\n",
    "6. **进程池示例**：\n",
    "\n",
    "   下面是一个完整的进程池示例，演示如何使用进程池并行执行函数：\n",
    "\n",
    "   ```python\n",
    "   import multiprocessing\n",
    "\n",
    "   def square(x):\n",
    "       return x * x\n",
    "\n",
    "   if __name__ == '__main__':\n",
    "       pool = multiprocessing.Pool(processes=4)\n",
    "       inputs = [1, 2, 3, 4, 5]\n",
    "\n",
    "       results = [pool.apply_async(square, (x,)) for x in inputs]\n",
    "       pool.close()\n",
    "       pool.join()\n",
    "\n",
    "       for result in results:\n",
    "           print(result.get())\n",
    "   ```\n",
    "\n",
    "   在此示例中，我们使用进程池并行计算了一组数字的平方。\n",
    "\n",
    "进程池在多核处理器上执行多个任务时非常有用，因为它可以显著提高程序的性能。它简化了并行编程，并处理了底层的进程管理和调度，使得并行化变得更加容易。但请注意，使用进程池时要谨慎，确保不会创建过多的进程，以避免资源竞争和性能下降。"
   ]
  },
  {
   "cell_type": "markdown",
   "id": "471f665e-7525-4efd-9799-dc93d0ba27ba",
   "metadata": {},
   "source": [
    "使用进程池统计文件数量："
   ]
  },
  {
   "cell_type": "code",
   "execution_count": null,
   "id": "f65d1212-9747-4ba6-8db9-a1dcc1e68d6f",
   "metadata": {},
   "outputs": [],
   "source": [
    "from multiprocessing import Pool\n",
    "import os\n",
    "import time\n",
    "from unittest import result\n",
    "\n",
    "#统计文件行数\n",
    "def countLine(fpath):\n",
    "    linenum = 0\n",
    "    if fpath.endswith('.py'):\n",
    "        with open(fpath, encoding=\"utf-8\") as f:\n",
    "            linenum = len(f.readlines())\n",
    "    return linenum\n",
    "\n",
    "def sacndir(fpath, pools):\n",
    "    result = []\n",
    "    # 获取指定目录下所有文件\n",
    "    for root, sundir, flist in os.walk(fpath):\n",
    "        if flist:\n",
    "            for fname in flist:\n",
    "                # 判断是否为.py\n",
    "                if fname.endswith('.py'):\n",
    "                    # 拼接目录\n",
    "                    path = os.path.join(root, fname)\n",
    "                    #进程池添加任务\n",
    "                    r = pools.apply_async(countLine, args=(path,))\n",
    "                    #将结果保存到result中\n",
    "                    result.append(r)\n",
    "    #计算统计结果\n",
    "    total= sum([r.get() for r in result])\n",
    "    return total\n",
    "\n",
    "if __name__ == \"__main__\":\n",
    "    total = 0\n",
    "    nums = 20\n",
    "    src_dir = r'E:\\vscode_dir\\part_7\\process\\django'\n",
    "    \n",
    "    start_time = time.time()\n",
    "    pools = Pool(processes=10)\n",
    "    for i in range(nums):\n",
    "        total += sacndir(src_dir, pools)\n",
    "    \n",
    "    #停止添加任务\n",
    "    pools.close()\n",
    "    #等待程序结束\n",
    "    pools.join()\n",
    "    end_time = time.time()\n",
    "    #输出统计结果\n",
    "    print(\"run time:%.2f, code total nums:%d\"%(end_time-start_time, total))"
   ]
  },
  {
   "cell_type": "markdown",
   "id": "eadcdb5b-5729-41d1-98b6-358d9346956a",
   "metadata": {},
   "source": [
    "### 6.2 线程\n",
    "#### 6.2.1 多线程\n",
    "线程：系统进行运算调度的最小单元，线程依赖与进程；\n",
    "\n",
    "多线程：在一个进程中，启动多线程并发执行任务，线程之间全局资源可以共享；\n",
    "\n",
    "进程与线程区别：\n",
    "1. 线程依赖于进程；\n",
    "2. 线程之间资源共享；\n",
    "3. 线程调度开销小于进程开销；\n",
    "\n",
    "Python中多线程限制\n",
    "GIL（Global Interpreter Lock）：实现CPython（Python解释器）时引入的一个概念，\n",
    "\n",
    "GIL锁：实质是一个互斥锁(mutex);\n",
    "\n",
    "GIL作用：防止多个线程同时去执行字节码，降低执行效率；\n",
    "\n",
    "GIL问题：在多核CPU中，Python的多线程无法发挥其作用，降低任务执行效率；\n",
    "#### 6.2.2 多线程相关模块及应用"
   ]
  },
  {
   "cell_type": "code",
   "execution_count": 168,
   "id": "00523f4b-8839-4233-b312-a7ee33187e4e",
   "metadata": {},
   "outputs": [
    {
     "name": "stdout",
     "output_type": "stream",
     "text": [
      "in thread func\n",
      "in main func\n"
     ]
    }
   ],
   "source": [
    "import threading\n",
    "#线程函数\n",
    "def thread_func(*args, **kwargs):\n",
    "    print(\"in thread func\")\n",
    "\n",
    "def main():\n",
    "    #创建线程对象\n",
    "    t = threading.Thread(target=thread_func, args=())\n",
    "    #创建线程，启动线程函数\n",
    "    t.start()\n",
    "    print(\"in main func\")\n",
    "    #等待线程结束\n",
    "    t.join()\n",
    "\n",
    "if __name__ == \"__main__\":\n",
    "    main()\n"
   ]
  },
  {
   "cell_type": "code",
   "execution_count": 169,
   "id": "e2b287ce-d8fd-46e0-b261-2ae74b3904f8",
   "metadata": {},
   "outputs": [
    {
     "name": "stdout",
     "output_type": "stream",
     "text": [
      "name:thread_0 ident:16832\n",
      "name:thread_4 ident:16416\n",
      "name:thread_2 ident:3236\n",
      "name:thread_1 ident:17212\n",
      "name:thread_3 ident:10840\n",
      "g_value: 6\n"
     ]
    },
    {
     "name": "stderr",
     "output_type": "stream",
     "text": [
      "C:\\Users\\26822\\AppData\\Local\\Temp\\ipykernel_10588\\1135152197.py:18: DeprecationWarning: getName() is deprecated, get the name attribute instead\n",
      "  print(\"name:%s ident:%d\"%(t.getName(), t.ident))\n"
     ]
    }
   ],
   "source": [
    "# 多线程应用\n",
    "import threading\n",
    "import time\n",
    "\n",
    "g_value = 1\n",
    "\n",
    "#线程函数\n",
    "def thread_func(*args, **kwargs):\n",
    "    global g_value\n",
    "    g_value += 1\n",
    "    #休眠1秒\n",
    "    time.sleep(1)\n",
    "    #获取线程ID\n",
    "    ident = threading.get_ident()\n",
    "    #获取当前线程\n",
    "    t = threading.current_thread()\n",
    "    #获取线程名称与ident\n",
    "    print(\"name:%s ident:%d\"%(t.getName(), t.ident))\n",
    "\n",
    "def main():\n",
    "    thread_num = 5\n",
    "    thread_list = []\n",
    "    \n",
    "    #创建线程对象\n",
    "    for i in range(thread_num):\n",
    "        name = \"thread_%d\"%i\n",
    "        t = threading.Thread(name=name, target=thread_func, args=())\n",
    "        thread_list.append(t)\n",
    "        t.start()\n",
    "    \n",
    "    #等待线程结束\n",
    "    for t in thread_list:\n",
    "        t.join()\n",
    "\n",
    "if __name__ == \"__main__\":\n",
    "    main()\n",
    "    print(\"g_value:\", g_value)"
   ]
  },
  {
   "cell_type": "markdown",
   "id": "ae5509a6-42c0-4d83-85a9-52ae49c9466d",
   "metadata": {},
   "source": [
    "从输出结果中可以看到：\n",
    "1. 线程之间执行是随机的；\n",
    "2. 线程之间资源共享(g_value的值发生变化)；\n",
    "\n",
    "#### 6.2.3 全局变量操作问题\n",
    "需求：\n",
    "1. 定义变量a=10000，\n",
    "2. 主线程对变量进行加1操作，执行50W次；\n",
    "3. 创建子线程，同时对变量进行减1操作，执行50W次；\n",
    "4. 最后查看该变量的值\n"
   ]
  },
  {
   "cell_type": "code",
   "execution_count": 172,
   "id": "792f2755-0f35-4fae-91d3-ad22c6ed596f",
   "metadata": {},
   "outputs": [
    {
     "name": "stdout",
     "output_type": "stream",
     "text": [
      "g_value=10000\n"
     ]
    }
   ],
   "source": [
    "from threading import Thread\n",
    "\n",
    "g_value = 10000\n",
    "nums = 500000\n",
    "\n",
    "def sub_func():\n",
    "    # 减1操作\n",
    "    global g_value\n",
    "    for i in range(nums):\n",
    "        g_value -= 1\n",
    "\n",
    "def add_func():\n",
    "    # 加1操作\n",
    "    global g_value\n",
    "    for i in range(nums):\n",
    "        g_value += 1\n",
    "\n",
    "if __name__ == \"__main__\":\n",
    "    # 创建线程对象\n",
    "    t = Thread(target=sub_func, name='test')\n",
    "    # 创建线程运行程序\n",
    "    t.start()\n",
    "    add_func()\n",
    "    # 等待线程执行完成\n",
    "    t.join()\n",
    "    print(f'g_value={g_value}')\n"
   ]
  }
 ],
 "metadata": {
  "kernelspec": {
   "display_name": "Python 3",
   "language": "python",
   "name": "python3"
  },
  "language_info": {
   "codemirror_mode": {
    "name": "ipython",
    "version": 3
   },
   "file_extension": ".py",
   "mimetype": "text/x-python",
   "name": "python",
   "nbconvert_exporter": "python",
   "pygments_lexer": "ipython3",
   "version": "3.11.5"
  }
 },
 "nbformat": 4,
 "nbformat_minor": 5
}
