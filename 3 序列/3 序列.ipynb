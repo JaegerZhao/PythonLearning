{
 "cells": [
  {
   "cell_type": "markdown",
   "metadata": {},
   "source": [
    "# （一）序列"
   ]
  },
  {
   "cell_type": "markdown",
   "metadata": {},
   "source": [
    "## 1 序列\n",
    "### 1.1 序列结构\n",
    "- 字符串：引号开头结尾，'python'\n",
    "- 列表：[]开头结尾，[1，2，3]\n",
    "- 元组：()开头结尾，(1，2，3)\n"
   ]
  },
  {
   "cell_type": "code",
   "execution_count": 3,
   "metadata": {},
   "outputs": [
    {
     "data": {
      "text/plain": [
       "(str, list, tuple)"
      ]
     },
     "execution_count": 3,
     "metadata": {},
     "output_type": "execute_result"
    }
   ],
   "source": [
    "# 字符串\n",
    "s = 'python'\n",
    "\n",
    "# 列表\n",
    "l = [1,2,3]\n",
    "\n",
    "# 元组\n",
    "t = (1,2,3)\n",
    "\n",
    "type(s),type(l),type(t)"
   ]
  },
  {
   "cell_type": "markdown",
   "metadata": {},
   "source": [
    "注意：\n",
    "1. 索引起始值为：0\n",
    "2. 索引最大值：(序列长度)-1\n",
    "3. 负向索引，最后一个元素为索引为：-1\n"
   ]
  },
  {
   "cell_type": "code",
   "execution_count": 7,
   "metadata": {},
   "outputs": [
    {
     "data": {
      "text/plain": [
       "(1, 3)"
      ]
     },
     "execution_count": 7,
     "metadata": {},
     "output_type": "execute_result"
    }
   ],
   "source": [
    "l[0],l[-1]"
   ]
  },
  {
   "cell_type": "markdown",
   "metadata": {},
   "source": [
    "### 2.2 序列访问方式\n",
    "1. 索引：s[index]\n",
    "    - index为正负整数\n",
    "    - index不能越界\n",
    "2. 切片：s[start:stop]\n",
    "    - start：起始索引\n",
    "    - stop：结束索引，stop可以无限大\n",
    "    - 获取内容为start:stop-1\n",
    "3. 切片：s[start:stop:step]\n",
    "    - step为步进值\n",
    "    - step可以为负数"
   ]
  },
  {
   "cell_type": "code",
   "execution_count": 10,
   "metadata": {},
   "outputs": [
    {
     "data": {
      "text/plain": [
       "('1', '9')"
      ]
     },
     "execution_count": 10,
     "metadata": {},
     "output_type": "execute_result"
    }
   ],
   "source": [
    "s = \"123456789\"\n",
    "s[0],s[-1]"
   ]
  },
  {
   "cell_type": "code",
   "execution_count": 11,
   "metadata": {},
   "outputs": [
    {
     "data": {
      "text/plain": [
       "'12345'"
      ]
     },
     "execution_count": 11,
     "metadata": {},
     "output_type": "execute_result"
    }
   ],
   "source": [
    "s[0:5]"
   ]
  },
  {
   "cell_type": "code",
   "execution_count": 12,
   "metadata": {},
   "outputs": [
    {
     "data": {
      "text/plain": [
       "'13579'"
      ]
     },
     "execution_count": 12,
     "metadata": {},
     "output_type": "execute_result"
    }
   ],
   "source": [
    "s[0:10:2]"
   ]
  },
  {
   "cell_type": "markdown",
   "metadata": {},
   "source": [
    "注意：\n",
    "1. 序列访问不能越界\n",
    "2. 重点理解切片操作，灵活使用索引\n",
    "![image-20240128001255941](https://raw.githubusercontent.com/ZzDarker/figure/main/img/image-20240128001255941.png)"
   ]
  },
  {
   "cell_type": "markdown",
   "metadata": {},
   "source": [
    "### 2.3 序列遍历\n",
    "1. for循环\n",
    "2. while循环+index"
   ]
  },
  {
   "cell_type": "code",
   "execution_count": 13,
   "metadata": {},
   "outputs": [
    {
     "name": "stdout",
     "output_type": "stream",
     "text": [
      "a\n",
      "b\n",
      "c\n",
      "d\n",
      "e\n",
      "f\n",
      "g\n"
     ]
    }
   ],
   "source": [
    "s = \"abcdefg\"\n",
    "for val in s:\n",
    "    print(val)"
   ]
  },
  {
   "cell_type": "code",
   "execution_count": 15,
   "metadata": {},
   "outputs": [
    {
     "name": "stdout",
     "output_type": "stream",
     "text": [
      "a\n",
      "b\n",
      "c\n",
      "d\n",
      "e\n",
      "f\n",
      "g\n"
     ]
    }
   ],
   "source": [
    "index = 0\n",
    "while index < len(s):\n",
    "    print(s[index])\n",
    "    index += 1"
   ]
  },
  {
   "cell_type": "markdown",
   "metadata": {},
   "source": [
    "### 2.4 序列运算符\n",
    "1. 比较运算符\n"
   ]
  },
  {
   "cell_type": "code",
   "execution_count": 20,
   "metadata": {},
   "outputs": [
    {
     "name": "stdout",
     "output_type": "stream",
     "text": [
      "True\n",
      "False\n",
      "True\n"
     ]
    }
   ],
   "source": [
    "a = [1, 2, 3]\n",
    "b = [1, 2, 3]\n",
    "c = [1, 2, 4]\n",
    "d = [0, 0, 0]\n",
    "\n",
    "# 检查两个序列是否相等\n",
    "print(a == b)  # 输出: True\n",
    "\n",
    "# 检查两个序列是否不相等\n",
    "print(a == c)  # 输出: False\n",
    "\n",
    "# 检查两个序列是否有大小关系\n",
    "print(a > d)   # 输出: True"
   ]
  },
  {
   "cell_type": "markdown",
   "metadata": {},
   "source": [
    "2. not\n",
    "    - 判断是否为真\n"
   ]
  },
  {
   "cell_type": "code",
   "execution_count": 21,
   "metadata": {},
   "outputs": [
    {
     "name": "stdout",
     "output_type": "stream",
     "text": [
      "False\n",
      "True\n"
     ]
    }
   ],
   "source": [
    "x = True\n",
    "y = False\n",
    "\n",
    "# 判断是否为真\n",
    "print(not x)  # 输出: False\n",
    "\n",
    "# 判断是否为假\n",
    "print(not y)  # 输出: True\n"
   ]
  },
  {
   "cell_type": "markdown",
   "metadata": {},
   "source": [
    "3. 加法\n",
    "    - 相同类型序列：'hello'+' world'"
   ]
  },
  {
   "cell_type": "code",
   "execution_count": 22,
   "metadata": {},
   "outputs": [
    {
     "name": "stdout",
     "output_type": "stream",
     "text": [
      "hello world\n"
     ]
    }
   ],
   "source": [
    "str1 = 'hello'\n",
    "str2 = ' world'\n",
    "\n",
    "# 连接两个字符串\n",
    "result = str1 + str2\n",
    "print(result)  # 输出: 'hello world'\n"
   ]
  },
  {
   "cell_type": "markdown",
   "metadata": {},
   "source": [
    "4. 乘法\n",
    "    - s*n：n个s相加"
   ]
  },
  {
   "cell_type": "code",
   "execution_count": 23,
   "metadata": {},
   "outputs": [
    {
     "name": "stdout",
     "output_type": "stream",
     "text": [
      "abcabcabc\n"
     ]
    }
   ],
   "source": [
    "s = 'abc'\n",
    "n = 3\n",
    "\n",
    "# 重复字符串 n 次\n",
    "result = s * n\n",
    "print(result)  # 输出: 'abcabcabc'\n"
   ]
  },
  {
   "cell_type": "markdown",
   "metadata": {},
   "source": [
    "### 2.5 序列相关函数\n",
    "序列支持通用函数：\n",
    "| 函数                           | 说明                                                    |\n",
    "|--------------------------------|---------------------------------------------------------|\n",
    "| `len(obj)`                     | 获取可迭代对象的长度                                     |\n",
    "| `max(iterable, *[, default=obj, key=func])` | 获取迭代对象中的最大值，`func`为元素处理函数            |\n",
    "| `min(iterable, *[, default=obj, key=func])` | 获取迭代对象中的最小值，`func`为元素处理函数            |\n",
    "| `val in seq`                   | 如果`val`在`seq`中返回`True`，否则返回`False`           |\n",
    "| `val not in seq`               | 如果`val`不在`seq`中返回`True`，否则返回`False`         |\n",
    "| `all(iterable, /)`             | 如果`iter`中每个对象`x`的`bool(x)`都为真，返回真，否则返回`False` |\n",
    "| `any(iterable, /)`             | 如果`iter`中每个对象`x`的`bool(x)`有一个为真，返回真，否则返回`False` |\n",
    "| `zip(*iterables)`              | 将多个可迭代对象进行合并，返回`zip`对象                  |\n",
    "| `sorted(iterable, /, *, key=None, reverse=False)` | 对迭代对象进行排序，默认从小到大，返回列表      |"
   ]
  },
  {
   "cell_type": "code",
   "execution_count": 24,
   "metadata": {},
   "outputs": [
    {
     "name": "stdout",
     "output_type": "stream",
     "text": [
      "最大值: 9\n",
      "最小值: 1\n",
      "'c' 是否在 letters 中: True\n",
      "所有元素都为真: False\n",
      "至少有一个元素为真: True\n",
      "合并后的序列: [(3, 'a'), (1, 'c'), (4, 'e'), (1, 'b'), (5, 'd')]\n",
      "从小到大排序: [1, 1, 2, 3, 3, 4, 5, 5, 5, 6, 9]\n"
     ]
    }
   ],
   "source": [
    "# 示例代码\n",
    "numbers = [3, 1, 4, 1, 5, 9, 2, 6, 5, 3, 5]\n",
    "letters = ['a', 'c', 'e', 'b', 'd']\n",
    "\n",
    "# max() 函数获取最大值\n",
    "max_value = max(numbers)\n",
    "print(\"最大值:\", max_value)\n",
    "\n",
    "# min() 函数获取最小值\n",
    "min_value = min(numbers)\n",
    "print(\"最小值:\", min_value)\n",
    "\n",
    "# in 关键字检查元素是否在序列中\n",
    "is_c_present = 'c' in letters\n",
    "print(\"'c' 是否在 letters 中:\", is_c_present)\n",
    "\n",
    "# all() 函数检查所有元素是否为真\n",
    "all_true = all([True, True, False])\n",
    "print(\"所有元素都为真:\", all_true)\n",
    "\n",
    "# any() 函数检查是否有一个元素为真\n",
    "any_true = any([False, False, True])\n",
    "print(\"至少有一个元素为真:\", any_true)\n",
    "\n",
    "# zip() 函数将两个序列进行合并\n",
    "zipped = zip(numbers, letters)\n",
    "print(\"合并后的序列:\", list(zipped))\n",
    "\n",
    "# sorted() 函数对序列进行排序\n",
    "sorted_numbers = sorted(numbers)\n",
    "print(\"从小到大排序:\", sorted_numbers)\n"
   ]
  },
  {
   "cell_type": "markdown",
   "metadata": {},
   "source": [
    "理解max，min中的key\n",
    "1. 设置key函数,\n",
    "2. 每个元素使用key函数进行处理,\n",
    "3. max,min函数根据处理后结果选择最大或者最小值；\n",
    "4. 返回最大最小值对应的元素；"
   ]
  },
  {
   "cell_type": "code",
   "execution_count": 25,
   "metadata": {},
   "outputs": [
    {
     "data": {
      "text/plain": [
       "(-11, 8)"
      ]
     },
     "execution_count": 25,
     "metadata": {},
     "output_type": "execute_result"
    }
   ],
   "source": [
    "# 获取列表中绝对值最大的元素，最大的元素\n",
    "vals = [1, -10, 3, -11, 8, -3]\n",
    "max(vals, key=abs), max(vals)"
   ]
  },
  {
   "cell_type": "markdown",
   "metadata": {},
   "source": [
    "# （二）字符串\n",
    "## 1 定义字符串\n",
    "字符串：单引号(')，双引号(\")，三引号(''', \"\"\")开头结尾； 例如："
   ]
  },
  {
   "cell_type": "code",
   "execution_count": 26,
   "metadata": {},
   "outputs": [],
   "source": [
    "s1 = \"Python\"\n",
    "s2 = 'hat'\n",
    "s3 = \"\"\"project\"\"\""
   ]
  },
  {
   "cell_type": "code",
   "execution_count": 27,
   "metadata": {},
   "outputs": [
    {
     "ename": "SyntaxError",
     "evalue": "unterminated string literal (detected at line 2) (1158744237.py, line 2)",
     "output_type": "error",
     "traceback": [
      "\u001b[1;36m  Cell \u001b[1;32mIn[27], line 2\u001b[1;36m\u001b[0m\n\u001b[1;33m    s = \"qimao'\u001b[0m\n\u001b[1;37m        ^\u001b[0m\n\u001b[1;31mSyntaxError\u001b[0m\u001b[1;31m:\u001b[0m unterminated string literal (detected at line 2)\n"
     ]
    }
   ],
   "source": [
    "#引号前后不一致\n",
    "s = \"qimao'"
   ]
  },
  {
   "cell_type": "code",
   "execution_count": 28,
   "metadata": {},
   "outputs": [
    {
     "ename": "SyntaxError",
     "evalue": "unterminated string literal (detected at line 2) (3842275696.py, line 2)",
     "output_type": "error",
     "traceback": [
      "\u001b[1;36m  Cell \u001b[1;32mIn[28], line 2\u001b[1;36m\u001b[0m\n\u001b[1;33m    s = 'it's me'\u001b[0m\n\u001b[1;37m                ^\u001b[0m\n\u001b[1;31mSyntaxError\u001b[0m\u001b[1;31m:\u001b[0m unterminated string literal (detected at line 2)\n"
     ]
    }
   ],
   "source": [
    "#引号中间包含相同引号\n",
    "s = 'it's me'\n"
   ]
  },
  {
   "cell_type": "code",
   "execution_count": 31,
   "metadata": {},
   "outputs": [
    {
     "data": {
      "text/plain": [
       "(\"it's me\", \"it's me\")"
      ]
     },
     "execution_count": 31,
     "metadata": {},
     "output_type": "execute_result"
    }
   ],
   "source": [
    "s1 = \"it's me\"\n",
    "s2 = 'it\\'s me'\n",
    "s1,s2"
   ]
  },
  {
   "cell_type": "markdown",
   "metadata": {},
   "source": [
    "## 2 字符串类型\n",
    ">1. 普通字符串:引号开头结尾，例如：\"this\", 'python';\n",
    ">2. 原字符串：r开头，例如：r'c\\c++\\Python';\n",
    ">3. Byte类型：b开头，例如：b'test';\n",
    "\n",
    "注意：\n",
    "1. 原字符串不会对转义符进行转义；\n",
    "2. Byte类型一般处理编码数据，媒体数据(图片，音乐等)；"
   ]
  },
  {
   "cell_type": "code",
   "execution_count": 32,
   "metadata": {},
   "outputs": [
    {
     "data": {
      "text/plain": [
       "'c\\\\c++\\\\Python'"
      ]
     },
     "execution_count": 32,
     "metadata": {},
     "output_type": "execute_result"
    }
   ],
   "source": [
    "s = r'c\\c++\\Python'\n",
    "s"
   ]
  },
  {
   "cell_type": "code",
   "execution_count": 33,
   "metadata": {},
   "outputs": [
    {
     "data": {
      "text/plain": [
       "\"it's me\""
      ]
     },
     "execution_count": 33,
     "metadata": {},
     "output_type": "execute_result"
    }
   ],
   "source": [
    "s = \"it\\'s me\"\n",
    "s"
   ]
  },
  {
   "cell_type": "code",
   "execution_count": 38,
   "metadata": {},
   "outputs": [
    {
     "data": {
      "text/plain": [
       "b'test'"
      ]
     },
     "execution_count": 38,
     "metadata": {},
     "output_type": "execute_result"
    }
   ],
   "source": [
    "s = b'test'\n",
    "s"
   ]
  },
  {
   "cell_type": "markdown",
   "metadata": {},
   "source": [
    "## 3 编码格式\n",
    "1. 基本概念：\n",
    "    是计算机科学领域里的一项业界标准，包括字符集、编码方案等。Unicode是为了解决传统的字符编码方案的局限而产生的，它为每种语言中的每个字符设定了统一并且唯一的二进制编码，以满足跨语言、跨平台进行文本转换、处理的要求。\n",
    "    \n",
    "2. 编码格式：gbk, utf-6, utf-16, gb2312等；\n",
    "> Unicode是Python3默认编码格式,编码格式转换关系：\n",
    "![image-20240128004050593](https://raw.githubusercontent.com/ZzDarker/figure/main/img/image-20240128004050593.png)"
   ]
  },
  {
   "cell_type": "code",
   "execution_count": 40,
   "metadata": {},
   "outputs": [
    {
     "name": "stdout",
     "output_type": "stream",
     "text": [
      "<class 'bytes'> b'\\xe9\\xa6\\x99\\xe8\\x95\\x89'\n",
      "香蕉\n"
     ]
    },
    {
     "ename": "UnicodeDecodeError",
     "evalue": "'gb2312' codec can't decode byte 0x99 in position 2: illegal multibyte sequence",
     "output_type": "error",
     "traceback": [
      "\u001b[1;31m---------------------------------------------------------------------------\u001b[0m",
      "\u001b[1;31mUnicodeDecodeError\u001b[0m                        Traceback (most recent call last)",
      "Cell \u001b[1;32mIn[40], line 8\u001b[0m\n\u001b[0;32m      6\u001b[0m \u001b[38;5;28mprint\u001b[39m(s1\u001b[38;5;241m.\u001b[39mdecode(\u001b[38;5;124m'\u001b[39m\u001b[38;5;124mutf-8\u001b[39m\u001b[38;5;124m'\u001b[39m)) \n\u001b[0;32m      7\u001b[0m \u001b[38;5;66;03m#错误操作： \u001b[39;00m\n\u001b[1;32m----> 8\u001b[0m \u001b[38;5;28mprint\u001b[39m(s1\u001b[38;5;241m.\u001b[39mdecode(\u001b[38;5;124m'\u001b[39m\u001b[38;5;124mgb2312\u001b[39m\u001b[38;5;124m'\u001b[39m))\n",
      "\u001b[1;31mUnicodeDecodeError\u001b[0m: 'gb2312' codec can't decode byte 0x99 in position 2: illegal multibyte sequence"
     ]
    }
   ],
   "source": [
    "s = \"香蕉\"\n",
    "#编码方式：utf-8 \n",
    "s1 = s.encode('utf-8') \n",
    "print(type(s1), s1) \n",
    "#解码方式必须为utf-8 \n",
    "print(s1.decode('utf-8')) \n",
    "#错误操作： \n",
    "print(s1.decode('gb2312'))"
   ]
  },
  {
   "cell_type": "markdown",
   "metadata": {},
   "source": [
    "## 4 创建字符串\n",
    "### 4.1 使用%格式化\n",
    "使用%号，构建字符串，常见例子：\n",
    "> user_name = \"name=%s\"%(\"sun\")\n",
    "> user_info = \"name=%s, age=%d\"%(\"sun\", 14)\n",
    "\n",
    "%s, %d被称为占位符，主要的占位符包括：\n",
    "| 符号 | 说明                                          |\n",
    "|------|-----------------------------------------------|\n",
    "| `%s` | 对象`str`方法的返回值                          |\n",
    "| `%r` | 对象的`repr`方法的返回值                       |\n",
    "| `%d` 或 `%i` | 数字格式化                               |\n",
    "| `%f` | 浮点数格式化                                  |\n",
    "| `%.nf` | 浮点数保留n位小数                           |\n",
    "| `%x` 或 `%X` | 数字格式化为16进制（x小写，X大写）         |\n",
    "| `%c` | 格式化字符及其 ASCII 码                       |\n",
    "| `%e` | 科学计数法表示的浮点数（e小写）              |"
   ]
  },
  {
   "cell_type": "code",
   "execution_count": 41,
   "metadata": {},
   "outputs": [
    {
     "name": "stdout",
     "output_type": "stream",
     "text": [
      "Hello, Alice!\n",
      "The number is 42\n",
      "The number is 42\n",
      "The value of pi is 3.141590\n",
      "The value of pi is 3.14\n",
      "The hexadecimal value is ff\n",
      "The ASCII value of A is 65\n",
      "The value in scientific notation is 1.230000e+05\n"
     ]
    }
   ],
   "source": [
    "# %s 对象str方法的返回值\n",
    "name = \"Alice\"\n",
    "print(\"Hello, %s!\" % name)\n",
    "\n",
    "# %r 对象的repr方法的返回值\n",
    "num = 42\n",
    "print(\"The number is %r\" % num)\n",
    "\n",
    "# %d 或 %i 数字格式化\n",
    "num = 42\n",
    "print(\"The number is %d\" % num)\n",
    "\n",
    "# %f 浮点数格式化\n",
    "pi = 3.14159\n",
    "print(\"The value of pi is %f\" % pi)\n",
    "\n",
    "# %.nf 浮点数保留n位小数\n",
    "pi = 3.14159\n",
    "print(\"The value of pi is %.2f\" % pi)  # 保留两位小数\n",
    "\n",
    "# %x 或 %X 数字格式化为16进制（x小写，X大写）\n",
    "num = 255\n",
    "print(\"The hexadecimal value is %x\" % num)\n",
    "\n",
    "# %c 格式化字符及其 ASCII 码\n",
    "char = 'A'\n",
    "print(\"The ASCII value of %c is %d\" % (char, ord(char)))\n",
    "\n",
    "# %e 科学计数法表示的浮点数（e小写）\n",
    "num = 1.23e+5\n",
    "print(\"The value in scientific notation is %e\" % num)"
   ]
  },
  {
   "cell_type": "code",
   "execution_count": 42,
   "metadata": {},
   "outputs": [
    {
     "name": "stdout",
     "output_type": "stream",
     "text": [
      "Object representation: This is an instance of MyClass\n"
     ]
    }
   ],
   "source": [
    "class MyClass:\n",
    "    def __repr__(self):\n",
    "        return \"This is an instance of MyClass\"\n",
    "\n",
    "obj = MyClass()\n",
    "\n",
    "# 使用 %r 格式化字符串\n",
    "print(\"Object representation: %r\" % obj)"
   ]
  },
  {
   "cell_type": "markdown",
   "metadata": {},
   "source": [
    "### 4.2 f字符串\n",
    "f字符串是python3.6版本中新增语法，语法格式如下：`f'{var1} {var1}'`\n",
    "\n",
    "f字符串特点:\n",
    "1. 字符串以f或者F开头，f'{a}',a变量必须定义\n",
    "2. f字符串优点：使用更加方便\n"
   ]
  },
  {
   "cell_type": "code",
   "execution_count": 43,
   "metadata": {},
   "outputs": [
    {
     "name": "stdout",
     "output_type": "stream",
     "text": [
      "程咬金:坦克\n",
      "马超:刺客\n",
      "蔡文姬:游走\n",
      "王昭君:法师\n",
      "曹操:战士\n"
     ]
    }
   ],
   "source": [
    "hero_names = [\"程咬金\", \"马超\",\"蔡文姬\", \"王昭君\", \"曹操\"]\n",
    "hero_types = [\"坦克\", \"刺客\",\"游走\", \"法师\", \"战士\"]\n",
    "\n",
    "for name, t in zip(hero_names, hero_types):\n",
    " line = f\"{name}:{t}\"\n",
    " print(line)\n"
   ]
  },
  {
   "cell_type": "code",
   "execution_count": 44,
   "metadata": {},
   "outputs": [
    {
     "name": "stdout",
     "output_type": "stream",
     "text": [
      "('程咬金', '坦克')\n",
      "('马超', '刺客')\n",
      "('蔡文姬', '游走')\n",
      "('王昭君', '法师')\n",
      "('曹操', '战士')\n"
     ]
    }
   ],
   "source": [
    "for item in zip(hero_names, hero_types):\n",
    " print(item)"
   ]
  },
  {
   "cell_type": "markdown",
   "metadata": {},
   "source": [
    "## 5 字符串相关函数\n",
    "### 5.1 字符串相关函数\n",
    "| 函数                     | 说明                             |\n",
    "|--------------------------|----------------------------------|\n",
    "| `str(object='')`         | 将对象转成字符串对象              |\n",
    "| `sorted(iterable, key=None, reverse=False)` | 对迭代对象排序，返回列表    |\n",
    "| `ord(c)`                 | 将字符转成ASCII码                  |\n",
    "| `chr(i)`                 | 将ASCII码转成字符                  |\n",
    "| `int(str)`               | 将字符串转成数字                   |\n",
    "| `float(str)`             | 将字符串转成浮点数                 |"
   ]
  },
  {
   "cell_type": "code",
   "execution_count": 45,
   "metadata": {},
   "outputs": [
    {
     "name": "stdout",
     "output_type": "stream",
     "text": [
      "42\n",
      "[1, 1, 2, 3, 3, 4, 5, 5, 5, 6, 9]\n",
      "65\n",
      "A\n",
      "42\n",
      "3.14\n"
     ]
    }
   ],
   "source": [
    "# 举例\n",
    "obj = 42\n",
    "str_representation = str(obj)\n",
    "print(str_representation)  # 输出: '42'\n",
    "\n",
    "numbers = [3, 1, 4, 1, 5, 9, 2, 6, 5, 3, 5]\n",
    "sorted_numbers = sorted(numbers)\n",
    "print(sorted_numbers)  # 输出: [1, 1, 2, 3, 3, 4, 5, 5, 5, 6, 9]\n",
    "\n",
    "char = 'A'\n",
    "ascii_code = ord(char)\n",
    "print(ascii_code)  # 输出: 65\n",
    "\n",
    "ascii_code = 65\n",
    "character = chr(ascii_code)\n",
    "print(character)  # 输出: 'A'\n",
    "\n",
    "num_str = '42'\n",
    "num = int(num_str)\n",
    "print(num)  # 输出: 42\n",
    "\n",
    "float_str = '3.14'\n",
    "float_num = float(float_str)\n",
    "print(float_num)  # 输出: 3.14"
   ]
  },
  {
   "cell_type": "code",
   "execution_count": 46,
   "metadata": {},
   "outputs": [
    {
     "name": "stdout",
     "output_type": "stream",
     "text": [
      "a 97\n",
      "z 122\n",
      "c 99\n"
     ]
    }
   ],
   "source": [
    "# 给定字符列表，输除其对应的ASCII码\n",
    "listchr = ['a', 'z', 'c']\n",
    "for char in listchr:\n",
    "    print(char, ord(char))"
   ]
  },
  {
   "cell_type": "code",
   "execution_count": 47,
   "metadata": {},
   "outputs": [
    {
     "name": "stdout",
     "output_type": "stream",
     "text": [
      "d\n",
      "de\n",
      "def\n",
      "defg\n",
      "defgh\n",
      "defghi\n",
      "defghij\n",
      "defghijk\n",
      "defghijkl\n",
      "defghijklm\n",
      "defghijklmn\n",
      "defghijklmno\n",
      "defghijklmnop\n",
      "defghijklmnopq\n",
      "defghijklmnopqr\n",
      "defghijklmnopqrs\n",
      "defghijklmnopqrst\n",
      "defghijklmnopqrstu\n",
      "defghijklmnopqrstuv\n",
      "defghijklmnopqrstuvw\n",
      "defghijklmnopqrstuvwx\n",
      "defghijklmnopqrstuvwxy\n",
      "defghijklmnopqrstuvwxyz\n"
     ]
    },
    {
     "data": {
      "text/plain": [
       "'defghijklmnopqrstuvwxyz'"
      ]
     },
     "execution_count": 47,
     "metadata": {},
     "output_type": "execute_result"
    }
   ],
   "source": [
    "# 给定两个字符，输出两个字符之间所有的字符\n",
    "def func(start, end):\n",
    "    s = \"\"\n",
    "    for val in range(ord(start), ord(end)+1):\n",
    "        s += chr(val)\n",
    "        print(s)\n",
    "    return s\n",
    "\n",
    "func(\"d\", \"z\")"
   ]
  },
  {
   "cell_type": "markdown",
   "metadata": {},
   "source": [
    "## 6 字符串相关方法\n",
    "### 6.1 查找\n",
    "查找：查找子串位置\n",
    "| 方法                       | 说明                                       | 参数                                       |\n",
    "|----------------------------|--------------------------------------------|--------------------------------------------|\n",
    "| `S.find(sub[, start[, end]])` | 从前向后查找，返回`sub`在`S`第一次出现位置，不存在返回-1 | `sub`: 要查找的子串<br>`start`: 开始查找的位置（可选，默认为0）<br>`end`: 结束查找的位置（可选，默认为字符串的长度） |\n",
    "| `S.rfind(sub[, start[, end]])` | 从后向前查找，功能同上                       | 同上                                         |\n",
    "| `S.index(sub[, start[, end]])` | 功能同`S.find`，不同：子串不存在时报异常      | 同上                                         |\n",
    "| `S.count(sub[, start[, end]])` | 返回子串在`S`中出现的次数                    | 同上                                         |"
   ]
  },
  {
   "cell_type": "code",
   "execution_count": 48,
   "metadata": {},
   "outputs": [
    {
     "name": "stdout",
     "output_type": "stream",
     "text": [
      "第一次出现的位置: 7\n",
      "最后一次出现的位置: 21\n",
      "子串不存在: substring not found\n",
      "出现的次数: 3\n"
     ]
    }
   ],
   "source": [
    "\n",
    "S = \"Hello, World! World! World!\"\n",
    "\n",
    "# S.find(sub[, start[, end]])\n",
    "first_occurrence = S.find(\"World\")\n",
    "print(\"第一次出现的位置:\", first_occurrence)  # 输出: 7\n",
    "\n",
    "# S.rfind(sub[, start[, end]])\n",
    "last_occurrence = S.rfind(\"World\")\n",
    "print(\"最后一次出现的位置:\", last_occurrence)  # 输出: 21\n",
    "\n",
    "# S.index(sub[, start[, end]])\n",
    "try:\n",
    "    index = S.index(\"Python\")\n",
    "    print(\"第一次出现的位置:\", index)\n",
    "except ValueError as e:\n",
    "    print(\"子串不存在:\", e)  # 输出: 子串不存在: substring not found\n",
    "\n",
    "# S.count(sub[, start[, end]])\n",
    "count = S.count(\"World\")\n",
    "print(\"出现的次数:\", count)  # 输出: 3\n"
   ]
  },
  {
   "cell_type": "code",
   "execution_count": 49,
   "metadata": {},
   "outputs": [
    {
     "data": {
      "text/plain": [
       "(13, 22)"
      ]
     },
     "execution_count": 49,
     "metadata": {},
     "output_type": "execute_result"
    }
   ],
   "source": [
    "phoneprice = '荣耀50Pro:3689,小米11:3599,vivoX60:4498'\n",
    "start = phoneprice.find(\"小米11:\")\n",
    "end = phoneprice.find(\",\", 13)\n",
    "start,end"
   ]
  },
  {
   "cell_type": "code",
   "execution_count": 50,
   "metadata": {},
   "outputs": [
    {
     "data": {
      "text/plain": [
       "'3599'"
      ]
     },
     "execution_count": 50,
     "metadata": {},
     "output_type": "execute_result"
    }
   ],
   "source": [
    "# 解析小米11的价格\n",
    "phoneprice[start+len(\"小米11:\"):end]"
   ]
  },
  {
   "cell_type": "markdown",
   "metadata": {},
   "source": [
    "### 6.2 替换\n",
    "替换：将指定子串替换成新的字符串\n",
    "| 方法                               | 说明                                     | 参数                                                |\n",
    "|------------------------------------|------------------------------------------|-----------------------------------------------------|\n",
    "| `S.replace(old, new[, count])`     | 将`old`使用`new`替换，返回新的字符串       | `old`: 被替换字符串<br>`new`: 替换后的内容<br>`count`: 替换数量，默认替换所有（可选）                       |"
   ]
  },
  {
   "cell_type": "code",
   "execution_count": 51,
   "metadata": {},
   "outputs": [
    {
     "name": "stdout",
     "output_type": "stream",
     "text": [
      "Hi, World! Hi, World!\n",
      "Hi, World! Hello, World!\n"
     ]
    }
   ],
   "source": [
    "# 举例\n",
    "S = \"Hello, World! Hello, World!\"\n",
    "\n",
    "# S.replace(old, new[, count])\n",
    "new_string = S.replace(\"Hello\", \"Hi\")\n",
    "print(new_string)  # 输出: Hi, World! Hi, World!\n",
    "\n",
    "# 指定替换数量\n",
    "limited_replace = S.replace(\"Hello\", \"Hi\", 1)\n",
    "print(limited_replace)  # 输出: Hi, World! Hello, World!"
   ]
  },
  {
   "cell_type": "code",
   "execution_count": 52,
   "metadata": {},
   "outputs": [
    {
     "data": {
      "text/plain": [
       "'age:*899'"
      ]
     },
     "execution_count": 52,
     "metadata": {},
     "output_type": "execute_result"
    }
   ],
   "source": [
    "s = \"age:9899\"\n",
    "new_s = s.replace(\"9\", \"*\", 1)\n",
    "new_s"
   ]
  },
  {
   "cell_type": "code",
   "execution_count": 54,
   "metadata": {},
   "outputs": [
    {
     "name": "stdout",
     "output_type": "stream",
     "text": [
      "li:A+, sun:A, liu1:A, liu2:B+\n"
     ]
    }
   ],
   "source": [
    "# 给定：s=\"li:level1, sun:level2, liu:level2\"\n",
    "# 替换：s = \"li:A+， sun:A, liu:A\"\n",
    "levels = [\"level1\", \"level2\", \"level3\"]\n",
    "new_level = [\"A+\", \"A\", \"B+\"]\n",
    "new_str = \"li:level1, sun:level2, liu1:level2, liu2:level3\"\n",
    "for old, new_s in zip(levels, new_level):\n",
    "    new_str = new_str.replace(old, new_s)\n",
    "print(new_str)\n"
   ]
  },
  {
   "cell_type": "markdown",
   "metadata": {},
   "source": [
    "### 6.3 字符串切分\n",
    "切分：将字符串按照指定分隔符进行分割，得到字符串列表\n",
    "| 方法                          | 说明                                   | 参数                                                |\n",
    "|-------------------------------|----------------------------------------|-----------------------------------------------------|\n",
    "| `S.split(sep=None, maxsplit=-1)` | 从前向后通过`sep`对`S`切分，返回切分子串组成的列表 | `sep`: 分隔符，默认为所有空字符<br>`maxsplit`: 指定切分数量，默认为-1（可选）                            |\n",
    "| `S.rsplit(sep=None, maxsplit=-1)` | 从后向前切分，功能同上                  | 同上                                                 |"
   ]
  },
  {
   "cell_type": "code",
   "execution_count": 56,
   "metadata": {},
   "outputs": [
    {
     "name": "stdout",
     "output_type": "stream",
     "text": [
      "['apple', 'orange', 'banana', 'grape']\n",
      "['apple', 'orange', 'banana,grape']\n",
      "['apple', 'orange', 'banana', 'grape']\n",
      "['apple,orange', 'banana', 'grape']\n"
     ]
    }
   ],
   "source": [
    "# 举例\n",
    "S = \"apple,orange,banana,grape\"\n",
    "\n",
    "# S.split(sep=None, maxsplit=-1)\n",
    "split_result = S.split(\",\")\n",
    "print(split_result)  # 输出: ['apple', 'orange', 'banana', 'grape']\n",
    "\n",
    "# 指定切分数量\n",
    "limited_split = S.split(\",\", 2)\n",
    "print(limited_split)  # 输出: ['apple', 'orange', 'banana,grape']\n",
    "\n",
    "# S.rsplit(sep=None, maxsplit=-1)\n",
    "rsplit_result = S.rsplit(\",\")\n",
    "print(rsplit_result)  # 输出: ['apple', 'orange', 'banana', 'grape']\n",
    "\n",
    "# 指定切分数量\n",
    "limited_rsplit = S.rsplit(\",\", 2)\n",
    "print(limited_rsplit)  # 输出: ['apple,orange', 'banana', 'grape']"
   ]
  },
  {
   "cell_type": "code",
   "execution_count": 58,
   "metadata": {},
   "outputs": [
    {
     "data": {
      "text/plain": [
       "('6e312a86a7.jpg', 'jpg')"
      ]
     },
     "execution_count": 58,
     "metadata": {},
     "output_type": "execute_result"
    }
   ],
   "source": [
    "url = \"http://i1.umei.cc/uploads/tu/201711/9999/6e312a86a7.jpg\"\n",
    "pic_name = url.rsplit(\"/\", 1)[-1]\n",
    "pic_name,pic_name.split(\".\")[-1]"
   ]
  },
  {
   "cell_type": "code",
   "execution_count": 61,
   "metadata": {},
   "outputs": [
    {
     "name": "stdout",
     "output_type": "stream",
     "text": [
      "荣耀50Pro的售价：3689\n",
      "小米11的售价：3599\n",
      "vivoX60的售价：4498\n"
     ]
    }
   ],
   "source": [
    "phoneprice = '荣耀50Pro:3689,小米11:3599,vivoX60:4498'\n",
    "items = phoneprice.split(\",\")\n",
    "for item in items:\n",
    "    name, price = item.split(\":\")\n",
    "    print(f\"{name}的售价：{price}\")\n"
   ]
  },
  {
   "cell_type": "code",
   "execution_count": 63,
   "metadata": {},
   "outputs": [
    {
     "data": {
      "text/plain": [
       "['1', '2', '3']"
      ]
     },
     "execution_count": 63,
     "metadata": {},
     "output_type": "execute_result"
    }
   ],
   "source": [
    "s = \"1\\n2\\n3\"\n",
    "s.split()"
   ]
  },
  {
   "cell_type": "markdown",
   "metadata": {},
   "source": [
    "### 6.4 字符串拼接\n",
    "拼接：使用指定分隔符将可迭代字符串组成新的字符串\n",
    "| 方法                    | 说明                                           | 参数                          |\n",
    "|-------------------------|------------------------------------------------|-------------------------------|\n",
    "| `S.join(iterable)`      | 使用`S`将迭代对象中的元素（字符串类型）拼接成新的字符串 | `iterable`: 字符串迭代对象      |"
   ]
  },
  {
   "cell_type": "code",
   "execution_count": 64,
   "metadata": {},
   "outputs": [
    {
     "name": "stdout",
     "output_type": "stream",
     "text": [
      "apple, orange, banana, grape\n",
      "apple-orange-banana-grape\n"
     ]
    }
   ],
   "source": [
    "# 举例\n",
    "words = ['apple', 'orange', 'banana', 'grape']\n",
    "\n",
    "# S.join(iterable)\n",
    "joined_string = ', '.join(words)\n",
    "print(joined_string)  # 输出: 'apple, orange, banana, grape'\n",
    "\n",
    "# 使用不同的连接符\n",
    "hyphen_joined = '-'.join(words)\n",
    "print(hyphen_joined)  # 输出: 'apple-orange-banana-grape'"
   ]
  },
  {
   "cell_type": "markdown",
   "metadata": {},
   "source": [
    "### 6.5  strip方法：\n",
    "strip方法：用于对字符串头尾进行处理\n",
    "| 方法                  | 说明                                                  | 参数                                    |\n",
    "|-----------------------|-------------------------------------------------------|-----------------------------------------|\n",
    "| `S.strip(chars=None)` | 从`S`头尾处理，删除在`chars`中的元素，如果元素不在`chars`中，停止删除 | `chars`: 指定字符集，默认为空白字符        |\n",
    "| `S.lstrip(chars=None)`| 从`S`的开始位置开始处理，功能同上                     | 同上                                    |\n",
    "| `S.rstrip(chars=None)`| 从`S`的结尾位置开始处理，功能同上                     | 同上                                    |\n"
   ]
  },
  {
   "cell_type": "code",
   "execution_count": 68,
   "metadata": {},
   "outputs": [
    {
     "name": "stdout",
     "output_type": "stream",
     "text": [
      "hello, world!\n",
      "    hello, world!    \n",
      "hello, world!    \n",
      "    hello, world!\n"
     ]
    },
    {
     "data": {
      "text/plain": [
       "('hello, world!',\n",
       " '    hello, world!    ',\n",
       " 'hello, world!    ',\n",
       " '    hello, world!')"
      ]
     },
     "execution_count": 68,
     "metadata": {},
     "output_type": "execute_result"
    }
   ],
   "source": [
    "# 举例\n",
    "S = \"    hello, world!    \"\n",
    "\n",
    "# S.strip(chars=None)\n",
    "stripped_string = S.strip()\n",
    "print(stripped_string)  # 输出: 'hello, world!'\n",
    "\n",
    "# 指定字符集\n",
    "custom_stripped = S.strip(\"!\")\n",
    "print(custom_stripped)  # 输出: 'hello, world'\n",
    "\n",
    "# S.lstrip(chars=None)\n",
    "left_stripped = S.lstrip()\n",
    "print(left_stripped)  # 输出: 'hello, world!   '\n",
    "\n",
    "# S.rstrip(chars=None)\n",
    "right_stripped = S.rstrip()\n",
    "print(right_stripped)  # 输出: '   hello, world!'\n",
    "stripped_string,custom_stripped,left_stripped,right_stripped"
   ]
  },
  {
   "cell_type": "code",
   "execution_count": 70,
   "metadata": {},
   "outputs": [
    {
     "data": {
      "text/plain": [
       "('msg', 'msg#-')"
      ]
     },
     "execution_count": 70,
     "metadata": {},
     "output_type": "execute_result"
    }
   ],
   "source": [
    "s = \"#-msg#-\"\n",
    "s.strip(\"-#\"),s.lstrip(\"#-\")"
   ]
  },
  {
   "cell_type": "markdown",
   "metadata": {},
   "source": [
    "### 6.6 字符串开头结尾判断\n",
    "字符串判断开头或结尾：\n",
    "| 方法                               | 说明                                             | 参数                                                |\n",
    "|------------------------------------|--------------------------------------------------|-----------------------------------------------------|\n",
    "| `S.startswith(prefix[, start[, end]])` | 如果`S`以指定子串开头返回`True`，否则返回`False` | `prefix`: 子串<br>`start`: 起始索引（可选，默认为0）<br>`end`: 结束索引（可选，默认为字符串的长度）               |\n",
    "| `S.endswith(suffix[, start[, end]])` | 如果`S`以指定子串结尾返回`True`，否则返回`False` | 同上                                                |"
   ]
  },
  {
   "cell_type": "code",
   "execution_count": 71,
   "metadata": {},
   "outputs": [
    {
     "name": "stdout",
     "output_type": "stream",
     "text": [
      "True\n",
      "True\n",
      "True\n",
      "False\n"
     ]
    }
   ],
   "source": [
    "# 举例\n",
    "S = \"Hello, World!\"\n",
    "\n",
    "# S.startswith(prefix[, start[, end]])\n",
    "starts_with_hello = S.startswith(\"Hello\")\n",
    "print(starts_with_hello)  # 输出: True\n",
    "\n",
    "# 指定起始索引和结束索引\n",
    "starts_with_World = S.startswith(\"World\", 7)\n",
    "print(starts_with_World)  # 输出: True\n",
    "\n",
    "# S.endswith(suffix[, start[, end]])\n",
    "ends_with_exclamation = S.endswith(\"!\")\n",
    "print(ends_with_exclamation)  # 输出: True\n",
    "\n",
    "# 指定起始索引和结束索引\n",
    "ends_with_World = S.endswith(\"World\", 0, 7)\n",
    "print(ends_with_World)  # 输出: True"
   ]
  },
  {
   "cell_type": "markdown",
   "metadata": {},
   "source": [
    "### 6.7 字符串大小写转换\n",
    "| 方法                 | 说明                                       | 返回值                          |\n",
    "|----------------------|--------------------------------------------|---------------------------------|\n",
    "| `S.lower()`          | 将字符串中所有大写字符为小写               | 返回新字符串                    |\n",
    "| `S.upper()`          | 将字符串中的小写字母转为大写字母           | 同上                            |\n",
    "| `S.title()`          | 字符串标题化，将每个单词首字母大写，其他小写 | 同上                            |\n",
    "| `S.capitalize()`     | 将字符串中的首字母大写，其他小写             | 同上                            |\n",
    "| `S.swapcase()`       | 将字符串中的大小写交换                     | 同上                            |"
   ]
  },
  {
   "cell_type": "code",
   "execution_count": 72,
   "metadata": {},
   "outputs": [
    {
     "name": "stdout",
     "output_type": "stream",
     "text": [
      "hello, world!\n",
      "HELLO, WORLD!\n",
      "Hello, World!\n",
      "Hello, world!\n",
      "hELLO, wORLD!\n"
     ]
    }
   ],
   "source": [
    "# 举例\n",
    "S = \"Hello, World!\"\n",
    "\n",
    "# S.lower()\n",
    "lower_case = S.lower()\n",
    "print(lower_case)  # 输出: 'hello, world!'\n",
    "\n",
    "# S.upper()\n",
    "upper_case = S.upper()\n",
    "print(upper_case)  # 输出: 'HELLO, WORLD!'\n",
    "\n",
    "# S.title()\n",
    "title_case = S.title()\n",
    "print(title_case)  # 输出: 'Hello, World!'\n",
    "\n",
    "# S.capitalize()\n",
    "capitalize_case = S.capitalize()\n",
    "print(capitalize_case)  # 输出: 'Hello, world!'\n",
    "\n",
    "# S.swapcase()\n",
    "swap_case = S.swapcase()\n",
    "print(swap_case)  # 输出: 'hELLO, wORLD!'"
   ]
  },
  {
   "cell_type": "code",
   "execution_count": 73,
   "metadata": {},
   "outputs": [
    {
     "name": "stdout",
     "output_type": "stream",
     "text": [
      "原字符串： Python CookBook\n",
      "字符全部小写： python cookbook\n",
      "字符全部大写： PYTHON COOKBOOK\n",
      "单词首字母大写： Python Cookbook\n",
      "首字母大写： Python cookbook\n",
      "大小写转换： pYTHON cOOKbOOK\n"
     ]
    }
   ],
   "source": [
    "s = 'Python CookBook'\n",
    "print('原字符串：',s)\n",
    "print('字符全部小写：',s.lower())\n",
    "print('字符全部大写：',s.upper())\n",
    "print('单词首字母大写：',s.title())\n",
    "print('首字母大写：',s.capitalize())\n",
    "print('大小写转换：',s.swapcase())"
   ]
  },
  {
   "cell_type": "markdown",
   "metadata": {},
   "source": [
    "### 6.8 format方法\n",
    "1. 可以使用{}用来代替%，且参数位置与个数不受限制：\n",
    "2. 指定位置{n}对应第n个参数;\n",
    "3. 指定参数{name}；"
   ]
  },
  {
   "cell_type": "code",
   "execution_count": 74,
   "metadata": {},
   "outputs": [
    {
     "name": "stdout",
     "output_type": "stream",
     "text": [
      "sun age is 18\n",
      "li age is 19\n",
      "zhang age is 20\n",
      "zhao age is 20\n"
     ]
    }
   ],
   "source": [
    "f = '{} age is {}'\n",
    "print(f.format('sun', 18))\n",
    "print(f.format('li', 19))\n",
    "f = '{1} age is {0}'\n",
    "#{1}对应zhang, {0}对应20\n",
    "print(f.format(20, 'zhang'))\n",
    "#指定参数\n",
    "f = '{name} age is {age}'\n",
    "print(f.format(name = 'zhao', age = 20))"
   ]
  },
  {
   "cell_type": "markdown",
   "metadata": {},
   "source": [
    "### 6.9 字符串判断相关方法\n",
    "主要内用于大小写，字符类型判断：\n",
    "| 方法                     | 说明                                           |\n",
    "|--------------------------|------------------------------------------------|\n",
    "| `S.isalpha()`            | 判断字符串中所有字符为字母                      |\n",
    "| `S.isdigit()`            | 判断字符串中所有字符为数字                      |\n",
    "| `S.islower()`/`S.isupper()` | 判断字符串中所有字符为小/大写字母             |\n",
    "| `S.isspace()`            | 判断字符串中所有字符为空格                      |\n",
    "| `S.istitle()`            | 判断字符串中所有的单词拼写首字母是否为大写，且其他为小写 |"
   ]
  },
  {
   "cell_type": "code",
   "execution_count": 78,
   "metadata": {},
   "outputs": [
    {
     "name": "stdout",
     "output_type": "stream",
     "text": [
      "Hello  isalpha  True\n",
      "123  isalpha  False\n",
      "Hello123  isalpha  False\n",
      "Hello  isdigit  False\n",
      "123  isdigit  True\n",
      "Hello123  isdigit  False\n",
      "hello  islower  True\n",
      "HELLO  isupper  True\n",
      "     isspace  True\n",
      "Hello World  istitle  True\n"
     ]
    }
   ],
   "source": [
    "# 举例\n",
    "alpha_str = \"Hello\"\n",
    "numeric_str = \"123\"\n",
    "mixed_case_str = \"Hello123\"\n",
    "lower_case_str = \"hello\"\n",
    "upper_case_str = \"HELLO\"\n",
    "title_case_str = \"Hello World\"\n",
    "\n",
    "# S.isalpha()\n",
    "print(alpha_str,' isalpha ',alpha_str.isalpha())  # 输出: True\n",
    "print(numeric_str,' isalpha ',numeric_str.isalpha())  # 输出: False\n",
    "print(mixed_case_str,' isalpha ',mixed_case_str.isalpha())  # 输出: False\n",
    "\n",
    "# S.isdigit()\n",
    "print(alpha_str,' isdigit ',alpha_str.isdigit())  # 输出: False\n",
    "print(numeric_str,' isdigit ',numeric_str.isdigit())  # 输出: True\n",
    "print(mixed_case_str,' isdigit ',mixed_case_str.isdigit())  # 输出: False\n",
    "\n",
    "# S.islower() / S.isupper()\n",
    "print(lower_case_str,' islower ',lower_case_str.islower())  # 输出: True\n",
    "print(upper_case_str,' isupper ',upper_case_str.isupper())  # 输出: True\n",
    "\n",
    "# S.isspace()\n",
    "space_str = \"   \"\n",
    "print(space_str,' isspace ',space_str.isspace())  # 输出: True\n",
    "\n",
    "# S.istitle()\n",
    "print(title_case_str,' istitle ',title_case_str.istitle())  # 输出: True"
   ]
  },
  {
   "cell_type": "markdown",
   "metadata": {},
   "source": [
    "# （三）列表\n",
    "## 1 列表基础\n",
    "1. 列表定义方式：[value1, value2, ....]\n",
    "2. 列表理解：理解为容器，可以存放任意对象；\n",
    "3. 列表支持：修改，插入，删除；"
   ]
  },
  {
   "cell_type": "code",
   "execution_count": 79,
   "metadata": {},
   "outputs": [
    {
     "data": {
      "text/plain": [
       "[1, '1', '123', None]"
      ]
     },
     "execution_count": 79,
     "metadata": {},
     "output_type": "execute_result"
    }
   ],
   "source": [
    "l = [1, \"1\", \"123\", None]\n",
    "l"
   ]
  },
  {
   "cell_type": "markdown",
   "metadata": {},
   "source": [
    "### 1.1 列表创建方式\n",
    "1. 直接定义列表：list1 = [1,'1','2',3']\n",
    "2. 多维列表：list2 = [1,2,3,['a','b', 'c']]\n",
    "3. 使用list函数：list(iterable=(), /)"
   ]
  },
  {
   "cell_type": "code",
   "execution_count": 80,
   "metadata": {},
   "outputs": [
    {
     "data": {
      "text/plain": [
       "['p', 'y', 't', 'h', 'o', 'n']"
      ]
     },
     "execution_count": 80,
     "metadata": {},
     "output_type": "execute_result"
    }
   ],
   "source": [
    "s = \"python\"\n",
    "tmp = list(s)\n",
    "tmp"
   ]
  },
  {
   "cell_type": "code",
   "execution_count": 81,
   "metadata": {},
   "outputs": [
    {
     "data": {
      "text/plain": [
       "'python'"
      ]
     },
     "execution_count": 81,
     "metadata": {},
     "output_type": "execute_result"
    }
   ],
   "source": [
    "\"\".join(tmp)"
   ]
  },
  {
   "cell_type": "markdown",
   "metadata": {},
   "source": [
    "### 1.2 列表遍历\n",
    "1. 使用while+索引；\n",
    "2. 使用for循环进行遍历；\n",
    "3. 多维列表访问：list2[3][0]"
   ]
  },
  {
   "cell_type": "code",
   "execution_count": 82,
   "metadata": {},
   "outputs": [
    {
     "data": {
      "text/plain": [
       "list"
      ]
     },
     "execution_count": 82,
     "metadata": {},
     "output_type": "execute_result"
    }
   ],
   "source": [
    "scores = [\"class_1\", [\"sun\",80, 60], [\"zhao\", 70, 90]]\n",
    "type(scores)"
   ]
  },
  {
   "cell_type": "code",
   "execution_count": 83,
   "metadata": {},
   "outputs": [
    {
     "data": {
      "text/plain": [
       "(True, False)"
      ]
     },
     "execution_count": 83,
     "metadata": {},
     "output_type": "execute_result"
    }
   ],
   "source": [
    "# isinstance 是检查某元素是不是某类型\n",
    "isinstance(scores, list),isinstance(scores, str)"
   ]
  },
  {
   "cell_type": "code",
   "execution_count": 84,
   "metadata": {},
   "outputs": [
    {
     "name": "stdout",
     "output_type": "stream",
     "text": [
      "class_1\n",
      "sun\n",
      "80\n",
      "60\n",
      "zhao\n",
      "70\n",
      "90\n"
     ]
    }
   ],
   "source": [
    "for item in scores:\n",
    "    if isinstance(item, list):\n",
    "        for val in item:\n",
    "            print(val)\n",
    "    else:\n",
    "        print(item)"
   ]
  },
  {
   "cell_type": "markdown",
   "metadata": {},
   "source": [
    "### 1.3 列表修改\n",
    "列表是一种可变的数据结构，修改列表中的某个元素，列表不变；"
   ]
  },
  {
   "cell_type": "code",
   "execution_count": 85,
   "metadata": {},
   "outputs": [
    {
     "name": "stdout",
     "output_type": "stream",
     "text": [
      "[60, 62, 59]\n"
     ]
    }
   ],
   "source": [
    "listv = [60, 90, 59]\n",
    "listv[1] = 62\n",
    "print(listv)"
   ]
  },
  {
   "cell_type": "code",
   "execution_count": 87,
   "metadata": {},
   "outputs": [
    {
     "data": {
      "text/plain": [
       "[96, 80, 0, 66]"
      ]
     },
     "execution_count": 87,
     "metadata": {},
     "output_type": "execute_result"
    }
   ],
   "source": [
    "a = [96, 80, -1, 66]\n",
    "for index, val in enumerate(a):\n",
    "    if val == -1:\n",
    "        a[index] = 0\n",
    "a"
   ]
  },
  {
   "cell_type": "markdown",
   "metadata": {},
   "source": [
    "## 2 列表相关函数\n",
    "| 方法                           | 说明                                               |\n",
    "|--------------------------------|----------------------------------------------------|\n",
    "| `list(iterable=(), /)`         | 将迭代对象转成列表                                 |\n",
    "| `max(iterable, [key=func])`     | 获取迭代对象中的最大值                              |\n",
    "| `min(iterable, [key=func])`     | 获取迭代对象中的最小值                              |\n",
    "| `len(obj)`                      | 获取对象的长度                                     |\n",
    "| `sum(iterable, start=0, /)`     | 迭代对象求和，迭代对象元素必须为数字               |\n"
   ]
  },
  {
   "cell_type": "code",
   "execution_count": 88,
   "metadata": {},
   "outputs": [
    {
     "name": "stdout",
     "output_type": "stream",
     "text": [
      "[1, 2, 3, 4, 5]\n",
      "5\n",
      "1\n",
      "13\n",
      "15\n"
     ]
    }
   ],
   "source": [
    "# 举例\n",
    "# list(iterable=(), /)\n",
    "numbers_tuple = (1, 2, 3, 4, 5)\n",
    "numbers_list = list(numbers_tuple)\n",
    "print(numbers_list)  # 输出: [1, 2, 3, 4, 5]\n",
    "\n",
    "# max(iterable, [key=func])\n",
    "max_value = max(numbers_list)\n",
    "print(max_value)  # 输出: 5\n",
    "\n",
    "# min(iterable, [key=func])\n",
    "min_value = min(numbers_list)\n",
    "print(min_value)  # 输出: 1\n",
    "\n",
    "# len(obj)\n",
    "string = \"Hello, World!\"\n",
    "length = len(string)\n",
    "print(length)  # 输出: 13\n",
    "\n",
    "# sum(iterable, start=0, /)\n",
    "numbers_list = [1, 2, 3, 4, 5]\n",
    "sum_result = sum(numbers_list)\n",
    "print(sum_result)  # 输出: 15"
   ]
  },
  {
   "cell_type": "markdown",
   "metadata": {},
   "source": [
    "## 3 列表相关方法\n",
    "### 3.1 列表中添加元素\n",
    "| 方法                   | 说明                                      |\n",
    "|------------------------|-------------------------------------------|\n",
    "| `l.append(obj)`        | 在列表尾部添加元素                         |\n",
    "| `l.insert(index, obj)` | 在指定索引处插入元素                       |\n",
    "| `l.extend(iterable)`   | 在尾部扩展列表，将可迭代对象元素添加到列表尾部 |"
   ]
  },
  {
   "cell_type": "code",
   "execution_count": 89,
   "metadata": {},
   "outputs": [
    {
     "name": "stdout",
     "output_type": "stream",
     "text": [
      "[1, 2, 3, 4]\n",
      "[-1, 1, 2, 3, 4]\n",
      "[-1, 1, 2, 3, 4, '5', '6', '7']\n"
     ]
    }
   ],
   "source": [
    "l = [1,2,3]\n",
    "#尾部添加4\n",
    "l.append(4)\n",
    "print(l)\n",
    "#在起始位置插入-1\n",
    "l.insert(0,-1)\n",
    "print(l)\n",
    "#extend添加可迭代对象\n",
    "s = '567'\n",
    "l.extend(s)\n",
    "print(l)"
   ]
  },
  {
   "cell_type": "markdown",
   "metadata": {},
   "source": [
    "### 3.2 列表统计与查找\n",
    "| 方法                  | 说明                                            |\n",
    "|-----------------------|-------------------------------------------------|\n",
    "| `L.count(value)`      | 统计 `value` 在列表 `L` 中出现的次数             |\n",
    "| `L.index(value, [start, [stop]])` | 返回 `value` 第一次出现的位置，不存在则报异常    |\n"
   ]
  },
  {
   "cell_type": "code",
   "execution_count": 90,
   "metadata": {},
   "outputs": [
    {
     "name": "stdout",
     "output_type": "stream",
     "text": [
      "3出现次数： 3\n",
      "3第一次出现位置: 2\n",
      "3在索引为3之后，第一次出现位置: 4\n"
     ]
    }
   ],
   "source": [
    "l = [1,2,3,4,3,5,3]\n",
    "print('3出现次数：',l.count(3))\n",
    "print('3第一次出现位置:',l.index(3))\n",
    "#注意返回值，认为该元素在列表中实际的位置\n",
    "print('3在索引为3之后，第一次出现位置:',l.index(3,3))"
   ]
  },
  {
   "cell_type": "markdown",
   "metadata": {},
   "source": [
    "### 3.3 列表删除\n",
    "| 方法                    | 说明                                  |\n",
    "|-------------------------|---------------------------------------|\n",
    "| `l.pop(index=-1, /)`    | 删除并返回索引 `index` 对应的值， 默认值为 -1。如果 `index` 未提供或者为 -1，删除并返回最后一个元素。|\n",
    "| `l.remove(value, /)`    | 删除列表中第一次出现的值 `value`，如果不存在会产生异常。 |\n",
    "| `l.clear()`             | 清空列表。                             |"
   ]
  },
  {
   "cell_type": "code",
   "execution_count": 92,
   "metadata": {},
   "outputs": [
    {
     "name": "stdout",
     "output_type": "stream",
     "text": [
      "[1, 4, 2, 4, 3]\n",
      "[4, 2, 4, 3]\n",
      "[2, 4, 3]\n",
      "[]\n"
     ]
    }
   ],
   "source": [
    "l = [1,4,2,4,3,4]\n",
    "#删除最后一个元素\n",
    "l.pop()\n",
    "print(l)\n",
    "#删除第一个元素\n",
    "l.pop(0)\n",
    "print(l)\n",
    "#删除第一个4\n",
    "l.remove(4)\n",
    "print(l)\n",
    "#清空列表\n",
    "l.clear()\n",
    "print(l)"
   ]
  },
  {
   "cell_type": "markdown",
   "metadata": {},
   "source": [
    "### 3.4 列表陷阱\n",
    "动态删除列中，可能造成某些问题，达不到想要的效果，例如：删除列表中重复元素；\n"
   ]
  },
  {
   "cell_type": "code",
   "execution_count": 93,
   "metadata": {},
   "outputs": [
    {
     "name": "stdout",
     "output_type": "stream",
     "text": [
      "[1, 2, 3, 4, 4, 5, 4, 5, 6]\n",
      "[1, 2, 3, 4, 4, 5, 4, 5, 6]\n",
      "[1, 2, 3, 4, 4, 5, 4, 5, 6]\n",
      "[1, 2, 3, 4, 5, 4, 5, 6]\n",
      "[1, 2, 3, 4, 4, 5, 6]\n",
      "[1, 2, 3, 4, 4, 5, 6]\n",
      "[1, 2, 3, 4, 4, 5, 6]\n",
      "[1, 2, 3, 4, 4, 5, 6]\n"
     ]
    }
   ],
   "source": [
    "vals = [1,2,3,4,4,5,4,5,6]\n",
    "for val in vals:\n",
    "    if vals.count(val) >1:\n",
    "        vals.remove(val)\n",
    "    print(vals)\n",
    "print(vals)"
   ]
  },
  {
   "cell_type": "code",
   "execution_count": 94,
   "metadata": {},
   "outputs": [
    {
     "name": "stdout",
     "output_type": "stream",
     "text": [
      "[1, 2, 3, 4, 5, 6]\n"
     ]
    }
   ],
   "source": [
    "vals = [1,2,1,2,3,4,4,5,4,5,6]\n",
    "while True:\n",
    "    for item in vals:\n",
    "        if vals.count(item) > 1:\n",
    "            vals.remove(item)\n",
    "            break\n",
    "    else:\n",
    "        break\n",
    "print(vals)"
   ]
  },
  {
   "cell_type": "markdown",
   "metadata": {},
   "source": [
    "## 4 元组\n",
    "元组与列表类似，但是元组不可变；\n",
    "### 4.1 创建元组\n",
    "1. 方式1：t1 = (1,2,3)\n",
    "2. 方式2：t2 = tuple(\"123\")"
   ]
  },
  {
   "cell_type": "code",
   "execution_count": 95,
   "metadata": {},
   "outputs": [
    {
     "data": {
      "text/plain": [
       "(1, 2, 3)"
      ]
     },
     "execution_count": 95,
     "metadata": {},
     "output_type": "execute_result"
    }
   ],
   "source": [
    "t1 = (1,2,3)\n",
    "t1"
   ]
  },
  {
   "cell_type": "code",
   "execution_count": 96,
   "metadata": {},
   "outputs": [
    {
     "data": {
      "text/plain": [
       "(1, 2, 3)"
      ]
     },
     "execution_count": 96,
     "metadata": {},
     "output_type": "execute_result"
    }
   ],
   "source": [
    "1,2,3"
   ]
  },
  {
   "cell_type": "code",
   "execution_count": 97,
   "metadata": {},
   "outputs": [
    {
     "data": {
      "text/plain": [
       "('1', '2', '3', '4')"
      ]
     },
     "execution_count": 97,
     "metadata": {},
     "output_type": "execute_result"
    }
   ],
   "source": [
    "tuple(\"1234\")"
   ]
  },
  {
   "cell_type": "code",
   "execution_count": 98,
   "metadata": {},
   "outputs": [
    {
     "data": {
      "text/plain": [
       "(1, 2, 3, 4)"
      ]
     },
     "execution_count": 98,
     "metadata": {},
     "output_type": "execute_result"
    }
   ],
   "source": [
    "tuple([1,2,3,4])"
   ]
  },
  {
   "cell_type": "code",
   "execution_count": 100,
   "metadata": {},
   "outputs": [
    {
     "data": {
      "text/plain": [
       "1"
      ]
     },
     "execution_count": 100,
     "metadata": {},
     "output_type": "execute_result"
    }
   ],
   "source": [
    "a, b,c = (1,2,3)\n",
    "a"
   ]
  },
  {
   "cell_type": "markdown",
   "metadata": {},
   "source": [
    "### 4.2 元组常用的方法\n",
    "| 方法                    | 说明                                             |\n",
    "|-------------------------|--------------------------------------------------|\n",
    "| `T.count(value)`        | 统计列表中元素 `value` 出现的次数。                 |\n",
    "| `T.index(value, [start, [stop]])` | 返回列表中元素 `value` 第一次出现的位置。如果 `value` 不存在于列表中，将产生 `ValueError` 异常。 |"
   ]
  },
  {
   "cell_type": "code",
   "execution_count": 101,
   "metadata": {},
   "outputs": [
    {
     "name": "stdout",
     "output_type": "stream",
     "text": [
      "3\n",
      "1\n",
      "3\n"
     ]
    }
   ],
   "source": [
    "my_list = [1, 2, 3, 2, 4, 2, 5]\n",
    "\n",
    "# T.count(value)\n",
    "count_of_2 = my_list.count(2)\n",
    "print(count_of_2)  # 输出: 3\n",
    "\n",
    "# T.index(value, [start, [stop]])\n",
    "try:\n",
    "    index_of_2 = my_list.index(2)\n",
    "    print(index_of_2)  # 输出: 1\n",
    "except ValueError as e:\n",
    "    print(f\"ValueError: {e}\")\n",
    "\n",
    "# 指定开始和结束索引\n",
    "try:\n",
    "    index_of_2_after_index_1 = my_list.index(2, 2)\n",
    "    print(index_of_2_after_index_1)  # 输出: 3\n",
    "except ValueError as e:\n",
    "    print(f\"ValueError: {e}\")"
   ]
  },
  {
   "cell_type": "markdown",
   "metadata": {},
   "source": [
    "## 5 列表练习\n",
    "### 5.1 在有序列表中插入元素\n",
    "1. 给定有序的数字列表，\n",
    "2. 从键盘读取输入数字，将输入值插入到列表中，使其有序，\n",
    "3. 输入值为：q,退出循环\n",
    "\n",
    "例如：\n",
    "v = [1,2,3]\n",
    "\n",
    "输入：2；结果：[1,2,2,3]\n",
    "\n",
    "输入：5；结果：[1,2,2,3,5]"
   ]
  },
  {
   "cell_type": "code",
   "execution_count": 102,
   "metadata": {},
   "outputs": [
    {
     "name": "stdout",
     "output_type": "stream",
     "text": [
      "[1, 2, 3, 123]\n"
     ]
    }
   ],
   "source": [
    "def insert_value(listnum):\n",
    "    while True:\n",
    "        val = input(\"输入数字:\")\n",
    "        if val == \"q\":\n",
    "            break\n",
    "        val = int(val)\n",
    "        for index, item in enumerate(listnum):\n",
    "            if val <=item:\n",
    "                listnum.insert(index, val)\n",
    "                break\n",
    "        else:\n",
    "            listnum.append(val)\n",
    "        print(listnum)\n",
    " \n",
    "listn = [1,2,3]\n",
    "insert_value(listn)"
   ]
  },
  {
   "cell_type": "markdown",
   "metadata": {},
   "source": [
    "### 5.2 数字转成数字列表\n",
    "输入：320,输出：[3,2,0]\n",
    "\n",
    "输入：9527,输出：[9,5,2,7]"
   ]
  },
  {
   "cell_type": "code",
   "execution_count": 103,
   "metadata": {},
   "outputs": [
    {
     "data": {
      "text/plain": [
       "[3, 2, 0]"
      ]
     },
     "execution_count": 103,
     "metadata": {},
     "output_type": "execute_result"
    }
   ],
   "source": [
    "def num_to_list(num):\n",
    "    result = []\n",
    "\n",
    "    snum = str(num)\n",
    "    for value in snum:\n",
    "        result.append(int(value))\n",
    "\n",
    "    return result\n",
    "num_to_list(320)"
   ]
  },
  {
   "cell_type": "code",
   "execution_count": 104,
   "metadata": {},
   "outputs": [
    {
     "data": {
      "text/plain": [
       "[9, 5, 2, 7]"
      ]
     },
     "execution_count": 104,
     "metadata": {},
     "output_type": "execute_result"
    }
   ],
   "source": [
    "num_to_list(9527)"
   ]
  },
  {
   "cell_type": "markdown",
   "metadata": {},
   "source": [
    "### 5.3 将两个有序列数字列表进行合并，并使其有序\n",
    "v1 = [1,2,3,4]\n",
    "\n",
    "v2 = [2,5,8]\n",
    "\n",
    "结果：\n",
    "v = [1,2,2,3,4,5,8]"
   ]
  },
  {
   "cell_type": "code",
   "execution_count": 105,
   "metadata": {},
   "outputs": [
    {
     "name": "stdout",
     "output_type": "stream",
     "text": [
      "index1:0, index2:0\n",
      "index1:0, index2:1\n",
      "index1:1, index2:1\n",
      "index1:1, index2:2\n",
      "index1:2, index2:2\n",
      "index1:2, index2:3\n",
      "index1:3, index2:3\n",
      "index1:4, index2:3\n",
      "index1:4, index2:4\n",
      "[0, 1, 1, 2, 2, 3, 4, 5, 8, 10]\n"
     ]
    },
    {
     "data": {
      "text/plain": [
       "[0, 1, 1, 2, 2, 3, 4, 5, 8, 10]"
      ]
     },
     "execution_count": 105,
     "metadata": {},
     "output_type": "execute_result"
    }
   ],
   "source": [
    "def megre_list(n1, n2):\n",
    "    result = []\n",
    "    l1 = len(n1)\n",
    "    l2 = len(n2)\n",
    "    index1, index2 = 0, 0\n",
    "    while index1 < l1 and index2 < l2:\n",
    "        print(f\"index1:{index1}, index2:{index2}\")\n",
    "        if n1[index1] <= n2[index2]:\n",
    "            result.append(n1[index1])\n",
    "            index1 += 1\n",
    "        else:\n",
    "            result.append(n2[index2])\n",
    "            index2 += 1\n",
    "\n",
    "    if index1 < l1:\n",
    "        tail = n1[index1:]\n",
    "    else:\n",
    "        tail = n2[index2:]\n",
    "\n",
    "    result.extend(tail)\n",
    "\n",
    "    print(result)\n",
    "    return result\n",
    "\n",
    "v1 = [1,2,3,4, 10]\n",
    "v2 = [0,1,2,5,8]\n",
    "megre_list(v1, v2)"
   ]
  },
  {
   "cell_type": "markdown",
   "metadata": {},
   "source": [
    "## 6 列表解析详解\n",
    "基本概念：列表解析：在一个序列中应用表达式，并将结果保存到列表中；\n",
    "### 6.1 列表解析基本使用方式\n",
    "基本语法：\n",
    "`[expr for iter in iterable]`\n",
    "\n",
    "主要参数：\n",
    "| 参数      | 说明               |\n",
    "|-----------|--------------------|\n",
    "| `iterable`| 迭代对象           |\n",
    "| `iter`    | `iterable` 中的元素 |\n",
    "| `expr`    | 表达式             |\n",
    "\n",
    "1. 生成列表：[1,2,3,4,5]\n",
    "2. 生成列表：[\"0\", \"1\", \"2\", \"3\", \"4\", \"5\"]\n",
    "3. 将520转成：[5,2,0]"
   ]
  },
  {
   "cell_type": "code",
   "execution_count": 106,
   "metadata": {},
   "outputs": [
    {
     "data": {
      "text/plain": [
       "[1, 2, 3, 4, 5]"
      ]
     },
     "execution_count": 106,
     "metadata": {},
     "output_type": "execute_result"
    }
   ],
   "source": [
    "[val for val in range(1, 6)]"
   ]
  },
  {
   "cell_type": "code",
   "execution_count": 107,
   "metadata": {},
   "outputs": [
    {
     "data": {
      "text/plain": [
       "[1, 4, 9, 16, 25]"
      ]
     },
     "execution_count": 107,
     "metadata": {},
     "output_type": "execute_result"
    }
   ],
   "source": [
    "[val ** 2 for val in range(1, 6)]"
   ]
  },
  {
   "cell_type": "code",
   "execution_count": 108,
   "metadata": {},
   "outputs": [
    {
     "data": {
      "text/plain": [
       "[1, 4, 9, 16, 25]"
      ]
     },
     "execution_count": 108,
     "metadata": {},
     "output_type": "execute_result"
    }
   ],
   "source": [
    "[pow(val, 2) for val in range(1, 6)]"
   ]
  },
  {
   "cell_type": "code",
   "execution_count": 109,
   "metadata": {},
   "outputs": [
    {
     "data": {
      "text/plain": [
       "['0', '1', '2', '3', '4', '5']"
      ]
     },
     "execution_count": 109,
     "metadata": {},
     "output_type": "execute_result"
    }
   ],
   "source": [
    "[str(val) for val in range(0, 6)]"
   ]
  },
  {
   "cell_type": "code",
   "execution_count": 110,
   "metadata": {},
   "outputs": [
    {
     "data": {
      "text/plain": [
       "[5, 2, 0]"
      ]
     },
     "execution_count": 110,
     "metadata": {},
     "output_type": "execute_result"
    }
   ],
   "source": [
    "[int(val) for val in str(520)]"
   ]
  },
  {
   "cell_type": "code",
   "execution_count": 111,
   "metadata": {},
   "outputs": [
    {
     "data": {
      "text/plain": [
       "[79, 2, 94, 99, 60, 26, 3, 75, 81, 32]"
      ]
     },
     "execution_count": 111,
     "metadata": {},
     "output_type": "execute_result"
    }
   ],
   "source": [
    "import random\n",
    "[random.randint(1, 100) for i in range(10)]"
   ]
  },
  {
   "cell_type": "markdown",
   "metadata": {},
   "source": [
    "### 6.2 列表解析与判断条件\n",
    "基本语法：\n",
    "`[expr(value) for value in iter if cond_expr(value)]`\n",
    "\n",
    "1. 生成1~100之间偶数列表；\n",
    "2. 给定成绩：[59, 100, 20, 30, 80]，过滤出成绩大于等于60的成绩；\n",
    "3. 给定一段英文歌曲，统计每个单词长度与总长；"
   ]
  },
  {
   "cell_type": "code",
   "execution_count": 112,
   "metadata": {},
   "outputs": [
    {
     "name": "stdout",
     "output_type": "stream",
     "text": [
      "[2, 4, 6, 8, 10, 12, 14, 16, 18, 20, 22, 24, 26, 28, 30, 32, 34, 36, 38, 40, 42, 44, 46, 48, 50, 52, 54, 56, 58, 60, 62, 64, 66, 68, 70, 72, 74, 76, 78, 80, 82, 84, 86, 88, 90, 92, 94, 96, 98, 100]\n"
     ]
    }
   ],
   "source": [
    "res = [val for val in range(1, 101) if val%2==0]\n",
    "print(res)"
   ]
  },
  {
   "cell_type": "code",
   "execution_count": 113,
   "metadata": {},
   "outputs": [
    {
     "data": {
      "text/plain": [
       "[100, 80]"
      ]
     },
     "execution_count": 113,
     "metadata": {},
     "output_type": "execute_result"
    }
   ],
   "source": [
    "scores = [59, 100, 20, 30, 80]\n",
    "[score for score in scores if score >= 60]"
   ]
  },
  {
   "cell_type": "code",
   "execution_count": 114,
   "metadata": {},
   "outputs": [
    {
     "data": {
      "text/plain": [
       "[False, True, False, False, True]"
      ]
     },
     "execution_count": 114,
     "metadata": {},
     "output_type": "execute_result"
    }
   ],
   "source": [
    "scores = [59, 100, 20, 30, 80]\n",
    "[score >=60 for score in scores]"
   ]
  },
  {
   "cell_type": "code",
   "execution_count": 115,
   "metadata": {},
   "outputs": [
    {
     "data": {
      "text/plain": [
       "[4, 1, 3, 5, 3, 6, 2, 3, 5, 7, 3, 2, 8, 5, 4, 4, 6, 3, 4, 6, 2, 4, 2, 6]"
      ]
     },
     "execution_count": 115,
     "metadata": {},
     "output_type": "execute_result"
    }
   ],
   "source": [
    "words = \"\"\"\n",
    "When I was young I'd listen to the radio\n",
    "Waiting for my favorite songs\n",
    "When they played I'd sing along,\n",
    "It made me smile.\n",
    "\"\"\"\n",
    "word_len = [len(word) for word in words.split()]\n",
    "word_len"
   ]
  },
  {
   "cell_type": "code",
   "execution_count": 116,
   "metadata": {},
   "outputs": [
    {
     "data": {
      "text/plain": [
       "98"
      ]
     },
     "execution_count": 116,
     "metadata": {},
     "output_type": "execute_result"
    }
   ],
   "source": [
    "sum(word_len)"
   ]
  },
  {
   "cell_type": "markdown",
   "metadata": {},
   "source": [
    "### 6.3 多重循环列表解析\n",
    "基本语法：\n",
    "`[expr(v1,v2) for v1 in iters1 for v2 in iters2]`\n",
    "\n",
    "执行过程：\n",
    "1. 取v1,\n",
    "2. 顺序去v2,\n",
    "3. 执行expr(v1,v2),\n",
    "4. 重复1~3步骤，\n"
   ]
  },
  {
   "cell_type": "code",
   "execution_count": 117,
   "metadata": {},
   "outputs": [
    {
     "data": {
      "text/plain": [
       "[(1, 1), (1, 2), (1, 3), (2, 1), (2, 2), (2, 3), (3, 1), (3, 2), (3, 3)]"
      ]
     },
     "execution_count": 117,
     "metadata": {},
     "output_type": "execute_result"
    }
   ],
   "source": [
    "[(v1, v2) for v1 in range(1,4) for v2 in range(1,4)]"
   ]
  },
  {
   "cell_type": "code",
   "execution_count": 121,
   "metadata": {},
   "outputs": [
    {
     "data": {
      "text/plain": [
       "[1, 2, 3, 2, 4, 6, 3, 6, 9]"
      ]
     },
     "execution_count": 121,
     "metadata": {},
     "output_type": "execute_result"
    }
   ],
   "source": [
    "# 给定两个数字列表，计算两两的乘积；\n",
    "[v1 * v2 for v1 in range(1,4) for v2 in range(1,4)]"
   ]
  },
  {
   "cell_type": "code",
   "execution_count": 122,
   "metadata": {},
   "outputs": [
    {
     "name": "stdout",
     "output_type": "stream",
     "text": [
      "['1*1=1', '1*2=2', '2*2=4', '1*3=3', '2*3=6', '3*3=9', '1*4=4', '2*4=8', '3*4=12', '4*4=16', '1*5=5', '2*5=10', '3*5=15', '4*5=20', '5*5=25', '1*6=6', '2*6=12', '3*6=18', '4*6=24', '5*6=30', '6*6=36', '1*7=7', '2*7=14', '3*7=21', '4*7=28', '5*7=35', '6*7=42', '7*7=49', '1*8=8', '2*8=16', '3*8=24', '4*8=32', '5*8=40', '6*8=48', '7*8=56', '8*8=64', '1*9=9', '2*9=18', '3*9=27', '4*9=36', '5*9=45', '6*9=54', '7*9=63', '8*9=72', '9*9=81']\n"
     ]
    }
   ],
   "source": [
    "# 使用列表解析完成1~9乘法口诀； 输出结果：\n",
    "res = [f\"{j}*{i}={i*j}\" for i in range(1, 10) for j in range(1, 10) if i >= j]\n",
    "print(res)"
   ]
  },
  {
   "cell_type": "markdown",
   "metadata": {},
   "source": [
    "# （四）字典\n",
    "## 1 字典介绍\n",
    "### 1.1  基本概念\n",
    "字典是Python中唯一映射性数据结构；\n",
    "1. 字典定义：{key1:value, key2:value}，key在字典中是唯一的；\n",
    "2. 字典是一种可变的容器模型，可以存储任意类型对象；\n",
    "3. 字典在python3.6版本中是有序的数据结构；\n"
   ]
  },
  {
   "cell_type": "code",
   "execution_count": 123,
   "metadata": {},
   "outputs": [
    {
     "data": {
      "text/plain": [
       "{'name': '张', 'sex': 'male', 'age': '28'}"
      ]
     },
     "execution_count": 123,
     "metadata": {},
     "output_type": "execute_result"
    }
   ],
   "source": [
    "# 需求：定义一个用户信息，包括：姓名，性别，年龄\n",
    "user_info = {\"name\":\"张\", \"sex\":\"male\", \"age\":\"28\"}\n",
    "user_info"
   ]
  },
  {
   "cell_type": "code",
   "execution_count": 124,
   "metadata": {},
   "outputs": [
    {
     "data": {
      "text/plain": [
       "'张'"
      ]
     },
     "execution_count": 124,
     "metadata": {},
     "output_type": "execute_result"
    }
   ],
   "source": [
    "user_info[\"name\"]"
   ]
  },
  {
   "cell_type": "markdown",
   "metadata": {},
   "source": [
    "### 1.2 字典定义\n",
    "基本形式：\n",
    "- 基本key-value:\"name\"：\"sun\n",
    "- 字典中元素为字典：{\"97776\"：\"{payment'\"：97.2}}\n",
    "- 字典中元素为列表：{score:[90，80，70]}"
   ]
  },
  {
   "cell_type": "markdown",
   "metadata": {},
   "source": [
    "### 1.3 字典Key要求\n",
    "字典中的key是唯一的，并且可以hash\n",
    "\n",
    "判断下填埋你字典的值："
   ]
  },
  {
   "cell_type": "code",
   "execution_count": 126,
   "metadata": {},
   "outputs": [
    {
     "data": {
      "text/plain": [
       "({'id': '8001', 'port': 8001}, {1: '1'})"
      ]
     },
     "execution_count": 126,
     "metadata": {},
     "output_type": "execute_result"
    }
   ],
   "source": [
    "info = {\"id\":\"8001\", \"port\":80, \"port\":8001}\n",
    "dvalue = {1:'one', 1.0:\"1\"}\n",
    "info,dvalue"
   ]
  },
  {
   "cell_type": "code",
   "execution_count": 127,
   "metadata": {},
   "outputs": [
    {
     "data": {
      "text/plain": [
       "(1, 1)"
      ]
     },
     "execution_count": 127,
     "metadata": {},
     "output_type": "execute_result"
    }
   ],
   "source": [
    "hash(1), hash(1.0)"
   ]
  },
  {
   "cell_type": "markdown",
   "metadata": {},
   "source": [
    "### 1.4 字典访问\n",
    "两种形式：\n",
    "1. 访问单个元素：d[key]\n",
    "2. 遍历字典；for循环进行遍历"
   ]
  },
  {
   "cell_type": "code",
   "execution_count": 129,
   "metadata": {},
   "outputs": [
    {
     "name": "stdout",
     "output_type": "stream",
     "text": [
      "{'id': '8001', 'port': 8001}\n"
     ]
    },
    {
     "data": {
      "text/plain": [
       "'8001'"
      ]
     },
     "execution_count": 129,
     "metadata": {},
     "output_type": "execute_result"
    }
   ],
   "source": [
    "print(info)\n",
    "info[\"id\"]"
   ]
  },
  {
   "cell_type": "code",
   "execution_count": 130,
   "metadata": {},
   "outputs": [
    {
     "name": "stdout",
     "output_type": "stream",
     "text": [
      "id 8001\n",
      "port 8001\n"
     ]
    }
   ],
   "source": [
    "for key in info:\n",
    "    print(key, info[key])\n"
   ]
  },
  {
   "cell_type": "markdown",
   "metadata": {},
   "source": [
    "### 1.5 字典修改\n",
    "基本语法：d[key] = value"
   ]
  },
  {
   "cell_type": "code",
   "execution_count": 131,
   "metadata": {},
   "outputs": [
    {
     "name": "stdout",
     "output_type": "stream",
     "text": [
      "{'id': '8001', 'port': 8001}\n",
      "{'id': 800, 'port': 8001}\n"
     ]
    }
   ],
   "source": [
    "print(info)\n",
    "info[\"id\"] = 800\n",
    "print(info)"
   ]
  },
  {
   "cell_type": "markdown",
   "metadata": {},
   "source": [
    "## 2 字典相关函数\n",
    "### 2.1 创建字典\n",
    "dict函数：\n",
    "1. dict()：创建空字典\n",
    "2. dict(mapping)：创建字典"
   ]
  },
  {
   "cell_type": "code",
   "execution_count": 132,
   "metadata": {},
   "outputs": [
    {
     "data": {
      "text/plain": [
       "{}"
      ]
     },
     "execution_count": 132,
     "metadata": {},
     "output_type": "execute_result"
    }
   ],
   "source": [
    "d = {}\n",
    "d"
   ]
  },
  {
   "cell_type": "code",
   "execution_count": 133,
   "metadata": {},
   "outputs": [
    {
     "data": {
      "text/plain": [
       "{'id': 9527}"
      ]
     },
     "execution_count": 133,
     "metadata": {},
     "output_type": "execute_result"
    }
   ],
   "source": [
    "d['id'] = 9527\n",
    "d"
   ]
  },
  {
   "cell_type": "code",
   "execution_count": 135,
   "metadata": {},
   "outputs": [
    {
     "data": {
      "text/plain": [
       "{'name': 'sun', 'score': 90}"
      ]
     },
     "execution_count": 135,
     "metadata": {},
     "output_type": "execute_result"
    }
   ],
   "source": [
    "#二维列表，每个字列表元素必须是两个\n",
    "d1 = dict([['name','sun'],['score',90]])\n",
    "d1"
   ]
  },
  {
   "cell_type": "code",
   "execution_count": 137,
   "metadata": {},
   "outputs": [
    {
     "data": {
      "text/plain": [
       "{'1': '2', '3': '4'}"
      ]
     },
     "execution_count": 137,
     "metadata": {},
     "output_type": "execute_result"
    }
   ],
   "source": [
    "#列表与字符串，字符串长度必须是两个\n",
    "d2 = dict(['12','34'])\n",
    "d2"
   ]
  },
  {
   "cell_type": "code",
   "execution_count": 136,
   "metadata": {},
   "outputs": [
    {
     "data": {
      "text/plain": [
       "{1: 2, 3: 4}"
      ]
     },
     "execution_count": 136,
     "metadata": {},
     "output_type": "execute_result"
    }
   ],
   "source": [
    "#列表与元组组合，元组每个元素必须是两个\n",
    "d3 = dict([(1,2),(3,4)])\n",
    "d3"
   ]
  },
  {
   "cell_type": "code",
   "execution_count": 138,
   "metadata": {},
   "outputs": [
    {
     "data": {
      "text/plain": [
       "{'name': 'li', 'age': 18}"
      ]
     },
     "execution_count": 138,
     "metadata": {},
     "output_type": "execute_result"
    }
   ],
   "source": [
    "l1 = [\"name\",\"age\"]\n",
    "l2 = [\"li\", 18]\n",
    "dict(zip(l1, l2))"
   ]
  },
  {
   "cell_type": "markdown",
   "metadata": {},
   "source": [
    "### 2.2 其他函数\n",
    "| 函数                    | 说明                             |\n",
    "|-------------------------|----------------------------------|\n",
    "| `len(obj)`              | 返回字典 `obj` 的键值对数量         |\n",
    "| `sum(iterable)`         | 对字典中所有键进行求和            |\n",
    "| `max(iterable, key=func)`| 获取字典中键中的最大值             |\n",
    "| `min(iterable, key=func)`| 获取字典中键中的最小值             |\n",
    "| `key in dict`           | 判断键 `key` 是否在字典 `dict` 中 |\n"
   ]
  },
  {
   "cell_type": "code",
   "execution_count": 142,
   "metadata": {},
   "outputs": [
    {
     "name": "stdout",
     "output_type": "stream",
     "text": [
      "len(d): 2\n",
      "sum(d): 4\n",
      "max(d): 3\n"
     ]
    }
   ],
   "source": [
    "d = dict([(1,2),(3,4)])\n",
    "print('len(d):',len(d))\n",
    "print('sum(d):', sum(d))\n",
    "print('max(d):', max(d))"
   ]
  },
  {
   "cell_type": "code",
   "execution_count": 144,
   "metadata": {},
   "outputs": [
    {
     "data": {
      "text/plain": [
       "(True, False, True)"
      ]
     },
     "execution_count": 144,
     "metadata": {},
     "output_type": "execute_result"
    }
   ],
   "source": [
    "1 in d,5 in d,5 not in d"
   ]
  },
  {
   "cell_type": "markdown",
   "metadata": {},
   "source": [
    "## 3 字典相关方法\n",
    "### 3.1 fromkeys\n",
    "`dict.fromkeys(iterable, value=None, /)`：根据可迭代对象创建字典；\n",
    "\n",
    "主要参数：\n",
    "1. iterable：迭代对象，每个元素可以hash\n",
    "2. value：设置每个key的默认值，默认为None\n",
    "\n",
    "需求：\n",
    "1.生成字典：d1 = {1:0,2:0,3:0,....9:0},\n",
    "2.生成字典：d2 = {\"a\":1,\"b\":1,\"c\":1},\n"
   ]
  },
  {
   "cell_type": "code",
   "execution_count": 146,
   "metadata": {},
   "outputs": [
    {
     "data": {
      "text/plain": [
       "{1: 0, 2: 0, 3: 0, 4: 0, 5: 0, 6: 0, 7: 0, 8: 0, 9: 0}"
      ]
     },
     "execution_count": 146,
     "metadata": {},
     "output_type": "execute_result"
    }
   ],
   "source": [
    "d = {}\n",
    "for key in range(1, 10):\n",
    "    d[key] = 0\n",
    "d"
   ]
  },
  {
   "cell_type": "code",
   "execution_count": 149,
   "metadata": {},
   "outputs": [
    {
     "data": {
      "text/plain": [
       "{1: 0, 2: 0, 3: 0, 4: 0, 5: 0, 6: 0, 7: 0, 8: 0, 9: 0}"
      ]
     },
     "execution_count": 149,
     "metadata": {},
     "output_type": "execute_result"
    }
   ],
   "source": [
    "dict.fromkeys(range(1, 10),0)"
   ]
  },
  {
   "cell_type": "code",
   "execution_count": 151,
   "metadata": {},
   "outputs": [
    {
     "data": {
      "text/plain": [
       "{'a': 1, 'b': 1, 'c': 1}"
      ]
     },
     "execution_count": 151,
     "metadata": {},
     "output_type": "execute_result"
    }
   ],
   "source": [
    "s = \"abc\"\n",
    "d2 = dict.fromkeys(s, 1)\n",
    "d2"
   ]
  },
  {
   "cell_type": "markdown",
   "metadata": {},
   "source": [
    "### 3.2 获取字典的k和v\n",
    "| 方法           | 说明                                |\n",
    "|----------------|-------------------------------------|\n",
    "| `D.keys()`     | 获取字典所有键（keys）               |\n",
    "| `D.values()`   | 获取字典所有值（values）             |\n",
    "| `D.items()`    | 获取字典键值对组成的 item 对象        |\n"
   ]
  },
  {
   "cell_type": "code",
   "execution_count": 152,
   "metadata": {},
   "outputs": [
    {
     "data": {
      "text/plain": [
       "{'name': 'sun', 'age': 18}"
      ]
     },
     "execution_count": 152,
     "metadata": {},
     "output_type": "execute_result"
    }
   ],
   "source": [
    "# 遍历d1的所有key与value\n",
    "user_info = dict([('name','sun'), ('age',18)])\n",
    "user_info"
   ]
  },
  {
   "cell_type": "code",
   "execution_count": 153,
   "metadata": {},
   "outputs": [
    {
     "data": {
      "text/plain": [
       "['name', 'age']"
      ]
     },
     "execution_count": 153,
     "metadata": {},
     "output_type": "execute_result"
    }
   ],
   "source": [
    "list(user_info.keys())"
   ]
  },
  {
   "cell_type": "code",
   "execution_count": 154,
   "metadata": {},
   "outputs": [
    {
     "data": {
      "text/plain": [
       "dict_values(['sun', 18])"
      ]
     },
     "execution_count": 154,
     "metadata": {},
     "output_type": "execute_result"
    }
   ],
   "source": [
    "user_info.values()"
   ]
  },
  {
   "cell_type": "code",
   "execution_count": 155,
   "metadata": {},
   "outputs": [
    {
     "name": "stdout",
     "output_type": "stream",
     "text": [
      "name sun\n",
      "age 18\n"
     ]
    }
   ],
   "source": [
    "for k, v in user_info.items():\n",
    "    print(k, v)"
   ]
  },
  {
   "cell_type": "code",
   "execution_count": 156,
   "metadata": {},
   "outputs": [
    {
     "data": {
      "text/plain": [
       "86.0"
      ]
     },
     "execution_count": 156,
     "metadata": {},
     "output_type": "execute_result"
    }
   ],
   "source": [
    "# 计算用户KPI均值\n",
    "user_kpi = {\"Q1\":90, \"Q2\":80, \"Q3\":89,\"Q4\":85}\n",
    "sum(user_kpi.values())/len(user_kpi)"
   ]
  },
  {
   "cell_type": "markdown",
   "metadata": {},
   "source": [
    "### 3.3 get方法\n",
    "`dict.get(key, default=None)`：获取key对应值，若不存在返回default； \n",
    "\n",
    "1. 获取用户Q1与Q4的KPI\n",
    "2. 若KPI不存在返回-1"
   ]
  },
  {
   "cell_type": "code",
   "execution_count": 157,
   "metadata": {},
   "outputs": [
    {
     "data": {
      "text/plain": [
       "90"
      ]
     },
     "execution_count": 157,
     "metadata": {},
     "output_type": "execute_result"
    }
   ],
   "source": [
    "user_kpi = {\"Q1\":90, \"Q2\":80, \"Q3\":89}\n",
    "user_kpi.get(\"Q1\")"
   ]
  },
  {
   "cell_type": "code",
   "execution_count": 158,
   "metadata": {},
   "outputs": [
    {
     "data": {
      "text/plain": [
       "-1"
      ]
     },
     "execution_count": 158,
     "metadata": {},
     "output_type": "execute_result"
    }
   ],
   "source": [
    "user_kpi.get(\"Q4\", -1)"
   ]
  },
  {
   "cell_type": "code",
   "execution_count": 159,
   "metadata": {},
   "outputs": [
    {
     "ename": "KeyError",
     "evalue": "'Q4'",
     "output_type": "error",
     "traceback": [
      "\u001b[1;31m---------------------------------------------------------------------------\u001b[0m",
      "\u001b[1;31mKeyError\u001b[0m                                  Traceback (most recent call last)",
      "Cell \u001b[1;32mIn[159], line 1\u001b[0m\n\u001b[1;32m----> 1\u001b[0m user_kpi[\u001b[38;5;124m\"\u001b[39m\u001b[38;5;124mQ4\u001b[39m\u001b[38;5;124m\"\u001b[39m]\n",
      "\u001b[1;31mKeyError\u001b[0m: 'Q4'"
     ]
    }
   ],
   "source": [
    "user_kpi[\"Q4\"]"
   ]
  },
  {
   "cell_type": "markdown",
   "metadata": {},
   "source": [
    "### 3.4 setdefault方法\n",
    "`dict.setdefault(self, key, default=None)`：添加元素；\n",
    "\n",
    "1. 如果key存在，返回key对应的值，不添加元素；\n",
    "2. 如果key在字典中不存在，在字典中添加元素：{key:defatult}\n"
   ]
  },
  {
   "cell_type": "code",
   "execution_count": 160,
   "metadata": {},
   "outputs": [
    {
     "data": {
      "text/plain": [
       "90"
      ]
     },
     "execution_count": 160,
     "metadata": {},
     "output_type": "execute_result"
    }
   ],
   "source": [
    "'''\n",
    "    需求:设置KPI:\n",
    "    如果当前KPI存在，不修改；\n",
    "    如果当前KPI不存在，设置给定值；\n",
    "'''\n",
    "user_kpi = {\"Q1\":90, \"Q2\":80, \"Q3\":89}\n",
    "user_kpi.setdefault(\"Q1\", 80)"
   ]
  },
  {
   "cell_type": "code",
   "execution_count": 161,
   "metadata": {},
   "outputs": [
    {
     "data": {
      "text/plain": [
       "{'Q1': 90, 'Q2': 80, 'Q3': 89}"
      ]
     },
     "execution_count": 161,
     "metadata": {},
     "output_type": "execute_result"
    }
   ],
   "source": [
    "user_kpi"
   ]
  },
  {
   "cell_type": "code",
   "execution_count": 162,
   "metadata": {},
   "outputs": [
    {
     "data": {
      "text/plain": [
       "96"
      ]
     },
     "execution_count": 162,
     "metadata": {},
     "output_type": "execute_result"
    }
   ],
   "source": [
    "user_kpi.setdefault(\"Q4\", 96)"
   ]
  },
  {
   "cell_type": "code",
   "execution_count": 163,
   "metadata": {},
   "outputs": [
    {
     "data": {
      "text/plain": [
       "{'Q1': 90, 'Q2': 80, 'Q3': 89, 'Q4': 96}"
      ]
     },
     "execution_count": 163,
     "metadata": {},
     "output_type": "execute_result"
    }
   ],
   "source": [
    "user_kpi"
   ]
  },
  {
   "cell_type": "markdown",
   "metadata": {},
   "source": [
    "### 3.5 字典删除\n",
    "| 方法             | 说明                                      |\n",
    "|------------------|-------------------------------------------|\n",
    "| `D.pop(k[,d])`   | 返回并删除键 `k` 对应的元素。若键 `k` 在字典中不存在，且设置了 `d`，返回 `d`；否则产生异常。 |\n",
    "| `D.popitem()`    | 返回并删除字典中的一组元素（键值对）。        |\n",
    "| `D.clear()`      | 清空字典。                                  |\n"
   ]
  },
  {
   "cell_type": "code",
   "execution_count": 164,
   "metadata": {},
   "outputs": [
    {
     "data": {
      "text/plain": [
       "999"
      ]
     },
     "execution_count": 164,
     "metadata": {},
     "output_type": "execute_result"
    }
   ],
   "source": [
    "# 需求：删除order_info中的price信息；\n",
    "order_info = {\"id\":8566,\"product_name\":\"pc\", \"channel\":\"douyin\", \"price\":999}\n",
    "order_info.pop(\"price\")"
   ]
  },
  {
   "cell_type": "code",
   "execution_count": 165,
   "metadata": {},
   "outputs": [
    {
     "data": {
      "text/plain": [
       "{'id': 8566, 'product_name': 'pc', 'channel': 'douyin'}"
      ]
     },
     "execution_count": 165,
     "metadata": {},
     "output_type": "execute_result"
    }
   ],
   "source": [
    "order_info"
   ]
  },
  {
   "cell_type": "code",
   "execution_count": 166,
   "metadata": {},
   "outputs": [
    {
     "data": {
      "text/plain": [
       "-1"
      ]
     },
     "execution_count": 166,
     "metadata": {},
     "output_type": "execute_result"
    }
   ],
   "source": [
    "order_info.pop(\"price\", -1)"
   ]
  },
  {
   "cell_type": "markdown",
   "metadata": {},
   "source": [
    "### 3.6 字典更新\n",
    "方法：update\n",
    "\n",
    "`D.update([E, ]\\*\\*F)`：更新或者添加多个元素， E为字典，F为可迭代对象(k,v)\n",
    "\n",
    "更新过程：\n",
    "1. 更新：D[k] = E[k]；\n",
    "2. 添加：D[k] = E[k]\n"
   ]
  },
  {
   "cell_type": "code",
   "execution_count": 169,
   "metadata": {},
   "outputs": [
    {
     "data": {
      "text/plain": [
       "{'Q1': 80, 'Q2': 80, 'Q3': 89, 'Q4': 90}"
      ]
     },
     "execution_count": 169,
     "metadata": {},
     "output_type": "execute_result"
    }
   ],
   "source": [
    "user_kpi = {\"Q1\":90, \"Q2\":80, \"Q3\":89}\n",
    "new_kpi = {\"Q1\":80, \"Q4\":90}\n",
    "user_kpi.update(new_kpi)\n",
    "user_kpi\n"
   ]
  },
  {
   "cell_type": "markdown",
   "metadata": {},
   "source": [
    "## 4 字典练习\n",
    "### 4.1 统计字符出现数量\n",
    "需求：给定一个字符串，统计每个字符出现次数"
   ]
  },
  {
   "cell_type": "code",
   "execution_count": 170,
   "metadata": {},
   "outputs": [
    {
     "data": {
      "text/plain": [
       "{'a': 2, 'b': 2, 'c': 4, 'd': 4, 'e': 4}"
      ]
     },
     "execution_count": 170,
     "metadata": {},
     "output_type": "execute_result"
    }
   ],
   "source": [
    "def count_char(s):\n",
    "    cinfo = {}\n",
    "\n",
    "    for c in s:\n",
    "        if cinfo.get(c, 0):\n",
    "            cinfo[c] += 1\n",
    "        else:\n",
    "            cinfo[c] = 1\n",
    "\n",
    "    return cinfo\n",
    "\n",
    "s = \"aabbccccddddeeee\"\n",
    "count_char(s)"
   ]
  },
  {
   "cell_type": "code",
   "execution_count": 171,
   "metadata": {},
   "outputs": [
    {
     "data": {
      "text/plain": [
       "{'a': 2, 'b': 2, 'c': 4, 'd': 4, 'e': 4}"
      ]
     },
     "execution_count": 171,
     "metadata": {},
     "output_type": "execute_result"
    }
   ],
   "source": [
    "def count_char2(s):\n",
    "    char_keys = [chr(val) for val in range(ord(\"a\"), ord(\"z\")+1)]\n",
    "    cinfo = dict.fromkeys(char_keys, 0)\n",
    "    for c in s:\n",
    "        cinfo[c] += 1\n",
    "    [cinfo.pop(key) for key in char_keys if cinfo[key] == 0]\n",
    "    return cinfo\n",
    "\n",
    "count_char2(s)"
   ]
  },
  {
   "cell_type": "markdown",
   "metadata": {},
   "source": [
    "### 4.2 删除字典中指定数据\n",
    "给定员工信息，删除KPI评分小于6的所有用户信息"
   ]
  },
  {
   "cell_type": "code",
   "execution_count": 173,
   "metadata": {},
   "outputs": [
    {
     "name": "stdout",
     "output_type": "stream",
     "text": [
      "1003 5.9\n",
      "1004 4.2\n"
     ]
    },
    {
     "data": {
      "text/plain": [
       "{1001: {'score': 8.9, 'name': 'sun'},\n",
       " 1002: {'score': 8, 'name': 'zhang'},\n",
       " 1005: {'score': 7, 'name': 'hao'}}"
      ]
     },
     "execution_count": 173,
     "metadata": {},
     "output_type": "execute_result"
    }
   ],
   "source": [
    "kpi_info = {\n",
    " 1001:{\"score\":8.9, \"name\":\"sun\"},\n",
    " 1002:{\"score\":8, \"name\":\"zhang\"},\n",
    " 1003:{\"score\":5.9, \"name\":\"zhao\"},\n",
    " 1004:{\"score\":4.2, \"name\":\"li\"},\n",
    " 1005:{\"score\":7, \"name\":\"hao\"},\n",
    "}\n",
    "\n",
    "kpi_keys = list(kpi_info.keys())\n",
    "for k in kpi_keys:\n",
    "    v = kpi_info[k]\n",
    "    if v[\"score\"] < 6:\n",
    "        print(k, v[\"score\"])\n",
    "        kpi_info.pop(k)\n",
    "\n",
    "kpi_info"
   ]
  },
  {
   "cell_type": "code",
   "execution_count": 174,
   "metadata": {},
   "outputs": [
    {
     "data": {
      "text/plain": [
       "{1001: {'score': 8.9, 'name': 'sun'},\n",
       " 1002: {'score': 8, 'name': 'zhang'},\n",
       " 1005: {'score': 7, 'name': 'hao'}}"
      ]
     },
     "execution_count": 174,
     "metadata": {},
     "output_type": "execute_result"
    }
   ],
   "source": [
    "kpi_info = {\n",
    " 1001:{\"score\":8.9, \"name\":\"sun\"},\n",
    " 1002:{\"score\":8, \"name\":\"zhang\"},\n",
    " 1003:{\"score\":5.9, \"name\":\"zhao\"},\n",
    " 1004:{\"score\":4.2, \"name\":\"li\"},\n",
    " 1005:{\"score\":7, \"name\":\"hao\"},\n",
    "}\n",
    "\n",
    "[kpi_info.pop(key) for key in list(kpi_info.keys()) if kpi_info[key][\"score\"] < 6]\n",
    "kpi_info"
   ]
  },
  {
   "cell_type": "markdown",
   "metadata": {},
   "source": [
    "### 4.3 用户登录\n",
    "模拟用户注册登录：\n",
    "1. 提示用户登录与注册\n",
    "2. 登录流程，注意提示与字典处理\n",
    "3. 登录流程，注意用户名密码判断\n",
    "4. 实现过程注意函数定义与返回值\n",
    "5. 代码优化，使用函数与字典组合"
   ]
  },
  {
   "cell_type": "code",
   "execution_count": 177,
   "metadata": {},
   "outputs": [
    {
     "name": "stdout",
     "output_type": "stream",
     "text": [
      "input error\n",
      "input error\n",
      "input error\n",
      "用户名不存在\n",
      "退出\n"
     ]
    }
   ],
   "source": [
    "user_info = {}\n",
    "\n",
    "def login():\n",
    "    name = input(\"用户名：\")\n",
    "    pwd = input(\"密码:\")\n",
    "\n",
    "    if name not in user_info:\n",
    "        print(\"用户名不存在\")\n",
    "    elif pwd != user_info[name]:\n",
    "        print(\"密码错误\")\n",
    "    else:\n",
    "        print(\"登录成功\")\n",
    "\n",
    "\n",
    "def reg():\n",
    "    name = input(\"用户名：\")\n",
    "    pwd = input(\"密码:\")\n",
    "\n",
    "    if name in user_info:\n",
    "        print(\"用户名已存在\")\n",
    "    elif pwd == \"\":\n",
    "        print(\"密码不能为空\")\n",
    "    else:\n",
    "        user_info[name] = pwd\n",
    "        print(\"注册成功\")\n",
    "\n",
    "def menu():\n",
    "    tips = \"1:登录\\n2:注册\\n3:退出\\n\"\n",
    "    while True:\n",
    "        select = input(tips)\n",
    "        if select == \"1\":\n",
    "            login()\n",
    "        elif select == \"2\":\n",
    "            reg()\n",
    "        elif select == \"3\":\n",
    "            print(\"退出\")\n",
    "            break\n",
    "        else:\n",
    "            print(\"input error\")\n",
    "\n",
    "menu()"
   ]
  },
  {
   "cell_type": "markdown",
   "metadata": {},
   "source": [
    "# （五）集合\n",
    "## 1 集合\n",
    "### 1.1 定义集合\n",
    "集合是一个无序的不重复元素序列；\n",
    "\n",
    "定义方式：\n",
    "> s1 = {val1, val2, val3,...}\n",
    "> s2 = set(iter)\n",
    "\n",
    "集合要点：\n",
    "1. 集合元素不重复；\n",
    "2. 集合不支持索引与切片操作 ；"
   ]
  },
  {
   "cell_type": "code",
   "execution_count": 181,
   "metadata": {},
   "outputs": [
    {
     "data": {
      "text/plain": [
       "{'apple', 'banana', 'pear'}"
      ]
     },
     "execution_count": 181,
     "metadata": {},
     "output_type": "execute_result"
    }
   ],
   "source": [
    "s = {'apple', 'banana', 'pear','banana'}\n",
    "s"
   ]
  },
  {
   "cell_type": "code",
   "execution_count": 183,
   "metadata": {},
   "outputs": [
    {
     "data": {
      "text/plain": [
       "{1, 2, 3, 4, 5}"
      ]
     },
     "execution_count": 183,
     "metadata": {},
     "output_type": "execute_result"
    }
   ],
   "source": [
    "lists = [1,2,3,3,4,4,5]\n",
    "set(lists)"
   ]
  },
  {
   "cell_type": "markdown",
   "metadata": {},
   "source": [
    "### 2.2 集合基本操作"
   ]
  },
  {
   "cell_type": "code",
   "execution_count": 180,
   "metadata": {},
   "outputs": [
    {
     "name": "stdout",
     "output_type": "stream",
     "text": [
      "3\n",
      "True\n",
      "(0, 'banana')\n",
      "(1, 'pear')\n",
      "(2, 'apple')\n"
     ]
    }
   ],
   "source": [
    "s = {'apple', 'banana', 'pear'}\n",
    "#集合长度\n",
    "print(len(s))\n",
    "#判断是否存在\n",
    "print('banana' in s)\n",
    "#遍历集合\n",
    "for val in enumerate(s):\n",
    "    print(val)"
   ]
  },
  {
   "cell_type": "code",
   "execution_count": 184,
   "metadata": {},
   "outputs": [
    {
     "name": "stdout",
     "output_type": "stream",
     "text": [
      "banana\n",
      "pear\n",
      "apple\n"
     ]
    }
   ],
   "source": [
    "for val in s:\n",
    "    print(val)\n"
   ]
  },
  {
   "cell_type": "code",
   "execution_count": 185,
   "metadata": {},
   "outputs": [
    {
     "data": {
      "text/plain": [
       "[1, 2, 3, 5]"
      ]
     },
     "execution_count": 185,
     "metadata": {},
     "output_type": "execute_result"
    }
   ],
   "source": [
    "vlist = [1,1,2,3,5,5]\n",
    "list(set(vlist))"
   ]
  },
  {
   "cell_type": "markdown",
   "metadata": {},
   "source": [
    "## 3 集合相关方法\n",
    "| 操作                         | 说明                                       |\n",
    "|------------------------------|--------------------------------------------|\n",
    "| `S.add(x)`                   | 在集合中添加元素 `x`。                      |\n",
    "| `S.discard(x)`               | 删除集合中元素 `x`。                        |\n",
    "| `S.pop()`                    | 随机删除一个元素。                          |\n",
    "| `S.remove(x)`                | 删除集合中指定元素 `x`，如果 `x` 不存在于集合中，则产生异常。 |\n",
    "| `S.clear()`                  | 清空集合。                                  |\n",
    "| `S.copy()`                   | 拷贝集合。                                  |\n",
    "| `S.difference(S1, S2,...)`   | 返回集合 `S` 与其他集合的差集。             |\n",
    "| `S.difference_update(S1,S2...)` | 更新集合 `S` 为与其他集合的差集。        |\n",
    "| `S.intersection(S1,S2,...)`  | 返回集合 `S` 与其他集合的交集。             |\n",
    "| `S.intersection_update(S1,S2,...)` | 更新集合 `S` 为与其他集合的交集。     |\n",
    "| `S.isdisjoint(S1)`            | 两个集合有交集返回 `False`，否则返回 `True`。 |\n",
    "| `S.issubset(S1)`              | 判断当前集合是否是集合 `S1` 的子集。       |\n",
    "| `S.issuperset(S1)`            | 判断集合 `S1` 是否是当前集合的子集。       |\n",
    "| `S.symmetric_difference(S1)` | 返回集合 `S` 与集合 `S1` 中不重复元素的并集。|\n",
    "| `S.symmetric_difference_update(S1)` | 更新集合 `S` 为与集合 `S1` 中不重复元素的并集。 |\n",
    "| `S.union(S1,S2...)`           | 返回集合 `S` 与其他集合的并集。             |\n",
    "| `S.update(S1,S2...)`          | 更新集合 `S` 为与其他集合的并集。           |\n"
   ]
  },
  {
   "cell_type": "code",
   "execution_count": 186,
   "metadata": {},
   "outputs": [
    {
     "name": "stdout",
     "output_type": "stream",
     "text": [
      "{1, 2, 3, 4, 5, 6}\n",
      "{1, 3, 4, 5, 6}\n",
      "1\n",
      "{3, 5, 6}\n",
      "set()\n",
      "{3, 4, 5, 6, 7}\n",
      "{3, 7}\n",
      "{3, 7}\n",
      "{3, 7}\n",
      "{3, 7}\n",
      "True\n",
      "True\n",
      "True\n",
      "{8, 3, 5}\n",
      "{8, 3, 5}\n",
      "{3, 5, 8, 9, 10}\n",
      "{3, 5, 8, 9, 10}\n"
     ]
    }
   ],
   "source": [
    "# 创建两个集合\n",
    "set1 = {1, 2, 3, 4, 5}\n",
    "set2 = {3, 4, 5, 6, 7}\n",
    "\n",
    "# add(x): 在集合中添加元素\n",
    "set1.add(6)\n",
    "print(set1)  # 输出: {1, 2, 3, 4, 5, 6}\n",
    "\n",
    "# discard(x): 删除集合中元素x\n",
    "set1.discard(2)\n",
    "print(set1)  # 输出: {1, 3, 4, 5, 6}\n",
    "\n",
    "# pop(): 随机删除一个元素\n",
    "removed_element = set1.pop()\n",
    "print(removed_element)  # 输出: 随机删除的一个元素\n",
    "\n",
    "# remove(x): 删除集合中指定元素，x必须存在于S中\n",
    "set1.remove(4)\n",
    "print(set1)  # 输出: {1, 3, 5, 6}\n",
    "\n",
    "# clear(): 清空集合\n",
    "set1.clear()\n",
    "print(set1)  # 输出: set()\n",
    "\n",
    "# copy(): 拷贝集合\n",
    "set1 = set2.copy()\n",
    "print(set1)  # 输出: {3, 4, 5, 6, 7}\n",
    "\n",
    "# difference(S1, S2,...): 返回S与其他集合的差\n",
    "difference_set = set1.difference({4, 5, 6})\n",
    "print(difference_set)  # 输出: {3, 7}\n",
    "\n",
    "# difference_update(S1,S2...): 更新S为S与S1,S2...的差\n",
    "set1.difference_update({4, 5, 6})\n",
    "print(set1)  # 输出: {3, 7}\n",
    "\n",
    "# intersection(S1,S2,...): 返回S与其他集合的交集\n",
    "intersection_set = set1.intersection({3, 7, 8})\n",
    "print(intersection_set)  # 输出: {3, 7}\n",
    "\n",
    "# intersection_update(S1,S2,...): 更新S为S与其他集合的交集\n",
    "set1.intersection_update({3, 7, 8})\n",
    "print(set1)  # 输出: {3, 7}\n",
    "\n",
    "# isdisjoint(S1): 两个集合有交集返回False，否则返回True\n",
    "disjoint = set1.isdisjoint({8, 9, 10})\n",
    "print(disjoint)  # 输出: True\n",
    "\n",
    "# issubset(S1): 判断当前集合是否是S1的子集\n",
    "subset = set1.issubset({3, 7, 8, 9})\n",
    "print(subset)  # 输出: True\n",
    "\n",
    "# issuperset(S1): 判断S1是否是当前集合的子集\n",
    "superset = set1.issuperset({3, 7})\n",
    "print(superset)  # 输出: True\n",
    "\n",
    "# symmetric_difference(S1): 返回S与S1中不重复元素\n",
    "symmetric_difference_set = set1.symmetric_difference({5, 7, 8})\n",
    "print(symmetric_difference_set)  # 输出: {5, 8}\n",
    "\n",
    "# symmetric_difference_update(S1): 更新S为S与S1中不重复元素\n",
    "set1.symmetric_difference_update({5, 7, 8})\n",
    "print(set1)  # 输出: {3, 8}\n",
    "\n",
    "# union(S1,S2...): 返回S与S1,S2...并集\n",
    "union_set = set1.union({3, 9, 10})\n",
    "print(union_set)  # 输出: {3, 8, 9, 10}\n",
    "\n",
    "# update(S1,S2...): 更新集合S\n",
    "set1.update({9, 10})\n",
    "print(set1)  # 输出: {3, 8, 9, 10}"
   ]
  },
  {
   "cell_type": "markdown",
   "metadata": {},
   "source": [
    "# （六）拷贝问题\n",
    "## 1 Copy问题\n",
    "1. 浅拷贝：拷贝父对象，不会拷贝对象的内部的子对象\n",
    "2. 深拷贝：完全拷贝了父对象及其子对象\n",
    "### 1.1 浅拷贝\n",
    "例子1：\n",
    "- v1 = [1,2,3]\n",
    "- v2 = list(v1)\n",
    "- v3 = v2\n",
    "\n",
    "v1, v2, v3是什么关系？"
   ]
  },
  {
   "cell_type": "code",
   "execution_count": 190,
   "metadata": {},
   "outputs": [
    {
     "data": {
      "text/plain": [
       "(2219376103296, 2219342724992, 2219342724992)"
      ]
     },
     "execution_count": 190,
     "metadata": {},
     "output_type": "execute_result"
    }
   ],
   "source": [
    "v1 = [1,2,3]\n",
    "v2 = list(v1)\n",
    "v3 = v2\n",
    "id(v1), id(v2), id(v3)"
   ]
  },
  {
   "cell_type": "code",
   "execution_count": 191,
   "metadata": {},
   "outputs": [
    {
     "data": {
      "text/plain": [
       "([1, 10, 3], [1, 2, 3], [1, 2, 3])"
      ]
     },
     "execution_count": 191,
     "metadata": {},
     "output_type": "execute_result"
    }
   ],
   "source": [
    "v1[1] = 10\n",
    "v1, v2, v3"
   ]
  },
  {
   "cell_type": "markdown",
   "metadata": {},
   "source": [
    "### 1.2 浅拷贝问题\n",
    "例子2：\n",
    "```python\n",
    "v4 = [1,\"test\", [2,3,4]]\n",
    "v5 = list(v4)\n",
    "```\n",
    "\n",
    "\n",
    "问题：\n",
    "```python\n",
    "v4[0] = -1\n",
    "v5[0] = ?\n",
    "v4[2][0] = 10\n",
    "v5[2][0] = ?\n",
    "```"
   ]
  },
  {
   "cell_type": "code",
   "execution_count": 192,
   "metadata": {},
   "outputs": [
    {
     "data": {
      "text/plain": [
       "(2219350750720, 2219350740480)"
      ]
     },
     "execution_count": 192,
     "metadata": {},
     "output_type": "execute_result"
    }
   ],
   "source": [
    "v4 = [1,\"test\", [2,3,4]]\n",
    "v5 = list(v4)\n",
    "id(v4), id(v5)"
   ]
  },
  {
   "cell_type": "code",
   "execution_count": 194,
   "metadata": {},
   "outputs": [
    {
     "data": {
      "text/plain": [
       "([-1, 'test', [2, 3, 4]], [1, 'test', [2, 3, 4]])"
      ]
     },
     "execution_count": 194,
     "metadata": {},
     "output_type": "execute_result"
    }
   ],
   "source": [
    "v4[0] = -1\n",
    "v4, v5"
   ]
  },
  {
   "cell_type": "code",
   "execution_count": 195,
   "metadata": {},
   "outputs": [
    {
     "data": {
      "text/plain": [
       "([-1, 'test', [10, 3, 4]], [1, 'test', [10, 3, 4]])"
      ]
     },
     "execution_count": 195,
     "metadata": {},
     "output_type": "execute_result"
    }
   ],
   "source": [
    "v4[2][0] = 10\n",
    "v4, v5"
   ]
  },
  {
   "cell_type": "markdown",
   "metadata": {},
   "source": [
    "## 2 copy模块\n",
    "拷贝模块\n",
    "`import copy`\n",
    "- 浅拷贝：copy.copy(x)\n",
    "- 深拷贝：copy.deepcopy(x, memo=None, _nil=[])\n",
    "```python\n",
    "tmp1 = [1,[2,3]]\n",
    "tmp2 = copy.deepcopy(tmp1)\n",
    "tmp1[1][0] = -1\n",
    "tmp2[1][0] = ?\n",
    "```"
   ]
  },
  {
   "cell_type": "code",
   "execution_count": 196,
   "metadata": {},
   "outputs": [
    {
     "data": {
      "text/plain": [
       "(2219350865024, 2219350525952)"
      ]
     },
     "execution_count": 196,
     "metadata": {},
     "output_type": "execute_result"
    }
   ],
   "source": [
    "import copy\n",
    "tmp1 = [1,[2,3]]\n",
    "tmp2 = copy.deepcopy(tmp1)\n",
    "id(tmp1[1]), id(tmp2[1])"
   ]
  },
  {
   "cell_type": "code",
   "execution_count": 197,
   "metadata": {},
   "outputs": [
    {
     "data": {
      "text/plain": [
       "([1, [2, 3]], [1, [2, 3]])"
      ]
     },
     "execution_count": 197,
     "metadata": {},
     "output_type": "execute_result"
    }
   ],
   "source": [
    "tmp1, tmp2"
   ]
  },
  {
   "cell_type": "code",
   "execution_count": 198,
   "metadata": {},
   "outputs": [
    {
     "data": {
      "text/plain": [
       "([1, [-10, 3]], [1, [2, 3]])"
      ]
     },
     "execution_count": 198,
     "metadata": {},
     "output_type": "execute_result"
    }
   ],
   "source": [
    "tmp1[1][0] = -10\n",
    "tmp1, tmp2"
   ]
  },
  {
   "cell_type": "code",
   "execution_count": 199,
   "metadata": {},
   "outputs": [
    {
     "data": {
      "text/plain": [
       "(2219350865024, 2219350525952)"
      ]
     },
     "execution_count": 199,
     "metadata": {},
     "output_type": "execute_result"
    }
   ],
   "source": [
    "id(tmp1[1]), id(tmp2[1])"
   ]
  },
  {
   "cell_type": "markdown",
   "metadata": {},
   "source": [
    "# （七）collections模块\n",
    "collections模块是对dict、list、set、tuple的扩展，在某些场景下可以替代这些数据类型；\n",
    "\n",
    "collections主要包括：\n",
    "| 数据类型      | 说明                                       |\n",
    "|--------------|--------------------------------------------|\n",
    "| `Counter`    | 字典的子类，提供了可哈希对象的计数功能。         |\n",
    "| `defaultdict` | 字典的子类，提供了工厂函数，为字典查询提供了默认值。 |\n",
    "| `OrderedDict` | 字典的子类，保证被添加的顺序。                  |\n",
    "| `namedtuple`  | 创建命名元组子类的工厂函数。                   |\n",
    "| `deque`      | 类似列表容器，实现了在两端快速添加(append)和弹出(pop)。 |\n",
    "| `ChainMap`   | 类似字典的容器类，将多个映射集合到一个视图里面。    |\n"
   ]
  },
  {
   "cell_type": "markdown",
   "metadata": {},
   "source": [
    "## 1 Counter\n",
    "主要方法：\n",
    "| 方法                       | 说明                                       |\n",
    "|----------------------------|--------------------------------------------|\n",
    "| `c = Counter(*args, **kwds)` | 创建 `Counter` 对象。                      |\n",
    "| `c.elements()`              | 返回所有元素组成的迭代器，根据出现次数排序。  |\n",
    "| `c.most_common(n=None)`     | 获取出现次数最多的前N个元素。                |\n",
    "| `c.subtract(*args, **kwds)` | 从迭代对象中减去元素。                      |\n",
    "| `c.update(*args, **kwds)`   | 从迭代对象中增加元素。                      |\n"
   ]
  },
  {
   "cell_type": "code",
   "execution_count": 200,
   "metadata": {},
   "outputs": [
    {
     "name": "stdout",
     "output_type": "stream",
     "text": [
      "Counter({'t': 3, 's': 3, 'i': 2, ' ': 2, 'h': 1, 'e': 1})\n",
      "c.elements(): ['t', 't', 't', 'h', 'i', 'i', 's', 's', 's', ' ', ' ', 'e']\n",
      "update(s): Counter({'t': 6, 's': 6, 'i': 4, ' ': 4, 'h': 2, 'e': 2})\n",
      "subtract(s): Counter({'t': 3, 's': 3, 'i': 2, ' ': 2, 'h': 1, 'e': 1})\n"
     ]
    }
   ],
   "source": [
    "from collections import Counter\n",
    "s = \"this is test\"\n",
    "#创建Counter\n",
    "c = Counter(s)\n",
    "print(c)\n",
    "#查看数量\n",
    "print(\"c.elements():\", list(c.elements()))\n",
    "#元素对应数量增加\n",
    "c.update(s)\n",
    "print('update(s):', c)\n",
    "#元素对应数量减少\n",
    "c.subtract(s)\n",
    "print('subtract(s):', c)"
   ]
  },
  {
   "cell_type": "markdown",
   "metadata": {},
   "source": [
    "## 2 defaultdict\n",
    "collections.defaultdict(default_factory)：为字典key提供一个默认的值；\n",
    "\n",
    "直接看例子："
   ]
  },
  {
   "cell_type": "code",
   "execution_count": 201,
   "metadata": {},
   "outputs": [
    {
     "name": "stdout",
     "output_type": "stream",
     "text": [
      "defaultdict(<class 'int'>, {})\n",
      "0\n",
      "dict_items([('A', 0), ('B', 1)])\n"
     ]
    }
   ],
   "source": [
    "from collections import defaultdict\n",
    "#默认值为int,0\n",
    "d = defaultdict(int)\n",
    "print(d)\n",
    "#d['A'], 增加Key:A 对应的值为0\n",
    "print(d['A'])\n",
    "#d['B'], d['B']的默认值为0，\n",
    "d['B'] += 1\n",
    "print(d.items())"
   ]
  },
  {
   "cell_type": "markdown",
   "metadata": {},
   "source": [
    "## 3 OrderedDict\n",
    "Python中字典是无序的，很多时候我们希望字典保留其添加顺序；\n",
    "\n",
    "OrderedDict：保留字典添加顺序，其操作与dict类似；\n",
    "\n",
    "相关操作："
   ]
  },
  {
   "cell_type": "code",
   "execution_count": 202,
   "metadata": {},
   "outputs": [
    {
     "name": "stdout",
     "output_type": "stream",
     "text": [
      "OrderedDict([('key1', 'value1'), ('key2', 'value2'), ('key3', 'value3')])\n"
     ]
    }
   ],
   "source": [
    "from collections import OrderedDict\n",
    "d = OrderedDict()\n",
    "d['key1'] = 'value1'\n",
    "d['key2'] = 'value2'\n",
    "d['key3'] = 'value3'\n",
    "print(d)"
   ]
  },
  {
   "cell_type": "markdown",
   "metadata": {},
   "source": [
    "## 4 namedtuple\n",
    "namedtuple：使用属性的方式去访问元素； \n",
    "\n",
    "直接看案例："
   ]
  },
  {
   "cell_type": "code",
   "execution_count": 203,
   "metadata": {},
   "outputs": [
    {
     "name": "stdout",
     "output_type": "stream",
     "text": [
      "Person: sun 15\n",
      "Man: li 15\n",
      "Woman: zhao 14\n"
     ]
    }
   ],
   "source": [
    "from collections import namedtuple\n",
    "#三种定义方式\n",
    "Person = namedtuple('Person', ['name', 'age'])\n",
    "Man = namedtuple('Man', 'name,age')\n",
    "Woman = namedtuple('Woman', 'name age')\n",
    "p = Person('sun', 15)\n",
    "m = Man('li', 15)\n",
    "w = Woman('zhao', 14)\n",
    "print('Person:', p.name, p.age)\n",
    "print('Man:', m.name, m.age)\n",
    "print('Woman:', w.name, w.age)"
   ]
  }
 ],
 "metadata": {
  "kernelspec": {
   "display_name": "base",
   "language": "python",
   "name": "python3"
  },
  "language_info": {
   "codemirror_mode": {
    "name": "ipython",
    "version": 3
   },
   "file_extension": ".py",
   "mimetype": "text/x-python",
   "name": "python",
   "nbconvert_exporter": "python",
   "pygments_lexer": "ipython3",
   "version": "3.11.5"
  }
 },
 "nbformat": 4,
 "nbformat_minor": 2
}
