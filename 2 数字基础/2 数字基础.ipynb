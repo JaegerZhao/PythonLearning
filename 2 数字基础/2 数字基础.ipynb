{
 "cells": [
  {
   "cell_type": "markdown",
   "metadata": {},
   "source": [
    "# 数字基础"
   ]
  },
  {
   "cell_type": "markdown",
   "metadata": {},
   "source": [
    "## 1 数字类型\n",
    "\n",
    "类型|说明|示例\n",
    "---|---|---\n",
    "int|整数|10\n",
    "float|浮点|3.14\n",
    "bool|布尔值|True,False\n",
    "complex|复数|1+0j\n",
    "\n",
    "基本计算："
   ]
  },
  {
   "cell_type": "code",
   "execution_count": 1,
   "metadata": {},
   "outputs": [
    {
     "name": "stdout",
     "output_type": "stream",
     "text": [
      "31.400000000000002\n"
     ]
    }
   ],
   "source": [
    "print(3.14 * 10)"
   ]
  },
  {
   "cell_type": "markdown",
   "metadata": {},
   "source": [
    "## 2 数字类型转化\n",
    "\n",
    "### 2.1 数字计算优先级\n",
    "优先级顺序：\n",
    "```\n",
    "complex > float > int >bool\n",
    "```\n",
    "通过案例来进行验证："
   ]
  },
  {
   "cell_type": "code",
   "execution_count": 2,
   "metadata": {},
   "outputs": [
    {
     "name": "stdout",
     "output_type": "stream",
     "text": [
      "total sales: 999.9\n",
      "10+True: 11\n"
     ]
    }
   ],
   "source": [
    "price = 99.99\n",
    "num = 10\n",
    "print(\"total sales:\", price*num)\n",
    "print(f\"{num}+{True}:\", num + True)"
   ]
  },
  {
   "cell_type": "markdown",
   "metadata": {},
   "source": [
    "### 2.2 类型强制转换\n",
    "\n",
    "函数|说明\n",
    "---|---\n",
    "int([x], base=10)|将对象转成整数，默认10进制\n",
    "float(x=0, /)|将对象转成浮点数\n",
    "bool(x)|将对象转成Bool值\n",
    "complex(real=0, imag=0)|创建复数\n",
    "round(number, ndigits=None)|指定浮点数小数点后位数\n",
    "\n",
    "需求：\n",
    ">1. 从键盘读取双11的总销售额与购物的总用户数，计算客单价;\n",
    ">2. 要求结果保留小数点后1位；"
   ]
  },
  {
   "cell_type": "code",
   "execution_count": 9,
   "metadata": {},
   "outputs": [],
   "source": [
    "gmv= input(\"输入销售总额：\")\n",
    "shoppers = input(\"总人数：\")"
   ]
  },
  {
   "cell_type": "code",
   "execution_count": 10,
   "metadata": {},
   "outputs": [
    {
     "data": {
      "text/plain": [
       "14.142857142857142"
      ]
     },
     "execution_count": 10,
     "metadata": {},
     "output_type": "execute_result"
    }
   ],
   "source": [
    "float(gmv)/int(shoppers)"
   ]
  },
  {
   "cell_type": "code",
   "execution_count": 11,
   "metadata": {},
   "outputs": [
    {
     "data": {
      "text/plain": [
       "14.14"
      ]
     },
     "execution_count": 11,
     "metadata": {},
     "output_type": "execute_result"
    }
   ],
   "source": [
    "round(float(gmv)/int(shoppers), 2)"
   ]
  },
  {
   "cell_type": "code",
   "execution_count": 12,
   "metadata": {},
   "outputs": [
    {
     "data": {
      "text/plain": [
       "10.0"
      ]
     },
     "execution_count": 12,
     "metadata": {},
     "output_type": "execute_result"
    }
   ],
   "source": [
    "round(9.999, 2)"
   ]
  },
  {
   "cell_type": "markdown",
   "metadata": {},
   "source": [
    "### 2.3 数字不可变\n",
    "数字是一种不可改变的数据结构；<br />\n",
    "思考：经过下面的操作，a,b的值分别是什么？"
   ]
  },
  {
   "cell_type": "code",
   "execution_count": 13,
   "metadata": {},
   "outputs": [],
   "source": [
    "a = 10\n",
    "b = a\n",
    "a = 11"
   ]
  },
  {
   "cell_type": "markdown",
   "metadata": {},
   "source": [
    "id函数：查看对象的地址；"
   ]
  },
  {
   "cell_type": "code",
   "execution_count": 17,
   "metadata": {},
   "outputs": [
    {
     "data": {
      "text/plain": [
       "(140717370872904, 140717370872936, 140717370872936, 140717370872904)"
      ]
     },
     "execution_count": 17,
     "metadata": {},
     "output_type": "execute_result"
    }
   ],
   "source": [
    "id(10),id(11),id(a),id(b)"
   ]
  },
  {
   "cell_type": "markdown",
   "metadata": {},
   "source": [
    "## 3 数字相关函数\n",
    "### 3.1 基本函数\n",
    "| 函数 |说明  |\n",
    "| --- | --- |\n",
    "| pow(x, y, z=None, /) | x\\*\\*y或者x\\*\\*y%z |\n",
    "| abs(x, /) | x的绝对值 |\n",
    "\n",
    "* 练习：计算1~10每个数的平方"
   ]
  },
  {
   "cell_type": "code",
   "execution_count": 18,
   "metadata": {},
   "outputs": [
    {
     "name": "stdout",
     "output_type": "stream",
     "text": [
      "1 4 9 16 25 36 49 64 81 100 "
     ]
    }
   ],
   "source": [
    "for i in range(1, 11):\n",
    "    print(pow(i, 2), end=\" \")"
   ]
  },
  {
   "cell_type": "code",
   "execution_count": 33,
   "metadata": {},
   "outputs": [
    {
     "data": {
      "text/plain": [
       "1"
      ]
     },
     "execution_count": 33,
     "metadata": {},
     "output_type": "execute_result"
    }
   ],
   "source": [
    "a = -1\n",
    "abs(a)"
   ]
  },
  {
   "cell_type": "markdown",
   "metadata": {},
   "source": [
    "\n",
    "### 3.2 math模块\n",
    "math模块：数学相关函数<br />\n",
    "\n",
    "math模块需要导入，导入语法：\n",
    "```\n",
    "#导入模块\n",
    "import 模块名称\n",
    "#导入模块中的方法或者属性\n",
    "from 模块名称 import xxx\n",
    "\n",
    "```"
   ]
  },
  {
   "cell_type": "code",
   "execution_count": 20,
   "metadata": {},
   "outputs": [
    {
     "data": {
      "text/plain": [
       "3.141592653589793"
      ]
     },
     "execution_count": 20,
     "metadata": {},
     "output_type": "execute_result"
    }
   ],
   "source": [
    "import math\n",
    "from math import pi\n",
    "pi"
   ]
  },
  {
   "cell_type": "code",
   "execution_count": 34,
   "metadata": {},
   "outputs": [
    {
     "data": {
      "text/plain": [
       "0.29552020666133955"
      ]
     },
     "execution_count": 34,
     "metadata": {},
     "output_type": "execute_result"
    }
   ],
   "source": [
    "math.sin(0.3)"
   ]
  },
  {
   "cell_type": "markdown",
   "metadata": {},
   "source": [
    "\n",
    "\n",
    "#### 数学常数\n",
    "\n",
    "| 函数, math. |说明  |\n",
    "| --- | --- |\n",
    "| pi |  表示圆周率，3.141592653589793| \n",
    "| e |自然对数的底， 2.718281828459045 | \n",
    "\n",
    "#### 三角函数\n",
    "| 函数, math. |说明  |\n",
    "| --- | --- |\n",
    "| sin(x)/cos(x) |  返回的x弧度的正/余弦值|  \n",
    "|asin(x)/acos(x) | 返回x的反正/反余弦弧度值 |  \n",
    "| tan(x) | 返回x弧度的正切值 |  \n",
    "|atan(x)|返回x的反正切弧度值|\n",
    "\n",
    "#### 指数函数等\n",
    "| 函数, math. |说明  |\n",
    "| --- | --- |\n",
    "| factorial(x) |  计算阶乘，返回x！|  \n",
    "|sqrt(x) | 返回x的平方根 |\n",
    "|floor(x)|取最接近x的整数，返回整数<x|\n",
    "|log(x[, base])|以 Base 为底的 x 的对数|\n",
    "|log10(x)|以10为底的x的对数|\n",
    "|log2(x)|以2为底的x的对数|\n",
    "\n"
   ]
  },
  {
   "cell_type": "code",
   "execution_count": 37,
   "metadata": {},
   "outputs": [
    {
     "data": {
      "text/plain": [
       "120"
      ]
     },
     "execution_count": 37,
     "metadata": {},
     "output_type": "execute_result"
    }
   ],
   "source": [
    "# 给定数字，计算其对应的阶乘\n",
    "def func(n):\n",
    "    ret = 1\n",
    "    for i in range(1, n+1):\n",
    "        ret *= i\n",
    "\n",
    "    return ret\n",
    "\n",
    "func(5)"
   ]
  },
  {
   "cell_type": "code",
   "execution_count": 38,
   "metadata": {},
   "outputs": [
    {
     "name": "stdout",
     "output_type": "stream",
     "text": [
      "num: 23456\n",
      "6num: 2345\n",
      "5num: 234\n",
      "4num: 23\n",
      "3num: 2\n",
      "2"
     ]
    }
   ],
   "source": [
    "# 将给定的整数倒序输出\n",
    "def reverse_digit(num):\n",
    "    if num <10:\n",
    "        print(num)  \n",
    "    else:\n",
    "        while num > 0:\n",
    "            print(\"num:\", num)\n",
    "            tmp = num % 10\n",
    "            print(tmp, end=\"\")\n",
    "            num //=10\n",
    "\n",
    "reverse_digit(23456)"
   ]
  },
  {
   "cell_type": "markdown",
   "metadata": {},
   "source": [
    "### 4 随机数模块\n",
    "* 导入模块\n",
    "```\n",
    "import random\n",
    "```\n",
    "* random相关方法\n",
    "```\n",
    "random.randint(a, b):返回[a,b]之间随机整数；\n",
    "random.random():返回[0, 1)随机数；\n",
    "random.uniform(a, b):返回[a,b]之间的实数；\n",
    "random.seed(a=None, version=2):设置随机种子，如果每次设置值一样，产生随机数一样；\n",
    "```"
   ]
  },
  {
   "cell_type": "code",
   "execution_count": 21,
   "metadata": {},
   "outputs": [
    {
     "data": {
      "text/plain": [
       "4"
      ]
     },
     "execution_count": 21,
     "metadata": {},
     "output_type": "execute_result"
    }
   ],
   "source": [
    "import random\n",
    "# 产生0~10之间随机数\n",
    "random.randint(0, 10)"
   ]
  },
  {
   "cell_type": "code",
   "execution_count": 22,
   "metadata": {},
   "outputs": [
    {
     "data": {
      "text/plain": [
       "0.9562311732663106"
      ]
     },
     "execution_count": 22,
     "metadata": {},
     "output_type": "execute_result"
    }
   ],
   "source": [
    "# 产生0~1之间的随机数\n",
    "random.random()"
   ]
  },
  {
   "cell_type": "code",
   "execution_count": 27,
   "metadata": {},
   "outputs": [
    {
     "data": {
      "text/plain": [
       "2"
      ]
     },
     "execution_count": 27,
     "metadata": {},
     "output_type": "execute_result"
    }
   ],
   "source": [
    "# 随机种子，结果固定\n",
    "random.seed(1)\n",
    "random.randint(0, 10)"
   ]
  },
  {
   "cell_type": "code",
   "execution_count": 32,
   "metadata": {},
   "outputs": [
    {
     "data": {
      "text/plain": [
       "7"
      ]
     },
     "execution_count": 32,
     "metadata": {},
     "output_type": "execute_result"
    }
   ],
   "source": [
    "# 无随机种子，结果随机\n",
    "random.randint(0, 10)"
   ]
  }
 ],
 "metadata": {
  "kernelspec": {
   "display_name": "base",
   "language": "python",
   "name": "python3"
  },
  "language_info": {
   "codemirror_mode": {
    "name": "ipython",
    "version": 3
   },
   "file_extension": ".py",
   "mimetype": "text/x-python",
   "name": "python",
   "nbconvert_exporter": "python",
   "pygments_lexer": "ipython3",
   "version": "3.11.5"
  }
 },
 "nbformat": 4,
 "nbformat_minor": 2
}
