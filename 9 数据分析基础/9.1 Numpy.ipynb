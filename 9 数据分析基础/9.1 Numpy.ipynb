{
 "cells": [
  {
   "cell_type": "markdown",
   "id": "e96e5c55-e6c1-479b-a206-af5c3db6d563",
   "metadata": {},
   "source": [
    "## 1 numpy简介\n",
    "numpy:开源的python科学计算模块，用于数据快速处理；\n",
    "\n",
    "numpy支持矩阵与数组操作，计算速度快，是Python中科学计算的基础库；\n",
    "\n",
    "numpy优点：\n",
    "1. 底层使用C语言实现，计算速度快\n",
    "2. numpy支持均值，累积和，方差等运算，可以直接使用；\n",
    "3. numpy处理数据方式灵活，支持excel, csv等多种方式数据导入；\n"
   ]
  },
  {
   "cell_type": "code",
   "execution_count": 1,
   "id": "59e81835-5535-4147-bf39-1a6bef6e567d",
   "metadata": {},
   "outputs": [
    {
     "name": "stdout",
     "output_type": "stream",
     "text": [
      "[1 2 3 4 5]\n",
      "<class 'numpy.ndarray'>\n"
     ]
    }
   ],
   "source": [
    "import numpy as np\n",
    "values = np.array([1,2,3,4,5])\n",
    "print(values)\n",
    "print(type(values))\n"
   ]
  },
  {
   "cell_type": "markdown",
   "id": "4f594c12-785a-48eb-97f2-f5e249352bcb",
   "metadata": {},
   "source": [
    "## 2 numpy安装\n",
    "numpy安装：\n",
    "- 方式1：pip install numpy\n",
    "- 方式2：anaconda环境：自带numpy,不用安装\n",
    "\n",
    "> - numpy官方文档：https://numpy.org/doc/ (https://numpy.org/doc/)\n",
    "> - numpy源码：https://github.com/numpy/numpy (https://github.com/numpy/numpy)\n",
    "\n",
    "## 3 ndarray\n",
    "`array(object, dtype=None, copy=True, order='K', subok=False, ndmin=0)`\n",
    "| 参数 | 说明 |\n",
    "|---|---|\n",
    "| objec | 类似数组对象,例如:序列,range对象等 |\n",
    "| dtype | 元素类型 | \n",
    "| order | 数据内存排列形式 |\n",
    "| ndmin | 指定维度 |\n",
    "\n",
    "1. numpy中基本数据结构；\n",
    "2. ndarray对象索引从0开始\n",
    "3. 所有元素是同一种类型；\n",
    "4. 与列表类似，支持切片等操作；\n",
    "\n"
   ]
  },
  {
   "cell_type": "code",
   "execution_count": 2,
   "id": "8e617cc5-3cf0-4c3f-a27c-977378de9b84",
   "metadata": {},
   "outputs": [
    {
     "name": "stdout",
     "output_type": "stream",
     "text": [
      "[1 2 3]\n",
      "[[1. 2. 3.]]\n"
     ]
    }
   ],
   "source": [
    "#一维ndarray\n",
    "print(np.array([1,2,3]))\n",
    "#二维ndarray,元素类型为float32\n",
    "print(np.array([1,2,3], dtype='f' ,ndmin=2))"
   ]
  },
  {
   "cell_type": "markdown",
   "id": "9f58fb95-e1b4-45b4-a5f1-5f56cbde4831",
   "metadata": {},
   "source": [
    "### 3.1 ndarry轴与秩\n",
    "- 轴（axis）：每一个线性的数组称为是一个轴；\n",
    "    - 第一个轴（axis=0）：第一层数组，\n",
    "    - 第二个轴（axis=1）：数组里的数组\n",
    "- 秩（rank）：维度\n",
    "\n",
    "示意图：\n",
    "![image-20240202090913695](https://raw.githubusercontent.com/ZzDarker/figure/main/img/image-20240202090913695.png)\n",
    "\n",
    "### 3.2 ndarray 相关属性\n",
    "| 属性 | 说明 |\n",
    "|---|-----|\n",
    "|.ndim| 秩 |\n",
    "|.shape| 维度 |  \n",
    "|.size| 元素数量 |\n",
    "|.dtype| 元素类型 |"
   ]
  },
  {
   "cell_type": "code",
   "execution_count": 3,
   "id": "6fd5912b-c688-4b44-9d30-a39d62abed38",
   "metadata": {},
   "outputs": [
    {
     "name": "stdout",
     "output_type": "stream",
     "text": [
      "ndim:2\n",
      "shape:(1, 3)\n",
      "size:3\n",
      "dtype:int32\n"
     ]
    }
   ],
   "source": [
    "nd = np.array([1,2,3], ndmin=2)\n",
    "print(f'ndim:{nd.ndim}')   # 秩\n",
    "print(f'shape:{nd.shape}')  #维度\n",
    "print(f'size:{nd.size}')   #元素数量\n",
    "print(f'dtype:{nd.dtype}')  #元素类型"
   ]
  },
  {
   "cell_type": "markdown",
   "id": "08452489",
   "metadata": {},
   "source": [
    "### 3.3 创建 ndarray 对象\n",
    "| 方法 | 说明 |\n",
    "|---|-----|\n",
    "|np.zeros(shape, dtype=float, order='C')| 根据指定shape创建默认值为0的ndarray对象|\n",
    "|np.empty(shape, dtype=float, order='C')| 根据指定shape创建默认值为随机数的ndarray对象|\n",
    "|np.ones(shape, dtype=float, order='C')| 根据指定shape创建默认值为1的ndarray对象|  \n",
    "|np.full(shape, fill_value, dtype=None, order='C')| 根据指定shape创建默认值为fill_value的ndarray对象|\n",
    "|np.arange([start,] stop[, step,], dtype=None)| 类似于range,返回ndarray对象|\n",
    "|np.linspace(start,stop,num=50,endpoint=True,retstep=False,dtype=None,axis=0,)| 根据给定起始值与数量,返回ndarray对象|\n",
    "|np.zeros_like/empty_like/ones_like(a, dtype=None, order='K', subok=True)| 根据给定array返回相同形状的ndarray对象|"
   ]
  },
  {
   "cell_type": "code",
   "execution_count": 4,
   "id": "a0132933-c4d7-4655-8a05-ab8cda96480e",
   "metadata": {},
   "outputs": [
    {
     "name": "stdout",
     "output_type": "stream",
     "text": [
      "zeros:\n",
      " [0. 0. 0. 0. 0. 0. 0. 0. 0. 0.]\n",
      "ones:\n",
      " [[1. 1. 1. 1. 1. 1. 1. 1. 1. 1.]\n",
      " [1. 1. 1. 1. 1. 1. 1. 1. 1. 1.]]\n",
      "empty_like:\n",
      " [[1. 1. 1. 1. 1. 1. 1. 1. 1. 1.]\n",
      " [1. 1. 1. 1. 1. 1. 1. 1. 1. 1.]]\n",
      "arange:\n",
      " [ 0  2  4  6  8 10 12 14 16 18]\n"
     ]
    }
   ],
   "source": [
    "#一维\n",
    "a = np.zeros(10)\n",
    "print('zeros:\\n',a)\n",
    "#二维\n",
    "a = np.ones((2,10))\n",
    "print('ones:\\n',a)\n",
    "#根据指定数据形状\n",
    "b = np.empty_like(a)\n",
    "print('empty_like:\\n',b)\n",
    "#arange:\n",
    "a = np.arange(0,20, 2)\n",
    "print('arange:\\n',a)"
   ]
  },
  {
   "cell_type": "markdown",
   "id": "ce280606",
   "metadata": {},
   "source": [
    "### 3.4 np.radom相关方法\n",
    "| 方法 | 说明 |  \n",
    "|---|-----|\n",
    "|np.random.rand(d0, d1, ..., dn)| 根据给定形状产生随机值|\n",
    "|np.random.randint(low, high=None, size=None, dtype='l')| 根据指定值范围产生整数|"
   ]
  },
  {
   "cell_type": "code",
   "execution_count": 5,
   "id": "8f9b65a6-da7b-4d18-8970-421773c03418",
   "metadata": {},
   "outputs": [
    {
     "name": "stdout",
     "output_type": "stream",
     "text": [
      "random.rand:\n",
      " [[0.22869702 0.81646748 0.14623549]\n",
      " [0.78226625 0.56383522 0.76761393]]\n",
      "random.randint:\n",
      " [[16 19 12 18 18 19 10 15 16 18]\n",
      " [15 18 15 14 14 10 19 10 19 13]]\n"
     ]
    }
   ],
   "source": [
    "# np.radom相关方法\n",
    "#根据指定形状产生随机值\n",
    "print(\"random.rand:\\n\", np.random.rand(2,3))\n",
    "#根据指定形状产生指定范围随机值\n",
    "print('random.randint:\\n', np.random.randint(10, 20, size=(2,10)))"
   ]
  },
  {
   "cell_type": "markdown",
   "id": "e906ed3c",
   "metadata": {},
   "source": [
    "### 3.5 reshape方法\n",
    "`array.reshape(shape, order='C')`\n",
    "\n",
    "作用：调整array的新装，返回新的ndarray对象"
   ]
  },
  {
   "cell_type": "code",
   "execution_count": 6,
   "id": "b87cac6a-ac44-4a07-812a-69148c3fac5b",
   "metadata": {},
   "outputs": [
    {
     "name": "stdout",
     "output_type": "stream",
     "text": [
      "a.reshape(2,5):\n",
      " [[0 1 2 3 4]\n",
      " [5 6 7 8 9]]\n",
      "b.reshape(10):\n",
      " [0 1 2 3 4 5 6 7 8 9]\n"
     ]
    }
   ],
   "source": [
    "# reshape方法：作用：调整array的新装，返回新的ndarray对象\n",
    "a = np.arange(10)\n",
    "b = a.reshape(2,5)\n",
    "print('a.reshape(2,5):\\n',b)\n",
    "print('b.reshape(10):\\n', b.reshape(10))"
   ]
  },
  {
   "cell_type": "markdown",
   "id": "7f6482f9",
   "metadata": {},
   "source": [
    "理解下order中的C与F：\n",
    "- 二维array对象：\n",
    "`a = [[1,2],[3,4]]`\n",
    "- C代表在C语言中数据在内存存储方式：\n",
    "`a[0][0],a[0][1],a[1][0],a[1][1]`\n",
    "- F代表在Fortran语言中数据在内存存储方式：\n",
    "`a[0][0],a[1][0],a[0][1],a[1][1]`\n",
    "\n",
    "示例："
   ]
  },
  {
   "cell_type": "code",
   "execution_count": 2,
   "id": "dfd9e74e",
   "metadata": {},
   "outputs": [
    {
     "name": "stdout",
     "output_type": "stream",
     "text": [
      "b:\n",
      " [[0 1 2 3 4]\n",
      " [5 6 7 8 9]]\n",
      "c:\n",
      " [0 1 2 3 4 5 6 7 8 9]\n",
      "d:\n",
      " [0 5 1 6 2 7 3 8 4 9]\n"
     ]
    }
   ],
   "source": [
    "a = np.arange(10)\n",
    "b = a.reshape(2,5)\n",
    "print('b:\\n', b)\n",
    "c = b.reshape(10, order='C')\n",
    "d = b.reshape(10, order='F')\n",
    "print('c:\\n',c)\n",
    "print('d:\\n',d)"
   ]
  },
  {
   "cell_type": "markdown",
   "id": "3633af34",
   "metadata": {},
   "source": [
    "### 3.6 ndarray对象转其他数据结构\n",
    "`a = np.arange(10)`\n",
    "| 方法 | 说明 |\n",
    "|---|-----|\n",
    "|a.tolist()|转成列表|\n",
    "|a.tostring(order='C')|转成bytes|\n",
    "|a.tobytes(order='C')|转成bytes|\n",
    "|a.tofile(fid, sep=\"\", format=\"%s\")|保存到文件,fid:打开文件或者路径|"
   ]
  },
  {
   "cell_type": "code",
   "execution_count": 7,
   "id": "6729d6d0-38a7-4a38-a54c-d49b3bda7b0c",
   "metadata": {},
   "outputs": [
    {
     "name": "stdout",
     "output_type": "stream",
     "text": [
      "[0, 1, 2, 3, 4, 5, 6, 7, 8, 9]\n",
      "b'\\x00\\x00\\x00\\x00\\x01\\x00\\x00\\x00\\x02\\x00\\x00\\x00\\x03\\x00\\x00\\x00\\x04\\x00\\x00\\x00\\x05\\x00\\x00\\x00\\x06\\x00\\x00\\x00\\x07\\x00\\x00\\x00\\x08\\x00\\x00\\x00\\t\\x00\\x00\\x00'\n"
     ]
    }
   ],
   "source": [
    "# ndarray对象转其他数据结构\n",
    "a = np.arange(10)\n",
    "print(a.tolist())\n",
    "print(a.tobytes())"
   ]
  },
  {
   "cell_type": "markdown",
   "id": "a502b3f3-32f6-45c0-b4cf-718e6353d824",
   "metadata": {},
   "source": [
    "## 4 numpy的数据类型\n",
    "常用数据类型：\n",
    "\n",
    "| 类型 | 类型代码 | 说明 |\n",
    "|---|----|-----|\n",
    "|int8/16/32/64| i1/i2/i4/i8| 有符号8/16/32/64位整数|  \n",
    "|uint8/16/32/64| u1/u2/u4/u8| 无有符号8/16/32/64位整数|"
   ]
  },
  {
   "cell_type": "code",
   "execution_count": 8,
   "id": "c2d60093-3364-4707-a800-1e2c19b07443",
   "metadata": {},
   "outputs": [
    {
     "data": {
      "text/plain": [
       "array([0, 1, 2, 3])"
      ]
     },
     "execution_count": 8,
     "metadata": {},
     "output_type": "execute_result"
    }
   ],
   "source": [
    "a = np.array([0,1,2,3])\n",
    "a"
   ]
  },
  {
   "cell_type": "code",
   "execution_count": 9,
   "id": "12f7b218-768d-4582-aa2b-a1b09c6cb9cd",
   "metadata": {},
   "outputs": [
    {
     "data": {
      "text/plain": [
       "numpy.int32"
      ]
     },
     "execution_count": 9,
     "metadata": {},
     "output_type": "execute_result"
    }
   ],
   "source": [
    "type(a[0])"
   ]
  },
  {
   "cell_type": "code",
   "execution_count": 10,
   "id": "fe3e40b8-a36a-40ea-ace8-ddfc42429b9c",
   "metadata": {},
   "outputs": [
    {
     "data": {
      "text/plain": [
       "array([0, 1, 2, 3, 4, 5, 6, 7, 8, 9], dtype=int8)"
      ]
     },
     "execution_count": 10,
     "metadata": {},
     "output_type": "execute_result"
    }
   ],
   "source": [
    "a = np.array(range(10),dtype=np.int8)\n",
    "a"
   ]
  },
  {
   "cell_type": "code",
   "execution_count": 11,
   "id": "0d9ea95b-f8b6-4ee6-90b5-58b23ce67989",
   "metadata": {},
   "outputs": [
    {
     "data": {
      "text/plain": [
       "array([0, 1, 2, 3, 4, 5, 6, 7, 8, 9], dtype=int8)"
      ]
     },
     "execution_count": 11,
     "metadata": {},
     "output_type": "execute_result"
    }
   ],
   "source": [
    "a = np.array(range(10),dtype='b')\n",
    "a"
   ]
  },
  {
   "cell_type": "code",
   "execution_count": 12,
   "id": "01391893-9e2d-4679-8521-72913d1ea3da",
   "metadata": {},
   "outputs": [
    {
     "data": {
      "text/plain": [
       "array([0., 1., 2., 3., 4., 5., 6., 7., 8., 9.], dtype=float32)"
      ]
     },
     "execution_count": 12,
     "metadata": {},
     "output_type": "execute_result"
    }
   ],
   "source": [
    "a = np.array(range(10),dtype='f')\n",
    "a"
   ]
  },
  {
   "cell_type": "markdown",
   "id": "8f0f5d66",
   "metadata": {},
   "source": [
    "`np.sctypeDict`是一个字典,它映射了NumPy中每个数据类型到其对应的字符代码。\n",
    "\n",
    "它允许在类型代码和NumPy数据类型之间进行转换和查找。\n",
    "\n",
    "| 对应数据类型 | 类型代码 |\n",
    "|-|-|\n",
    "| numpy.bool\\_ | '?', 0, 'b1', 'bool8', 'bool\\_'|\n",
    "| numpy.int8 | 'byte', 'b', 1, 'int8', 'i1'|\n",
    "| numpy.uint8 | 'ubyte', 'B', 2, 'uint8', 'u1'|\n",
    "| numpy.int16 | 'short', 'h', 3, 'int16', 'i2'|\n",
    "| numpy.uint16 | 'ushort', 'H', 4, 'uint16', 'u2'|  \n",
    "| numpy.intc | 'i', 5, 'intc'|\n",
    "| numpy.uint32 | 'uint', 'I', 'uint32', 'u4'|\n",
    "| numpy.uintc | 6, 'uintc'|\n",
    "| numpy.int64 | 'intp', 'p', 9, 'int64', 'i8', 'longlong', 'q'|\n",
    "| numpy.uint64 | 'uintp', 'P', 10, 'uint64', 'u8', 'ulonglong', 'Q'|\n",
    "| numpy.int32 | 'long', 'l', 7, 'int32', 'i4'|\n",
    "| numpy.uint32 | 'ulong', 'L', 8, 'uint32', 'u4'|\n",
    "| numpy.float16 | 'half', 'e', 23, 'f2', 'float16'|   \n",
    "| numpy.float32 | 'f', 11, 'single', 'f4', 'float32'|\n",
    "| numpy.float64 | 'double', 'd', 12, 'float\\_', 'f8', 'float64'|\n",
    "| numpy.longdouble | 'longdouble', 'g', 13, 'longfloat'|\n",
    "| numpy.complex128 | 'cfloat', 'cdouble', 'D', 15, 'complex\\_', 'complex'|\n",
    "| numpy.complex64 | 'F', 14, 'csingle', 'singlecomplex', 'c8', 'complex64'|  \n",
    "| numpy.clongdouble | 'clongfloat', 'G', 16, 'longcomplex'|  \n",
    "| numpy.object\\_ | 'O', 17, 'object0', 'object\\_', 'object'|\n",
    "| numpy.bytes\\_ | 'S', 18, 'bytes0', 'bytes\\_', 'string\\_', 'a' |   \n",
    "| numpy.str\\_ | 'unicode', 'U', 19, 'str0', 'str\\_', 'unicode\\_', 'str'|\n",
    "| numpy.void | 'void', 'V', 20, 'void0'| \n",
    "| numpy.datetime64 | 'M', 21, 'M8', 'datetime64'|\n",
    "| numpy.timedelta64 | 'm', 22, 'm8', 'timedelta64'|"
   ]
  },
  {
   "cell_type": "code",
   "execution_count": 14,
   "id": "af21d5c1-e9ca-4295-ba2f-457522908f17",
   "metadata": {},
   "outputs": [
    {
     "data": {
      "text/plain": [
       "array(['0.0', '1.0', '2.0', '3.0', '4.0', '5.0', '6.0', '7.0', '8.0',\n",
       "       '9.0'], dtype='<U32')"
      ]
     },
     "execution_count": 14,
     "metadata": {},
     "output_type": "execute_result"
    }
   ],
   "source": [
    "# a.astype('U')用于将数组a的数据类型转换为Unicode字符串类型\n",
    "a.astype('U')"
   ]
  },
  {
   "cell_type": "markdown",
   "id": "ef99e1bb-464c-467d-be6b-df326f6790df",
   "metadata": {},
   "source": [
    "## 5 numpy访问与修改\n",
    "\n",
    "numpy访问与列表类似，支取切片操作\n",
    "### 5.1 一维array\n"
   ]
  },
  {
   "cell_type": "code",
   "execution_count": 15,
   "id": "95c8de19-5626-44dc-81f3-e7cda912439d",
   "metadata": {},
   "outputs": [
    {
     "name": "stdout",
     "output_type": "stream",
     "text": [
      "0\n",
      "10\n",
      "[10 11 12 13 14 15 16 17 18 19]\n",
      "[20 21 22 23 24]\n",
      "[10 12 14 16 18]\n",
      "[20 18 16 14 12]\n"
     ]
    }
   ],
   "source": [
    "import numpy as np\n",
    "a = np.arange(25)\n",
    "#索引0对应值：\n",
    "v = a[0]\n",
    "print(v)\n",
    "#索引为10值：\n",
    "v = a[10]\n",
    "print(v)\n",
    "#切片操作：\n",
    "v = a[10:20]\n",
    "print(v)\n",
    "v = a[20:]\n",
    "print(v)\n",
    "v = a[10:20:2]\n",
    "print(v)\n",
    "v = a[20:10:-2]\n",
    "print(v)"
   ]
  },
  {
   "cell_type": "markdown",
   "id": "5f548897-6da4-4b36-aaf7-cb8af854a9d0",
   "metadata": {},
   "source": [
    "### 5.2 numpy中的轴\n",
    "轴是指数组沿着某个方向的线性序列，也就是数组的维度。\n",
    "\n",
    "一维数组有一个轴，二维数组有两个轴，以此类推。\n",
    "\n",
    "轴的数量也称为秩，它表示数组的维度数量。例如，一个二维数组的秩为2，一个三维数组的秩为3。\n",
    "1. 二维array"
   ]
  },
  {
   "cell_type": "code",
   "execution_count": 16,
   "id": "40e4c987-fd8d-4a64-8362-c14b1d5c9ac6",
   "metadata": {},
   "outputs": [
    {
     "name": "stdout",
     "output_type": "stream",
     "text": [
      "[[ 0  1  2  3  4]\n",
      " [ 5  6  7  8  9]\n",
      " [10 11 12 13 14]\n",
      " [15 16 17 18 19]\n",
      " [20 21 22 23 24]]\n",
      "->a[0]:\t\t [0 1 2 3 4]\n",
      "->a[0][0]:\t 0\n"
     ]
    }
   ],
   "source": [
    "#二维array\n",
    "import numpy as np\n",
    "a = np.arange(25)\n",
    "#2x2矩阵\n",
    "a = a.reshape(5,5)\n",
    "print(a)\n",
    "#取a[0]\n",
    "print('->a[0]:\\t\\t',a[0])\n",
    "#取a[0][0]\n",
    "print('->a[0][0]:\\t',a[0][0])"
   ]
  },
  {
   "cell_type": "markdown",
   "id": "f23aa397",
   "metadata": {},
   "source": [
    "array取值："
   ]
  },
  {
   "cell_type": "code",
   "execution_count": 17,
   "id": "adcd1c90-ec2c-4fa0-bf76-b5183d1ff822",
   "metadata": {},
   "outputs": [
    {
     "data": {
      "text/plain": [
       "array([[ 0,  1,  2,  3,  4],\n",
       "       [ 5,  6,  7,  8,  9],\n",
       "       [10, 11, 12, 13, 14]])"
      ]
     },
     "execution_count": 17,
     "metadata": {},
     "output_type": "execute_result"
    }
   ],
   "source": [
    "#取前三行\n",
    "a[0:3]"
   ]
  },
  {
   "cell_type": "code",
   "execution_count": 18,
   "id": "dc0f652f-2e4c-4482-a88e-e188c324ffa3",
   "metadata": {},
   "outputs": [
    {
     "data": {
      "text/plain": [
       "array([[ 5,  6,  7,  8,  9],\n",
       "       [10, 11, 12, 13, 14],\n",
       "       [20, 21, 22, 23, 24]])"
      ]
     },
     "execution_count": 18,
     "metadata": {},
     "output_type": "execute_result"
    }
   ],
   "source": [
    "#取指定行\n",
    "a[[1,2,4]]"
   ]
  },
  {
   "cell_type": "code",
   "execution_count": 19,
   "id": "082abda3-7e03-4a15-86ec-d09ad41138cd",
   "metadata": {},
   "outputs": [
    {
     "data": {
      "text/plain": [
       "array([ 1,  6, 11, 16, 21])"
      ]
     },
     "execution_count": 19,
     "metadata": {},
     "output_type": "execute_result"
    }
   ],
   "source": [
    "#取第二列\n",
    "a[:,1]"
   ]
  },
  {
   "cell_type": "code",
   "execution_count": 20,
   "id": "79eeb518-8a16-4210-bd61-d3bd617c4f75",
   "metadata": {},
   "outputs": [
    {
     "data": {
      "text/plain": [
       "array([[ 1,  3],\n",
       "       [ 6,  8],\n",
       "       [11, 13],\n",
       "       [16, 18],\n",
       "       [21, 23]])"
      ]
     },
     "execution_count": 20,
     "metadata": {},
     "output_type": "execute_result"
    }
   ],
   "source": [
    "#取1，3两列\n",
    "a[:,[1,3]]"
   ]
  },
  {
   "cell_type": "markdown",
   "id": "eeb750d1",
   "metadata": {},
   "source": [
    "2. 三维array"
   ]
  },
  {
   "cell_type": "code",
   "execution_count": 21,
   "id": "90e12aa4-4ef5-49ce-a50e-ec0a38aaf291",
   "metadata": {},
   "outputs": [
    {
     "name": "stdout",
     "output_type": "stream",
     "text": [
      "[[[ 0  1  2]\n",
      "  [ 3  4  5]\n",
      "  [ 6  7  8]]\n",
      "\n",
      " [[ 9 10 11]\n",
      "  [12 13 14]\n",
      "  [15 16 17]]\n",
      "\n",
      " [[18 19 20]\n",
      "  [21 22 23]\n",
      "  [24 25 26]]]\n",
      "[[0 1 2]\n",
      " [3 4 5]\n",
      " [6 7 8]]\n",
      "->a[0][0]:\t [0 1 2]\n",
      "->a[0][0][0]:\t 0\n"
     ]
    }
   ],
   "source": [
    "#三维array\n",
    "import numpy as np\n",
    "a = np.arange(27)\n",
    "#2x2矩阵\n",
    "a = a.reshape(3,3,3)\n",
    "print(a)\n",
    "#取a[0]\n",
    "print(a[0])\n",
    "#取a[0][0]\n",
    "print('->a[0][0]:\\t',a[0][0])\n",
    "print('->a[0][0][0]:\\t',a[0][0][0])"
   ]
  },
  {
   "cell_type": "markdown",
   "id": "c3ef8173",
   "metadata": {},
   "source": [
    "3. array修改"
   ]
  },
  {
   "cell_type": "code",
   "execution_count": 22,
   "id": "7f9ffdbc-9cbe-48dd-a423-fe66f5fce6d6",
   "metadata": {},
   "outputs": [
    {
     "name": "stdout",
     "output_type": "stream",
     "text": [
      "[0 1 2 3 4 5 6 7 8 9]\n",
      "[10  1  2  3  4  5  6  7  8  9]\n",
      "[10 10 10 10 10  5  6  7  8  9]\n"
     ]
    }
   ],
   "source": [
    "#array修改\n",
    "a = np.arange(10)\n",
    "print(a)\n",
    "#修改一个元素\n",
    "a[0] = 10\n",
    "print(a)\n",
    "#修改多个元素\n",
    "a[:5] = 10\n",
    "print(a)"
   ]
  },
  {
   "cell_type": "markdown",
   "id": "aeaeb3eb-017b-40be-b1cf-5907919ba8a2",
   "metadata": {},
   "source": [
    "## 6 numpy计算\n",
    "### 6.1 基本计算\n",
    "1. 广播计算\n",
    "\n",
    "基本运算被应用到array所有的元素中\n"
   ]
  },
  {
   "cell_type": "code",
   "execution_count": 23,
   "id": "8ab9c350-f068-4e46-8e5d-63a605d6367e",
   "metadata": {},
   "outputs": [
    {
     "name": "stdout",
     "output_type": "stream",
     "text": [
      "[0 1 2 3 4 5 6 7 8 9]\n",
      "[ 0 10 20 30 40 50 60 70 80 90]\n",
      "[ 1  2  3  4  5  6  7  8  9 10]\n",
      "[0.  0.5 1.  1.5 2.  2.5 3.  3.5 4.  4.5]\n"
     ]
    }
   ],
   "source": [
    "# numpy广播： boardcasting\n",
    "a = np.arange(10)\n",
    "print(a)\n",
    "print(a*10)\n",
    "print(a+1)\n",
    "print(a/2)\n"
   ]
  },
  {
   "cell_type": "markdown",
   "id": "11fff22c",
   "metadata": {},
   "source": [
    "2. array之间计算"
   ]
  },
  {
   "cell_type": "code",
   "execution_count": 24,
   "id": "463e6a1b-e64a-4925-889b-d9f83db00799",
   "metadata": {},
   "outputs": [
    {
     "name": "stdout",
     "output_type": "stream",
     "text": [
      "[0 1 2 3 4]\n",
      "[1 2 3 4 5]\n",
      "[1 3 5 7 9]\n",
      "[ 0  2  6 12 20]\n"
     ]
    }
   ],
   "source": [
    "# array之间计算\n",
    "a = np.arange(5)\n",
    "b = np.array([1,2,3,4,5])\n",
    "print(a)\n",
    "print(b)\n",
    "print(a+b)\n",
    "print(a*b)"
   ]
  },
  {
   "cell_type": "markdown",
   "id": "b5bc9f22",
   "metadata": {},
   "source": [
    "3. 多维array之间计算"
   ]
  },
  {
   "cell_type": "code",
   "execution_count": 25,
   "id": "0c169a5c-5756-46de-bebc-b2807b3fc366",
   "metadata": {},
   "outputs": [
    {
     "name": "stdout",
     "output_type": "stream",
     "text": [
      "[[1 1 1 1 1]\n",
      " [1 1 1 1 1]]\n",
      "[[10 10 10 10 10]\n",
      " [10 10 10 10 10]]\n",
      "[[11 11 11 11 11]\n",
      " [11 11 11 11 11]]\n"
     ]
    }
   ],
   "source": [
    "# 多维array之间计算\n",
    "t = np.arange(10).reshape(2,5)\n",
    "a = np.ones_like(t)\n",
    "b = np.full_like(t, 10)\n",
    "print(a)\n",
    "print(b)\n",
    "print(a+b)"
   ]
  },
  {
   "cell_type": "markdown",
   "id": "b712b067",
   "metadata": {},
   "source": [
    "4. 基本计算\n",
    "\n",
    "主要包括：求和，均值，方差，累积和等；\n",
    "\n",
    "numpy模块与array对象都支持这些方法，使用方式也类似；\n",
    "\n",
    "这些方法参数类似，我们以sum为例：\n",
    "- `np.sum(a,axis=None,dtype=None,out=None,keepdims=,initial=)`\n",
    "- `a.sum(axis=None, dtype=None, out=None, keepdims=False)`\n",
    "\n",
    "numpy中常用计算相关方法：\n",
    "| 方法 | 说明 |\n",
    "|---|-----|  \n",
    "|np.mean()| 计算均值|\n",
    "|np.max()| 最大值| \n",
    "|np.min()| 最小值|\n",
    "|np.cumsum()| 计算累加和|  \n",
    "|np.std()| 计算标准差|\n",
    "|np.var()| 计算方差|\n",
    "|np.cov()| 计算协方差|  \n",
    "|np.average()| 计算平均值|\n",
    "|np.media()| 计算中位数|\n",
    "|np.ptp()| 计算极值(最大值与最小值差)|\n"
   ]
  },
  {
   "cell_type": "code",
   "execution_count": 26,
   "id": "3a7c8000-7ac8-4f70-a87c-f7ea318503ea",
   "metadata": {},
   "outputs": [
    {
     "name": "stdout",
     "output_type": "stream",
     "text": [
      "[0 1 2 3 4 5 6 7 8 9]\n",
      "45 9 0 9\n",
      "8.25 4.5\n",
      "[ 0  1  3  6 10 15 21 28 36 45]\n"
     ]
    }
   ],
   "source": [
    "import numpy as np\n",
    "a = np.arange(10)\n",
    "print(a)\n",
    "#求和，最大，最小，极差\n",
    "print(np.sum(a), np.max(a), np.min(a), np.ptp(a))\n",
    "#方差，中位数，\n",
    "print(np.var(a), np.median(a))\n",
    "#累加和:[a[0], a[0]+a[1], a[0]+a[1]+a[2], ...]\n",
    "print(np.cumsum(a))"
   ]
  },
  {
   "cell_type": "markdown",
   "id": "0ea1da14",
   "metadata": {},
   "source": [
    "5. numpy其他计算相关方法\n",
    "\n",
    "| 方法 | 说明 | \n",
    "|-|-|\n",
    "| np.sqrt() | 计算平方根 |\n",
    "| np.log() | 计算对数 |\n",
    "| np.min() | 最小值 |\n",
    "| np.cos/sin/tan | 三角函数 |\n",
    "| np.std() | 计算标准差 |"
   ]
  },
  {
   "cell_type": "markdown",
   "id": "431e7a20-544e-492a-a185-2f51b7a620c7",
   "metadata": {},
   "source": [
    "### 6.2 多维array计算\n",
    "多维array指定axis，可以得到不同效果，在计算常用指标，发挥奇效。\n",
    "- shape不同不能计算\n",
    "- 一维array与多维array的行相同，可以计算\n",
    "- 一维array与多维array的列相同，可以计算"
   ]
  },
  {
   "cell_type": "code",
   "execution_count": 27,
   "id": "bbc19003-108d-4aa3-83ee-219a80483e98",
   "metadata": {},
   "outputs": [
    {
     "data": {
      "text/plain": [
       "array([[0, 1, 2, 3, 4],\n",
       "       [5, 6, 7, 8, 9]])"
      ]
     },
     "execution_count": 27,
     "metadata": {},
     "output_type": "execute_result"
    }
   ],
   "source": [
    "import numpy as np\n",
    "a = np.arange(10)\n",
    "a = a.reshape(2,5)\n",
    "a"
   ]
  },
  {
   "cell_type": "markdown",
   "id": "e1af3427",
   "metadata": {},
   "source": [
    "1. 二维基于 axis 的基本运算"
   ]
  },
  {
   "cell_type": "code",
   "execution_count": 28,
   "id": "7ae3a784-83c4-46cb-8d01-248faed11ff1",
   "metadata": {},
   "outputs": [
    {
     "name": "stdout",
     "output_type": "stream",
     "text": [
      "[10 35]\n",
      "[ 5  7  9 11 13]\n"
     ]
    }
   ],
   "source": [
    "#指定axis为1,按行进行计算\n",
    "print(np.sum(a, axis=1))\n",
    "#指定axis为0：按列进行计算\n",
    "print(np.sum(a, axis=0))"
   ]
  },
  {
   "cell_type": "code",
   "execution_count": 29,
   "id": "54b0f3ac-e984-4dcb-b136-760a361697ec",
   "metadata": {},
   "outputs": [
    {
     "name": "stdout",
     "output_type": "stream",
     "text": [
      "[[1]\n",
      " [2]]\n",
      "[0 1 2 3 4]\n"
     ]
    }
   ],
   "source": [
    "b = np.array(range(1,3)).reshape(2,1)\n",
    "print(b)\n",
    "c = np.array(range(0,5))\n",
    "print(c)"
   ]
  },
  {
   "cell_type": "markdown",
   "id": "5c798666",
   "metadata": {},
   "source": [
    "2. 不同长度相加"
   ]
  },
  {
   "cell_type": "code",
   "execution_count": 30,
   "id": "8abda0bf-d0b8-48ad-8a2d-08fbfe4b56a6",
   "metadata": {},
   "outputs": [
    {
     "name": "stdout",
     "output_type": "stream",
     "text": [
      "[[ 1  2  3  4  5]\n",
      " [ 7  8  9 10 11]]\n",
      "[[ 0  2  4  6  8]\n",
      " [ 5  7  9 11 13]]\n"
     ]
    }
   ],
   "source": [
    "# 不同长度相加\n",
    "print(a+b)\n",
    "print(a+c)"
   ]
  },
  {
   "cell_type": "markdown",
   "id": "7361a6bf",
   "metadata": {},
   "source": [
    "3. 三维基于 axis 的基本运算"
   ]
  },
  {
   "cell_type": "code",
   "execution_count": 31,
   "id": "16353338-d5de-4df5-859e-04b6aa712447",
   "metadata": {},
   "outputs": [
    {
     "name": "stdout",
     "output_type": "stream",
     "text": [
      "[[[0 1]\n",
      "  [2 3]]\n",
      "\n",
      " [[4 5]\n",
      "  [6 7]]]\n",
      "\n",
      "axis=0:\n",
      " [[ 4  6]\n",
      " [ 8 10]]\n",
      "\n",
      "axis=1:\n",
      " [[ 2  4]\n",
      " [10 12]]\n",
      "\n",
      "axis=2:\n",
      " [[ 1  5]\n",
      " [ 9 13]]\n"
     ]
    }
   ],
   "source": [
    "t = np.arange(8).reshape(2,2,2)\n",
    "print(t)\n",
    "for i in range(0,3):\n",
    "    print()\n",
    "    print(\"axis=%d:\\n\"%i,t.sum(axis=i))"
   ]
  },
  {
   "cell_type": "markdown",
   "id": "edeb5cae",
   "metadata": {},
   "source": [
    "4. 四维基于 axis 的基本运算"
   ]
  },
  {
   "cell_type": "code",
   "execution_count": 32,
   "id": "9764c256-e5d3-4f03-a50b-18628249b4a4",
   "metadata": {},
   "outputs": [
    {
     "name": "stdout",
     "output_type": "stream",
     "text": [
      "[[[1 2 3 4]\n",
      "  [1 3 4 5]]\n",
      "\n",
      " [[2 4 7 5]\n",
      "  [8 4 3 5]]\n",
      "\n",
      " [[2 5 7 3]\n",
      "  [1 5 3 7]]]\n",
      "shape = (3, 2, 4)\n",
      "\n",
      "axis=0:\n",
      " [[ 5 11 17 12]\n",
      " [10 12 10 17]]\n",
      "\n",
      "axis=1:\n",
      " [[ 2  5  7  9]\n",
      " [10  8 10 10]\n",
      " [ 3 10 10 10]]\n",
      "\n",
      "axis=2:\n",
      " [[10 13]\n",
      " [18 20]\n",
      " [17 16]]\n"
     ]
    }
   ],
   "source": [
    "b = np.array([[[1,2,3,4],[1,3,4,5]],[[2,4,7,5],[8,4,3,5]],[[2,5,7,3],[1,5,3,7]]])\n",
    "print(b)\n",
    "print(\"shape =\",b.shape)\n",
    "for i in range(0,3):\n",
    "    print()\n",
    "    print(\"axis=%d:\\n\"%i,b.sum(axis=i))"
   ]
  },
  {
   "cell_type": "markdown",
   "id": "76e5c6ea-b8e2-4041-8d4c-e8efaa449f82",
   "metadata": {},
   "source": [
    "## 7 numpy数据拼接分割\n",
    "### 7.1 多个array拼接\n",
    "多个数组拼接：`concatenate((a1, a2, ...), axis=0, out=None)`\n"
   ]
  },
  {
   "cell_type": "code",
   "execution_count": 33,
   "id": "d42b2a34-da8c-4212-8ef4-7e9714ec7b68",
   "metadata": {},
   "outputs": [
    {
     "name": "stdout",
     "output_type": "stream",
     "text": [
      "[[1 2]\n",
      " [3 4]]\n",
      "---\n",
      "[[5 6]\n",
      " [7 8]]\n"
     ]
    }
   ],
   "source": [
    "a = np.arange(1,5).reshape(2,2)\n",
    "b = np.arange(5,9).reshape(2,2)\n",
    "print(f'{a}\\n---\\n{b}')"
   ]
  },
  {
   "cell_type": "code",
   "execution_count": 34,
   "id": "585ab6ac-ec82-469f-bf90-667cbfb31296",
   "metadata": {},
   "outputs": [
    {
     "data": {
      "text/plain": [
       "array([[1, 2, 5, 6],\n",
       "       [3, 4, 7, 8]])"
      ]
     },
     "execution_count": 34,
     "metadata": {},
     "output_type": "execute_result"
    }
   ],
   "source": [
    "#轴为1进行拼接\n",
    "'''\n",
    "[[1,2],[3,4]]\n",
    "[[5,6],[7,8]]\n",
    "结果\n",
    "[1,2,]+[5,6]\n",
    "[3,4]+[7,8]\n",
    "'''\n",
    "np.concatenate((a,b), axis=1)"
   ]
  },
  {
   "cell_type": "code",
   "execution_count": 35,
   "id": "cca3208b-8e21-4ab2-9719-45c0d65eb4db",
   "metadata": {},
   "outputs": [
    {
     "data": {
      "text/plain": [
       "array([[1, 2],\n",
       "       [3, 4],\n",
       "       [5, 6],\n",
       "       [7, 8]])"
      ]
     },
     "execution_count": 35,
     "metadata": {},
     "output_type": "execute_result"
    }
   ],
   "source": [
    "#轴为0进行拼接\n",
    "np.concatenate((a,b), axis=0)"
   ]
  },
  {
   "cell_type": "markdown",
   "id": "49bfefe4-757f-4189-ac32-0baf3e39ede2",
   "metadata": {},
   "source": [
    "### 7.2 多个数组的堆叠\n",
    "`np.stack(arrays, axis=0, out=None)` \n",
    "\n",
    "基本理解：arrays，沿着axis进行堆叠，类似穿起来，而不是拼接 例如："
   ]
  },
  {
   "cell_type": "code",
   "execution_count": 36,
   "id": "1d915410-09c7-4c22-8c6a-4b30aed8bf70",
   "metadata": {},
   "outputs": [
    {
     "data": {
      "text/plain": [
       "array([[0, 1],\n",
       "       [2, 3],\n",
       "       [4, 5]])"
      ]
     },
     "execution_count": 36,
     "metadata": {},
     "output_type": "execute_result"
    }
   ],
   "source": [
    "a = np.arange(0,2)\n",
    "b = np.arange(2,4)\n",
    "c = np.arange(4,6)\n",
    "'''\n",
    "[0, 1]\n",
    "[2, 3]\n",
    "[4, 5] ->\n",
    "沿着axis=0拼接：\n",
    "[[0, 1],\n",
    "[2, 3],\n",
    "[4, 5],]\n",
    "'''\n",
    "np.stack((a,b,c), axis=0)"
   ]
  },
  {
   "cell_type": "code",
   "execution_count": 37,
   "id": "8cfd07bf-cbdf-4e63-bfa0-b0017e7bfa8f",
   "metadata": {},
   "outputs": [
    {
     "data": {
      "text/plain": [
       "array([[0, 2, 4],\n",
       "       [1, 3, 5]])"
      ]
     },
     "execution_count": 37,
     "metadata": {},
     "output_type": "execute_result"
    }
   ],
   "source": [
    "a = np.arange(0,2)\n",
    "b = np.arange(2,4)\n",
    "c = np.arange(4,6)\n",
    "'''\n",
    "[0, 1]\n",
    "[2, 3]\n",
    "[4, 5] ->\n",
    "沿着axis=1拼接：\n",
    "[[0,2,4],\n",
    "[1,3,5]]\n",
    "'''\n",
    "np.stack((a,b,c), axis=1)"
   ]
  },
  {
   "cell_type": "markdown",
   "id": "c813ae0d-9104-44f9-b65e-f9b3871279a4",
   "metadata": {},
   "source": [
    "### 7.3 np.hstack与np.vstack\n",
    "分别为水平拼接与垂直拼接\n"
   ]
  },
  {
   "cell_type": "code",
   "execution_count": 38,
   "id": "b62efbeb-ee95-4473-8029-d6e243e84efb",
   "metadata": {},
   "outputs": [
    {
     "name": "stdout",
     "output_type": "stream",
     "text": [
      "[0 1 2 3 4 5]\n",
      "[[0 1]\n",
      " [2 3]\n",
      " [4 5]]\n"
     ]
    }
   ],
   "source": [
    "a = np.arange(0,2)\n",
    "b = np.arange(2,4)\n",
    "c = np.arange(4,6)\n",
    "print(np.hstack((a,b,c)))\n",
    "print(np.vstack((a,b,c)))\n"
   ]
  },
  {
   "cell_type": "markdown",
   "id": "89026264-b831-4f23-b28a-188510bfc8f9",
   "metadata": {},
   "source": [
    "### 7.4 numpy分割\n",
    "split方法：将制定的array按照aixs分割成制定值\n",
    "\n",
    "`np.split(ary, indices_or_sections, axis=0)`\n"
   ]
  },
  {
   "cell_type": "code",
   "execution_count": 39,
   "id": "5b3a17e4-fe6b-4b51-93ca-d0036a8d4282",
   "metadata": {},
   "outputs": [
    {
     "data": {
      "text/plain": [
       "[array([0, 1]), array([2, 3])]"
      ]
     },
     "execution_count": 39,
     "metadata": {},
     "output_type": "execute_result"
    }
   ],
   "source": [
    "np.split(np.arange(4),2, axis=0)"
   ]
  },
  {
   "cell_type": "code",
   "execution_count": 40,
   "id": "d9fe75d7-bb31-49c4-ad99-ce5b203b707b",
   "metadata": {},
   "outputs": [
    {
     "name": "stdout",
     "output_type": "stream",
     "text": [
      "[[0 1 2 3]\n",
      " [4 5 6 7]]\n"
     ]
    }
   ],
   "source": [
    "a = np.arange(8).reshape(2,4)\n",
    "print(a)"
   ]
  },
  {
   "cell_type": "code",
   "execution_count": 41,
   "id": "4c85815b-2540-416d-b122-be6e6c8d7ae5",
   "metadata": {},
   "outputs": [
    {
     "data": {
      "text/plain": [
       "[array([[0, 1, 2, 3]]), array([[4, 5, 6, 7]])]"
      ]
     },
     "execution_count": 41,
     "metadata": {},
     "output_type": "execute_result"
    }
   ],
   "source": [
    "#按照axis=0进行切分，分成2份\n",
    "np.split(a, 2, axis=0)"
   ]
  },
  {
   "cell_type": "code",
   "execution_count": 42,
   "id": "c4f4028e-6b38-4b21-be27-7a4c164af6d1",
   "metadata": {},
   "outputs": [
    {
     "data": {
      "text/plain": [
       "[array([[0, 1],\n",
       "        [4, 5]]),\n",
       " array([[2, 3],\n",
       "        [6, 7]])]"
      ]
     },
     "execution_count": 42,
     "metadata": {},
     "output_type": "execute_result"
    }
   ],
   "source": [
    "#按照axis=1进行切分，分成2份\n",
    "np.split(a, 2, axis=1)"
   ]
  },
  {
   "cell_type": "markdown",
   "id": "1ed6c5f8-4b79-4335-aa8b-bff549a7e1a9",
   "metadata": {},
   "source": [
    "### 7.5 vsplit与hsplit\n",
    "vsplit沿着垂直轴切分\n",
    "\n",
    "hsplit沿着水平轴切分"
   ]
  },
  {
   "cell_type": "code",
   "execution_count": 43,
   "id": "d53145d9-8b65-4086-804e-6df1ea297c5d",
   "metadata": {},
   "outputs": [
    {
     "data": {
      "text/plain": [
       "[array([0, 1]), array([2, 3]), array([4, 5]), array([6, 7]), array([8, 9])]"
      ]
     },
     "execution_count": 43,
     "metadata": {},
     "output_type": "execute_result"
    }
   ],
   "source": [
    "a = np.arange(10)\n",
    "np.hsplit(a, 5)"
   ]
  },
  {
   "cell_type": "code",
   "execution_count": 44,
   "id": "0bc4c539-3c86-4b23-afe8-aa1cfa6f2d9e",
   "metadata": {},
   "outputs": [
    {
     "data": {
      "text/plain": [
       "[array([[0, 1, 2, 3, 4]]), array([[5, 6, 7, 8, 9]])]"
      ]
     },
     "execution_count": 44,
     "metadata": {},
     "output_type": "execute_result"
    }
   ],
   "source": [
    "a = np.arange(10).reshape(2,5)\n",
    "np.vsplit(a, 2)"
   ]
  },
  {
   "cell_type": "markdown",
   "id": "8e4d1848-dc77-481b-be90-a5fd2c67e7cf",
   "metadata": {},
   "source": [
    "## 8 numpy其他操作\n",
    "### 8.1 nan与缺省值处理\n",
    "- Nan是nunpy和pandas中用于标识缺失数据\n",
    "- None:Python 中对象，不能与Nan混淆一起\n",
    "\n",
    "一个例子：某同学两次考试，有一次因为某些情况没有参加，数据格式如下："
   ]
  },
  {
   "cell_type": "code",
   "execution_count": 45,
   "id": "af7a4e27-e145-48eb-ae84-d1492157b548",
   "metadata": {},
   "outputs": [
    {
     "data": {
      "text/plain": [
       "array([[ 90., 100.],\n",
       "       [ nan, 100.]])"
      ]
     },
     "execution_count": 45,
     "metadata": {},
     "output_type": "execute_result"
    }
   ],
   "source": [
    "v1 = np.array([[90, 100],[np.nan, 100]])\n",
    "v1"
   ]
  },
  {
   "cell_type": "markdown",
   "id": "d2635d3e-adef-4a07-b7d0-16dc145e4e33",
   "metadata": {},
   "source": [
    "### 8.2 nan判断"
   ]
  },
  {
   "cell_type": "code",
   "execution_count": 46,
   "id": "343c8550-8297-4f66-afa1-694c83e656a3",
   "metadata": {},
   "outputs": [
    {
     "data": {
      "text/plain": [
       "array([[False, False],\n",
       "       [ True, False]])"
      ]
     },
     "execution_count": 46,
     "metadata": {},
     "output_type": "execute_result"
    }
   ],
   "source": [
    "np.isnan(v1)"
   ]
  },
  {
   "cell_type": "markdown",
   "id": "81930955-9b20-4343-a981-ed736d2bb645",
   "metadata": {},
   "source": [
    "### 8.3 boolean索引\n",
    "array的值都为True或者False；\n",
    "\n",
    "例如：`array([[False, False],[ True, False]])`\n",
    "\n",
    " 获取所有nan值：\n"
   ]
  },
  {
   "cell_type": "code",
   "execution_count": 47,
   "id": "d37494dd-76a0-4713-8c70-f57a033323fb",
   "metadata": {},
   "outputs": [
    {
     "data": {
      "text/plain": [
       "array([[False, False],\n",
       "       [ True, False]])"
      ]
     },
     "execution_count": 47,
     "metadata": {},
     "output_type": "execute_result"
    }
   ],
   "source": [
    "np.isnan(v1)"
   ]
  },
  {
   "cell_type": "code",
   "execution_count": 48,
   "id": "c6b41a17-f3cf-498a-8ab4-bcf024c23889",
   "metadata": {},
   "outputs": [
    {
     "data": {
      "text/plain": [
       "array([nan])"
      ]
     },
     "execution_count": 48,
     "metadata": {},
     "output_type": "execute_result"
    }
   ],
   "source": [
    "v1[np.isnan(v1)]"
   ]
  },
  {
   "cell_type": "code",
   "execution_count": 49,
   "id": "c7f6f3e1-1117-4a03-8f2a-80924e1b3d20",
   "metadata": {},
   "outputs": [
    {
     "data": {
      "text/plain": [
       "array([ 90., 100., 100.])"
      ]
     },
     "execution_count": 49,
     "metadata": {},
     "output_type": "execute_result"
    }
   ],
   "source": [
    "#获取非nan值\n",
    "v1[np.isnan(v1) == False]"
   ]
  },
  {
   "cell_type": "markdown",
   "id": "55aa8468-7ac0-4756-86a8-1ff98d48efe6",
   "metadata": {},
   "source": [
    "### 8.4 np.all与any\n",
    "`np.all(a, axis=None, out=None, )`：沿着给定的axis判断是否有元素为0，为0返回False,不设置axis，判断所有元素\n",
    "\n",
    "`np.any(a, axis=None, out=None, )`：沿着给定的axis判断是否有元素不为0，为0返回False，不设置axis，判断所有元\n"
   ]
  },
  {
   "cell_type": "code",
   "execution_count": 50,
   "id": "03b158fb-cc6c-4c5f-851d-d087cb7334ba",
   "metadata": {},
   "outputs": [
    {
     "name": "stdout",
     "output_type": "stream",
     "text": [
      "[0 1 2 3 4 5 6 7 8 9]\n",
      "False\n"
     ]
    }
   ],
   "source": [
    "a = np.arange(10)\n",
    "print(a)\n",
    "print(np.all(a))"
   ]
  },
  {
   "cell_type": "code",
   "execution_count": 51,
   "id": "99d07807-68e1-4ad0-86bc-7996e11fe0ea",
   "metadata": {},
   "outputs": [
    {
     "name": "stdout",
     "output_type": "stream",
     "text": [
      "[[0 1 2 3 4]\n",
      " [5 6 7 8 9]]\n",
      "[False  True  True  True  True]\n",
      "[False  True]\n"
     ]
    }
   ],
   "source": [
    "a = np.arange(10).reshape(2,5)\n",
    "print(a)\n",
    "#沿着axis=0，简单理解垂直轴\n",
    "print(np.all(a, axis=0))\n",
    "#沿着axis=1，简单理解水平轴\n",
    "print(np.all(a, axis=1))"
   ]
  },
  {
   "cell_type": "code",
   "execution_count": 52,
   "id": "61a69ba3-9466-4e3e-b9e0-3716303b9a43",
   "metadata": {},
   "outputs": [
    {
     "name": "stdout",
     "output_type": "stream",
     "text": [
      "[[0 0 0 0 0]\n",
      " [0 0 0 0 0]]\n",
      "a:False,b:False\n",
      "a:True,b:False\n"
     ]
    }
   ],
   "source": [
    "b = np.zeros_like(a)\n",
    "print(b)\n",
    "print(f'a:{np.all(a)},b:{np.all(b)}')\n",
    "print(f'a:{np.any(a)},b:{np.any(b)}')"
   ]
  },
  {
   "cell_type": "code",
   "execution_count": 53,
   "id": "f43208d9-9486-40fc-aeea-cc7478172701",
   "metadata": {},
   "outputs": [
    {
     "name": "stdout",
     "output_type": "stream",
     "text": [
      "[1 None]\n",
      "1\n",
      "None\n"
     ]
    }
   ],
   "source": [
    "a = np.array([1, None])\n",
    "print(a)\n",
    "print(np.any(a))\n",
    "print(np.all(a))"
   ]
  },
  {
   "cell_type": "code",
   "execution_count": 54,
   "id": "1dafde25-83ff-4c8a-93d5-1bb6011840eb",
   "metadata": {},
   "outputs": [
    {
     "name": "stdout",
     "output_type": "stream",
     "text": [
      "[63 53 11 20 12 50 28 35 76 90]\n",
      "[63 76 90]\n"
     ]
    }
   ],
   "source": [
    "a = np.random.randint(10,100,size=10)\n",
    "print(a)\n",
    "print(a[a>59])"
   ]
  },
  {
   "cell_type": "markdown",
   "id": "ab593e73-3015-4b78-8185-da3e57b04fd6",
   "metadata": {},
   "source": [
    "### 8.5 np.where\n",
    "`where(condition, [x, y])`:\n",
    "\n",
    "- 如果给定x,y,满足条件condition，输出x，不满足输出y；\n",
    "- 如果没有x,y,返回满足条件对应的值的索引；\n",
    "\n",
    "示例：随机生成成绩单，判断是否及格"
   ]
  },
  {
   "cell_type": "code",
   "execution_count": 55,
   "id": "28641143-6097-4ef8-8604-46c52eb0f4da",
   "metadata": {},
   "outputs": [
    {
     "name": "stdout",
     "output_type": "stream",
     "text": [
      "[88 52 88 59 46 85 51 89 98 64]\n"
     ]
    },
    {
     "data": {
      "text/plain": [
       "array(['pass', 'failed', 'pass', 'failed', 'failed', 'pass', 'failed',\n",
       "       'pass', 'pass', 'pass'], dtype='<U6')"
      ]
     },
     "execution_count": 55,
     "metadata": {},
     "output_type": "execute_result"
    }
   ],
   "source": [
    "a = np.random.randint(30,100, 10)\n",
    "print(a)\n",
    "np.where(a>=60, 'pass', 'failed')"
   ]
  },
  {
   "cell_type": "code",
   "execution_count": 56,
   "id": "89708558-655d-4a9d-bc03-d5de2371fc05",
   "metadata": {},
   "outputs": [
    {
     "data": {
      "text/plain": [
       "(array([0, 2, 5, 7, 8, 9], dtype=int64),)"
      ]
     },
     "execution_count": 56,
     "metadata": {},
     "output_type": "execute_result"
    }
   ],
   "source": [
    "np.where(a>=60)"
   ]
  },
  {
   "cell_type": "code",
   "execution_count": 57,
   "id": "c4bc8f52-dee2-444a-8a1d-3e19b4f5c8ab",
   "metadata": {},
   "outputs": [
    {
     "data": {
      "text/plain": [
       "array([88, 88, 85, 89, 98, 64])"
      ]
     },
     "execution_count": 57,
     "metadata": {},
     "output_type": "execute_result"
    }
   ],
   "source": [
    "a[np.where(a>=60)]"
   ]
  },
  {
   "cell_type": "code",
   "execution_count": 58,
   "id": "77b7709d-225b-4514-85c0-8e26816b9689",
   "metadata": {},
   "outputs": [
    {
     "name": "stdout",
     "output_type": "stream",
     "text": [
      "目标值 7 在数组中的索引是 6\n"
     ]
    }
   ],
   "source": [
    "'''\n",
    "在Python请独立编写查找函数：def binary_search (nums, target) \n",
    "要求： \n",
    "1：使用二分查找实现 \n",
    "2：如果在text中找到value，返回对应的索引，否则返回-1\n",
    "'''\n",
    "def binary_search(nums, target):\n",
    "    left, right = 0, len(nums) - 1  # 初始化左右指针\n",
    "\n",
    "    while left <= right:\n",
    "        mid = left + (right - left) // 2  # 计算中间索引，防止溢出\n",
    "\n",
    "        if nums[mid] == target:  # 如果中间值等于目标值\n",
    "            return mid  # 返回中间索引\n",
    "        elif nums[mid] < target:  # 如果中间值小于目标值\n",
    "            left = mid + 1  # 更新左指针为中间索引加1\n",
    "        else:\n",
    "            right = mid - 1  # 如果中间值大于目标值，更新右指针为中间索引减1\n",
    "\n",
    "    return -1  # 目标值不在数组中，返回-1\n",
    "\n",
    "# 示例用法：\n",
    "nums = [1, 2, 3, 4, 5, 6, 7, 8, 9, 10]\n",
    "target = 7\n",
    "result = binary_search(nums, target)\n",
    "if result != -1:\n",
    "    print(f\"目标值 {target} 在数组中的索引是 {result}\")\n",
    "else:\n",
    "    print(f\"目标值 {target} 不在数组中\")"
   ]
  }
 ],
 "metadata": {
  "kernelspec": {
   "display_name": "Python 3",
   "language": "python",
   "name": "python3"
  },
  "language_info": {
   "codemirror_mode": {
    "name": "ipython",
    "version": 3
   },
   "file_extension": ".py",
   "mimetype": "text/x-python",
   "name": "python",
   "nbconvert_exporter": "python",
   "pygments_lexer": "ipython3",
   "version": "3.11.5"
  }
 },
 "nbformat": 4,
 "nbformat_minor": 5
}
