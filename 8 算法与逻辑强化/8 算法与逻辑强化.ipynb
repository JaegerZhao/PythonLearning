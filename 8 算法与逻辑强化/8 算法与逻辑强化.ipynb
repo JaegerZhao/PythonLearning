{
 "cells": [
  {
   "cell_type": "markdown",
   "id": "797978dd-8d5e-4d11-a547-dfb7311708eb",
   "metadata": {},
   "source": [
    "## 1 有序列表中插入元素\n",
    "需求：给定有序数字列表与数字，将数字插入列表中，并使列表有序\n",
    "\n",
    "实现思路：\n",
    "1. 遍历列表nums，取元素val\n",
    "2. 如果插入值x小于等于val，将x插入到val位置\n",
    "3. 如果x大于num中最大值，将x插入到nums最后位置"
   ]
  },
  {
   "cell_type": "code",
   "execution_count": 2,
   "id": "9e4f1af8-43f8-4da9-9af7-269d15d5ffa9",
   "metadata": {},
   "outputs": [
    {
     "name": "stdout",
     "output_type": "stream",
     "text": [
      "插入前： [1, 2, 4, 4]\n",
      "插入后： [1, 2, 3, 4, 4]\n"
     ]
    }
   ],
   "source": [
    "def inser_x(nums, x):\n",
    "    #列表不为空\n",
    "    if nums:\n",
    "        #x大于nums中的最大值\n",
    "        if nums[-1] <= x:\n",
    "            nums.append(x)\n",
    "        else:\n",
    "            for index, val in enumerate(nums):\n",
    "                if x < val:\n",
    "                    nums.insert(index, x)\n",
    "                    #插入之后必须调用break\n",
    "                    break\n",
    "    else:\n",
    "        #列表为空，直接插入x\n",
    "        nums.append(x)\n",
    "nums = [1,2,4,4]\n",
    "print('插入前：', nums)\n",
    "inser_x(nums, 3)\n",
    "print('插入后：', nums)"
   ]
  },
  {
   "cell_type": "markdown",
   "id": "aefcb8e0-a13b-47ea-96c7-8d94905f16c6",
   "metadata": {},
   "source": [
    "## 2 求交集\n",
    "给定两个数组，编写一个函数来计算它们的交集\n",
    "\n",
    "要求：\n",
    "1. 输出结果中的每个元素一定是唯一的，\n",
    "2. 不考虑输出结果的顺序。"
   ]
  },
  {
   "cell_type": "markdown",
   "id": "be47de2f-d29b-43f6-808e-8bc814b7ec11",
   "metadata": {},
   "source": [
    "实现思路\n",
    "1. l1与l2分别去重：\n",
    "2. 合并数据集：\n",
    "3. 统计每个字符出现数量：\n",
    "4. 字符数量如果大于1，则说明有重复元素"
   ]
  },
  {
   "cell_type": "code",
   "execution_count": 3,
   "id": "7df5ba00-c6b3-43a1-80ca-54f6b7111ffc",
   "metadata": {},
   "outputs": [
    {
     "name": "stdout",
     "output_type": "stream",
     "text": [
      "[9, 4]\n",
      "[4, 9]\n"
     ]
    }
   ],
   "source": [
    "from collections import Counter\n",
    "\n",
    "def intersection_1(list1, list2):\n",
    "    l1 = list(set(list1))\n",
    "    l2 = list(set(list2))\n",
    "    l1.extend(l2)\n",
    "    r = Counter(l1)\n",
    "    return [k for k in r if r[k] > 1]\n",
    "\n",
    "def intersection_2(list1, list2):\n",
    "    vals = []\n",
    "    for val in list1:\n",
    "        if val in list2 and val not in vals:\n",
    "            vals.append(val)\n",
    "    return vals\n",
    "#测试1\n",
    "list1 = [4,9,5]\n",
    "list2 = [9,4,9,8,4]  \n",
    "print(intersection_1(list1, list2))\n",
    "print(intersection_2(list1, list2))\n"
   ]
  },
  {
   "cell_type": "markdown",
   "id": "05cf2cf5-6d62-4d61-8f6a-4fe769094468",
   "metadata": {},
   "source": [
    "## 3 旋转字符串\n",
    "字符串s的左旋转操作：将字符串前面的若干个字符转移到字符串的尾部\n",
    "\n",
    "定义一个函数3实现字符串左旋转操作的功能"
   ]
  },
  {
   "cell_type": "code",
   "execution_count": 4,
   "id": "10d6235d-f9f0-4cbd-841d-0fcd4417322e",
   "metadata": {},
   "outputs": [
    {
     "name": "stdout",
     "output_type": "stream",
     "text": [
      "abcdefg 2\n",
      "cdefgab\n"
     ]
    }
   ],
   "source": [
    "def reverse_left_words(s, k):\n",
    "    lens = len(s)\n",
    "    if k > 0 and k < lens:\n",
    "        start = s[k:]\n",
    "        end = s[:k]\n",
    "        return start+end\n",
    "    \n",
    "s = \"abcdefg\"\n",
    "k = 2\n",
    "print(s, k)\n",
    "res = reverse_left_words(s,k)\n",
    "print(res)"
   ]
  },
  {
   "cell_type": "markdown",
   "id": "4178b201-e865-4fd2-9be3-77b26b541b7d",
   "metadata": {},
   "source": [
    "## 4 反转字符串\n",
    "将字符列表进行反转\n",
    "\n",
    "要求：在现有的列表中进行处理，不使用python默认方法：\n",
    "\n",
    "基本操作：\n",
    "1. 获取列表长度：\n",
    "2. 初始索引为stat，结束索引为end：\n",
    "3. start与end对应的元素交换：且starti加1，end减一：\n",
    "4. 结束条件：start<end："
   ]
  },
  {
   "cell_type": "code",
   "execution_count": 5,
   "id": "c3dddc60-6d9e-4506-a2c9-d8e6f5ca076e",
   "metadata": {},
   "outputs": [
    {
     "name": "stdout",
     "output_type": "stream",
     "text": [
      "abcdefg 2\n",
      "cdefgab\n"
     ]
    }
   ],
   "source": [
    "def reverse_left_words(s, k):\n",
    "    lens = len(s)\n",
    "    if k > 0 and k < lens:\n",
    "        start = s[k:]\n",
    "        end = s[:k]\n",
    "        return start+end\n",
    "    \n",
    "s = \"abcdefg\"\n",
    "k = 2\n",
    "print(s, k)\n",
    "res = reverse_left_words(s,k)\n",
    "print(res)"
   ]
  },
  {
   "cell_type": "markdown",
   "id": "4acccc32-8895-4581-88b7-c3db8cde0831",
   "metadata": {},
   "source": [
    "## 5 翻转字符串中单词\n",
    "给定一个字符串，逐个翻转字符串中的每个单词。说明：\n",
    "1. 无空格字符构成一个单词，\n",
    "2. 输入字符串可以在前面或者后面包含多余的空格，但是反转后的字符不能包括。\n",
    "3. 如果两个单词间有多余的空格，将反转后单词间的空格减少到只含一个。\n",
    "\n",
    "实现思路：\n",
    "1. 对字符串进行切分，\n",
    "2. 使用列表解析过滤掉空白字符，\n",
    "3. 对单词列表进行翻转：\n",
    "4. 使用字符串join方法进行拼接："
   ]
  },
  {
   "cell_type": "code",
   "execution_count": 7,
   "id": "45aa8210-1724-49e2-a512-d4fe8ae8fa1b",
   "metadata": {},
   "outputs": [
    {
     "name": "stdout",
     "output_type": "stream",
     "text": [
      "[the sky is blue]->[blue is sky the]\n",
      "[  hello world!  ]->[world! hello]\n",
      "[a good   example]->[example good a]\n",
      "[  Bob    Loves  Alice   ]->[Alice Loves Bob]\n"
     ]
    }
   ],
   "source": [
    "def my_reverse(lists):\n",
    "    \n",
    "    start = 0\n",
    "    end = len(lists)-1\n",
    "    \n",
    "    while start < end:\n",
    "        lists[start], lists[end] = lists[end], lists[start]\n",
    "        start += 1\n",
    "        end -= 1\n",
    "\n",
    "def reverse_words(s):\n",
    "    #切分字符串\n",
    "    wds = s.split()\n",
    "    #列表解析去多余字符串，\n",
    "    wds = [wd for wd in wds if wd.strip()]\n",
    "    #调用上一节翻转列表方式前后交换元素\n",
    "    my_reverse(wds)\n",
    "    #拼接单词\n",
    "    return ' '.join(wds)\n",
    "\n",
    "if __name__ == '__main__':\n",
    "    #多个测试用例\n",
    "    list_s = [\"the sky is blue\", \"  hello world!  \",\"a good   example\",\"  Bob    Loves  Alice   \"]\n",
    "    for s in list_s:\n",
    "        print('[%s]->[%s]'%(s, reverse_words(s)))"
   ]
  },
  {
   "cell_type": "code",
   "execution_count": 2,
   "id": "f87f539f-36f7-405e-a07b-4f93b7550978",
   "metadata": {},
   "outputs": [
    {
     "name": "stdout",
     "output_type": "stream",
     "text": [
      "目标值 7 在数组中的索引是 6\n"
     ]
    }
   ],
   "source": [
    "'''\n",
    "在Python请独立编写查找函数：def binary_search (nums, target) \n",
    "要求： \n",
    "1：使用二分查找实现 \n",
    "2：如果在text中找到value，返回对应的索引，否则返回-1\n",
    "'''\n",
    "def binary_search(nums, target):\n",
    "    left, right = 0, len(nums) - 1  # 初始化左右指针\n",
    "\n",
    "    while left <= right:\n",
    "        mid = left + (right - left) // 2  # 计算中间索引，防止溢出\n",
    "\n",
    "        if nums[mid] == target:  # 如果中间值等于目标值\n",
    "            return mid  # 返回中间索引\n",
    "        elif nums[mid] < target:  # 如果中间值小于目标值\n",
    "            left = mid + 1  # 更新左指针为中间索引加1\n",
    "        else:\n",
    "            right = mid - 1  # 如果中间值大于目标值，更新右指针为中间索引减1\n",
    "\n",
    "    return -1  # 目标值不在数组中，返回-1\n",
    "\n",
    "# 示例用法：\n",
    "nums = [1, 2, 3, 4, 5, 6, 7, 8, 9, 10]\n",
    "target = 7\n",
    "result = binary_search(nums, target)\n",
    "if result != -1:\n",
    "    print(f\"目标值 {target} 在数组中的索引是 {result}\")\n",
    "else:\n",
    "    print(f\"目标值 {target} 不在数组中\")"
   ]
  }
 ],
 "metadata": {
  "kernelspec": {
   "display_name": "Python 3",
   "language": "python",
   "name": "python3"
  },
  "language_info": {
   "codemirror_mode": {
    "name": "ipython",
    "version": 3
   },
   "file_extension": ".py",
   "mimetype": "text/x-python",
   "name": "python",
   "nbconvert_exporter": "python",
   "pygments_lexer": "ipython3",
   "version": "3.11.5"
  }
 },
 "nbformat": 4,
 "nbformat_minor": 5
}
